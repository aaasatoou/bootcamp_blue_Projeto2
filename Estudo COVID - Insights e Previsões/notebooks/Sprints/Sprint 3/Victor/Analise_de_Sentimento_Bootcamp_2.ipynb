{
  "cells": [
    {
      "cell_type": "code",
      "execution_count": null,
      "metadata": {
        "colab": {
          "base_uri": "https://localhost:8080/"
        },
        "id": "33GNG72moJ_g",
        "outputId": "2b866984-e580-4e7e-80bd-2e1199ae80a9"
      },
      "outputs": [
        {
          "output_type": "stream",
          "name": "stdout",
          "text": [
            "Looking in indexes: https://pypi.org/simple, https://us-python.pkg.dev/colab-wheels/public/simple/\n",
            "Collecting pysentimiento\n",
            "  Downloading pysentimiento-0.5.2-py3-none-any.whl (30 kB)\n",
            "Collecting transformers>=4.13.0\n",
            "  Downloading transformers-4.25.1-py3-none-any.whl (5.8 MB)\n",
            "\u001b[2K     \u001b[90m━━━━━━━━━━━━━━━━━━━━━━━━━━━━━━━━━━━━━━━━\u001b[0m \u001b[32m5.8/5.8 MB\u001b[0m \u001b[31m51.0 MB/s\u001b[0m eta \u001b[36m0:00:00\u001b[0m\n",
            "\u001b[?25hRequirement already satisfied: torch in /usr/local/lib/python3.8/dist-packages (from pysentimiento) (1.13.0+cu116)\n",
            "Collecting emoji<2.0.0,>=1.6.1\n",
            "  Downloading emoji-1.7.0.tar.gz (175 kB)\n",
            "\u001b[2K     \u001b[90m━━━━━━━━━━━━━━━━━━━━━━━━━━━━━━━━━━━━━━\u001b[0m \u001b[32m175.4/175.4 KB\u001b[0m \u001b[31m17.0 MB/s\u001b[0m eta \u001b[36m0:00:00\u001b[0m\n",
            "\u001b[?25h  Preparing metadata (setup.py) ... \u001b[?25l\u001b[?25hdone\n",
            "Collecting datasets>=1.13.3\n",
            "  Downloading datasets-2.8.0-py3-none-any.whl (452 kB)\n",
            "\u001b[2K     \u001b[90m━━━━━━━━━━━━━━━━━━━━━━━━━━━━━━━━━━━━━━\u001b[0m \u001b[32m452.9/452.9 KB\u001b[0m \u001b[31m27.6 MB/s\u001b[0m eta \u001b[36m0:00:00\u001b[0m\n",
            "\u001b[?25hRequirement already satisfied: numpy>=1.17 in /usr/local/lib/python3.8/dist-packages (from datasets>=1.13.3->pysentimiento) (1.21.6)\n",
            "Requirement already satisfied: aiohttp in /usr/local/lib/python3.8/dist-packages (from datasets>=1.13.3->pysentimiento) (3.8.3)\n",
            "Requirement already satisfied: pyarrow>=6.0.0 in /usr/local/lib/python3.8/dist-packages (from datasets>=1.13.3->pysentimiento) (9.0.0)\n",
            "Collecting xxhash\n",
            "  Downloading xxhash-3.2.0-cp38-cp38-manylinux_2_17_x86_64.manylinux2014_x86_64.whl (213 kB)\n",
            "\u001b[2K     \u001b[90m━━━━━━━━━━━━━━━━━━━━━━━━━━━━━━━━━━━━━━━\u001b[0m \u001b[32m213.0/213.0 KB\u001b[0m \u001b[31m7.7 MB/s\u001b[0m eta \u001b[36m0:00:00\u001b[0m\n",
            "\u001b[?25hCollecting huggingface-hub<1.0.0,>=0.2.0\n",
            "  Downloading huggingface_hub-0.11.1-py3-none-any.whl (182 kB)\n",
            "\u001b[2K     \u001b[90m━━━━━━━━━━━━━━━━━━━━━━━━━━━━━━━━━━━━━━━\u001b[0m \u001b[32m182.4/182.4 KB\u001b[0m \u001b[31m7.5 MB/s\u001b[0m eta \u001b[36m0:00:00\u001b[0m\n",
            "\u001b[?25hCollecting responses<0.19\n",
            "  Downloading responses-0.18.0-py3-none-any.whl (38 kB)\n",
            "Requirement already satisfied: dill<0.3.7 in /usr/local/lib/python3.8/dist-packages (from datasets>=1.13.3->pysentimiento) (0.3.6)\n",
            "Requirement already satisfied: pyyaml>=5.1 in /usr/local/lib/python3.8/dist-packages (from datasets>=1.13.3->pysentimiento) (6.0)\n",
            "Requirement already satisfied: fsspec[http]>=2021.11.1 in /usr/local/lib/python3.8/dist-packages (from datasets>=1.13.3->pysentimiento) (2022.11.0)\n",
            "Requirement already satisfied: tqdm>=4.62.1 in /usr/local/lib/python3.8/dist-packages (from datasets>=1.13.3->pysentimiento) (4.64.1)\n",
            "Requirement already satisfied: requests>=2.19.0 in /usr/local/lib/python3.8/dist-packages (from datasets>=1.13.3->pysentimiento) (2.25.1)\n",
            "Collecting multiprocess\n",
            "  Downloading multiprocess-0.70.14-py38-none-any.whl (132 kB)\n",
            "\u001b[2K     \u001b[90m━━━━━━━━━━━━━━━━━━━━━━━━━━━━━━━━━━━━━━━\u001b[0m \u001b[32m132.0/132.0 KB\u001b[0m \u001b[31m6.4 MB/s\u001b[0m eta \u001b[36m0:00:00\u001b[0m\n",
            "\u001b[?25hRequirement already satisfied: packaging in /usr/local/lib/python3.8/dist-packages (from datasets>=1.13.3->pysentimiento) (21.3)\n",
            "Requirement already satisfied: pandas in /usr/local/lib/python3.8/dist-packages (from datasets>=1.13.3->pysentimiento) (1.3.5)\n",
            "Requirement already satisfied: filelock in /usr/local/lib/python3.8/dist-packages (from transformers>=4.13.0->pysentimiento) (3.9.0)\n",
            "Collecting tokenizers!=0.11.3,<0.14,>=0.11.1\n",
            "  Downloading tokenizers-0.13.2-cp38-cp38-manylinux_2_17_x86_64.manylinux2014_x86_64.whl (7.6 MB)\n",
            "\u001b[2K     \u001b[90m━━━━━━━━━━━━━━━━━━━━━━━━━━━━━━━━━━━━━━━━\u001b[0m \u001b[32m7.6/7.6 MB\u001b[0m \u001b[31m37.9 MB/s\u001b[0m eta \u001b[36m0:00:00\u001b[0m\n",
            "\u001b[?25hRequirement already satisfied: regex!=2019.12.17 in /usr/local/lib/python3.8/dist-packages (from transformers>=4.13.0->pysentimiento) (2022.6.2)\n",
            "Requirement already satisfied: typing-extensions in /usr/local/lib/python3.8/dist-packages (from torch->pysentimiento) (4.4.0)\n",
            "Requirement already satisfied: async-timeout<5.0,>=4.0.0a3 in /usr/local/lib/python3.8/dist-packages (from aiohttp->datasets>=1.13.3->pysentimiento) (4.0.2)\n",
            "Requirement already satisfied: attrs>=17.3.0 in /usr/local/lib/python3.8/dist-packages (from aiohttp->datasets>=1.13.3->pysentimiento) (22.2.0)\n",
            "Requirement already satisfied: frozenlist>=1.1.1 in /usr/local/lib/python3.8/dist-packages (from aiohttp->datasets>=1.13.3->pysentimiento) (1.3.3)\n",
            "Requirement already satisfied: multidict<7.0,>=4.5 in /usr/local/lib/python3.8/dist-packages (from aiohttp->datasets>=1.13.3->pysentimiento) (6.0.4)\n",
            "Requirement already satisfied: yarl<2.0,>=1.0 in /usr/local/lib/python3.8/dist-packages (from aiohttp->datasets>=1.13.3->pysentimiento) (1.8.2)\n",
            "Requirement already satisfied: charset-normalizer<3.0,>=2.0 in /usr/local/lib/python3.8/dist-packages (from aiohttp->datasets>=1.13.3->pysentimiento) (2.1.1)\n",
            "Requirement already satisfied: aiosignal>=1.1.2 in /usr/local/lib/python3.8/dist-packages (from aiohttp->datasets>=1.13.3->pysentimiento) (1.3.1)\n",
            "Requirement already satisfied: pyparsing!=3.0.5,>=2.0.2 in /usr/local/lib/python3.8/dist-packages (from packaging->datasets>=1.13.3->pysentimiento) (3.0.9)\n",
            "Requirement already satisfied: idna<3,>=2.5 in /usr/local/lib/python3.8/dist-packages (from requests>=2.19.0->datasets>=1.13.3->pysentimiento) (2.10)\n",
            "Requirement already satisfied: chardet<5,>=3.0.2 in /usr/local/lib/python3.8/dist-packages (from requests>=2.19.0->datasets>=1.13.3->pysentimiento) (4.0.0)\n",
            "Requirement already satisfied: urllib3<1.27,>=1.21.1 in /usr/local/lib/python3.8/dist-packages (from requests>=2.19.0->datasets>=1.13.3->pysentimiento) (1.24.3)\n",
            "Requirement already satisfied: certifi>=2017.4.17 in /usr/local/lib/python3.8/dist-packages (from requests>=2.19.0->datasets>=1.13.3->pysentimiento) (2022.12.7)\n",
            "Collecting urllib3<1.27,>=1.21.1\n",
            "  Downloading urllib3-1.26.14-py2.py3-none-any.whl (140 kB)\n",
            "\u001b[2K     \u001b[90m━━━━━━━━━━━━━━━━━━━━━━━━━━━━━━━━━━━━━━━\u001b[0m \u001b[32m140.6/140.6 KB\u001b[0m \u001b[31m8.0 MB/s\u001b[0m eta \u001b[36m0:00:00\u001b[0m\n",
            "\u001b[?25hRequirement already satisfied: python-dateutil>=2.7.3 in /usr/local/lib/python3.8/dist-packages (from pandas->datasets>=1.13.3->pysentimiento) (2.8.2)\n",
            "Requirement already satisfied: pytz>=2017.3 in /usr/local/lib/python3.8/dist-packages (from pandas->datasets>=1.13.3->pysentimiento) (2022.7)\n",
            "Requirement already satisfied: six>=1.5 in /usr/local/lib/python3.8/dist-packages (from python-dateutil>=2.7.3->pandas->datasets>=1.13.3->pysentimiento) (1.15.0)\n",
            "Building wheels for collected packages: emoji\n",
            "  Building wheel for emoji (setup.py) ... \u001b[?25l\u001b[?25hdone\n",
            "  Created wheel for emoji: filename=emoji-1.7.0-py3-none-any.whl size=171046 sha256=05f0f871651924ae6248bad406d629f67c496f43534d95cd4dfcaac4ae69ba03\n",
            "  Stored in directory: /root/.cache/pip/wheels/5e/8c/80/c3646df8201ba6f5070297fe3779a4b70265d0bfd961c15302\n",
            "Successfully built emoji\n",
            "Installing collected packages: tokenizers, emoji, xxhash, urllib3, multiprocess, responses, huggingface-hub, transformers, datasets, pysentimiento\n",
            "  Attempting uninstall: urllib3\n",
            "    Found existing installation: urllib3 1.24.3\n",
            "    Uninstalling urllib3-1.24.3:\n",
            "      Successfully uninstalled urllib3-1.24.3\n",
            "Successfully installed datasets-2.8.0 emoji-1.7.0 huggingface-hub-0.11.1 multiprocess-0.70.14 pysentimiento-0.5.2 responses-0.18.0 tokenizers-0.13.2 transformers-4.25.1 urllib3-1.26.14 xxhash-3.2.0\n",
            "Looking in indexes: https://pypi.org/simple, https://us-python.pkg.dev/colab-wheels/public/simple/\n",
            "Requirement already satisfied: emoji in /usr/local/lib/python3.8/dist-packages (1.7.0)\n",
            "Looking in indexes: https://pypi.org/simple, https://us-python.pkg.dev/colab-wheels/public/simple/\n",
            "Collecting pycld3\n",
            "  Downloading pycld3-0.22-cp38-cp38-manylinux1_x86_64.whl (13.6 MB)\n",
            "\u001b[2K     \u001b[90m━━━━━━━━━━━━━━━━━━━━━━━━━━━━━━━━━━━━━━━━\u001b[0m \u001b[32m13.6/13.6 MB\u001b[0m \u001b[31m83.5 MB/s\u001b[0m eta \u001b[36m0:00:00\u001b[0m\n",
            "\u001b[?25hInstalling collected packages: pycld3\n",
            "Successfully installed pycld3-0.22\n"
          ]
        }
      ],
      "source": [
        "!pip install pysentimiento\n",
        "!pip install emoji\n",
        "!pip install -U pycld3"
      ]
    },
    {
      "cell_type": "code",
      "execution_count": null,
      "metadata": {
        "colab": {
          "base_uri": "https://localhost:8080/"
        },
        "id": "ecRllzGkOSLu",
        "outputId": "6a6a4522-f2e8-4f52-9657-04992959633a"
      },
      "outputs": [
        {
          "output_type": "stream",
          "name": "stdout",
          "text": [
            "Mounted at /content/gdrive\n"
          ]
        }
      ],
      "source": [
        "from google.colab import drive \n",
        "drive.mount('/content/gdrive', force_remount = True)"
      ]
    },
    {
      "cell_type": "code",
      "execution_count": null,
      "metadata": {
        "id": "p38EZygrLB2u",
        "colab": {
          "base_uri": "https://localhost:8080/"
        },
        "outputId": "b4e27400-26a0-4e79-dae2-19f656ecd2c2"
      },
      "outputs": [
        {
          "output_type": "execute_result",
          "data": {
            "text/plain": [
              "['twitter_all.csv',\n",
              " 'twitter_all_limpo.csv',\n",
              " 'df_AR.csv',\n",
              " 'df_EC.csv',\n",
              " 'df_CL.csv',\n",
              " 'df_BR.csv',\n",
              " 'df_MX.csv',\n",
              " 'df_ES.csv',\n",
              " 'Classificados',\n",
              " '.ipynb_checkpoints']"
            ]
          },
          "metadata": {},
          "execution_count": 3
        }
      ],
      "source": [
        "import os\n",
        "import cld3\n",
        "import pandas as pd\n",
        "from pysentimiento import create_analyzer\n",
        "from pysentimiento.preprocessing import preprocess_tweet\n",
        "\n",
        "os.listdir('/content/gdrive/MyDrive/BTC-Dados-G1/Estrutura Medallion/Prata/Twitter') # Listagem dos arquivos do twitter"
      ]
    },
    {
      "cell_type": "markdown",
      "metadata": {
        "id": "nYy7srcmkuTR"
      },
      "source": [
        "# Dataset não rotulado"
      ]
    },
    {
      "cell_type": "code",
      "execution_count": null,
      "metadata": {
        "id": "AD1RaQjQjAlT"
      },
      "outputs": [],
      "source": [
        "def lang_detector(x): # Função simples para a detecção da lingua no arquivo\n",
        "  try:\n",
        "    return cld3.get_language(x)\n",
        "  except:\n",
        "    return '?'\n",
        "\n",
        "# Instanciar os dois modelos de analise de sentimento\n",
        "\n",
        "analyzer_es = create_analyzer(task=\"sentiment\", lang=\"es\")\n",
        "analyzer_en = create_analyzer(task=\"sentiment\", lang=\"en\")\n",
        "file_list = os.listdir('/content/gdrive/MyDrive/BTC-Dados-G1/Estrutura Medallion/Prata/Reddit') # Lista de arquivos do reddit\n",
        "\n",
        "for file in file_list:\n",
        "  # Com a estrutura que montamos, um arquivo terminado em:\n",
        "  # _local refere-se aos subreddits especificos daqueles países, majoritariamente em lingua espanhola\n",
        "  # _global refere-se ao subreddit de covid internacionalizado, majoritariamente em lingua inglesa\n",
        "  # _multilanguage refere-se aos datasets unificados, podem possuir qualquer lingua.\n",
        "  if '_local' in file:\n",
        "    df = pd.read_csv(f'/content/gdrive/MyDrive/BTC-Dados-G1/Estrutura Medallion/Prata/Reddit/{file}')\n",
        "    df.dropna(inplace = True)\n",
        "    df.drop(['Unnamed: 0'], axis = 1, inplace = True)\n",
        "    df['lang'] = df['body'].apply(lambda x: lang_detector(x)) # Detecção de idioma, no dataset _local não é realmente necessária\n",
        "    df['lang'] = df['lang'].apply(lambda x: x[0])\n",
        "    df = df.drop(df[(df['author'] == 'AutoModerator') | (df['author'] == '[deleted]')].index) # Exclusão de comentários de bots de moderação e de autores excluídos\n",
        "    df.drop_duplicates(subset='body', keep='first', inplace=True)\n",
        "    \n",
        "    df['body'] = df['body'].apply(lambda x: preprocess_tweet(x, lang = 'es')) # Pre processamento dos textos\n",
        "    df['pred'] = df['body'].apply(lambda x: analyzer_es.predict(x))  # Predição do sentimento\n",
        "    df['label'] = df['pred'].apply(lambda x: x.output)\n",
        "    df['probas'] = df['pred'].apply(lambda x: x.probas)\n",
        "\n",
        "    df.to_csv(path_or_buf = f'/content/gdrive/MyDrive/BTC-Dados-G1/Estrutura Medallion/Prata/Reddit/Classificados/{file[:-4]}_labelled.csv', sep = ',')\n",
        "\n",
        "  # A mesma estrutura de predição repete-se para os outros datasets.\n",
        "  if '_global' in file:\n",
        "    df = pd.read_csv(f'/content/gdrive/MyDrive/BTC-Dados-G1/Estrutura Medallion/Prata/Reddit/{file}')\n",
        "    df.dropna(inplace = True)\n",
        "    df.drop(['Unnamed: 0'], axis = 1, inplace = True)\n",
        "    df['lang'] = df['body'].apply(lambda x: lang_detector(x)) # Detecção de idioma, no dataset _global não é realmente necessária\n",
        "    df['lang'] = df['lang'].apply(lambda x: x[0])\n",
        "    df = df.drop(df[(df['author'] == 'AutoModerator') | (df['author'] == '[deleted]')].index)\n",
        "    df.drop_duplicates(subset='body', keep='first', inplace=True)\n",
        "    \n",
        "    df['body'] = df['body'].apply(lambda x: preprocess_tweet(x, lang = 'en'))\n",
        "    df['pred'] = df['body'].apply(lambda x: analyzer_en.predict(x))\n",
        "    df['label'] = df['pred'].apply(lambda x: x.output)\n",
        "    df['probas'] = df['pred'].apply(lambda x: x.probas)\n",
        "\n",
        "    df.to_csv(path_or_buf = f'/content/gdrive/MyDrive/BTC-Dados-G1/Estrutura Medallion/Prata/Reddit/Classificados/{file[:-4]}_labelled.csv', sep = ',')\n",
        "\n",
        "  if '_multilanguage' in file:\n",
        "    df = pd.read_csv(f'/content/gdrive/MyDrive/BTC-Dados-G1/Estrutura Medallion/Prata/Reddit/{file}')\n",
        "    df.dropna(inplace = True)\n",
        "    df.drop(['Unnamed: 0'], axis = 1, inplace = True)\n",
        "    df['lang'] = df['body'].apply(lambda x: lang_detector(x)) # Detecção de idioma, no dataset _multilanguage serve para aplicar determinados modelos em determinadas linguas\n",
        "    df['lang'] = df['lang'].apply(lambda x: x[0])\n",
        "    df = df.drop(df[(df['author'] == 'AutoModerator') | (df['author'] == '[deleted]')].index)\n",
        "    df.drop_duplicates(subset='body', keep='first', inplace=True)\n",
        "    \n",
        "    # Os datasets são filtrados e classificados com o mesmo fluxo\n",
        "    df1 = df[df['lang'] == 'en'].copy()\n",
        "    df1['body'] = df1['body'].apply(lambda x: preprocess_tweet(x, lang = 'en'))\n",
        "    df1['pred'] = df1['body'].apply(lambda x: analyzer_en.predict(x))\n",
        "    df1['label'] = df1['pred'].apply(lambda x: x.output)\n",
        "    df1['probas'] = df1['pred'].apply(lambda x: x.probas)\n",
        "\n",
        "    df2 = df[df['lang'] == 'es'].copy()\n",
        "    df2['body'] = df2['body'].apply(lambda x: preprocess_tweet(x, lang = 'es'))\n",
        "    df2['pred'] = df2['body'].apply(lambda x: analyzer_es.predict(x))\n",
        "    df2['label'] = df2['pred'].apply(lambda x: x.output)\n",
        "    df2['probas'] = df2['pred'].apply(lambda x: x.probas)\n",
        "\n",
        "    df = pd.concat([df1, df2], ignore_index = True)\n",
        "    df.to_csv(path_or_buf = f'/content/gdrive/MyDrive/BTC-Dados-G1/Estrutura Medallion/Prata/Reddit/Classificados/{file[:-4]}_labelled.csv', sep = ',')\n"
      ]
    },
    {
      "cell_type": "code",
      "source": [
        "# Classificação do dataset do twitter\n",
        "\n",
        "def lang_detector(x):\n",
        "  try:\n",
        "    return cld3.get_language(x)\n",
        "  except:\n",
        "    return '?'\n",
        "\n",
        "analyzer_es = create_analyzer(task=\"sentiment\", lang=\"es\")\n",
        "analyzer_en = create_analyzer(task=\"sentiment\", lang=\"en\")\n",
        "file_list = os.listdir('/content/gdrive/MyDrive/BTC-Dados-G1/Estrutura Medallion/Prata/Twitter')\n",
        "\n",
        "# No twitter os datasets estão separados por países, porém os tweets não possuem nenhuma distinção de lingua como no reddit.\n",
        "for file in file_list:\n",
        "  if 'df' in file:\n",
        "    df = pd.read_csv(f'/content/gdrive/MyDrive/BTC-Dados-G1/Estrutura Medallion/Prata/Twitter/{file}')\n",
        "    df.dropna(inplace = True)\n",
        "    df.drop(['Unnamed: 0'], axis = 1, inplace = True)\n",
        "    df['lang'] = df['text'].apply(lambda x: lang_detector(x)) # A detecção de linguagem é crucial para avaliramos apenas os tweets corretos\n",
        "    df['lang'] = df['lang'].apply(lambda x: x[0])\n",
        "    df.drop_duplicates(subset='text', keep='first', inplace=True)\n",
        "    \n",
        "    df1 = df[df['lang'] == 'en'].copy()\n",
        "    df1['text'] = df1['text'].apply(lambda x: preprocess_tweet(x, lang = 'en'))\n",
        "    df1['pred'] = df1['text'].apply(lambda x: analyzer_en.predict(x))\n",
        "    df1['label'] = df1['pred'].apply(lambda x: x.output)\n",
        "    df1['probas'] = df1['pred'].apply(lambda x: x.probas)\n",
        "\n",
        "    df2 = df[df['lang'] == 'es'].copy()\n",
        "    df2['text'] = df2['text'].apply(lambda x: preprocess_tweet(x, lang = 'es'))\n",
        "    df2['pred'] = df2['text'].apply(lambda x: analyzer_es.predict(x))\n",
        "    df2['label'] = df2['pred'].apply(lambda x: x.output)\n",
        "    df2['probas'] = df2['pred'].apply(lambda x: x.probas)\n",
        "\n",
        "    df = pd.concat([df1, df2], ignore_index = True)\n",
        "    df.to_csv(path_or_buf = f'/content/gdrive/MyDrive/BTC-Dados-G1/Estrutura Medallion/Prata/Twitter/Classificados/{file[:-4]}_labelled.csv', sep = ',')"
      ],
      "metadata": {
        "id": "oD9DcX1mkXCJ"
      },
      "execution_count": null,
      "outputs": []
    },
    {
      "cell_type": "markdown",
      "metadata": {
        "id": "_yxnS0C4kxPV"
      },
      "source": [
        "# Dataset rotulado (baseline)"
      ]
    },
    {
      "cell_type": "code",
      "execution_count": null,
      "metadata": {
        "id": "_GfVFi8KSaVJ"
      },
      "outputs": [],
      "source": [
        "df_rotulado = pd.read_csv('/content/gdrive/MyDrive/COVID19_Tweets/amostra_rotulada.csv').drop(['Unnamed: 0'], axis = 1)\n",
        "df_rotulado = df_rotulado.sample(5000)"
      ]
    },
    {
      "cell_type": "code",
      "execution_count": null,
      "metadata": {
        "id": "rHgO7-UOS9E7"
      },
      "outputs": [],
      "source": [
        "from pysentimiento import create_analyzer\n",
        "from pysentimiento.preprocessing import preprocess_tweet\n",
        "\n",
        "# Teste das métricas do modelo em um dataset já rotulado sobre covid\n",
        "analyzer = create_analyzer(task=\"sentiment\", lang=\"en\")\n",
        "df_rotulado['text'] = df_rotulado['text'].apply(lambda x: preprocess_tweet(x))\n",
        "df_rotulado['pred'] = df_rotulado['text'].apply(lambda x: analyzer.predict(x))\n",
        "df_rotulado['label'] = df_rotulado['pred'].apply(lambda x: x.output)\n",
        "df_rotulado['probas'] = df_rotulado['pred'].apply(lambda x: x.probas)"
      ]
    },
    {
      "cell_type": "code",
      "execution_count": null,
      "metadata": {
        "colab": {
          "base_uri": "https://localhost:8080/",
          "height": 206
        },
        "id": "hSTywCMKaYbV",
        "outputId": "1348d5d9-cd3d-4312-895e-df191e3ce553"
      },
      "outputs": [
        {
          "data": {
            "text/html": [
              "\n",
              "  <div id=\"df-c539dea2-164e-4d77-a68d-4d2e86fbabec\">\n",
              "    <div class=\"colab-df-container\">\n",
              "      <div>\n",
              "<style scoped>\n",
              "    .dataframe tbody tr th:only-of-type {\n",
              "        vertical-align: middle;\n",
              "    }\n",
              "\n",
              "    .dataframe tbody tr th {\n",
              "        vertical-align: top;\n",
              "    }\n",
              "\n",
              "    .dataframe thead th {\n",
              "        text-align: right;\n",
              "    }\n",
              "</style>\n",
              "<table border=\"1\" class=\"dataframe\">\n",
              "  <thead>\n",
              "    <tr style=\"text-align: right;\">\n",
              "      <th></th>\n",
              "      <th>Tweet_ID</th>\n",
              "      <th>Sentiment_Label</th>\n",
              "      <th>text</th>\n",
              "      <th>pred</th>\n",
              "      <th>label</th>\n",
              "      <th>probas</th>\n",
              "    </tr>\n",
              "  </thead>\n",
              "  <tbody>\n",
              "    <tr>\n",
              "      <th>94694</th>\n",
              "      <td>1220399453158293505</td>\n",
              "      <td>NEU</td>\n",
              "      <td>RT @usuario: China allocates 1 billion yuan ($...</td>\n",
              "      <td>AnalyzerOutput(output=NEU, probas={NEU: 0.938,...</td>\n",
              "      <td>NEU</td>\n",
              "      <td>{'NEG': 0.0020287414081394672, 'NEU': 0.937936...</td>\n",
              "    </tr>\n",
              "    <tr>\n",
              "      <th>128971</th>\n",
              "      <td>1220457095620976642</td>\n",
              "      <td>NEG</td>\n",
              "      <td>RT @usuario: 🤦 emoji tono de piel claro medio ...</td>\n",
              "      <td>AnalyzerOutput(output=NEG, probas={NEG: 0.963,...</td>\n",
              "      <td>NEG</td>\n",
              "      <td>{'NEG': 0.9630939364433289, 'NEU': 0.034001730...</td>\n",
              "    </tr>\n",
              "    <tr>\n",
              "      <th>61230</th>\n",
              "      <td>1220347645606055936</td>\n",
              "      <td>NEU</td>\n",
              "      <td>RML Hospital In Delhi Sets Up First Corona Vir...</td>\n",
              "      <td>AnalyzerOutput(output=NEU, probas={NEU: 0.978,...</td>\n",
              "      <td>NEU</td>\n",
              "      <td>{'NEG': 0.0028543630614876747, 'NEU': 0.978310...</td>\n",
              "    </tr>\n",
              "    <tr>\n",
              "      <th>67761</th>\n",
              "      <td>1220362114067464193</td>\n",
              "      <td>NEU</td>\n",
              "      <td>RT @usuario: China appears to be locking down ...</td>\n",
              "      <td>AnalyzerOutput(output=NEU, probas={NEU: 0.949,...</td>\n",
              "      <td>NEU</td>\n",
              "      <td>{'NEG': 0.042912572622299194, 'NEU': 0.9485344...</td>\n",
              "    </tr>\n",
              "    <tr>\n",
              "      <th>7037</th>\n",
              "      <td>1220013579275055108</td>\n",
              "      <td>NEU</td>\n",
              "      <td>RT @usuario: WHO interim guidance on a range o...</td>\n",
              "      <td>AnalyzerOutput(output=NEU, probas={NEU: 0.829,...</td>\n",
              "      <td>NEU</td>\n",
              "      <td>{'NEG': 0.0020122884307056665, 'NEU': 0.828626...</td>\n",
              "    </tr>\n",
              "  </tbody>\n",
              "</table>\n",
              "</div>\n",
              "      <button class=\"colab-df-convert\" onclick=\"convertToInteractive('df-c539dea2-164e-4d77-a68d-4d2e86fbabec')\"\n",
              "              title=\"Convert this dataframe to an interactive table.\"\n",
              "              style=\"display:none;\">\n",
              "        \n",
              "  <svg xmlns=\"http://www.w3.org/2000/svg\" height=\"24px\"viewBox=\"0 0 24 24\"\n",
              "       width=\"24px\">\n",
              "    <path d=\"M0 0h24v24H0V0z\" fill=\"none\"/>\n",
              "    <path d=\"M18.56 5.44l.94 2.06.94-2.06 2.06-.94-2.06-.94-.94-2.06-.94 2.06-2.06.94zm-11 1L8.5 8.5l.94-2.06 2.06-.94-2.06-.94L8.5 2.5l-.94 2.06-2.06.94zm10 10l.94 2.06.94-2.06 2.06-.94-2.06-.94-.94-2.06-.94 2.06-2.06.94z\"/><path d=\"M17.41 7.96l-1.37-1.37c-.4-.4-.92-.59-1.43-.59-.52 0-1.04.2-1.43.59L10.3 9.45l-7.72 7.72c-.78.78-.78 2.05 0 2.83L4 21.41c.39.39.9.59 1.41.59.51 0 1.02-.2 1.41-.59l7.78-7.78 2.81-2.81c.8-.78.8-2.07 0-2.86zM5.41 20L4 18.59l7.72-7.72 1.47 1.35L5.41 20z\"/>\n",
              "  </svg>\n",
              "      </button>\n",
              "      \n",
              "  <style>\n",
              "    .colab-df-container {\n",
              "      display:flex;\n",
              "      flex-wrap:wrap;\n",
              "      gap: 12px;\n",
              "    }\n",
              "\n",
              "    .colab-df-convert {\n",
              "      background-color: #E8F0FE;\n",
              "      border: none;\n",
              "      border-radius: 50%;\n",
              "      cursor: pointer;\n",
              "      display: none;\n",
              "      fill: #1967D2;\n",
              "      height: 32px;\n",
              "      padding: 0 0 0 0;\n",
              "      width: 32px;\n",
              "    }\n",
              "\n",
              "    .colab-df-convert:hover {\n",
              "      background-color: #E2EBFA;\n",
              "      box-shadow: 0px 1px 2px rgba(60, 64, 67, 0.3), 0px 1px 3px 1px rgba(60, 64, 67, 0.15);\n",
              "      fill: #174EA6;\n",
              "    }\n",
              "\n",
              "    [theme=dark] .colab-df-convert {\n",
              "      background-color: #3B4455;\n",
              "      fill: #D2E3FC;\n",
              "    }\n",
              "\n",
              "    [theme=dark] .colab-df-convert:hover {\n",
              "      background-color: #434B5C;\n",
              "      box-shadow: 0px 1px 3px 1px rgba(0, 0, 0, 0.15);\n",
              "      filter: drop-shadow(0px 1px 2px rgba(0, 0, 0, 0.3));\n",
              "      fill: #FFFFFF;\n",
              "    }\n",
              "  </style>\n",
              "\n",
              "      <script>\n",
              "        const buttonEl =\n",
              "          document.querySelector('#df-c539dea2-164e-4d77-a68d-4d2e86fbabec button.colab-df-convert');\n",
              "        buttonEl.style.display =\n",
              "          google.colab.kernel.accessAllowed ? 'block' : 'none';\n",
              "\n",
              "        async function convertToInteractive(key) {\n",
              "          const element = document.querySelector('#df-c539dea2-164e-4d77-a68d-4d2e86fbabec');\n",
              "          const dataTable =\n",
              "            await google.colab.kernel.invokeFunction('convertToInteractive',\n",
              "                                                     [key], {});\n",
              "          if (!dataTable) return;\n",
              "\n",
              "          const docLinkHtml = 'Like what you see? Visit the ' +\n",
              "            '<a target=\"_blank\" href=https://colab.research.google.com/notebooks/data_table.ipynb>data table notebook</a>'\n",
              "            + ' to learn more about interactive tables.';\n",
              "          element.innerHTML = '';\n",
              "          dataTable['output_type'] = 'display_data';\n",
              "          await google.colab.output.renderOutput(dataTable, element);\n",
              "          const docLink = document.createElement('div');\n",
              "          docLink.innerHTML = docLinkHtml;\n",
              "          element.appendChild(docLink);\n",
              "        }\n",
              "      </script>\n",
              "    </div>\n",
              "  </div>\n",
              "  "
            ],
            "text/plain": [
              "                   Tweet_ID Sentiment_Label  \\\n",
              "94694   1220399453158293505             NEU   \n",
              "128971  1220457095620976642             NEG   \n",
              "61230   1220347645606055936             NEU   \n",
              "67761   1220362114067464193             NEU   \n",
              "7037    1220013579275055108             NEU   \n",
              "\n",
              "                                                     text  \\\n",
              "94694   RT @usuario: China allocates 1 billion yuan ($...   \n",
              "128971  RT @usuario: 🤦 emoji tono de piel claro medio ...   \n",
              "61230   RML Hospital In Delhi Sets Up First Corona Vir...   \n",
              "67761   RT @usuario: China appears to be locking down ...   \n",
              "7037    RT @usuario: WHO interim guidance on a range o...   \n",
              "\n",
              "                                                     pred label  \\\n",
              "94694   AnalyzerOutput(output=NEU, probas={NEU: 0.938,...   NEU   \n",
              "128971  AnalyzerOutput(output=NEG, probas={NEG: 0.963,...   NEG   \n",
              "61230   AnalyzerOutput(output=NEU, probas={NEU: 0.978,...   NEU   \n",
              "67761   AnalyzerOutput(output=NEU, probas={NEU: 0.949,...   NEU   \n",
              "7037    AnalyzerOutput(output=NEU, probas={NEU: 0.829,...   NEU   \n",
              "\n",
              "                                                   probas  \n",
              "94694   {'NEG': 0.0020287414081394672, 'NEU': 0.937936...  \n",
              "128971  {'NEG': 0.9630939364433289, 'NEU': 0.034001730...  \n",
              "61230   {'NEG': 0.0028543630614876747, 'NEU': 0.978310...  \n",
              "67761   {'NEG': 0.042912572622299194, 'NEU': 0.9485344...  \n",
              "7037    {'NEG': 0.0020122884307056665, 'NEU': 0.828626...  "
            ]
          },
          "execution_count": 17,
          "metadata": {},
          "output_type": "execute_result"
        }
      ],
      "source": [
        "# Redefinição das labels para obtenção das métricas\n",
        "df_rotulado['Sentiment_Label'] = df_rotulado['Sentiment_Label'].map({ 'neutral': 'NEU',\n",
        "                                                                      'negative': 'NEG',\n",
        "                                                                      'positive': 'POS'})\n",
        "df_rotulado.head()"
      ]
    },
    {
      "cell_type": "code",
      "execution_count": null,
      "metadata": {
        "colab": {
          "base_uri": "https://localhost:8080/"
        },
        "id": "er1vss2Ea5jT",
        "outputId": "33d2956a-9e8c-4349-ac47-1e82a8bb401e"
      },
      "outputs": [
        {
          "name": "stdout",
          "output_type": "stream",
          "text": [
            "F1 score: 0.6069\n",
            "Recall: 0.6956\n",
            "Precision: 0.7124\n"
          ]
        }
      ],
      "source": [
        "from sklearn.metrics import f1_score, recall_score, precision_score\n",
        "\n",
        "y_true = df_rotulado['Sentiment_Label']\n",
        "y_pred = df_rotulado['label']\n",
        "\n",
        "print(f'F1 score: {round(f1_score(y_true, y_pred, average = \"macro\"), 4)}')\n",
        "print(f'Recall: {round(recall_score(y_true, y_pred, average = \"weighted\"), 4)}')\n",
        "print(f'Precision: {round(precision_score(y_true, y_pred, average = \"weighted\"), 4)}')"
      ]
    }
  ],
  "metadata": {
    "colab": {
      "provenance": []
    },
    "gpuClass": "standard",
    "kernelspec": {
      "display_name": "Python 3",
      "name": "python3"
    },
    "language_info": {
      "name": "python"
    },
    "accelerator": "GPU"
  },
  "nbformat": 4,
  "nbformat_minor": 0
}