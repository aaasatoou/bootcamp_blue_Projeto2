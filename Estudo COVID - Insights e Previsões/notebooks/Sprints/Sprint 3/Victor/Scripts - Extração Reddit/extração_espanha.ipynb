{
  "nbformat": 4,
  "nbformat_minor": 0,
  "metadata": {
    "colab": {
      "provenance": []
    },
    "kernelspec": {
      "name": "python3",
      "display_name": "Python 3"
    },
    "language_info": {
      "name": "python"
    }
  },
  "cells": [
    {
      "cell_type": "code",
      "source": [
        "!pip install pmaw"
      ],
      "metadata": {
        "colab": {
          "base_uri": "https://localhost:8080/"
        },
        "id": "TGCOvu8wXQOM",
        "outputId": "5b95b2d7-b253-4c45-b1b9-f110c344b526"
      },
      "execution_count": null,
      "outputs": [
        {
          "output_type": "stream",
          "name": "stdout",
          "text": [
            "Looking in indexes: https://pypi.org/simple, https://us-python.pkg.dev/colab-wheels/public/simple/\n",
            "Collecting pmaw\n",
            "  Downloading pmaw-2.1.3-py3-none-any.whl (25 kB)\n",
            "Collecting praw\n",
            "  Downloading praw-7.6.1-py3-none-any.whl (188 kB)\n",
            "\u001b[K     |████████████████████████████████| 188 kB 7.3 MB/s \n",
            "\u001b[?25hRequirement already satisfied: requests in /usr/local/lib/python3.7/dist-packages (from pmaw) (2.23.0)\n",
            "Collecting update-checker>=0.18\n",
            "  Downloading update_checker-0.18.0-py3-none-any.whl (7.0 kB)\n",
            "Collecting prawcore<3,>=2.1\n",
            "  Downloading prawcore-2.3.0-py3-none-any.whl (16 kB)\n",
            "Collecting websocket-client>=0.54.0\n",
            "  Downloading websocket_client-1.4.2-py3-none-any.whl (55 kB)\n",
            "\u001b[K     |████████████████████████████████| 55 kB 3.3 MB/s \n",
            "\u001b[?25hRequirement already satisfied: idna<3,>=2.5 in /usr/local/lib/python3.7/dist-packages (from requests->pmaw) (2.10)\n",
            "Requirement already satisfied: urllib3!=1.25.0,!=1.25.1,<1.26,>=1.21.1 in /usr/local/lib/python3.7/dist-packages (from requests->pmaw) (1.24.3)\n",
            "Requirement already satisfied: chardet<4,>=3.0.2 in /usr/local/lib/python3.7/dist-packages (from requests->pmaw) (3.0.4)\n",
            "Requirement already satisfied: certifi>=2017.4.17 in /usr/local/lib/python3.7/dist-packages (from requests->pmaw) (2022.9.24)\n",
            "Installing collected packages: websocket-client, update-checker, prawcore, praw, pmaw\n",
            "Successfully installed pmaw-2.1.3 praw-7.6.1 prawcore-2.3.0 update-checker-0.18.0 websocket-client-1.4.2\n"
          ]
        }
      ]
    },
    {
      "cell_type": "code",
      "source": [
        "from pmaw import PushshiftAPI\n",
        "import datetime as dt\n",
        "\n",
        "start_time = int(dt.datetime(2020, 1, 1).timestamp())  \n",
        "end_time = int(dt.datetime(2020, 7, 31).timestamp())   \n",
        "\n",
        "api = PushshiftAPI()\n",
        "posts = api.search_submissions(subreddit='spain',\n",
        "                               after = start_time, \n",
        "                               before = end_time, \n",
        "                               q = '\"coronavirus\"||\"covid\"||\"covid19\"||\"covid-19\"||\"corona virus\"||\"sars cov\"||\"sarscov\"||\"sars-cov-2\"',\n",
        "                               limit = None,\n",
        "                               fields = ['id', 'author', 'created_utc', 'domain', 'url', 'title', 'num_comments', 'full_link', 'permalink'])\n",
        "post_list = [post for post in posts]"
      ],
      "metadata": {
        "colab": {
          "base_uri": "https://localhost:8080/"
        },
        "id": "VKwisJGBXPmZ",
        "outputId": "4b2cfdbd-6f2b-4892-aaff-ccc5cd949367"
      },
      "execution_count": null,
      "outputs": [
        {
          "output_type": "stream",
          "name": "stderr",
          "text": [
            "WARNING:pmaw.PushshiftAPIBase:Not all PushShift shards are active. Query results may be incomplete.\n",
            "WARNING:pmaw.PushshiftAPIBase:Not all PushShift shards are active. Query results may be incomplete.\n",
            "WARNING:pmaw.PushshiftAPIBase:Not all PushShift shards are active. Query results may be incomplete.\n",
            "WARNING:pmaw.PushshiftAPIBase:Not all PushShift shards are active. Query results may be incomplete.\n",
            "WARNING:pmaw.PushshiftAPIBase:Not all PushShift shards are active. Query results may be incomplete.\n",
            "WARNING:pmaw.PushshiftAPIBase:Not all PushShift shards are active. Query results may be incomplete.\n",
            "WARNING:pmaw.PushshiftAPIBase:Not all PushShift shards are active. Query results may be incomplete.\n"
          ]
        }
      ]
    },
    {
      "cell_type": "code",
      "source": [
        "import pandas as pd\n",
        "df_post = pd.json_normalize(post_list)\n",
        "df_post['id'].shape"
      ],
      "metadata": {
        "colab": {
          "base_uri": "https://localhost:8080/"
        },
        "id": "mZNUP2u4XXqX",
        "outputId": "454c8881-b0d1-47a2-ff6f-213b279321d2"
      },
      "execution_count": null,
      "outputs": [
        {
          "output_type": "execute_result",
          "data": {
            "text/plain": [
              "(1442,)"
            ]
          },
          "metadata": {},
          "execution_count": 30
        }
      ]
    },
    {
      "cell_type": "code",
      "source": [
        "from time import sleep\n",
        "import requests\n",
        "\n",
        "comments = []\n",
        "i = 1\n",
        "for post in df_post['id'].values:\n",
        "  r = requests.get(f\"https://api.pushshift.io/reddit/comment/search?q=*&link_id={post}&fields=author,body,created_utc,id,parent_id&limit=1000\")\n",
        "  while r.status_code != 200:\n",
        "    sleep(min((2**i), 60))\n",
        "    r = requests.get(f\"https://api.pushshift.io/reddit/comment/search?q=*&link_id={post}&fields=author,body,created_utc,id,parent_id&limit=1000\")\n",
        "    i += 1\n",
        "\n",
        "  i = 1\n",
        "  comments.append(r.json())"
      ],
      "metadata": {
        "id": "NC7jC6O5Tg2e"
      },
      "execution_count": null,
      "outputs": []
    },
    {
      "cell_type": "code",
      "source": [
        "pd.json_normalize(pd.json_normalize(comments).explode('data')['data']).to_csv('espanha_multilanguage.csv')"
      ],
      "metadata": {
        "id": "5v1WzQikg-3X"
      },
      "execution_count": null,
      "outputs": []
    }
  ]
}