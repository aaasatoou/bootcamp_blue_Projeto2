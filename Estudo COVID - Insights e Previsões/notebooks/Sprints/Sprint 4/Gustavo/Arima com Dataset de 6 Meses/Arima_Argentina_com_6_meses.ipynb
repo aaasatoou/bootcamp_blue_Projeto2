{
  "nbformat": 4,
  "nbformat_minor": 0,
  "metadata": {
    "colab": {
      "provenance": []
    },
    "kernelspec": {
      "name": "python3",
      "display_name": "Python 3"
    },
    "language_info": {
      "name": "python"
    }
  },
  "cells": [
    {
      "cell_type": "code",
      "execution_count": null,
      "metadata": {
        "id": "6_GHq3loRuKe",
        "colab": {
          "base_uri": "https://localhost:8080/"
        },
        "outputId": "609ea221-6568-49d1-f233-3d67f3c397ea"
      },
      "outputs": [
        {
          "output_type": "stream",
          "name": "stdout",
          "text": [
            "Looking in indexes: https://pypi.org/simple, https://us-python.pkg.dev/colab-wheels/public/simple/\n",
            "Requirement already satisfied: pmdarima in /usr/local/lib/python3.8/dist-packages (2.0.2)\n",
            "Requirement already satisfied: scipy>=1.3.2 in /usr/local/lib/python3.8/dist-packages (from pmdarima) (1.7.3)\n",
            "Requirement already satisfied: statsmodels>=0.13.2 in /usr/local/lib/python3.8/dist-packages (from pmdarima) (0.13.5)\n",
            "Requirement already satisfied: joblib>=0.11 in /usr/local/lib/python3.8/dist-packages (from pmdarima) (1.2.0)\n",
            "Requirement already satisfied: urllib3 in /usr/local/lib/python3.8/dist-packages (from pmdarima) (1.24.3)\n",
            "Requirement already satisfied: setuptools!=50.0.0,>=38.6.0 in /usr/local/lib/python3.8/dist-packages (from pmdarima) (57.4.0)\n",
            "Requirement already satisfied: scikit-learn>=0.22 in /usr/local/lib/python3.8/dist-packages (from pmdarima) (1.0.2)\n",
            "Requirement already satisfied: Cython!=0.29.18,!=0.29.31,>=0.29 in /usr/local/lib/python3.8/dist-packages (from pmdarima) (0.29.32)\n",
            "Requirement already satisfied: numpy>=1.21.2 in /usr/local/lib/python3.8/dist-packages (from pmdarima) (1.21.6)\n",
            "Requirement already satisfied: pandas>=0.19 in /usr/local/lib/python3.8/dist-packages (from pmdarima) (1.3.5)\n",
            "Requirement already satisfied: pytz>=2017.3 in /usr/local/lib/python3.8/dist-packages (from pandas>=0.19->pmdarima) (2022.7)\n",
            "Requirement already satisfied: python-dateutil>=2.7.3 in /usr/local/lib/python3.8/dist-packages (from pandas>=0.19->pmdarima) (2.8.2)\n",
            "Requirement already satisfied: threadpoolctl>=2.0.0 in /usr/local/lib/python3.8/dist-packages (from scikit-learn>=0.22->pmdarima) (3.1.0)\n",
            "Requirement already satisfied: packaging>=21.3 in /usr/local/lib/python3.8/dist-packages (from statsmodels>=0.13.2->pmdarima) (21.3)\n",
            "Requirement already satisfied: patsy>=0.5.2 in /usr/local/lib/python3.8/dist-packages (from statsmodels>=0.13.2->pmdarima) (0.5.3)\n",
            "Requirement already satisfied: pyparsing!=3.0.5,>=2.0.2 in /usr/local/lib/python3.8/dist-packages (from packaging>=21.3->statsmodels>=0.13.2->pmdarima) (3.0.9)\n",
            "Requirement already satisfied: six in /usr/local/lib/python3.8/dist-packages (from patsy>=0.5.2->statsmodels>=0.13.2->pmdarima) (1.15.0)\n"
          ]
        }
      ],
      "source": [
        "# Importando as Blibiotecas\n",
        "import numpy as np\n",
        "import pandas as pd\n",
        "import matplotlib.pyplot as plt\n",
        "import seaborn as sns\n",
        "\n",
        "!pip install pmdarima\n",
        "from pmdarima.arima import auto_arima\n",
        "\n",
        "from sklearn.metrics import mean_absolute_error, mean_squared_error, mean_absolute_percentage_error"
      ]
    },
    {
      "cell_type": "code",
      "source": [
        "url = 'https://raw.githubusercontent.com/aaasatoou/bootcamp_blue_Projeto2/main/Estudo%20COVID%20-%20Insights%20e%20Previs%C3%B5es/dados/Silver/datasets/serie%20temporal%20pais/S%C3%A9ries%20Temporais%20Argentina.csv'\n",
        "\n",
        "serie_arg = pd.read_csv(url)\n",
        "serie_arg.drop(['Unnamed: 0','Confirmed','Recovered','Ano'],axis=1,\n",
        "               inplace=True)\n",
        "serie_arg.head()"
      ],
      "metadata": {
        "colab": {
          "base_uri": "https://localhost:8080/",
          "height": 206
        },
        "id": "hBIlxHncL6mP",
        "outputId": "be90e97e-ed98-4d26-d0a9-8b4fcb651759"
      },
      "execution_count": null,
      "outputs": [
        {
          "output_type": "execute_result",
          "data": {
            "text/plain": [
              "         Date  Deaths\n",
              "0  2020-01-22       0\n",
              "1  2020-01-23       0\n",
              "2  2020-01-24       0\n",
              "3  2020-01-25       0\n",
              "4  2020-01-26       0"
            ],
            "text/html": [
              "\n",
              "  <div id=\"df-e9d28482-7bc2-4e99-bdbf-2ac98883135b\">\n",
              "    <div class=\"colab-df-container\">\n",
              "      <div>\n",
              "<style scoped>\n",
              "    .dataframe tbody tr th:only-of-type {\n",
              "        vertical-align: middle;\n",
              "    }\n",
              "\n",
              "    .dataframe tbody tr th {\n",
              "        vertical-align: top;\n",
              "    }\n",
              "\n",
              "    .dataframe thead th {\n",
              "        text-align: right;\n",
              "    }\n",
              "</style>\n",
              "<table border=\"1\" class=\"dataframe\">\n",
              "  <thead>\n",
              "    <tr style=\"text-align: right;\">\n",
              "      <th></th>\n",
              "      <th>Date</th>\n",
              "      <th>Deaths</th>\n",
              "    </tr>\n",
              "  </thead>\n",
              "  <tbody>\n",
              "    <tr>\n",
              "      <th>0</th>\n",
              "      <td>2020-01-22</td>\n",
              "      <td>0</td>\n",
              "    </tr>\n",
              "    <tr>\n",
              "      <th>1</th>\n",
              "      <td>2020-01-23</td>\n",
              "      <td>0</td>\n",
              "    </tr>\n",
              "    <tr>\n",
              "      <th>2</th>\n",
              "      <td>2020-01-24</td>\n",
              "      <td>0</td>\n",
              "    </tr>\n",
              "    <tr>\n",
              "      <th>3</th>\n",
              "      <td>2020-01-25</td>\n",
              "      <td>0</td>\n",
              "    </tr>\n",
              "    <tr>\n",
              "      <th>4</th>\n",
              "      <td>2020-01-26</td>\n",
              "      <td>0</td>\n",
              "    </tr>\n",
              "  </tbody>\n",
              "</table>\n",
              "</div>\n",
              "      <button class=\"colab-df-convert\" onclick=\"convertToInteractive('df-e9d28482-7bc2-4e99-bdbf-2ac98883135b')\"\n",
              "              title=\"Convert this dataframe to an interactive table.\"\n",
              "              style=\"display:none;\">\n",
              "        \n",
              "  <svg xmlns=\"http://www.w3.org/2000/svg\" height=\"24px\"viewBox=\"0 0 24 24\"\n",
              "       width=\"24px\">\n",
              "    <path d=\"M0 0h24v24H0V0z\" fill=\"none\"/>\n",
              "    <path d=\"M18.56 5.44l.94 2.06.94-2.06 2.06-.94-2.06-.94-.94-2.06-.94 2.06-2.06.94zm-11 1L8.5 8.5l.94-2.06 2.06-.94-2.06-.94L8.5 2.5l-.94 2.06-2.06.94zm10 10l.94 2.06.94-2.06 2.06-.94-2.06-.94-.94-2.06-.94 2.06-2.06.94z\"/><path d=\"M17.41 7.96l-1.37-1.37c-.4-.4-.92-.59-1.43-.59-.52 0-1.04.2-1.43.59L10.3 9.45l-7.72 7.72c-.78.78-.78 2.05 0 2.83L4 21.41c.39.39.9.59 1.41.59.51 0 1.02-.2 1.41-.59l7.78-7.78 2.81-2.81c.8-.78.8-2.07 0-2.86zM5.41 20L4 18.59l7.72-7.72 1.47 1.35L5.41 20z\"/>\n",
              "  </svg>\n",
              "      </button>\n",
              "      \n",
              "  <style>\n",
              "    .colab-df-container {\n",
              "      display:flex;\n",
              "      flex-wrap:wrap;\n",
              "      gap: 12px;\n",
              "    }\n",
              "\n",
              "    .colab-df-convert {\n",
              "      background-color: #E8F0FE;\n",
              "      border: none;\n",
              "      border-radius: 50%;\n",
              "      cursor: pointer;\n",
              "      display: none;\n",
              "      fill: #1967D2;\n",
              "      height: 32px;\n",
              "      padding: 0 0 0 0;\n",
              "      width: 32px;\n",
              "    }\n",
              "\n",
              "    .colab-df-convert:hover {\n",
              "      background-color: #E2EBFA;\n",
              "      box-shadow: 0px 1px 2px rgba(60, 64, 67, 0.3), 0px 1px 3px 1px rgba(60, 64, 67, 0.15);\n",
              "      fill: #174EA6;\n",
              "    }\n",
              "\n",
              "    [theme=dark] .colab-df-convert {\n",
              "      background-color: #3B4455;\n",
              "      fill: #D2E3FC;\n",
              "    }\n",
              "\n",
              "    [theme=dark] .colab-df-convert:hover {\n",
              "      background-color: #434B5C;\n",
              "      box-shadow: 0px 1px 3px 1px rgba(0, 0, 0, 0.15);\n",
              "      filter: drop-shadow(0px 1px 2px rgba(0, 0, 0, 0.3));\n",
              "      fill: #FFFFFF;\n",
              "    }\n",
              "  </style>\n",
              "\n",
              "      <script>\n",
              "        const buttonEl =\n",
              "          document.querySelector('#df-e9d28482-7bc2-4e99-bdbf-2ac98883135b button.colab-df-convert');\n",
              "        buttonEl.style.display =\n",
              "          google.colab.kernel.accessAllowed ? 'block' : 'none';\n",
              "\n",
              "        async function convertToInteractive(key) {\n",
              "          const element = document.querySelector('#df-e9d28482-7bc2-4e99-bdbf-2ac98883135b');\n",
              "          const dataTable =\n",
              "            await google.colab.kernel.invokeFunction('convertToInteractive',\n",
              "                                                     [key], {});\n",
              "          if (!dataTable) return;\n",
              "\n",
              "          const docLinkHtml = 'Like what you see? Visit the ' +\n",
              "            '<a target=\"_blank\" href=https://colab.research.google.com/notebooks/data_table.ipynb>data table notebook</a>'\n",
              "            + ' to learn more about interactive tables.';\n",
              "          element.innerHTML = '';\n",
              "          dataTable['output_type'] = 'display_data';\n",
              "          await google.colab.output.renderOutput(dataTable, element);\n",
              "          const docLink = document.createElement('div');\n",
              "          docLink.innerHTML = docLinkHtml;\n",
              "          element.appendChild(docLink);\n",
              "        }\n",
              "      </script>\n",
              "    </div>\n",
              "  </div>\n",
              "  "
            ]
          },
          "metadata": {},
          "execution_count": 3
        }
      ]
    },
    {
      "cell_type": "code",
      "source": [
        "# Selecionando apenas os primeiros meses do dataset\n",
        "serie_arg = serie_arg[0:161]"
      ],
      "metadata": {
        "id": "k8keLPxgNTo3"
      },
      "execution_count": null,
      "outputs": []
    },
    {
      "cell_type": "code",
      "source": [
        "serie_arg['Date'] = pd.to_datetime(serie_arg['Date'],format='%Y-%m-%d')\n",
        "serie_arg.set_index('Date',inplace=True)\n",
        "serie_arg"
      ],
      "metadata": {
        "colab": {
          "base_uri": "https://localhost:8080/",
          "height": 455
        },
        "id": "RdjULBVPN9Jw",
        "outputId": "38b3575d-8e9c-4bdb-91d4-01925d273162"
      },
      "execution_count": null,
      "outputs": [
        {
          "output_type": "execute_result",
          "data": {
            "text/plain": [
              "            Deaths\n",
              "Date              \n",
              "2020-01-22       0\n",
              "2020-01-23       0\n",
              "2020-01-24       0\n",
              "2020-01-25       0\n",
              "2020-01-26       0\n",
              "...            ...\n",
              "2020-06-26    1184\n",
              "2020-06-27    1207\n",
              "2020-06-28    1232\n",
              "2020-06-29    1280\n",
              "2020-06-30    1307\n",
              "\n",
              "[161 rows x 1 columns]"
            ],
            "text/html": [
              "\n",
              "  <div id=\"df-80787f22-b440-42a8-9581-1fa034244e37\">\n",
              "    <div class=\"colab-df-container\">\n",
              "      <div>\n",
              "<style scoped>\n",
              "    .dataframe tbody tr th:only-of-type {\n",
              "        vertical-align: middle;\n",
              "    }\n",
              "\n",
              "    .dataframe tbody tr th {\n",
              "        vertical-align: top;\n",
              "    }\n",
              "\n",
              "    .dataframe thead th {\n",
              "        text-align: right;\n",
              "    }\n",
              "</style>\n",
              "<table border=\"1\" class=\"dataframe\">\n",
              "  <thead>\n",
              "    <tr style=\"text-align: right;\">\n",
              "      <th></th>\n",
              "      <th>Deaths</th>\n",
              "    </tr>\n",
              "    <tr>\n",
              "      <th>Date</th>\n",
              "      <th></th>\n",
              "    </tr>\n",
              "  </thead>\n",
              "  <tbody>\n",
              "    <tr>\n",
              "      <th>2020-01-22</th>\n",
              "      <td>0</td>\n",
              "    </tr>\n",
              "    <tr>\n",
              "      <th>2020-01-23</th>\n",
              "      <td>0</td>\n",
              "    </tr>\n",
              "    <tr>\n",
              "      <th>2020-01-24</th>\n",
              "      <td>0</td>\n",
              "    </tr>\n",
              "    <tr>\n",
              "      <th>2020-01-25</th>\n",
              "      <td>0</td>\n",
              "    </tr>\n",
              "    <tr>\n",
              "      <th>2020-01-26</th>\n",
              "      <td>0</td>\n",
              "    </tr>\n",
              "    <tr>\n",
              "      <th>...</th>\n",
              "      <td>...</td>\n",
              "    </tr>\n",
              "    <tr>\n",
              "      <th>2020-06-26</th>\n",
              "      <td>1184</td>\n",
              "    </tr>\n",
              "    <tr>\n",
              "      <th>2020-06-27</th>\n",
              "      <td>1207</td>\n",
              "    </tr>\n",
              "    <tr>\n",
              "      <th>2020-06-28</th>\n",
              "      <td>1232</td>\n",
              "    </tr>\n",
              "    <tr>\n",
              "      <th>2020-06-29</th>\n",
              "      <td>1280</td>\n",
              "    </tr>\n",
              "    <tr>\n",
              "      <th>2020-06-30</th>\n",
              "      <td>1307</td>\n",
              "    </tr>\n",
              "  </tbody>\n",
              "</table>\n",
              "<p>161 rows × 1 columns</p>\n",
              "</div>\n",
              "      <button class=\"colab-df-convert\" onclick=\"convertToInteractive('df-80787f22-b440-42a8-9581-1fa034244e37')\"\n",
              "              title=\"Convert this dataframe to an interactive table.\"\n",
              "              style=\"display:none;\">\n",
              "        \n",
              "  <svg xmlns=\"http://www.w3.org/2000/svg\" height=\"24px\"viewBox=\"0 0 24 24\"\n",
              "       width=\"24px\">\n",
              "    <path d=\"M0 0h24v24H0V0z\" fill=\"none\"/>\n",
              "    <path d=\"M18.56 5.44l.94 2.06.94-2.06 2.06-.94-2.06-.94-.94-2.06-.94 2.06-2.06.94zm-11 1L8.5 8.5l.94-2.06 2.06-.94-2.06-.94L8.5 2.5l-.94 2.06-2.06.94zm10 10l.94 2.06.94-2.06 2.06-.94-2.06-.94-.94-2.06-.94 2.06-2.06.94z\"/><path d=\"M17.41 7.96l-1.37-1.37c-.4-.4-.92-.59-1.43-.59-.52 0-1.04.2-1.43.59L10.3 9.45l-7.72 7.72c-.78.78-.78 2.05 0 2.83L4 21.41c.39.39.9.59 1.41.59.51 0 1.02-.2 1.41-.59l7.78-7.78 2.81-2.81c.8-.78.8-2.07 0-2.86zM5.41 20L4 18.59l7.72-7.72 1.47 1.35L5.41 20z\"/>\n",
              "  </svg>\n",
              "      </button>\n",
              "      \n",
              "  <style>\n",
              "    .colab-df-container {\n",
              "      display:flex;\n",
              "      flex-wrap:wrap;\n",
              "      gap: 12px;\n",
              "    }\n",
              "\n",
              "    .colab-df-convert {\n",
              "      background-color: #E8F0FE;\n",
              "      border: none;\n",
              "      border-radius: 50%;\n",
              "      cursor: pointer;\n",
              "      display: none;\n",
              "      fill: #1967D2;\n",
              "      height: 32px;\n",
              "      padding: 0 0 0 0;\n",
              "      width: 32px;\n",
              "    }\n",
              "\n",
              "    .colab-df-convert:hover {\n",
              "      background-color: #E2EBFA;\n",
              "      box-shadow: 0px 1px 2px rgba(60, 64, 67, 0.3), 0px 1px 3px 1px rgba(60, 64, 67, 0.15);\n",
              "      fill: #174EA6;\n",
              "    }\n",
              "\n",
              "    [theme=dark] .colab-df-convert {\n",
              "      background-color: #3B4455;\n",
              "      fill: #D2E3FC;\n",
              "    }\n",
              "\n",
              "    [theme=dark] .colab-df-convert:hover {\n",
              "      background-color: #434B5C;\n",
              "      box-shadow: 0px 1px 3px 1px rgba(0, 0, 0, 0.15);\n",
              "      filter: drop-shadow(0px 1px 2px rgba(0, 0, 0, 0.3));\n",
              "      fill: #FFFFFF;\n",
              "    }\n",
              "  </style>\n",
              "\n",
              "      <script>\n",
              "        const buttonEl =\n",
              "          document.querySelector('#df-80787f22-b440-42a8-9581-1fa034244e37 button.colab-df-convert');\n",
              "        buttonEl.style.display =\n",
              "          google.colab.kernel.accessAllowed ? 'block' : 'none';\n",
              "\n",
              "        async function convertToInteractive(key) {\n",
              "          const element = document.querySelector('#df-80787f22-b440-42a8-9581-1fa034244e37');\n",
              "          const dataTable =\n",
              "            await google.colab.kernel.invokeFunction('convertToInteractive',\n",
              "                                                     [key], {});\n",
              "          if (!dataTable) return;\n",
              "\n",
              "          const docLinkHtml = 'Like what you see? Visit the ' +\n",
              "            '<a target=\"_blank\" href=https://colab.research.google.com/notebooks/data_table.ipynb>data table notebook</a>'\n",
              "            + ' to learn more about interactive tables.';\n",
              "          element.innerHTML = '';\n",
              "          dataTable['output_type'] = 'display_data';\n",
              "          await google.colab.output.renderOutput(dataTable, element);\n",
              "          const docLink = document.createElement('div');\n",
              "          docLink.innerHTML = docLinkHtml;\n",
              "          element.appendChild(docLink);\n",
              "        }\n",
              "      </script>\n",
              "    </div>\n",
              "  </div>\n",
              "  "
            ]
          },
          "metadata": {},
          "execution_count": 16
        }
      ]
    },
    {
      "cell_type": "code",
      "source": [
        "treino = serie_arg[0:131]\n",
        "treino"
      ],
      "metadata": {
        "colab": {
          "base_uri": "https://localhost:8080/",
          "height": 455
        },
        "id": "MkvJ1JBhOgpM",
        "outputId": "dbc37d02-67de-4656-bd9f-5079b016307b"
      },
      "execution_count": null,
      "outputs": [
        {
          "output_type": "execute_result",
          "data": {
            "text/plain": [
              "            Deaths\n",
              "Date              \n",
              "2020-01-22       0\n",
              "2020-01-23       0\n",
              "2020-01-24       0\n",
              "2020-01-25       0\n",
              "2020-01-26       0\n",
              "...            ...\n",
              "2020-05-27     500\n",
              "2020-05-28     508\n",
              "2020-05-29     520\n",
              "2020-05-30     528\n",
              "2020-05-31     539\n",
              "\n",
              "[131 rows x 1 columns]"
            ],
            "text/html": [
              "\n",
              "  <div id=\"df-41894e8f-36c4-4c3d-8fcd-add5dca7ad1c\">\n",
              "    <div class=\"colab-df-container\">\n",
              "      <div>\n",
              "<style scoped>\n",
              "    .dataframe tbody tr th:only-of-type {\n",
              "        vertical-align: middle;\n",
              "    }\n",
              "\n",
              "    .dataframe tbody tr th {\n",
              "        vertical-align: top;\n",
              "    }\n",
              "\n",
              "    .dataframe thead th {\n",
              "        text-align: right;\n",
              "    }\n",
              "</style>\n",
              "<table border=\"1\" class=\"dataframe\">\n",
              "  <thead>\n",
              "    <tr style=\"text-align: right;\">\n",
              "      <th></th>\n",
              "      <th>Deaths</th>\n",
              "    </tr>\n",
              "    <tr>\n",
              "      <th>Date</th>\n",
              "      <th></th>\n",
              "    </tr>\n",
              "  </thead>\n",
              "  <tbody>\n",
              "    <tr>\n",
              "      <th>2020-01-22</th>\n",
              "      <td>0</td>\n",
              "    </tr>\n",
              "    <tr>\n",
              "      <th>2020-01-23</th>\n",
              "      <td>0</td>\n",
              "    </tr>\n",
              "    <tr>\n",
              "      <th>2020-01-24</th>\n",
              "      <td>0</td>\n",
              "    </tr>\n",
              "    <tr>\n",
              "      <th>2020-01-25</th>\n",
              "      <td>0</td>\n",
              "    </tr>\n",
              "    <tr>\n",
              "      <th>2020-01-26</th>\n",
              "      <td>0</td>\n",
              "    </tr>\n",
              "    <tr>\n",
              "      <th>...</th>\n",
              "      <td>...</td>\n",
              "    </tr>\n",
              "    <tr>\n",
              "      <th>2020-05-27</th>\n",
              "      <td>500</td>\n",
              "    </tr>\n",
              "    <tr>\n",
              "      <th>2020-05-28</th>\n",
              "      <td>508</td>\n",
              "    </tr>\n",
              "    <tr>\n",
              "      <th>2020-05-29</th>\n",
              "      <td>520</td>\n",
              "    </tr>\n",
              "    <tr>\n",
              "      <th>2020-05-30</th>\n",
              "      <td>528</td>\n",
              "    </tr>\n",
              "    <tr>\n",
              "      <th>2020-05-31</th>\n",
              "      <td>539</td>\n",
              "    </tr>\n",
              "  </tbody>\n",
              "</table>\n",
              "<p>131 rows × 1 columns</p>\n",
              "</div>\n",
              "      <button class=\"colab-df-convert\" onclick=\"convertToInteractive('df-41894e8f-36c4-4c3d-8fcd-add5dca7ad1c')\"\n",
              "              title=\"Convert this dataframe to an interactive table.\"\n",
              "              style=\"display:none;\">\n",
              "        \n",
              "  <svg xmlns=\"http://www.w3.org/2000/svg\" height=\"24px\"viewBox=\"0 0 24 24\"\n",
              "       width=\"24px\">\n",
              "    <path d=\"M0 0h24v24H0V0z\" fill=\"none\"/>\n",
              "    <path d=\"M18.56 5.44l.94 2.06.94-2.06 2.06-.94-2.06-.94-.94-2.06-.94 2.06-2.06.94zm-11 1L8.5 8.5l.94-2.06 2.06-.94-2.06-.94L8.5 2.5l-.94 2.06-2.06.94zm10 10l.94 2.06.94-2.06 2.06-.94-2.06-.94-.94-2.06-.94 2.06-2.06.94z\"/><path d=\"M17.41 7.96l-1.37-1.37c-.4-.4-.92-.59-1.43-.59-.52 0-1.04.2-1.43.59L10.3 9.45l-7.72 7.72c-.78.78-.78 2.05 0 2.83L4 21.41c.39.39.9.59 1.41.59.51 0 1.02-.2 1.41-.59l7.78-7.78 2.81-2.81c.8-.78.8-2.07 0-2.86zM5.41 20L4 18.59l7.72-7.72 1.47 1.35L5.41 20z\"/>\n",
              "  </svg>\n",
              "      </button>\n",
              "      \n",
              "  <style>\n",
              "    .colab-df-container {\n",
              "      display:flex;\n",
              "      flex-wrap:wrap;\n",
              "      gap: 12px;\n",
              "    }\n",
              "\n",
              "    .colab-df-convert {\n",
              "      background-color: #E8F0FE;\n",
              "      border: none;\n",
              "      border-radius: 50%;\n",
              "      cursor: pointer;\n",
              "      display: none;\n",
              "      fill: #1967D2;\n",
              "      height: 32px;\n",
              "      padding: 0 0 0 0;\n",
              "      width: 32px;\n",
              "    }\n",
              "\n",
              "    .colab-df-convert:hover {\n",
              "      background-color: #E2EBFA;\n",
              "      box-shadow: 0px 1px 2px rgba(60, 64, 67, 0.3), 0px 1px 3px 1px rgba(60, 64, 67, 0.15);\n",
              "      fill: #174EA6;\n",
              "    }\n",
              "\n",
              "    [theme=dark] .colab-df-convert {\n",
              "      background-color: #3B4455;\n",
              "      fill: #D2E3FC;\n",
              "    }\n",
              "\n",
              "    [theme=dark] .colab-df-convert:hover {\n",
              "      background-color: #434B5C;\n",
              "      box-shadow: 0px 1px 3px 1px rgba(0, 0, 0, 0.15);\n",
              "      filter: drop-shadow(0px 1px 2px rgba(0, 0, 0, 0.3));\n",
              "      fill: #FFFFFF;\n",
              "    }\n",
              "  </style>\n",
              "\n",
              "      <script>\n",
              "        const buttonEl =\n",
              "          document.querySelector('#df-41894e8f-36c4-4c3d-8fcd-add5dca7ad1c button.colab-df-convert');\n",
              "        buttonEl.style.display =\n",
              "          google.colab.kernel.accessAllowed ? 'block' : 'none';\n",
              "\n",
              "        async function convertToInteractive(key) {\n",
              "          const element = document.querySelector('#df-41894e8f-36c4-4c3d-8fcd-add5dca7ad1c');\n",
              "          const dataTable =\n",
              "            await google.colab.kernel.invokeFunction('convertToInteractive',\n",
              "                                                     [key], {});\n",
              "          if (!dataTable) return;\n",
              "\n",
              "          const docLinkHtml = 'Like what you see? Visit the ' +\n",
              "            '<a target=\"_blank\" href=https://colab.research.google.com/notebooks/data_table.ipynb>data table notebook</a>'\n",
              "            + ' to learn more about interactive tables.';\n",
              "          element.innerHTML = '';\n",
              "          dataTable['output_type'] = 'display_data';\n",
              "          await google.colab.output.renderOutput(dataTable, element);\n",
              "          const docLink = document.createElement('div');\n",
              "          docLink.innerHTML = docLinkHtml;\n",
              "          element.appendChild(docLink);\n",
              "        }\n",
              "      </script>\n",
              "    </div>\n",
              "  </div>\n",
              "  "
            ]
          },
          "metadata": {},
          "execution_count": 20
        }
      ]
    },
    {
      "cell_type": "code",
      "source": [
        "teste = serie_arg[131:161]\n",
        "teste.head()"
      ],
      "metadata": {
        "colab": {
          "base_uri": "https://localhost:8080/",
          "height": 238
        },
        "id": "f5zs3YLdO1pC",
        "outputId": "635052df-3ba0-4fba-f216-673f133b224d"
      },
      "execution_count": null,
      "outputs": [
        {
          "output_type": "execute_result",
          "data": {
            "text/plain": [
              "            Deaths\n",
              "Date              \n",
              "2020-06-01     556\n",
              "2020-06-02     569\n",
              "2020-06-03     583\n",
              "2020-06-04     608\n",
              "2020-06-05     632"
            ],
            "text/html": [
              "\n",
              "  <div id=\"df-88b0b746-f32f-4377-b758-c7c40e6096fd\">\n",
              "    <div class=\"colab-df-container\">\n",
              "      <div>\n",
              "<style scoped>\n",
              "    .dataframe tbody tr th:only-of-type {\n",
              "        vertical-align: middle;\n",
              "    }\n",
              "\n",
              "    .dataframe tbody tr th {\n",
              "        vertical-align: top;\n",
              "    }\n",
              "\n",
              "    .dataframe thead th {\n",
              "        text-align: right;\n",
              "    }\n",
              "</style>\n",
              "<table border=\"1\" class=\"dataframe\">\n",
              "  <thead>\n",
              "    <tr style=\"text-align: right;\">\n",
              "      <th></th>\n",
              "      <th>Deaths</th>\n",
              "    </tr>\n",
              "    <tr>\n",
              "      <th>Date</th>\n",
              "      <th></th>\n",
              "    </tr>\n",
              "  </thead>\n",
              "  <tbody>\n",
              "    <tr>\n",
              "      <th>2020-06-01</th>\n",
              "      <td>556</td>\n",
              "    </tr>\n",
              "    <tr>\n",
              "      <th>2020-06-02</th>\n",
              "      <td>569</td>\n",
              "    </tr>\n",
              "    <tr>\n",
              "      <th>2020-06-03</th>\n",
              "      <td>583</td>\n",
              "    </tr>\n",
              "    <tr>\n",
              "      <th>2020-06-04</th>\n",
              "      <td>608</td>\n",
              "    </tr>\n",
              "    <tr>\n",
              "      <th>2020-06-05</th>\n",
              "      <td>632</td>\n",
              "    </tr>\n",
              "  </tbody>\n",
              "</table>\n",
              "</div>\n",
              "      <button class=\"colab-df-convert\" onclick=\"convertToInteractive('df-88b0b746-f32f-4377-b758-c7c40e6096fd')\"\n",
              "              title=\"Convert this dataframe to an interactive table.\"\n",
              "              style=\"display:none;\">\n",
              "        \n",
              "  <svg xmlns=\"http://www.w3.org/2000/svg\" height=\"24px\"viewBox=\"0 0 24 24\"\n",
              "       width=\"24px\">\n",
              "    <path d=\"M0 0h24v24H0V0z\" fill=\"none\"/>\n",
              "    <path d=\"M18.56 5.44l.94 2.06.94-2.06 2.06-.94-2.06-.94-.94-2.06-.94 2.06-2.06.94zm-11 1L8.5 8.5l.94-2.06 2.06-.94-2.06-.94L8.5 2.5l-.94 2.06-2.06.94zm10 10l.94 2.06.94-2.06 2.06-.94-2.06-.94-.94-2.06-.94 2.06-2.06.94z\"/><path d=\"M17.41 7.96l-1.37-1.37c-.4-.4-.92-.59-1.43-.59-.52 0-1.04.2-1.43.59L10.3 9.45l-7.72 7.72c-.78.78-.78 2.05 0 2.83L4 21.41c.39.39.9.59 1.41.59.51 0 1.02-.2 1.41-.59l7.78-7.78 2.81-2.81c.8-.78.8-2.07 0-2.86zM5.41 20L4 18.59l7.72-7.72 1.47 1.35L5.41 20z\"/>\n",
              "  </svg>\n",
              "      </button>\n",
              "      \n",
              "  <style>\n",
              "    .colab-df-container {\n",
              "      display:flex;\n",
              "      flex-wrap:wrap;\n",
              "      gap: 12px;\n",
              "    }\n",
              "\n",
              "    .colab-df-convert {\n",
              "      background-color: #E8F0FE;\n",
              "      border: none;\n",
              "      border-radius: 50%;\n",
              "      cursor: pointer;\n",
              "      display: none;\n",
              "      fill: #1967D2;\n",
              "      height: 32px;\n",
              "      padding: 0 0 0 0;\n",
              "      width: 32px;\n",
              "    }\n",
              "\n",
              "    .colab-df-convert:hover {\n",
              "      background-color: #E2EBFA;\n",
              "      box-shadow: 0px 1px 2px rgba(60, 64, 67, 0.3), 0px 1px 3px 1px rgba(60, 64, 67, 0.15);\n",
              "      fill: #174EA6;\n",
              "    }\n",
              "\n",
              "    [theme=dark] .colab-df-convert {\n",
              "      background-color: #3B4455;\n",
              "      fill: #D2E3FC;\n",
              "    }\n",
              "\n",
              "    [theme=dark] .colab-df-convert:hover {\n",
              "      background-color: #434B5C;\n",
              "      box-shadow: 0px 1px 3px 1px rgba(0, 0, 0, 0.15);\n",
              "      filter: drop-shadow(0px 1px 2px rgba(0, 0, 0, 0.3));\n",
              "      fill: #FFFFFF;\n",
              "    }\n",
              "  </style>\n",
              "\n",
              "      <script>\n",
              "        const buttonEl =\n",
              "          document.querySelector('#df-88b0b746-f32f-4377-b758-c7c40e6096fd button.colab-df-convert');\n",
              "        buttonEl.style.display =\n",
              "          google.colab.kernel.accessAllowed ? 'block' : 'none';\n",
              "\n",
              "        async function convertToInteractive(key) {\n",
              "          const element = document.querySelector('#df-88b0b746-f32f-4377-b758-c7c40e6096fd');\n",
              "          const dataTable =\n",
              "            await google.colab.kernel.invokeFunction('convertToInteractive',\n",
              "                                                     [key], {});\n",
              "          if (!dataTable) return;\n",
              "\n",
              "          const docLinkHtml = 'Like what you see? Visit the ' +\n",
              "            '<a target=\"_blank\" href=https://colab.research.google.com/notebooks/data_table.ipynb>data table notebook</a>'\n",
              "            + ' to learn more about interactive tables.';\n",
              "          element.innerHTML = '';\n",
              "          dataTable['output_type'] = 'display_data';\n",
              "          await google.colab.output.renderOutput(dataTable, element);\n",
              "          const docLink = document.createElement('div');\n",
              "          docLink.innerHTML = docLinkHtml;\n",
              "          element.appendChild(docLink);\n",
              "        }\n",
              "      </script>\n",
              "    </div>\n",
              "  </div>\n",
              "  "
            ]
          },
          "metadata": {},
          "execution_count": 23
        }
      ]
    },
    {
      "cell_type": "code",
      "source": [
        "step1 = auto_arima(treino['Deaths'],start_p=1,start_q=1,max_p=6,max_q=6,m=12,start_P=0,seasonal=True,d=1,D=1,trace=True,\n",
        "                    error_action='ignore',suppress_warnings=True,stepwise=False)"
      ],
      "metadata": {
        "colab": {
          "base_uri": "https://localhost:8080/"
        },
        "id": "QgYvjHcJPA_D",
        "outputId": "2683d637-5820-4b09-c772-3540e8ec9016"
      },
      "execution_count": null,
      "outputs": [
        {
          "output_type": "stream",
          "name": "stdout",
          "text": [
            " ARIMA(0,1,0)(0,1,0)[12]             : AIC=656.686, Time=0.22 sec\n",
            " ARIMA(0,1,0)(0,1,1)[12]             : AIC=649.990, Time=0.18 sec\n",
            " ARIMA(0,1,0)(0,1,2)[12]             : AIC=644.152, Time=0.61 sec\n",
            " ARIMA(0,1,0)(1,1,0)[12]             : AIC=646.773, Time=0.12 sec\n",
            " ARIMA(0,1,0)(1,1,1)[12]             : AIC=648.187, Time=0.31 sec\n",
            " ARIMA(0,1,0)(1,1,2)[12]             : AIC=642.902, Time=0.88 sec\n",
            " ARIMA(0,1,0)(2,1,0)[12]             : AIC=647.628, Time=0.31 sec\n",
            " ARIMA(0,1,0)(2,1,1)[12]             : AIC=644.944, Time=0.99 sec\n",
            " ARIMA(0,1,0)(2,1,2)[12]             : AIC=644.902, Time=1.35 sec\n",
            " ARIMA(0,1,1)(0,1,0)[12]             : AIC=658.652, Time=0.06 sec\n",
            " ARIMA(0,1,1)(0,1,1)[12]             : AIC=650.111, Time=0.25 sec\n",
            " ARIMA(0,1,1)(0,1,2)[12]             : AIC=643.757, Time=0.90 sec\n",
            " ARIMA(0,1,1)(1,1,0)[12]             : AIC=645.842, Time=0.14 sec\n",
            " ARIMA(0,1,1)(1,1,1)[12]             : AIC=647.770, Time=0.43 sec\n",
            " ARIMA(0,1,1)(1,1,2)[12]             : AIC=643.552, Time=1.94 sec\n",
            " ARIMA(0,1,1)(2,1,0)[12]             : AIC=647.698, Time=0.82 sec\n",
            " ARIMA(0,1,1)(2,1,1)[12]             : AIC=645.942, Time=2.18 sec\n",
            " ARIMA(0,1,1)(2,1,2)[12]             : AIC=645.537, Time=2.05 sec\n",
            " ARIMA(0,1,2)(0,1,0)[12]             : AIC=657.813, Time=0.09 sec\n",
            " ARIMA(0,1,2)(0,1,1)[12]             : AIC=644.208, Time=0.35 sec\n",
            " ARIMA(0,1,2)(0,1,2)[12]             : AIC=637.874, Time=0.88 sec\n",
            " ARIMA(0,1,2)(1,1,0)[12]             : AIC=638.278, Time=0.19 sec\n",
            " ARIMA(0,1,2)(1,1,1)[12]             : AIC=640.242, Time=0.42 sec\n",
            " ARIMA(0,1,2)(1,1,2)[12]             : AIC=639.008, Time=1.43 sec\n",
            " ARIMA(0,1,2)(2,1,0)[12]             : AIC=640.225, Time=0.49 sec\n",
            " ARIMA(0,1,2)(2,1,1)[12]             : AIC=640.180, Time=2.28 sec\n",
            " ARIMA(0,1,3)(0,1,0)[12]             : AIC=658.830, Time=0.11 sec\n",
            " ARIMA(0,1,3)(0,1,1)[12]             : AIC=641.829, Time=0.47 sec\n",
            " ARIMA(0,1,3)(0,1,2)[12]             : AIC=635.494, Time=1.19 sec\n",
            " ARIMA(0,1,3)(1,1,0)[12]             : AIC=637.016, Time=0.28 sec\n",
            " ARIMA(0,1,3)(1,1,1)[12]             : AIC=638.642, Time=0.63 sec\n",
            " ARIMA(0,1,3)(2,1,0)[12]             : AIC=638.379, Time=0.63 sec\n",
            " ARIMA(0,1,4)(0,1,0)[12]             : AIC=660.720, Time=0.21 sec\n",
            " ARIMA(0,1,4)(0,1,1)[12]             : AIC=643.241, Time=0.56 sec\n",
            " ARIMA(0,1,4)(1,1,0)[12]             : AIC=638.767, Time=0.37 sec\n",
            " ARIMA(0,1,5)(0,1,0)[12]             : AIC=656.017, Time=0.23 sec\n",
            " ARIMA(1,1,0)(0,1,0)[12]             : AIC=658.643, Time=0.05 sec\n",
            " ARIMA(1,1,0)(0,1,1)[12]             : AIC=648.300, Time=0.28 sec\n",
            " ARIMA(1,1,0)(0,1,2)[12]             : AIC=641.739, Time=0.77 sec\n",
            " ARIMA(1,1,0)(1,1,0)[12]             : AIC=643.392, Time=0.16 sec\n",
            " ARIMA(1,1,0)(1,1,1)[12]             : AIC=645.242, Time=0.29 sec\n",
            " ARIMA(1,1,0)(1,1,2)[12]             : AIC=642.476, Time=1.02 sec\n",
            " ARIMA(1,1,0)(2,1,0)[12]             : AIC=645.075, Time=0.39 sec\n",
            " ARIMA(1,1,0)(2,1,1)[12]             : AIC=inf, Time=1.49 sec\n",
            " ARIMA(1,1,0)(2,1,2)[12]             : AIC=644.439, Time=1.42 sec\n",
            " ARIMA(1,1,1)(0,1,0)[12]             : AIC=660.497, Time=0.12 sec\n",
            " ARIMA(1,1,1)(0,1,1)[12]             : AIC=604.429, Time=0.75 sec\n",
            " ARIMA(1,1,1)(0,1,2)[12]             : AIC=605.705, Time=1.76 sec\n",
            " ARIMA(1,1,1)(1,1,0)[12]             : AIC=615.052, Time=0.50 sec\n",
            " ARIMA(1,1,1)(1,1,1)[12]             : AIC=605.659, Time=0.90 sec\n",
            " ARIMA(1,1,1)(1,1,2)[12]             : AIC=607.664, Time=3.89 sec\n",
            " ARIMA(1,1,1)(2,1,0)[12]             : AIC=609.543, Time=1.06 sec\n",
            " ARIMA(1,1,1)(2,1,1)[12]             : AIC=inf, Time=3.08 sec\n",
            " ARIMA(1,1,2)(0,1,0)[12]             : AIC=646.217, Time=0.27 sec\n",
            " ARIMA(1,1,2)(0,1,1)[12]             : AIC=604.453, Time=0.71 sec\n",
            " ARIMA(1,1,2)(0,1,2)[12]             : AIC=605.978, Time=2.01 sec\n",
            " ARIMA(1,1,2)(1,1,0)[12]             : AIC=615.194, Time=0.61 sec\n",
            " ARIMA(1,1,2)(1,1,1)[12]             : AIC=605.961, Time=1.00 sec\n",
            " ARIMA(1,1,2)(2,1,0)[12]             : AIC=610.099, Time=1.22 sec\n",
            " ARIMA(1,1,3)(0,1,0)[12]             : AIC=647.696, Time=0.32 sec\n",
            " ARIMA(1,1,3)(0,1,1)[12]             : AIC=605.531, Time=1.15 sec\n",
            " ARIMA(1,1,3)(1,1,0)[12]             : AIC=617.171, Time=0.64 sec\n",
            " ARIMA(1,1,4)(0,1,0)[12]             : AIC=649.195, Time=0.43 sec\n",
            " ARIMA(2,1,0)(0,1,0)[12]             : AIC=658.343, Time=0.09 sec\n",
            " ARIMA(2,1,0)(0,1,1)[12]             : AIC=634.833, Time=0.34 sec\n",
            " ARIMA(2,1,0)(0,1,2)[12]             : AIC=631.452, Time=0.91 sec\n",
            " ARIMA(2,1,0)(1,1,0)[12]             : AIC=631.922, Time=0.24 sec\n",
            " ARIMA(2,1,0)(1,1,1)[12]             : AIC=632.000, Time=0.47 sec\n",
            " ARIMA(2,1,0)(1,1,2)[12]             : AIC=633.447, Time=1.31 sec\n",
            " ARIMA(2,1,0)(2,1,0)[12]             : AIC=631.844, Time=0.50 sec\n",
            " ARIMA(2,1,0)(2,1,1)[12]             : AIC=633.832, Time=1.42 sec\n",
            " ARIMA(2,1,1)(0,1,0)[12]             : AIC=646.799, Time=0.24 sec\n",
            " ARIMA(2,1,1)(0,1,1)[12]             : AIC=604.777, Time=0.83 sec\n",
            " ARIMA(2,1,1)(0,1,2)[12]             : AIC=606.240, Time=2.10 sec\n",
            " ARIMA(2,1,1)(1,1,0)[12]             : AIC=615.145, Time=0.54 sec\n",
            " ARIMA(2,1,1)(1,1,1)[12]             : AIC=606.215, Time=1.02 sec\n",
            " ARIMA(2,1,1)(2,1,0)[12]             : AIC=610.217, Time=1.36 sec\n",
            " ARIMA(2,1,2)(0,1,0)[12]             : AIC=inf, Time=0.45 sec\n",
            " ARIMA(2,1,2)(0,1,1)[12]             : AIC=inf, Time=1.25 sec\n",
            " ARIMA(2,1,2)(1,1,0)[12]             : AIC=617.133, Time=1.13 sec\n",
            " ARIMA(2,1,3)(0,1,0)[12]             : AIC=inf, Time=0.71 sec\n",
            " ARIMA(3,1,0)(0,1,0)[12]             : AIC=656.067, Time=0.11 sec\n",
            " ARIMA(3,1,0)(0,1,1)[12]             : AIC=622.248, Time=0.42 sec\n",
            " ARIMA(3,1,0)(0,1,2)[12]             : AIC=621.157, Time=1.15 sec\n",
            " ARIMA(3,1,0)(1,1,0)[12]             : AIC=628.176, Time=0.27 sec\n",
            " ARIMA(3,1,0)(1,1,1)[12]             : AIC=621.972, Time=0.74 sec\n",
            " ARIMA(3,1,0)(2,1,0)[12]             : AIC=621.768, Time=0.62 sec\n",
            " ARIMA(3,1,1)(0,1,0)[12]             : AIC=657.185, Time=0.21 sec\n",
            " ARIMA(3,1,1)(0,1,1)[12]             : AIC=605.935, Time=1.26 sec\n",
            " ARIMA(3,1,1)(1,1,0)[12]             : AIC=617.135, Time=0.82 sec\n",
            " ARIMA(3,1,2)(0,1,0)[12]             : AIC=inf, Time=0.82 sec\n",
            " ARIMA(4,1,0)(0,1,0)[12]             : AIC=657.987, Time=0.12 sec\n",
            " ARIMA(4,1,0)(0,1,1)[12]             : AIC=621.671, Time=0.63 sec\n",
            " ARIMA(4,1,0)(1,1,0)[12]             : AIC=629.464, Time=0.54 sec\n",
            " ARIMA(4,1,1)(0,1,0)[12]             : AIC=659.185, Time=0.26 sec\n",
            " ARIMA(5,1,0)(0,1,0)[12]             : AIC=650.745, Time=0.16 sec\n",
            "\n",
            "Best model:  ARIMA(1,1,1)(0,1,1)[12]          \n",
            "Total fit time: 74.038 seconds\n"
          ]
        }
      ]
    },
    {
      "cell_type": "code",
      "source": [
        "step2 = auto_arima(treino['Deaths'],start_p=1,start_q=1,max_p=6,max_q=6,m=12,start_P=0,seasonal=True,d=1,D=1,trace=True,\n",
        "                    error_action='ignore',suppress_warnings=True,stepwise=True)"
      ],
      "metadata": {
        "colab": {
          "base_uri": "https://localhost:8080/"
        },
        "id": "lJZw94uNPmoU",
        "outputId": "cc0df95e-0820-485a-acdc-6cd8a20954cb"
      },
      "execution_count": null,
      "outputs": [
        {
          "output_type": "stream",
          "name": "stdout",
          "text": [
            "Performing stepwise search to minimize aic\n",
            " ARIMA(1,1,1)(0,1,1)[12]             : AIC=604.429, Time=0.75 sec\n",
            " ARIMA(0,1,0)(0,1,0)[12]             : AIC=656.686, Time=0.03 sec\n",
            " ARIMA(1,1,0)(1,1,0)[12]             : AIC=643.392, Time=0.14 sec\n",
            " ARIMA(0,1,1)(0,1,1)[12]             : AIC=650.111, Time=0.24 sec\n",
            " ARIMA(1,1,1)(0,1,0)[12]             : AIC=660.497, Time=0.10 sec\n",
            " ARIMA(1,1,1)(1,1,1)[12]             : AIC=605.659, Time=0.93 sec\n",
            " ARIMA(1,1,1)(0,1,2)[12]             : AIC=605.705, Time=1.78 sec\n",
            " ARIMA(1,1,1)(1,1,0)[12]             : AIC=615.052, Time=0.44 sec\n",
            " ARIMA(1,1,1)(1,1,2)[12]             : AIC=607.664, Time=3.90 sec\n",
            " ARIMA(1,1,0)(0,1,1)[12]             : AIC=648.300, Time=0.23 sec\n",
            " ARIMA(2,1,1)(0,1,1)[12]             : AIC=604.777, Time=0.78 sec\n",
            " ARIMA(1,1,2)(0,1,1)[12]             : AIC=604.453, Time=0.71 sec\n",
            " ARIMA(0,1,0)(0,1,1)[12]             : AIC=649.990, Time=0.17 sec\n",
            " ARIMA(0,1,2)(0,1,1)[12]             : AIC=644.208, Time=0.32 sec\n",
            " ARIMA(2,1,0)(0,1,1)[12]             : AIC=634.833, Time=0.33 sec\n",
            " ARIMA(2,1,2)(0,1,1)[12]             : AIC=inf, Time=1.27 sec\n",
            " ARIMA(1,1,1)(0,1,1)[12] intercept   : AIC=inf, Time=1.83 sec\n",
            "\n",
            "Best model:  ARIMA(1,1,1)(0,1,1)[12]          \n",
            "Total fit time: 13.969 seconds\n"
          ]
        }
      ]
    },
    {
      "cell_type": "code",
      "source": [
        "step1.fit(treino['Deaths'])"
      ],
      "metadata": {
        "colab": {
          "base_uri": "https://localhost:8080/"
        },
        "id": "80Y6o9avP656",
        "outputId": "b7f434d2-5716-4937-9396-c5feac434c40"
      },
      "execution_count": null,
      "outputs": [
        {
          "output_type": "execute_result",
          "data": {
            "text/plain": [
              "ARIMA(order=(1, 1, 1), scoring_args={}, seasonal_order=(0, 1, 1, 12),\n",
              "      suppress_warnings=True, with_intercept=False)"
            ]
          },
          "metadata": {},
          "execution_count": 26
        }
      ]
    },
    {
      "cell_type": "code",
      "source": [
        "step2.fit(treino['Deaths'])"
      ],
      "metadata": {
        "colab": {
          "base_uri": "https://localhost:8080/"
        },
        "id": "MGdzFB0_P_uB",
        "outputId": "efa0877e-10fd-4a9d-8821-d2c49b22824d"
      },
      "execution_count": null,
      "outputs": [
        {
          "output_type": "execute_result",
          "data": {
            "text/plain": [
              "ARIMA(order=(1, 1, 1), scoring_args={}, seasonal_order=(0, 1, 1, 12),\n",
              "      suppress_warnings=True, with_intercept=False)"
            ]
          },
          "metadata": {},
          "execution_count": 27
        }
      ]
    },
    {
      "cell_type": "code",
      "source": [
        "future_forecast=step1.predict(n_periods=len(teste))"
      ],
      "metadata": {
        "id": "zS_p1Q-VQEnF"
      },
      "execution_count": null,
      "outputs": []
    },
    {
      "cell_type": "code",
      "source": [
        "future_forecast1 = step2.predict(n_periods=len(teste))"
      ],
      "metadata": {
        "id": "58RHL6tqQKo3"
      },
      "execution_count": null,
      "outputs": []
    },
    {
      "cell_type": "code",
      "source": [
        "plt.figure(figsize=(12,6))\n",
        "plt.title('Comparação da Predição Com os Valores Reais', fontsize=14)\n",
        "plt.plot(teste.index,future_forecast,label='Valor Predito')\n",
        "plt.plot(teste.index,teste['Deaths'].values,label='Real')\n",
        "plt.legend()"
      ],
      "metadata": {
        "colab": {
          "base_uri": "https://localhost:8080/",
          "height": 409
        },
        "id": "zRna4-abQMT4",
        "outputId": "0d9a99c8-39da-45b7-846f-fcaddfbb9fcb"
      },
      "execution_count": null,
      "outputs": [
        {
          "output_type": "execute_result",
          "data": {
            "text/plain": [
              "<matplotlib.legend.Legend at 0x7f7904e999a0>"
            ]
          },
          "metadata": {},
          "execution_count": 30
        },
        {
          "output_type": "display_data",
          "data": {
            "text/plain": [
              "<Figure size 864x432 with 1 Axes>"
            ],
            "image/png": "[encoded data removed]"
          },
          "metadata": {
            "needs_background": "light"
          }
        }
      ]
    },
    {
      "cell_type": "code",
      "source": [
        "mae = mean_absolute_error(teste['Deaths'],future_forecast)\n",
        "mape = mean_absolute_percentage_error(teste['Deaths'],future_forecast)\n",
        "rmse = mean_squared_error(teste['Deaths'],future_forecast)\n",
        "\n",
        "print('MAE:',mae)\n",
        "print('MAPE:',mape)\n",
        "print('RMSE:',np.sqrt(rmse))"
      ],
      "metadata": {
        "colab": {
          "base_uri": "https://localhost:8080/"
        },
        "id": "iaLJZ2GDQSv7",
        "outputId": "85de4e89-d1f1-4453-b4b3-7cfe49760f2f"
      },
      "execution_count": null,
      "outputs": [
        {
          "output_type": "stream",
          "name": "stdout",
          "text": [
            "MAE: 150.6426810326239\n",
            "MAPE: 0.14785710828933224\n",
            "RMSE: 186.0727495059726\n"
          ]
        }
      ]
    },
    {
      "cell_type": "code",
      "source": [
        "plt.figure(figsize=(12,6))\n",
        "plt.title('Comparação da Predição Com os Valores Reais', fontsize=14)\n",
        "plt.plot(teste.index,future_forecast1,label='Valor Predito')\n",
        "plt.plot(teste.index,teste['Deaths'].values,label='Real')\n",
        "plt.legend()"
      ],
      "metadata": {
        "colab": {
          "base_uri": "https://localhost:8080/",
          "height": 409
        },
        "id": "JhXxMpFEQYip",
        "outputId": "05d40730-fb1e-416d-bc58-9156b863bf11"
      },
      "execution_count": null,
      "outputs": [
        {
          "output_type": "execute_result",
          "data": {
            "text/plain": [
              "<matplotlib.legend.Legend at 0x7f7904cfc610>"
            ]
          },
          "metadata": {},
          "execution_count": 32
        },
        {
          "output_type": "display_data",
          "data": {
            "text/plain": [
              "<Figure size 864x432 with 1 Axes>"
            ],
            "image/png": "[encoded data removed]"
          },
          "metadata": {
            "needs_background": "light"
          }
        }
      ]
    },
    {
      "cell_type": "code",
      "source": [
        "mae = mean_absolute_error(teste['Deaths'],future_forecast1)\n",
        "mape = mean_absolute_percentage_error(teste['Deaths'],future_forecast1)\n",
        "rmse = mean_squared_error(teste['Deaths'],future_forecast1)\n",
        "\n",
        "print('MAE:',mae)\n",
        "print('MAPE:',mape)\n",
        "print('RMSE:',np.sqrt(rmse))"
      ],
      "metadata": {
        "colab": {
          "base_uri": "https://localhost:8080/"
        },
        "id": "7IUbG37qQe2t",
        "outputId": "231ebf6c-617f-4707-cbae-12ddfddd064c"
      },
      "execution_count": null,
      "outputs": [
        {
          "output_type": "stream",
          "name": "stdout",
          "text": [
            "MAE: 150.6426810326239\n",
            "MAPE: 0.14785710828933224\n",
            "RMSE: 186.0727495059726\n"
          ]
        }
      ]
    }
  ]
}