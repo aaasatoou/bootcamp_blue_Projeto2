{
  "nbformat": 4,
  "nbformat_minor": 0,
  "metadata": {
    "colab": {
      "provenance": []
    },
    "kernelspec": {
      "name": "python3",
      "display_name": "Python 3"
    },
    "language_info": {
      "name": "python"
    }
  },
  "cells": [
    {
      "cell_type": "code",
      "execution_count": 1,
      "metadata": {
        "colab": {
          "base_uri": "https://localhost:8080/"
        },
        "id": "WnZcaUD6XjX5",
        "outputId": "907b5c93-d58a-43c8-8aa9-6a8d96ce32f5"
      },
      "outputs": [
        {
          "output_type": "stream",
          "name": "stdout",
          "text": [
            "Looking in indexes: https://pypi.org/simple, https://us-python.pkg.dev/colab-wheels/public/simple/\n",
            "Requirement already satisfied: pmdarima in /usr/local/lib/python3.8/dist-packages (2.0.2)\n",
            "Requirement already satisfied: scipy>=1.3.2 in /usr/local/lib/python3.8/dist-packages (from pmdarima) (1.7.3)\n",
            "Requirement already satisfied: numpy>=1.21.2 in /usr/local/lib/python3.8/dist-packages (from pmdarima) (1.21.6)\n",
            "Requirement already satisfied: urllib3 in /usr/local/lib/python3.8/dist-packages (from pmdarima) (1.24.3)\n",
            "Requirement already satisfied: Cython!=0.29.18,!=0.29.31,>=0.29 in /usr/local/lib/python3.8/dist-packages (from pmdarima) (0.29.32)\n",
            "Requirement already satisfied: setuptools!=50.0.0,>=38.6.0 in /usr/local/lib/python3.8/dist-packages (from pmdarima) (57.4.0)\n",
            "Requirement already satisfied: joblib>=0.11 in /usr/local/lib/python3.8/dist-packages (from pmdarima) (1.2.0)\n",
            "Requirement already satisfied: pandas>=0.19 in /usr/local/lib/python3.8/dist-packages (from pmdarima) (1.3.5)\n",
            "Requirement already satisfied: scikit-learn>=0.22 in /usr/local/lib/python3.8/dist-packages (from pmdarima) (1.0.2)\n",
            "Requirement already satisfied: statsmodels>=0.13.2 in /usr/local/lib/python3.8/dist-packages (from pmdarima) (0.13.5)\n",
            "Requirement already satisfied: python-dateutil>=2.7.3 in /usr/local/lib/python3.8/dist-packages (from pandas>=0.19->pmdarima) (2.8.2)\n",
            "Requirement already satisfied: pytz>=2017.3 in /usr/local/lib/python3.8/dist-packages (from pandas>=0.19->pmdarima) (2022.7)\n",
            "Requirement already satisfied: threadpoolctl>=2.0.0 in /usr/local/lib/python3.8/dist-packages (from scikit-learn>=0.22->pmdarima) (3.1.0)\n",
            "Requirement already satisfied: packaging>=21.3 in /usr/local/lib/python3.8/dist-packages (from statsmodels>=0.13.2->pmdarima) (21.3)\n",
            "Requirement already satisfied: patsy>=0.5.2 in /usr/local/lib/python3.8/dist-packages (from statsmodels>=0.13.2->pmdarima) (0.5.3)\n",
            "Requirement already satisfied: pyparsing!=3.0.5,>=2.0.2 in /usr/local/lib/python3.8/dist-packages (from packaging>=21.3->statsmodels>=0.13.2->pmdarima) (3.0.9)\n",
            "Requirement already satisfied: six in /usr/local/lib/python3.8/dist-packages (from patsy>=0.5.2->statsmodels>=0.13.2->pmdarima) (1.15.0)\n"
          ]
        }
      ],
      "source": [
        "# Importando as Blibiotecas\n",
        "import numpy as np\n",
        "import pandas as pd\n",
        "import matplotlib.pyplot as plt\n",
        "import seaborn as sns\n",
        "\n",
        "!pip install pmdarima\n",
        "from pmdarima.arima import auto_arima\n",
        "\n",
        "from sklearn.metrics import mean_absolute_error, mean_squared_error, mean_absolute_percentage_error"
      ]
    },
    {
      "cell_type": "code",
      "source": [
        "url = 'https://raw.githubusercontent.com/aaasatoou/bootcamp_blue_Projeto2/main/Estudo%20COVID%20-%20Insights%20e%20Previs%C3%B5es/dados/Silver/datasets/serie%20temporal%20pais/S%C3%A9ries%20Temporais%20Chile.csv'\n",
        "\n",
        "serie_chi = pd.read_csv(url)\n",
        "serie_chi.drop(['Unnamed: 0','Confirmed','Recovered','Ano'],axis=1,\n",
        "               inplace=True)\n",
        "serie_chi['Date'] = pd.to_datetime(serie_chi['Date'],format='%Y-%m-%d')\n",
        "serie_chi.set_index('Date',inplace=True)\n",
        "serie_chi.head()"
      ],
      "metadata": {
        "colab": {
          "base_uri": "https://localhost:8080/",
          "height": 238
        },
        "id": "p_2qHIvxZvCH",
        "outputId": "eb24d191-81ef-4674-d374-bc634de7c590"
      },
      "execution_count": 3,
      "outputs": [
        {
          "output_type": "execute_result",
          "data": {
            "text/plain": [
              "            Deaths\n",
              "Date              \n",
              "2020-01-22       0\n",
              "2020-01-23       0\n",
              "2020-01-24       0\n",
              "2020-01-25       0\n",
              "2020-01-26       0"
            ],
            "text/html": [
              "\n",
              "  <div id=\"df-ab1c3c9e-038b-43f0-ba50-44620acbd8ed\">\n",
              "    <div class=\"colab-df-container\">\n",
              "      <div>\n",
              "<style scoped>\n",
              "    .dataframe tbody tr th:only-of-type {\n",
              "        vertical-align: middle;\n",
              "    }\n",
              "\n",
              "    .dataframe tbody tr th {\n",
              "        vertical-align: top;\n",
              "    }\n",
              "\n",
              "    .dataframe thead th {\n",
              "        text-align: right;\n",
              "    }\n",
              "</style>\n",
              "<table border=\"1\" class=\"dataframe\">\n",
              "  <thead>\n",
              "    <tr style=\"text-align: right;\">\n",
              "      <th></th>\n",
              "      <th>Deaths</th>\n",
              "    </tr>\n",
              "    <tr>\n",
              "      <th>Date</th>\n",
              "      <th></th>\n",
              "    </tr>\n",
              "  </thead>\n",
              "  <tbody>\n",
              "    <tr>\n",
              "      <th>2020-01-22</th>\n",
              "      <td>0</td>\n",
              "    </tr>\n",
              "    <tr>\n",
              "      <th>2020-01-23</th>\n",
              "      <td>0</td>\n",
              "    </tr>\n",
              "    <tr>\n",
              "      <th>2020-01-24</th>\n",
              "      <td>0</td>\n",
              "    </tr>\n",
              "    <tr>\n",
              "      <th>2020-01-25</th>\n",
              "      <td>0</td>\n",
              "    </tr>\n",
              "    <tr>\n",
              "      <th>2020-01-26</th>\n",
              "      <td>0</td>\n",
              "    </tr>\n",
              "  </tbody>\n",
              "</table>\n",
              "</div>\n",
              "      <button class=\"colab-df-convert\" onclick=\"convertToInteractive('df-ab1c3c9e-038b-43f0-ba50-44620acbd8ed')\"\n",
              "              title=\"Convert this dataframe to an interactive table.\"\n",
              "              style=\"display:none;\">\n",
              "        \n",
              "  <svg xmlns=\"http://www.w3.org/2000/svg\" height=\"24px\"viewBox=\"0 0 24 24\"\n",
              "       width=\"24px\">\n",
              "    <path d=\"M0 0h24v24H0V0z\" fill=\"none\"/>\n",
              "    <path d=\"M18.56 5.44l.94 2.06.94-2.06 2.06-.94-2.06-.94-.94-2.06-.94 2.06-2.06.94zm-11 1L8.5 8.5l.94-2.06 2.06-.94-2.06-.94L8.5 2.5l-.94 2.06-2.06.94zm10 10l.94 2.06.94-2.06 2.06-.94-2.06-.94-.94-2.06-.94 2.06-2.06.94z\"/><path d=\"M17.41 7.96l-1.37-1.37c-.4-.4-.92-.59-1.43-.59-.52 0-1.04.2-1.43.59L10.3 9.45l-7.72 7.72c-.78.78-.78 2.05 0 2.83L4 21.41c.39.39.9.59 1.41.59.51 0 1.02-.2 1.41-.59l7.78-7.78 2.81-2.81c.8-.78.8-2.07 0-2.86zM5.41 20L4 18.59l7.72-7.72 1.47 1.35L5.41 20z\"/>\n",
              "  </svg>\n",
              "      </button>\n",
              "      \n",
              "  <style>\n",
              "    .colab-df-container {\n",
              "      display:flex;\n",
              "      flex-wrap:wrap;\n",
              "      gap: 12px;\n",
              "    }\n",
              "\n",
              "    .colab-df-convert {\n",
              "      background-color: #E8F0FE;\n",
              "      border: none;\n",
              "      border-radius: 50%;\n",
              "      cursor: pointer;\n",
              "      display: none;\n",
              "      fill: #1967D2;\n",
              "      height: 32px;\n",
              "      padding: 0 0 0 0;\n",
              "      width: 32px;\n",
              "    }\n",
              "\n",
              "    .colab-df-convert:hover {\n",
              "      background-color: #E2EBFA;\n",
              "      box-shadow: 0px 1px 2px rgba(60, 64, 67, 0.3), 0px 1px 3px 1px rgba(60, 64, 67, 0.15);\n",
              "      fill: #174EA6;\n",
              "    }\n",
              "\n",
              "    [theme=dark] .colab-df-convert {\n",
              "      background-color: #3B4455;\n",
              "      fill: #D2E3FC;\n",
              "    }\n",
              "\n",
              "    [theme=dark] .colab-df-convert:hover {\n",
              "      background-color: #434B5C;\n",
              "      box-shadow: 0px 1px 3px 1px rgba(0, 0, 0, 0.15);\n",
              "      filter: drop-shadow(0px 1px 2px rgba(0, 0, 0, 0.3));\n",
              "      fill: #FFFFFF;\n",
              "    }\n",
              "  </style>\n",
              "\n",
              "      <script>\n",
              "        const buttonEl =\n",
              "          document.querySelector('#df-ab1c3c9e-038b-43f0-ba50-44620acbd8ed button.colab-df-convert');\n",
              "        buttonEl.style.display =\n",
              "          google.colab.kernel.accessAllowed ? 'block' : 'none';\n",
              "\n",
              "        async function convertToInteractive(key) {\n",
              "          const element = document.querySelector('#df-ab1c3c9e-038b-43f0-ba50-44620acbd8ed');\n",
              "          const dataTable =\n",
              "            await google.colab.kernel.invokeFunction('convertToInteractive',\n",
              "                                                     [key], {});\n",
              "          if (!dataTable) return;\n",
              "\n",
              "          const docLinkHtml = 'Like what you see? Visit the ' +\n",
              "            '<a target=\"_blank\" href=https://colab.research.google.com/notebooks/data_table.ipynb>data table notebook</a>'\n",
              "            + ' to learn more about interactive tables.';\n",
              "          element.innerHTML = '';\n",
              "          dataTable['output_type'] = 'display_data';\n",
              "          await google.colab.output.renderOutput(dataTable, element);\n",
              "          const docLink = document.createElement('div');\n",
              "          docLink.innerHTML = docLinkHtml;\n",
              "          element.appendChild(docLink);\n",
              "        }\n",
              "      </script>\n",
              "    </div>\n",
              "  </div>\n",
              "  "
            ]
          },
          "metadata": {},
          "execution_count": 3
        }
      ]
    },
    {
      "cell_type": "code",
      "source": [
        "# Selecionando apenas os primeiros meses do dataset\n",
        "serie_chi = serie_chi[0:161]"
      ],
      "metadata": {
        "id": "VxvD04R3aZZt"
      },
      "execution_count": 4,
      "outputs": []
    },
    {
      "cell_type": "code",
      "source": [
        "treino = serie_chi[0:131]\n",
        "teste = serie_chi[131:161]"
      ],
      "metadata": {
        "id": "uCZd8rZUamHc"
      },
      "execution_count": 5,
      "outputs": []
    },
    {
      "cell_type": "code",
      "source": [
        "step1 = auto_arima(treino['Deaths'],start_p=1,start_q=1,max_p=6,max_q=6,m=12,start_P=0,seasonal=True,d=1,D=1,trace=True,\n",
        "                    error_action='ignore',suppress_warnings=True,stepwise=False)"
      ],
      "metadata": {
        "colab": {
          "base_uri": "https://localhost:8080/"
        },
        "id": "d4mX5gd6aud_",
        "outputId": "7e7bf7e8-f1db-4fd1-9790-0d23b9a31f84"
      },
      "execution_count": 6,
      "outputs": [
        {
          "output_type": "stream",
          "name": "stdout",
          "text": [
            " ARIMA(0,1,0)(0,1,0)[12]             : AIC=884.436, Time=0.17 sec\n",
            " ARIMA(0,1,0)(0,1,1)[12]             : AIC=868.704, Time=0.42 sec\n",
            " ARIMA(0,1,0)(0,1,2)[12]             : AIC=869.384, Time=1.19 sec\n",
            " ARIMA(0,1,0)(1,1,0)[12]             : AIC=867.711, Time=0.29 sec\n",
            " ARIMA(0,1,0)(1,1,1)[12]             : AIC=869.123, Time=0.54 sec\n",
            " ARIMA(0,1,0)(1,1,2)[12]             : AIC=869.354, Time=2.69 sec\n",
            " ARIMA(0,1,0)(2,1,0)[12]             : AIC=869.563, Time=0.39 sec\n",
            " ARIMA(0,1,0)(2,1,1)[12]             : AIC=870.870, Time=0.89 sec\n",
            " ARIMA(0,1,0)(2,1,2)[12]             : AIC=871.301, Time=1.57 sec\n",
            " ARIMA(0,1,1)(0,1,0)[12]             : AIC=790.971, Time=0.09 sec\n",
            " ARIMA(0,1,1)(0,1,1)[12]             : AIC=791.654, Time=0.29 sec\n",
            " ARIMA(0,1,1)(0,1,2)[12]             : AIC=793.140, Time=0.87 sec\n",
            " ARIMA(0,1,1)(1,1,0)[12]             : AIC=791.271, Time=0.26 sec\n",
            " ARIMA(0,1,1)(1,1,1)[12]             : AIC=790.780, Time=0.55 sec\n",
            " ARIMA(0,1,1)(1,1,2)[12]             : AIC=792.645, Time=2.26 sec\n",
            " ARIMA(0,1,1)(2,1,0)[12]             : AIC=792.258, Time=0.61 sec\n",
            " ARIMA(0,1,1)(2,1,1)[12]             : AIC=792.686, Time=1.76 sec\n",
            " ARIMA(0,1,1)(2,1,2)[12]             : AIC=794.778, Time=1.67 sec\n",
            " ARIMA(0,1,2)(0,1,0)[12]             : AIC=737.083, Time=0.16 sec\n",
            " ARIMA(0,1,2)(0,1,1)[12]             : AIC=736.886, Time=0.54 sec\n",
            " ARIMA(0,1,2)(0,1,2)[12]             : AIC=738.485, Time=1.35 sec\n",
            " ARIMA(0,1,2)(1,1,0)[12]             : AIC=737.299, Time=0.47 sec\n",
            " ARIMA(0,1,2)(1,1,1)[12]             : AIC=739.165, Time=0.89 sec\n",
            " ARIMA(0,1,2)(1,1,2)[12]             : AIC=740.518, Time=2.89 sec\n",
            " ARIMA(0,1,2)(2,1,0)[12]             : AIC=738.903, Time=1.20 sec\n",
            " ARIMA(0,1,2)(2,1,1)[12]             : AIC=740.282, Time=1.55 sec\n",
            " ARIMA(0,1,3)(0,1,0)[12]             : AIC=707.795, Time=0.22 sec\n",
            " ARIMA(0,1,3)(0,1,1)[12]             : AIC=709.783, Time=0.76 sec\n",
            " ARIMA(0,1,3)(0,1,2)[12]             : AIC=711.606, Time=1.45 sec\n",
            " ARIMA(0,1,3)(1,1,0)[12]             : AIC=709.785, Time=0.55 sec\n",
            " ARIMA(0,1,3)(1,1,1)[12]             : AIC=inf, Time=1.54 sec\n",
            " ARIMA(0,1,3)(2,1,0)[12]             : AIC=711.553, Time=1.48 sec\n",
            " ARIMA(0,1,4)(0,1,0)[12]             : AIC=695.932, Time=0.37 sec\n",
            " ARIMA(0,1,4)(0,1,1)[12]             : AIC=696.914, Time=0.79 sec\n",
            " ARIMA(0,1,4)(1,1,0)[12]             : AIC=696.951, Time=0.77 sec\n",
            " ARIMA(0,1,5)(0,1,0)[12]             : AIC=672.037, Time=0.91 sec\n",
            " ARIMA(1,1,0)(0,1,0)[12]             : AIC=648.250, Time=0.07 sec\n",
            " ARIMA(1,1,0)(0,1,1)[12]             : AIC=628.598, Time=0.34 sec\n",
            " ARIMA(1,1,0)(0,1,2)[12]             : AIC=629.077, Time=0.94 sec\n",
            " ARIMA(1,1,0)(1,1,0)[12]             : AIC=637.914, Time=0.31 sec\n",
            " ARIMA(1,1,0)(1,1,1)[12]             : AIC=inf, Time=0.71 sec\n",
            " ARIMA(1,1,0)(1,1,2)[12]             : AIC=inf, Time=2.81 sec\n",
            " ARIMA(1,1,0)(2,1,0)[12]             : AIC=635.233, Time=0.55 sec\n",
            " ARIMA(1,1,0)(2,1,1)[12]             : AIC=inf, Time=4.24 sec\n",
            " ARIMA(1,1,0)(2,1,2)[12]             : AIC=inf, Time=3.32 sec\n",
            " ARIMA(1,1,1)(0,1,0)[12]             : AIC=639.225, Time=0.15 sec\n",
            " ARIMA(1,1,1)(0,1,1)[12]             : AIC=621.120, Time=0.61 sec\n",
            " ARIMA(1,1,1)(0,1,2)[12]             : AIC=620.744, Time=1.83 sec\n",
            " ARIMA(1,1,1)(1,1,0)[12]             : AIC=630.815, Time=0.71 sec\n",
            " ARIMA(1,1,1)(1,1,1)[12]             : AIC=inf, Time=1.64 sec\n",
            " ARIMA(1,1,1)(1,1,2)[12]             : AIC=inf, Time=4.18 sec\n",
            " ARIMA(1,1,1)(2,1,0)[12]             : AIC=626.485, Time=0.83 sec\n",
            " ARIMA(1,1,1)(2,1,1)[12]             : AIC=622.777, Time=2.84 sec\n",
            " ARIMA(1,1,2)(0,1,0)[12]             : AIC=640.140, Time=0.21 sec\n",
            " ARIMA(1,1,2)(0,1,1)[12]             : AIC=622.495, Time=0.78 sec\n",
            " ARIMA(1,1,2)(0,1,2)[12]             : AIC=inf, Time=2.00 sec\n",
            " ARIMA(1,1,2)(1,1,0)[12]             : AIC=632.632, Time=0.62 sec\n",
            " ARIMA(1,1,2)(1,1,1)[12]             : AIC=inf, Time=1.62 sec\n",
            " ARIMA(1,1,2)(2,1,0)[12]             : AIC=627.829, Time=0.85 sec\n",
            " ARIMA(1,1,3)(0,1,0)[12]             : AIC=641.915, Time=0.33 sec\n",
            " ARIMA(1,1,3)(0,1,1)[12]             : AIC=624.491, Time=1.11 sec\n",
            " ARIMA(1,1,3)(1,1,0)[12]             : AIC=634.606, Time=0.78 sec\n",
            " ARIMA(1,1,4)(0,1,0)[12]             : AIC=643.520, Time=0.37 sec\n",
            " ARIMA(2,1,0)(0,1,0)[12]             : AIC=637.888, Time=0.11 sec\n",
            " ARIMA(2,1,0)(0,1,1)[12]             : AIC=620.504, Time=0.48 sec\n",
            " ARIMA(2,1,0)(0,1,2)[12]             : AIC=inf, Time=1.39 sec\n",
            " ARIMA(2,1,0)(1,1,0)[12]             : AIC=inf, Time=0.45 sec\n",
            " ARIMA(2,1,0)(1,1,1)[12]             : AIC=inf, Time=1.13 sec\n",
            " ARIMA(2,1,0)(1,1,2)[12]             : AIC=inf, Time=6.63 sec\n",
            " ARIMA(2,1,0)(2,1,0)[12]             : AIC=inf, Time=0.88 sec\n",
            " ARIMA(2,1,0)(2,1,1)[12]             : AIC=621.618, Time=2.58 sec\n",
            " ARIMA(2,1,1)(0,1,0)[12]             : AIC=639.878, Time=0.20 sec\n",
            " ARIMA(2,1,1)(0,1,1)[12]             : AIC=622.486, Time=0.73 sec\n",
            " ARIMA(2,1,1)(0,1,2)[12]             : AIC=inf, Time=2.35 sec\n",
            " ARIMA(2,1,1)(1,1,0)[12]             : AIC=632.610, Time=0.68 sec\n",
            " ARIMA(2,1,1)(1,1,1)[12]             : AIC=inf, Time=1.63 sec\n",
            " ARIMA(2,1,1)(2,1,0)[12]             : AIC=627.697, Time=1.11 sec\n",
            " ARIMA(2,1,2)(0,1,0)[12]             : AIC=641.875, Time=0.32 sec\n",
            " ARIMA(2,1,2)(0,1,1)[12]             : AIC=624.480, Time=1.24 sec\n",
            " ARIMA(2,1,2)(1,1,0)[12]             : AIC=634.595, Time=1.07 sec\n",
            " ARIMA(2,1,3)(0,1,0)[12]             : AIC=643.824, Time=0.38 sec\n",
            " ARIMA(3,1,0)(0,1,0)[12]             : AIC=639.879, Time=0.18 sec\n",
            " ARIMA(3,1,0)(0,1,1)[12]             : AIC=622.484, Time=0.71 sec\n",
            " ARIMA(3,1,0)(0,1,2)[12]             : AIC=inf, Time=1.93 sec\n",
            " ARIMA(3,1,0)(1,1,0)[12]             : AIC=inf, Time=0.58 sec\n",
            " ARIMA(3,1,0)(1,1,1)[12]             : AIC=inf, Time=1.44 sec\n",
            " ARIMA(3,1,0)(2,1,0)[12]             : AIC=inf, Time=0.95 sec\n",
            " ARIMA(3,1,1)(0,1,0)[12]             : AIC=641.883, Time=0.14 sec\n",
            " ARIMA(3,1,1)(0,1,1)[12]             : AIC=622.911, Time=1.32 sec\n",
            " ARIMA(3,1,1)(1,1,0)[12]             : AIC=634.600, Time=0.91 sec\n",
            " ARIMA(3,1,2)(0,1,0)[12]             : AIC=637.545, Time=0.77 sec\n",
            " ARIMA(4,1,0)(0,1,0)[12]             : AIC=641.869, Time=0.27 sec\n",
            " ARIMA(4,1,0)(0,1,1)[12]             : AIC=624.466, Time=0.70 sec\n",
            " ARIMA(4,1,0)(1,1,0)[12]             : AIC=inf, Time=0.81 sec\n",
            " ARIMA(4,1,1)(0,1,0)[12]             : AIC=643.865, Time=0.38 sec\n",
            " ARIMA(5,1,0)(0,1,0)[12]             : AIC=643.784, Time=0.39 sec\n",
            "\n",
            "Best model:  ARIMA(2,1,0)(0,1,1)[12]          \n",
            "Total fit time: 104.268 seconds\n"
          ]
        }
      ]
    },
    {
      "cell_type": "code",
      "source": [
        "step2 = auto_arima(treino['Deaths'],start_p=1,start_q=1,max_p=6,max_q=6,m=12,start_P=0,seasonal=True,d=1,D=1,trace=True,\n",
        "                    error_action='ignore',suppress_warnings=True,stepwise=True)"
      ],
      "metadata": {
        "colab": {
          "base_uri": "https://localhost:8080/"
        },
        "id": "mJ8mWFxvbTM1",
        "outputId": "122e6220-5c33-4879-fb80-b2a0d6aad240"
      },
      "execution_count": 7,
      "outputs": [
        {
          "output_type": "stream",
          "name": "stdout",
          "text": [
            "Performing stepwise search to minimize aic\n",
            " ARIMA(1,1,1)(0,1,1)[12]             : AIC=621.120, Time=0.60 sec\n",
            " ARIMA(0,1,0)(0,1,0)[12]             : AIC=884.436, Time=0.03 sec\n",
            " ARIMA(1,1,0)(1,1,0)[12]             : AIC=637.914, Time=0.34 sec\n",
            " ARIMA(0,1,1)(0,1,1)[12]             : AIC=791.654, Time=0.28 sec\n",
            " ARIMA(1,1,1)(0,1,0)[12]             : AIC=639.225, Time=0.14 sec\n",
            " ARIMA(1,1,1)(1,1,1)[12]             : AIC=inf, Time=1.55 sec\n",
            " ARIMA(1,1,1)(0,1,2)[12]             : AIC=620.744, Time=1.82 sec\n",
            " ARIMA(1,1,1)(1,1,2)[12]             : AIC=inf, Time=4.22 sec\n",
            " ARIMA(0,1,1)(0,1,2)[12]             : AIC=793.140, Time=0.80 sec\n",
            " ARIMA(1,1,0)(0,1,2)[12]             : AIC=629.077, Time=0.84 sec\n",
            " ARIMA(2,1,1)(0,1,2)[12]             : AIC=inf, Time=2.33 sec\n",
            " ARIMA(1,1,2)(0,1,2)[12]             : AIC=inf, Time=2.07 sec\n",
            " ARIMA(0,1,0)(0,1,2)[12]             : AIC=869.384, Time=0.74 sec\n",
            " ARIMA(0,1,2)(0,1,2)[12]             : AIC=738.485, Time=1.30 sec\n",
            " ARIMA(2,1,0)(0,1,2)[12]             : AIC=inf, Time=1.40 sec\n",
            " ARIMA(2,1,2)(0,1,2)[12]             : AIC=inf, Time=2.71 sec\n",
            " ARIMA(1,1,1)(0,1,2)[12] intercept   : AIC=inf, Time=2.93 sec\n",
            "\n",
            "Best model:  ARIMA(1,1,1)(0,1,2)[12]          \n",
            "Total fit time: 24.124 seconds\n"
          ]
        }
      ]
    },
    {
      "cell_type": "code",
      "source": [
        "step1.fit(treino['Deaths'])"
      ],
      "metadata": {
        "colab": {
          "base_uri": "https://localhost:8080/"
        },
        "id": "dlFKvtAFbhbd",
        "outputId": "2a232fe7-00cd-47e2-f23c-f4ee1069356f"
      },
      "execution_count": 8,
      "outputs": [
        {
          "output_type": "execute_result",
          "data": {
            "text/plain": [
              "ARIMA(order=(2, 1, 0), scoring_args={}, seasonal_order=(0, 1, 1, 12),\n",
              "      suppress_warnings=True, with_intercept=False)"
            ]
          },
          "metadata": {},
          "execution_count": 8
        }
      ]
    },
    {
      "cell_type": "code",
      "source": [
        "step2.fit(treino['Deaths'])"
      ],
      "metadata": {
        "colab": {
          "base_uri": "https://localhost:8080/"
        },
        "id": "BVVxOpy6bnEr",
        "outputId": "07ec3ce9-aeb8-4834-cd3f-7a0b1daf5c45"
      },
      "execution_count": 9,
      "outputs": [
        {
          "output_type": "execute_result",
          "data": {
            "text/plain": [
              "ARIMA(order=(1, 1, 1), scoring_args={}, seasonal_order=(0, 1, 2, 12),\n",
              "      suppress_warnings=True, with_intercept=False)"
            ]
          },
          "metadata": {},
          "execution_count": 9
        }
      ]
    },
    {
      "cell_type": "code",
      "source": [
        "future_forecast=step1.predict(n_periods=len(teste))"
      ],
      "metadata": {
        "id": "10TetzsCbrMz"
      },
      "execution_count": 10,
      "outputs": []
    },
    {
      "cell_type": "code",
      "source": [
        "future_forecast1 = step2.predict(n_periods=len(teste))"
      ],
      "metadata": {
        "id": "GfyQrHn0bwPP"
      },
      "execution_count": 11,
      "outputs": []
    },
    {
      "cell_type": "code",
      "source": [
        "plt.figure(figsize=(18,6))\n",
        "plt.title('Comparação da Predição Com os Valores Reais', fontsize=14)\n",
        "plt.plot(teste.index,future_forecast,label='Valor Predito')\n",
        "plt.plot(teste.index,teste['Deaths'].values,label='Real')\n",
        "plt.legend()"
      ],
      "metadata": {
        "colab": {
          "base_uri": "https://localhost:8080/",
          "height": 409
        },
        "id": "p1frVZg5b1mF",
        "outputId": "5f321067-9c03-4ecf-a6af-5d8ab50bf04d"
      },
      "execution_count": 16,
      "outputs": [
        {
          "output_type": "execute_result",
          "data": {
            "text/plain": [
              "<matplotlib.legend.Legend at 0x7f336a6c4040>"
            ]
          },
          "metadata": {},
          "execution_count": 16
        },
        {
          "output_type": "display_data",
          "data": {
            "text/plain": [
              "<Figure size 1296x432 with 1 Axes>"
            ],
            "image/png": "[encoded data removed]"
          },
          "metadata": {
            "needs_background": "light"
          }
        }
      ]
    },
    {
      "cell_type": "code",
      "source": [
        "mae = mean_absolute_error(teste['Deaths'],future_forecast)\n",
        "mape = mean_absolute_percentage_error(teste['Deaths'],future_forecast)\n",
        "rmse = mean_squared_error(teste['Deaths'],future_forecast)\n",
        "\n",
        "print('MAE:',mae)\n",
        "print('MAPE:',mape)\n",
        "print('RMSE:',np.sqrt(rmse))"
      ],
      "metadata": {
        "colab": {
          "base_uri": "https://localhost:8080/"
        },
        "id": "exx-Fp-zcExo",
        "outputId": "e4fa3bad-948d-4515-975a-e0682d4ceb5e"
      },
      "execution_count": 13,
      "outputs": [
        {
          "output_type": "stream",
          "name": "stdout",
          "text": [
            "MAE: 1289.1529212614373\n",
            "MAPE: 0.321140659651138\n",
            "RMSE: 1540.5914022371237\n"
          ]
        }
      ]
    },
    {
      "cell_type": "code",
      "source": [
        "plt.figure(figsize=(18,6))\n",
        "plt.title('Comparação da Predição Com os Valores Reais', fontsize=14)\n",
        "plt.plot(teste.index,future_forecast1,label='Valor Predito')\n",
        "plt.plot(teste.index,teste['Deaths'].values,label='Real')\n",
        "plt.legend()"
      ],
      "metadata": {
        "colab": {
          "base_uri": "https://localhost:8080/",
          "height": 409
        },
        "id": "KmaazOhqcHWs",
        "outputId": "38fda331-fe93-46c9-c0f9-56774388ae42"
      },
      "execution_count": 15,
      "outputs": [
        {
          "output_type": "execute_result",
          "data": {
            "text/plain": [
              "<matplotlib.legend.Legend at 0x7f336a3a7bb0>"
            ]
          },
          "metadata": {},
          "execution_count": 15
        },
        {
          "output_type": "display_data",
          "data": {
            "text/plain": [
              "<Figure size 1296x432 with 1 Axes>"
            ],
            "image/png": "[encoded data removed]"
          },
          "metadata": {
            "needs_background": "light"
          }
        }
      ]
    },
    {
      "cell_type": "code",
      "source": [
        "mae = mean_absolute_error(teste['Deaths'],future_forecast1)\n",
        "mape = mean_absolute_percentage_error(teste['Deaths'],future_forecast1)\n",
        "rmse = mean_squared_error(teste['Deaths'],future_forecast1)\n",
        "\n",
        "print('MAE:',mae)\n",
        "print('MAPE:',mape)\n",
        "print('RMSE:',np.sqrt(rmse))"
      ],
      "metadata": {
        "colab": {
          "base_uri": "https://localhost:8080/"
        },
        "id": "xNAAuHVKcUr4",
        "outputId": "a72bd938-2bf4-403b-85f3-d491a18dbcc7"
      },
      "execution_count": 17,
      "outputs": [
        {
          "output_type": "stream",
          "name": "stdout",
          "text": [
            "MAE: 1321.3998245039813\n",
            "MAPE: 0.3283350000406008\n",
            "RMSE: 1583.3572161325533\n"
          ]
        }
      ]
    }
  ]
}