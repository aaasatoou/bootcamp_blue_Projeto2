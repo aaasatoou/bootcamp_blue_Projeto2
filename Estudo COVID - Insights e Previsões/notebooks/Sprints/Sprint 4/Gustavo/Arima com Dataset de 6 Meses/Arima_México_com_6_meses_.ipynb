{
  "nbformat": 4,
  "nbformat_minor": 0,
  "metadata": {
    "colab": {
      "provenance": []
    },
    "kernelspec": {
      "name": "python3",
      "display_name": "Python 3"
    },
    "language_info": {
      "name": "python"
    }
  },
  "cells": [
    {
      "cell_type": "code",
      "execution_count": 1,
      "metadata": {
        "colab": {
          "base_uri": "https://localhost:8080/"
        },
        "id": "YrSj8SOFkScj",
        "outputId": "619a5504-1d55-4f64-8283-22208d7cafce"
      },
      "outputs": [
        {
          "output_type": "stream",
          "name": "stdout",
          "text": [
            "Looking in indexes: https://pypi.org/simple, https://us-python.pkg.dev/colab-wheels/public/simple/\n",
            "Requirement already satisfied: pmdarima in /usr/local/lib/python3.8/dist-packages (2.0.2)\n",
            "Requirement already satisfied: statsmodels>=0.13.2 in /usr/local/lib/python3.8/dist-packages (from pmdarima) (0.13.5)\n",
            "Requirement already satisfied: scikit-learn>=0.22 in /usr/local/lib/python3.8/dist-packages (from pmdarima) (1.0.2)\n",
            "Requirement already satisfied: Cython!=0.29.18,!=0.29.31,>=0.29 in /usr/local/lib/python3.8/dist-packages (from pmdarima) (0.29.32)\n",
            "Requirement already satisfied: setuptools!=50.0.0,>=38.6.0 in /usr/local/lib/python3.8/dist-packages (from pmdarima) (57.4.0)\n",
            "Requirement already satisfied: numpy>=1.21.2 in /usr/local/lib/python3.8/dist-packages (from pmdarima) (1.21.6)\n",
            "Requirement already satisfied: pandas>=0.19 in /usr/local/lib/python3.8/dist-packages (from pmdarima) (1.3.5)\n",
            "Requirement already satisfied: urllib3 in /usr/local/lib/python3.8/dist-packages (from pmdarima) (1.24.3)\n",
            "Requirement already satisfied: joblib>=0.11 in /usr/local/lib/python3.8/dist-packages (from pmdarima) (1.2.0)\n",
            "Requirement already satisfied: scipy>=1.3.2 in /usr/local/lib/python3.8/dist-packages (from pmdarima) (1.7.3)\n",
            "Requirement already satisfied: pytz>=2017.3 in /usr/local/lib/python3.8/dist-packages (from pandas>=0.19->pmdarima) (2022.7)\n",
            "Requirement already satisfied: python-dateutil>=2.7.3 in /usr/local/lib/python3.8/dist-packages (from pandas>=0.19->pmdarima) (2.8.2)\n",
            "Requirement already satisfied: threadpoolctl>=2.0.0 in /usr/local/lib/python3.8/dist-packages (from scikit-learn>=0.22->pmdarima) (3.1.0)\n",
            "Requirement already satisfied: patsy>=0.5.2 in /usr/local/lib/python3.8/dist-packages (from statsmodels>=0.13.2->pmdarima) (0.5.3)\n",
            "Requirement already satisfied: packaging>=21.3 in /usr/local/lib/python3.8/dist-packages (from statsmodels>=0.13.2->pmdarima) (21.3)\n",
            "Requirement already satisfied: pyparsing!=3.0.5,>=2.0.2 in /usr/local/lib/python3.8/dist-packages (from packaging>=21.3->statsmodels>=0.13.2->pmdarima) (3.0.9)\n",
            "Requirement already satisfied: six in /usr/local/lib/python3.8/dist-packages (from patsy>=0.5.2->statsmodels>=0.13.2->pmdarima) (1.15.0)\n"
          ]
        }
      ],
      "source": [
        "# Importando as Blibiotecas\n",
        "import numpy as np\n",
        "import pandas as pd\n",
        "import matplotlib.pyplot as plt\n",
        "import seaborn as sns\n",
        "\n",
        "!pip install pmdarima\n",
        "from pmdarima.arima import auto_arima\n",
        "\n",
        "from sklearn.metrics import mean_absolute_error, mean_squared_error, mean_absolute_percentage_error"
      ]
    },
    {
      "cell_type": "code",
      "source": [
        "url = 'https://raw.githubusercontent.com/aaasatoou/bootcamp_blue_Projeto2/main/Estudo%20COVID%20-%20Insights%20e%20Previs%C3%B5es/dados/Silver/datasets/serie%20temporal%20pais/S%C3%A9ries%20Temporais%20M%C3%A9xico.csv'\n",
        "\n",
        "serie_mex = pd.read_csv(url)\n",
        "\n",
        "serie_mex.drop(['Unnamed: 0','Confirmed','Recovered','Ano'],axis=1,\n",
        "               inplace=True)\n",
        "serie_mex['Date'] = pd.to_datetime(serie_mex['Date'],format='%Y-%m-%d')\n",
        "serie_mex.set_index('Date',inplace=True)\n",
        "serie_mex.head()"
      ],
      "metadata": {
        "colab": {
          "base_uri": "https://localhost:8080/",
          "height": 238
        },
        "id": "iGbB3oV_k-1k",
        "outputId": "aa134dd7-865a-4e4f-afaa-8b3a30a0b375"
      },
      "execution_count": 2,
      "outputs": [
        {
          "output_type": "execute_result",
          "data": {
            "text/plain": [
              "            Deaths\n",
              "Date              \n",
              "2020-01-22       0\n",
              "2020-01-23       0\n",
              "2020-01-24       0\n",
              "2020-01-25       0\n",
              "2020-01-26       0"
            ],
            "text/html": [
              "\n",
              "  <div id=\"df-08f160cb-3f32-47b8-9a13-50fe44cf9b51\">\n",
              "    <div class=\"colab-df-container\">\n",
              "      <div>\n",
              "<style scoped>\n",
              "    .dataframe tbody tr th:only-of-type {\n",
              "        vertical-align: middle;\n",
              "    }\n",
              "\n",
              "    .dataframe tbody tr th {\n",
              "        vertical-align: top;\n",
              "    }\n",
              "\n",
              "    .dataframe thead th {\n",
              "        text-align: right;\n",
              "    }\n",
              "</style>\n",
              "<table border=\"1\" class=\"dataframe\">\n",
              "  <thead>\n",
              "    <tr style=\"text-align: right;\">\n",
              "      <th></th>\n",
              "      <th>Deaths</th>\n",
              "    </tr>\n",
              "    <tr>\n",
              "      <th>Date</th>\n",
              "      <th></th>\n",
              "    </tr>\n",
              "  </thead>\n",
              "  <tbody>\n",
              "    <tr>\n",
              "      <th>2020-01-22</th>\n",
              "      <td>0</td>\n",
              "    </tr>\n",
              "    <tr>\n",
              "      <th>2020-01-23</th>\n",
              "      <td>0</td>\n",
              "    </tr>\n",
              "    <tr>\n",
              "      <th>2020-01-24</th>\n",
              "      <td>0</td>\n",
              "    </tr>\n",
              "    <tr>\n",
              "      <th>2020-01-25</th>\n",
              "      <td>0</td>\n",
              "    </tr>\n",
              "    <tr>\n",
              "      <th>2020-01-26</th>\n",
              "      <td>0</td>\n",
              "    </tr>\n",
              "  </tbody>\n",
              "</table>\n",
              "</div>\n",
              "      <button class=\"colab-df-convert\" onclick=\"convertToInteractive('df-08f160cb-3f32-47b8-9a13-50fe44cf9b51')\"\n",
              "              title=\"Convert this dataframe to an interactive table.\"\n",
              "              style=\"display:none;\">\n",
              "        \n",
              "  <svg xmlns=\"http://www.w3.org/2000/svg\" height=\"24px\"viewBox=\"0 0 24 24\"\n",
              "       width=\"24px\">\n",
              "    <path d=\"M0 0h24v24H0V0z\" fill=\"none\"/>\n",
              "    <path d=\"M18.56 5.44l.94 2.06.94-2.06 2.06-.94-2.06-.94-.94-2.06-.94 2.06-2.06.94zm-11 1L8.5 8.5l.94-2.06 2.06-.94-2.06-.94L8.5 2.5l-.94 2.06-2.06.94zm10 10l.94 2.06.94-2.06 2.06-.94-2.06-.94-.94-2.06-.94 2.06-2.06.94z\"/><path d=\"M17.41 7.96l-1.37-1.37c-.4-.4-.92-.59-1.43-.59-.52 0-1.04.2-1.43.59L10.3 9.45l-7.72 7.72c-.78.78-.78 2.05 0 2.83L4 21.41c.39.39.9.59 1.41.59.51 0 1.02-.2 1.41-.59l7.78-7.78 2.81-2.81c.8-.78.8-2.07 0-2.86zM5.41 20L4 18.59l7.72-7.72 1.47 1.35L5.41 20z\"/>\n",
              "  </svg>\n",
              "      </button>\n",
              "      \n",
              "  <style>\n",
              "    .colab-df-container {\n",
              "      display:flex;\n",
              "      flex-wrap:wrap;\n",
              "      gap: 12px;\n",
              "    }\n",
              "\n",
              "    .colab-df-convert {\n",
              "      background-color: #E8F0FE;\n",
              "      border: none;\n",
              "      border-radius: 50%;\n",
              "      cursor: pointer;\n",
              "      display: none;\n",
              "      fill: #1967D2;\n",
              "      height: 32px;\n",
              "      padding: 0 0 0 0;\n",
              "      width: 32px;\n",
              "    }\n",
              "\n",
              "    .colab-df-convert:hover {\n",
              "      background-color: #E2EBFA;\n",
              "      box-shadow: 0px 1px 2px rgba(60, 64, 67, 0.3), 0px 1px 3px 1px rgba(60, 64, 67, 0.15);\n",
              "      fill: #174EA6;\n",
              "    }\n",
              "\n",
              "    [theme=dark] .colab-df-convert {\n",
              "      background-color: #3B4455;\n",
              "      fill: #D2E3FC;\n",
              "    }\n",
              "\n",
              "    [theme=dark] .colab-df-convert:hover {\n",
              "      background-color: #434B5C;\n",
              "      box-shadow: 0px 1px 3px 1px rgba(0, 0, 0, 0.15);\n",
              "      filter: drop-shadow(0px 1px 2px rgba(0, 0, 0, 0.3));\n",
              "      fill: #FFFFFF;\n",
              "    }\n",
              "  </style>\n",
              "\n",
              "      <script>\n",
              "        const buttonEl =\n",
              "          document.querySelector('#df-08f160cb-3f32-47b8-9a13-50fe44cf9b51 button.colab-df-convert');\n",
              "        buttonEl.style.display =\n",
              "          google.colab.kernel.accessAllowed ? 'block' : 'none';\n",
              "\n",
              "        async function convertToInteractive(key) {\n",
              "          const element = document.querySelector('#df-08f160cb-3f32-47b8-9a13-50fe44cf9b51');\n",
              "          const dataTable =\n",
              "            await google.colab.kernel.invokeFunction('convertToInteractive',\n",
              "                                                     [key], {});\n",
              "          if (!dataTable) return;\n",
              "\n",
              "          const docLinkHtml = 'Like what you see? Visit the ' +\n",
              "            '<a target=\"_blank\" href=https://colab.research.google.com/notebooks/data_table.ipynb>data table notebook</a>'\n",
              "            + ' to learn more about interactive tables.';\n",
              "          element.innerHTML = '';\n",
              "          dataTable['output_type'] = 'display_data';\n",
              "          await google.colab.output.renderOutput(dataTable, element);\n",
              "          const docLink = document.createElement('div');\n",
              "          docLink.innerHTML = docLinkHtml;\n",
              "          element.appendChild(docLink);\n",
              "        }\n",
              "      </script>\n",
              "    </div>\n",
              "  </div>\n",
              "  "
            ]
          },
          "metadata": {},
          "execution_count": 2
        }
      ]
    },
    {
      "cell_type": "code",
      "source": [
        "# Selecionando apenas os primeiros meses do dataset\n",
        "serie_chi = serie_mex[0:161]"
      ],
      "metadata": {
        "id": "wIDlr6lLmVwI"
      },
      "execution_count": 3,
      "outputs": []
    },
    {
      "cell_type": "code",
      "source": [
        "treino = serie_mex[0:131]\n",
        "teste = serie_mex[131:161]"
      ],
      "metadata": {
        "id": "J1ZbYD-AmbkG"
      },
      "execution_count": 4,
      "outputs": []
    },
    {
      "cell_type": "code",
      "source": [
        "step1 = auto_arima(treino['Deaths'],start_p=1,start_q=1,max_p=6,max_q=6,m=12,start_P=0,seasonal=True,d=1,D=1,trace=True,\n",
        "                    error_action='ignore',suppress_warnings=True,stepwise=False)"
      ],
      "metadata": {
        "colab": {
          "base_uri": "https://localhost:8080/"
        },
        "id": "9XniMemomhRX",
        "outputId": "e503e799-5004-48da-e604-248caaf32d91"
      },
      "execution_count": 5,
      "outputs": [
        {
          "output_type": "stream",
          "name": "stdout",
          "text": [
            " ARIMA(0,1,0)(0,1,0)[12]             : AIC=1391.975, Time=0.13 sec\n",
            " ARIMA(0,1,0)(0,1,1)[12]             : AIC=1391.686, Time=0.30 sec\n",
            " ARIMA(0,1,0)(0,1,2)[12]             : AIC=1389.486, Time=1.72 sec\n",
            " ARIMA(0,1,0)(1,1,0)[12]             : AIC=1390.592, Time=0.17 sec\n",
            " ARIMA(0,1,0)(1,1,1)[12]             : AIC=1388.119, Time=0.70 sec\n",
            " ARIMA(0,1,0)(1,1,2)[12]             : AIC=inf, Time=1.62 sec\n",
            " ARIMA(0,1,0)(2,1,0)[12]             : AIC=1386.756, Time=0.42 sec\n",
            " ARIMA(0,1,0)(2,1,1)[12]             : AIC=1387.653, Time=1.62 sec\n",
            " ARIMA(0,1,0)(2,1,2)[12]             : AIC=inf, Time=1.70 sec\n",
            " ARIMA(0,1,1)(0,1,0)[12]             : AIC=1346.425, Time=0.10 sec\n",
            " ARIMA(0,1,1)(0,1,1)[12]             : AIC=1348.353, Time=0.30 sec\n",
            " ARIMA(0,1,1)(0,1,2)[12]             : AIC=1349.843, Time=1.36 sec\n",
            " ARIMA(0,1,1)(1,1,0)[12]             : AIC=1348.343, Time=0.25 sec\n",
            " ARIMA(0,1,1)(1,1,1)[12]             : AIC=1349.975, Time=0.83 sec\n",
            " ARIMA(0,1,1)(1,1,2)[12]             : AIC=1350.079, Time=1.57 sec\n",
            " ARIMA(0,1,1)(2,1,0)[12]             : AIC=1349.975, Time=0.66 sec\n",
            " ARIMA(0,1,1)(2,1,1)[12]             : AIC=1350.701, Time=1.38 sec\n",
            " ARIMA(0,1,1)(2,1,2)[12]             : AIC=1351.685, Time=2.47 sec\n",
            " ARIMA(0,1,2)(0,1,0)[12]             : AIC=1337.576, Time=0.20 sec\n",
            " ARIMA(0,1,2)(0,1,1)[12]             : AIC=1329.525, Time=0.56 sec\n",
            " ARIMA(0,1,2)(0,1,2)[12]             : AIC=1328.436, Time=1.52 sec\n",
            " ARIMA(0,1,2)(1,1,0)[12]             : AIC=1328.401, Time=0.34 sec\n",
            " ARIMA(0,1,2)(1,1,1)[12]             : AIC=1329.971, Time=0.90 sec\n",
            " ARIMA(0,1,2)(1,1,2)[12]             : AIC=1329.957, Time=2.03 sec\n",
            " ARIMA(0,1,2)(2,1,0)[12]             : AIC=1329.653, Time=0.96 sec\n",
            " ARIMA(0,1,2)(2,1,1)[12]             : AIC=1331.329, Time=3.57 sec\n",
            " ARIMA(0,1,3)(0,1,0)[12]             : AIC=1337.047, Time=0.27 sec\n",
            " ARIMA(0,1,3)(0,1,1)[12]             : AIC=1331.525, Time=1.01 sec\n",
            " ARIMA(0,1,3)(0,1,2)[12]             : AIC=1330.435, Time=2.21 sec\n",
            " ARIMA(0,1,3)(1,1,0)[12]             : AIC=1330.396, Time=0.50 sec\n",
            " ARIMA(0,1,3)(1,1,1)[12]             : AIC=1331.958, Time=2.03 sec\n",
            " ARIMA(0,1,3)(2,1,0)[12]             : AIC=1331.612, Time=1.63 sec\n",
            " ARIMA(0,1,4)(0,1,0)[12]             : AIC=inf, Time=0.84 sec\n",
            " ARIMA(0,1,4)(0,1,1)[12]             : AIC=1321.656, Time=1.64 sec\n",
            " ARIMA(0,1,4)(1,1,0)[12]             : AIC=1323.367, Time=1.05 sec\n",
            " ARIMA(0,1,5)(0,1,0)[12]             : AIC=inf, Time=1.07 sec\n",
            " ARIMA(1,1,0)(0,1,0)[12]             : AIC=1346.404, Time=0.08 sec\n",
            " ARIMA(1,1,0)(0,1,1)[12]             : AIC=1320.265, Time=0.36 sec\n",
            " ARIMA(1,1,0)(0,1,2)[12]             : AIC=1316.782, Time=1.37 sec\n",
            " ARIMA(1,1,0)(1,1,0)[12]             : AIC=1328.338, Time=0.29 sec\n",
            " ARIMA(1,1,0)(1,1,1)[12]             : AIC=1318.601, Time=0.59 sec\n",
            " ARIMA(1,1,0)(1,1,2)[12]             : AIC=1318.595, Time=1.72 sec\n",
            " ARIMA(1,1,0)(2,1,0)[12]             : AIC=1321.037, Time=0.78 sec\n",
            " ARIMA(1,1,0)(2,1,1)[12]             : AIC=1318.249, Time=2.30 sec\n",
            " ARIMA(1,1,0)(2,1,2)[12]             : AIC=1319.908, Time=2.43 sec\n",
            " ARIMA(1,1,1)(0,1,0)[12]             : AIC=1340.987, Time=0.14 sec\n",
            " ARIMA(1,1,1)(0,1,1)[12]             : AIC=1322.259, Time=1.15 sec\n",
            " ARIMA(1,1,1)(0,1,2)[12]             : AIC=1318.545, Time=2.16 sec\n",
            " ARIMA(1,1,1)(1,1,0)[12]             : AIC=1329.239, Time=0.36 sec\n",
            " ARIMA(1,1,1)(1,1,1)[12]             : AIC=1320.532, Time=1.01 sec\n",
            " ARIMA(1,1,1)(1,1,2)[12]             : AIC=1320.350, Time=2.95 sec\n",
            " ARIMA(1,1,1)(2,1,0)[12]             : AIC=1322.891, Time=0.92 sec\n",
            " ARIMA(1,1,1)(2,1,1)[12]             : AIC=1319.941, Time=3.27 sec\n",
            " ARIMA(1,1,2)(0,1,0)[12]             : AIC=1331.751, Time=0.33 sec\n",
            " ARIMA(1,1,2)(0,1,1)[12]             : AIC=1308.365, Time=1.24 sec\n",
            " ARIMA(1,1,2)(0,1,2)[12]             : AIC=1309.080, Time=4.65 sec\n",
            " ARIMA(1,1,2)(1,1,0)[12]             : AIC=1320.556, Time=1.13 sec\n",
            " ARIMA(1,1,2)(1,1,1)[12]             : AIC=1309.755, Time=2.26 sec\n",
            " ARIMA(1,1,2)(2,1,0)[12]             : AIC=1311.046, Time=2.72 sec\n",
            " ARIMA(1,1,3)(0,1,0)[12]             : AIC=1333.593, Time=0.51 sec\n",
            " ARIMA(1,1,3)(0,1,1)[12]             : AIC=1304.739, Time=1.41 sec\n",
            " ARIMA(1,1,3)(1,1,0)[12]             : AIC=1315.832, Time=0.71 sec\n",
            " ARIMA(1,1,4)(0,1,0)[12]             : AIC=inf, Time=0.62 sec\n",
            " ARIMA(2,1,0)(0,1,0)[12]             : AIC=1343.048, Time=0.12 sec\n",
            " ARIMA(2,1,0)(0,1,1)[12]             : AIC=1322.261, Time=0.98 sec\n",
            " ARIMA(2,1,0)(0,1,2)[12]             : AIC=1318.594, Time=2.09 sec\n",
            " ARIMA(2,1,0)(1,1,0)[12]             : AIC=1329.237, Time=0.37 sec\n",
            " ARIMA(2,1,0)(1,1,1)[12]             : AIC=1320.544, Time=1.08 sec\n",
            " ARIMA(2,1,0)(1,1,2)[12]             : AIC=1320.407, Time=3.85 sec\n",
            " ARIMA(2,1,0)(2,1,0)[12]             : AIC=1322.914, Time=3.18 sec\n",
            " ARIMA(2,1,0)(2,1,1)[12]             : AIC=1320.034, Time=3.47 sec\n",
            " ARIMA(2,1,1)(0,1,0)[12]             : AIC=1350.326, Time=0.39 sec\n",
            " ARIMA(2,1,1)(0,1,1)[12]             : AIC=inf, Time=1.48 sec\n",
            " ARIMA(2,1,1)(0,1,2)[12]             : AIC=1315.380, Time=2.51 sec\n",
            " ARIMA(2,1,1)(1,1,0)[12]             : AIC=1328.242, Time=0.92 sec\n",
            " ARIMA(2,1,1)(1,1,1)[12]             : AIC=1316.721, Time=1.51 sec\n",
            " ARIMA(2,1,1)(2,1,0)[12]             : AIC=1320.752, Time=3.35 sec\n",
            " ARIMA(2,1,2)(0,1,0)[12]             : AIC=1332.134, Time=0.98 sec\n",
            " ARIMA(2,1,2)(0,1,1)[12]             : AIC=1317.838, Time=2.17 sec\n",
            " ARIMA(2,1,2)(1,1,0)[12]             : AIC=1319.552, Time=0.96 sec\n",
            " ARIMA(2,1,3)(0,1,0)[12]             : AIC=1321.973, Time=0.68 sec\n",
            " ARIMA(3,1,0)(0,1,0)[12]             : AIC=1340.614, Time=0.14 sec\n",
            " ARIMA(3,1,0)(0,1,1)[12]             : AIC=1322.507, Time=0.95 sec\n",
            " ARIMA(3,1,0)(0,1,2)[12]             : AIC=1320.245, Time=2.65 sec\n",
            " ARIMA(3,1,0)(1,1,0)[12]             : AIC=1331.004, Time=0.46 sec\n",
            " ARIMA(3,1,0)(1,1,1)[12]             : AIC=1322.171, Time=1.02 sec\n",
            " ARIMA(3,1,0)(2,1,0)[12]             : AIC=1323.962, Time=1.04 sec\n",
            " ARIMA(3,1,1)(0,1,0)[12]             : AIC=1322.464, Time=0.75 sec\n",
            " ARIMA(3,1,1)(0,1,1)[12]             : AIC=1302.494, Time=2.13 sec\n",
            " ARIMA(3,1,1)(1,1,0)[12]             : AIC=1324.737, Time=1.29 sec\n",
            " ARIMA(3,1,2)(0,1,0)[12]             : AIC=inf, Time=0.99 sec\n",
            " ARIMA(4,1,0)(0,1,0)[12]             : AIC=1342.596, Time=0.21 sec\n",
            " ARIMA(4,1,0)(0,1,1)[12]             : AIC=inf, Time=1.14 sec\n",
            " ARIMA(4,1,0)(1,1,0)[12]             : AIC=1323.347, Time=0.76 sec\n",
            " ARIMA(4,1,1)(0,1,0)[12]             : AIC=1337.709, Time=0.54 sec\n",
            " ARIMA(5,1,0)(0,1,0)[12]             : AIC=1344.447, Time=0.23 sec\n",
            "\n",
            "Best model:  ARIMA(3,1,1)(0,1,1)[12]          \n",
            "Total fit time: 121.686 seconds\n"
          ]
        }
      ]
    },
    {
      "cell_type": "code",
      "source": [
        "step2 = auto_arima(treino['Deaths'],start_p=1,start_q=1,max_p=6,max_q=6,m=12,start_P=0,seasonal=True,d=1,D=1,trace=True,\n",
        "                    error_action='ignore',suppress_warnings=True,stepwise=True)"
      ],
      "metadata": {
        "colab": {
          "base_uri": "https://localhost:8080/"
        },
        "id": "IBfNTDpVm0IN",
        "outputId": "bc29cc8c-e488-4a99-85ab-ba83715d2645"
      },
      "execution_count": 6,
      "outputs": [
        {
          "output_type": "stream",
          "name": "stdout",
          "text": [
            "Performing stepwise search to minimize aic\n",
            " ARIMA(1,1,1)(0,1,1)[12]             : AIC=1322.259, Time=1.18 sec\n",
            " ARIMA(0,1,0)(0,1,0)[12]             : AIC=1391.975, Time=0.03 sec\n",
            " ARIMA(1,1,0)(1,1,0)[12]             : AIC=1328.338, Time=0.24 sec\n",
            " ARIMA(0,1,1)(0,1,1)[12]             : AIC=1348.353, Time=0.27 sec\n",
            " ARIMA(1,1,1)(0,1,0)[12]             : AIC=1340.987, Time=0.12 sec\n",
            " ARIMA(1,1,1)(1,1,1)[12]             : AIC=1320.532, Time=0.97 sec\n",
            " ARIMA(1,1,1)(1,1,0)[12]             : AIC=1329.239, Time=0.36 sec\n",
            " ARIMA(1,1,1)(2,1,1)[12]             : AIC=1319.941, Time=3.29 sec\n",
            " ARIMA(1,1,1)(2,1,0)[12]             : AIC=1322.891, Time=0.95 sec\n",
            " ARIMA(1,1,1)(2,1,2)[12]             : AIC=1321.555, Time=4.45 sec\n",
            " ARIMA(1,1,1)(1,1,2)[12]             : AIC=1320.350, Time=2.24 sec\n",
            " ARIMA(0,1,1)(2,1,1)[12]             : AIC=1350.701, Time=1.31 sec\n",
            " ARIMA(1,1,0)(2,1,1)[12]             : AIC=1318.249, Time=2.35 sec\n",
            " ARIMA(1,1,0)(1,1,1)[12]             : AIC=1318.601, Time=0.74 sec\n",
            " ARIMA(1,1,0)(2,1,0)[12]             : AIC=1321.037, Time=0.73 sec\n",
            " ARIMA(1,1,0)(2,1,2)[12]             : AIC=1319.908, Time=2.48 sec\n",
            " ARIMA(1,1,0)(1,1,2)[12]             : AIC=1318.595, Time=1.73 sec\n",
            " ARIMA(0,1,0)(2,1,1)[12]             : AIC=1387.653, Time=1.15 sec\n",
            " ARIMA(2,1,0)(2,1,1)[12]             : AIC=1320.034, Time=3.20 sec\n",
            " ARIMA(2,1,1)(2,1,1)[12]             : AIC=1317.312, Time=2.79 sec\n",
            " ARIMA(2,1,1)(1,1,1)[12]             : AIC=1316.721, Time=1.56 sec\n",
            " ARIMA(2,1,1)(0,1,1)[12]             : AIC=inf, Time=1.47 sec\n",
            " ARIMA(2,1,1)(1,1,0)[12]             : AIC=1328.242, Time=0.94 sec\n",
            " ARIMA(2,1,1)(1,1,2)[12]             : AIC=1317.339, Time=3.72 sec\n",
            " ARIMA(2,1,1)(0,1,0)[12]             : AIC=1350.326, Time=0.38 sec\n",
            " ARIMA(2,1,1)(0,1,2)[12]             : AIC=1315.380, Time=2.51 sec\n",
            " ARIMA(1,1,1)(0,1,2)[12]             : AIC=1318.545, Time=2.18 sec\n",
            " ARIMA(2,1,0)(0,1,2)[12]             : AIC=1318.594, Time=2.08 sec\n",
            " ARIMA(3,1,1)(0,1,2)[12]             : AIC=1316.533, Time=4.14 sec\n",
            " ARIMA(2,1,2)(0,1,2)[12]             : AIC=1315.160, Time=4.40 sec\n",
            " ARIMA(2,1,2)(0,1,1)[12]             : AIC=1317.838, Time=1.42 sec\n",
            " ARIMA(2,1,2)(1,1,2)[12]             : AIC=1317.174, Time=4.77 sec\n",
            " ARIMA(2,1,2)(1,1,1)[12]             : AIC=1315.860, Time=2.36 sec\n",
            " ARIMA(1,1,2)(0,1,2)[12]             : AIC=1309.080, Time=3.19 sec\n",
            " ARIMA(1,1,2)(0,1,1)[12]             : AIC=1308.365, Time=1.22 sec\n",
            " ARIMA(1,1,2)(0,1,0)[12]             : AIC=1331.751, Time=0.36 sec\n",
            " ARIMA(1,1,2)(1,1,1)[12]             : AIC=1309.755, Time=2.31 sec\n",
            " ARIMA(1,1,2)(1,1,0)[12]             : AIC=1320.556, Time=1.10 sec\n",
            " ARIMA(1,1,2)(1,1,2)[12]             : AIC=1312.370, Time=3.82 sec\n",
            " ARIMA(0,1,2)(0,1,1)[12]             : AIC=1329.525, Time=0.52 sec\n",
            " ARIMA(1,1,3)(0,1,1)[12]             : AIC=1304.739, Time=1.37 sec\n",
            " ARIMA(1,1,3)(0,1,0)[12]             : AIC=1333.593, Time=0.51 sec\n",
            " ARIMA(1,1,3)(1,1,1)[12]             : AIC=1303.980, Time=1.83 sec\n",
            " ARIMA(1,1,3)(1,1,0)[12]             : AIC=1315.832, Time=0.73 sec\n",
            " ARIMA(1,1,3)(2,1,1)[12]             : AIC=1304.097, Time=1.97 sec\n",
            " ARIMA(1,1,3)(1,1,2)[12]             : AIC=1304.689, Time=4.06 sec\n",
            " ARIMA(1,1,3)(0,1,2)[12]             : AIC=1302.752, Time=2.10 sec\n",
            " ARIMA(0,1,3)(0,1,2)[12]             : AIC=1330.435, Time=2.74 sec\n",
            " ARIMA(2,1,3)(0,1,2)[12]             : AIC=1295.581, Time=6.55 sec\n",
            " ARIMA(2,1,3)(0,1,1)[12]             : AIC=1294.139, Time=2.52 sec\n",
            " ARIMA(2,1,3)(0,1,0)[12]             : AIC=1321.973, Time=0.71 sec\n",
            " ARIMA(2,1,3)(1,1,1)[12]             : AIC=1295.787, Time=3.51 sec\n",
            " ARIMA(2,1,3)(1,1,0)[12]             : AIC=1304.563, Time=3.68 sec\n",
            " ARIMA(2,1,3)(1,1,2)[12]             : AIC=1297.254, Time=6.58 sec\n",
            " ARIMA(3,1,3)(0,1,1)[12]             : AIC=1301.086, Time=2.38 sec\n",
            " ARIMA(2,1,4)(0,1,1)[12]             : AIC=inf, Time=2.63 sec\n",
            " ARIMA(1,1,4)(0,1,1)[12]             : AIC=1279.499, Time=2.52 sec\n",
            " ARIMA(1,1,4)(0,1,0)[12]             : AIC=inf, Time=0.61 sec\n",
            " ARIMA(1,1,4)(1,1,1)[12]             : AIC=1281.834, Time=2.96 sec\n",
            " ARIMA(1,1,4)(0,1,2)[12]             : AIC=inf, Time=5.12 sec\n",
            " ARIMA(1,1,4)(1,1,0)[12]             : AIC=1289.212, Time=1.95 sec\n",
            " ARIMA(1,1,4)(1,1,2)[12]             : AIC=1283.787, Time=5.94 sec\n",
            " ARIMA(0,1,4)(0,1,1)[12]             : AIC=1321.656, Time=1.63 sec\n",
            " ARIMA(1,1,5)(0,1,1)[12]             : AIC=1276.248, Time=3.45 sec\n",
            " ARIMA(1,1,5)(0,1,0)[12]             : AIC=inf, Time=0.77 sec\n",
            " ARIMA(1,1,5)(1,1,1)[12]             : AIC=inf, Time=3.50 sec\n",
            " ARIMA(1,1,5)(0,1,2)[12]             : AIC=inf, Time=6.64 sec\n",
            " ARIMA(1,1,5)(1,1,0)[12]             : AIC=inf, Time=2.32 sec\n",
            " ARIMA(1,1,5)(1,1,2)[12]             : AIC=inf, Time=7.27 sec\n",
            " ARIMA(0,1,5)(0,1,1)[12]             : AIC=inf, Time=2.89 sec\n",
            " ARIMA(2,1,5)(0,1,1)[12]             : AIC=1283.206, Time=3.67 sec\n",
            " ARIMA(1,1,6)(0,1,1)[12]             : AIC=inf, Time=3.44 sec\n",
            " ARIMA(0,1,6)(0,1,1)[12]             : AIC=inf, Time=2.70 sec\n",
            " ARIMA(2,1,6)(0,1,1)[12]             : AIC=inf, Time=3.90 sec\n",
            " ARIMA(1,1,5)(0,1,1)[12] intercept   : AIC=inf, Time=3.34 sec\n",
            "\n",
            "Best model:  ARIMA(1,1,5)(0,1,1)[12]          \n",
            "Total fit time: 183.669 seconds\n"
          ]
        }
      ]
    },
    {
      "cell_type": "code",
      "source": [
        "step1.fit(treino['Deaths'])"
      ],
      "metadata": {
        "colab": {
          "base_uri": "https://localhost:8080/"
        },
        "id": "mcWGEmehn3cJ",
        "outputId": "32c8de5d-bd02-420c-cf69-d2ad647e43e5"
      },
      "execution_count": 7,
      "outputs": [
        {
          "output_type": "execute_result",
          "data": {
            "text/plain": [
              "ARIMA(order=(3, 1, 1), scoring_args={}, seasonal_order=(0, 1, 1, 12),\n",
              "      suppress_warnings=True, with_intercept=False)"
            ]
          },
          "metadata": {},
          "execution_count": 7
        }
      ]
    },
    {
      "cell_type": "code",
      "source": [
        "step2.fit(treino['Deaths'])"
      ],
      "metadata": {
        "colab": {
          "base_uri": "https://localhost:8080/"
        },
        "id": "wRtmNUaIn7RA",
        "outputId": "ad6942bd-42a1-4c02-8abe-0cddb8e4e30e"
      },
      "execution_count": 8,
      "outputs": [
        {
          "output_type": "execute_result",
          "data": {
            "text/plain": [
              "ARIMA(order=(1, 1, 5), scoring_args={}, seasonal_order=(0, 1, 1, 12),\n",
              "      suppress_warnings=True, with_intercept=False)"
            ]
          },
          "metadata": {},
          "execution_count": 8
        }
      ]
    },
    {
      "cell_type": "code",
      "source": [
        "future_forecast=step1.predict(n_periods=len(teste))"
      ],
      "metadata": {
        "id": "fBdmcNRfn_dp"
      },
      "execution_count": 9,
      "outputs": []
    },
    {
      "cell_type": "code",
      "source": [
        "future_forecast1 = step2.predict(n_periods=len(teste))"
      ],
      "metadata": {
        "id": "yFP8f7QuoDLi"
      },
      "execution_count": 10,
      "outputs": []
    },
    {
      "cell_type": "code",
      "source": [
        "plt.figure(figsize=(18,6))\n",
        "plt.title('Comparação da Predição Com os Valores Reais', fontsize=14)\n",
        "plt.plot(teste.index,future_forecast,label='Valor Predito')\n",
        "plt.plot(teste.index,teste['Deaths'].values,label='Real')\n",
        "plt.legend()"
      ],
      "metadata": {
        "colab": {
          "base_uri": "https://localhost:8080/",
          "height": 409
        },
        "id": "RxWvAwGJoGdl",
        "outputId": "6dd6cdb6-8e31-4025-910b-605082357e98"
      },
      "execution_count": 11,
      "outputs": [
        {
          "output_type": "execute_result",
          "data": {
            "text/plain": [
              "<matplotlib.legend.Legend at 0x7fef4c9b7790>"
            ]
          },
          "metadata": {},
          "execution_count": 11
        },
        {
          "output_type": "display_data",
          "data": {
            "text/plain": [
              "<Figure size 1296x432 with 1 Axes>"
            ],
            "image/png": "[encoded data removed]"
          },
          "metadata": {
            "needs_background": "light"
          }
        }
      ]
    },
    {
      "cell_type": "code",
      "source": [
        "mae = mean_absolute_error(teste['Deaths'],future_forecast)\n",
        "mape = mean_absolute_percentage_error(teste['Deaths'],future_forecast)\n",
        "rmse = mean_squared_error(teste['Deaths'],future_forecast)\n",
        "\n",
        "print('MAE:',mae)\n",
        "print('MAPE:',mape)\n",
        "print('RMSE:',np.sqrt(rmse))"
      ],
      "metadata": {
        "colab": {
          "base_uri": "https://localhost:8080/"
        },
        "id": "BuoRYH_WoTba",
        "outputId": "e90fda25-fbfa-4187-8814-0ea17922beb7"
      },
      "execution_count": 12,
      "outputs": [
        {
          "output_type": "stream",
          "name": "stdout",
          "text": [
            "MAE: 2997.964596865811\n",
            "MAPE: 0.14422425267503902\n",
            "RMSE: 3510.039322925368\n"
          ]
        }
      ]
    },
    {
      "cell_type": "code",
      "source": [
        "plt.figure(figsize=(18,6))\n",
        "plt.title('Comparação da Predição Com os Valores Reais', fontsize=14)\n",
        "plt.plot(teste.index,future_forecast1,label='Valor Predito')\n",
        "plt.plot(teste.index,teste['Deaths'].values,label='Real')\n",
        "plt.legend()"
      ],
      "metadata": {
        "colab": {
          "base_uri": "https://localhost:8080/",
          "height": 409
        },
        "id": "8cm365kxoYlu",
        "outputId": "c4d8f11d-4c65-4423-d85e-2cd760305821"
      },
      "execution_count": 13,
      "outputs": [
        {
          "output_type": "execute_result",
          "data": {
            "text/plain": [
              "<matplotlib.legend.Legend at 0x7fef4cc6b0a0>"
            ]
          },
          "metadata": {},
          "execution_count": 13
        },
        {
          "output_type": "display_data",
          "data": {
            "text/plain": [
              "<Figure size 1296x432 with 1 Axes>"
            ],
            "image/png": "[encoded data removed]"
          },
          "metadata": {
            "needs_background": "light"
          }
        }
      ]
    },
    {
      "cell_type": "code",
      "source": [
        "mae = mean_absolute_error(teste['Deaths'],future_forecast1)\n",
        "mape = mean_absolute_percentage_error(teste['Deaths'],future_forecast1)\n",
        "rmse = mean_squared_error(teste['Deaths'],future_forecast1)\n",
        "\n",
        "print('MAE:',mae)\n",
        "print('MAPE:',mape)\n",
        "print('RMSE:',np.sqrt(rmse))"
      ],
      "metadata": {
        "colab": {
          "base_uri": "https://localhost:8080/"
        },
        "id": "eqWbLua6odUf",
        "outputId": "e0b2b6d3-64b9-482b-fcb5-b67c9c37480c"
      },
      "execution_count": 14,
      "outputs": [
        {
          "output_type": "stream",
          "name": "stdout",
          "text": [
            "MAE: 2232.8040274264918\n",
            "MAPE: 0.10629720736651711\n",
            "RMSE: 2667.0505422324854\n"
          ]
        }
      ]
    }
  ]
}