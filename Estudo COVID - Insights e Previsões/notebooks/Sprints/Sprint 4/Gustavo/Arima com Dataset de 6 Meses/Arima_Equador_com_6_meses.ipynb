{
  "nbformat": 4,
  "nbformat_minor": 0,
  "metadata": {
    "colab": {
      "provenance": []
    },
    "kernelspec": {
      "name": "python3",
      "display_name": "Python 3"
    },
    "language_info": {
      "name": "python"
    }
  },
  "cells": [
    {
      "cell_type": "code",
      "execution_count": null,
      "metadata": {
        "colab": {
          "base_uri": "https://localhost:8080/"
        },
        "id": "9ss8xdiNgmU8",
        "outputId": "6a39e413-e914-4420-ccfa-e88e4265f75c"
      },
      "outputs": [
        {
          "output_type": "stream",
          "name": "stdout",
          "text": [
            "Looking in indexes: https://pypi.org/simple, https://us-python.pkg.dev/colab-wheels/public/simple/\n",
            "Requirement already satisfied: pmdarima in /usr/local/lib/python3.8/dist-packages (2.0.2)\n",
            "Requirement already satisfied: scipy>=1.3.2 in /usr/local/lib/python3.8/dist-packages (from pmdarima) (1.7.3)\n",
            "Requirement already satisfied: numpy>=1.21.2 in /usr/local/lib/python3.8/dist-packages (from pmdarima) (1.21.6)\n",
            "Requirement already satisfied: urllib3 in /usr/local/lib/python3.8/dist-packages (from pmdarima) (1.24.3)\n",
            "Requirement already satisfied: Cython!=0.29.18,!=0.29.31,>=0.29 in /usr/local/lib/python3.8/dist-packages (from pmdarima) (0.29.32)\n",
            "Requirement already satisfied: joblib>=0.11 in /usr/local/lib/python3.8/dist-packages (from pmdarima) (1.2.0)\n",
            "Requirement already satisfied: scikit-learn>=0.22 in /usr/local/lib/python3.8/dist-packages (from pmdarima) (1.0.2)\n",
            "Requirement already satisfied: statsmodels>=0.13.2 in /usr/local/lib/python3.8/dist-packages (from pmdarima) (0.13.5)\n",
            "Requirement already satisfied: pandas>=0.19 in /usr/local/lib/python3.8/dist-packages (from pmdarima) (1.3.5)\n",
            "Requirement already satisfied: setuptools!=50.0.0,>=38.6.0 in /usr/local/lib/python3.8/dist-packages (from pmdarima) (57.4.0)\n",
            "Requirement already satisfied: pytz>=2017.3 in /usr/local/lib/python3.8/dist-packages (from pandas>=0.19->pmdarima) (2022.7)\n",
            "Requirement already satisfied: python-dateutil>=2.7.3 in /usr/local/lib/python3.8/dist-packages (from pandas>=0.19->pmdarima) (2.8.2)\n",
            "Requirement already satisfied: threadpoolctl>=2.0.0 in /usr/local/lib/python3.8/dist-packages (from scikit-learn>=0.22->pmdarima) (3.1.0)\n",
            "Requirement already satisfied: patsy>=0.5.2 in /usr/local/lib/python3.8/dist-packages (from statsmodels>=0.13.2->pmdarima) (0.5.3)\n",
            "Requirement already satisfied: packaging>=21.3 in /usr/local/lib/python3.8/dist-packages (from statsmodels>=0.13.2->pmdarima) (21.3)\n",
            "Requirement already satisfied: pyparsing!=3.0.5,>=2.0.2 in /usr/local/lib/python3.8/dist-packages (from packaging>=21.3->statsmodels>=0.13.2->pmdarima) (3.0.9)\n",
            "Requirement already satisfied: six in /usr/local/lib/python3.8/dist-packages (from patsy>=0.5.2->statsmodels>=0.13.2->pmdarima) (1.15.0)\n"
          ]
        }
      ],
      "source": [
        "# Importando as Blibiotecas\n",
        "import numpy as np\n",
        "import pandas as pd\n",
        "import matplotlib.pyplot as plt\n",
        "import seaborn as sns\n",
        "\n",
        "!pip install pmdarima\n",
        "from pmdarima.arima import auto_arima\n",
        "\n",
        "from sklearn.metrics import mean_absolute_error, mean_squared_error, mean_absolute_percentage_error"
      ]
    },
    {
      "cell_type": "code",
      "source": [
        "url = 'https://raw.githubusercontent.com/aaasatoou/bootcamp_blue_Projeto2/main/Estudo%20COVID%20-%20Insights%20e%20Previs%C3%B5es/dados/Silver/datasets/serie%20temporal%20pais/S%C3%A9ries%20Temporais%20Equador.csv'\n",
        "\n",
        "serie_equ = pd.read_csv(url)\n",
        "serie_equ.drop(['Unnamed: 0','Confirmed','Recovered','Ano'],axis=1,\n",
        "               inplace=True)\n",
        "serie_equ['Date'] = pd.to_datetime(serie_equ['Date'],format='%Y-%m-%d')\n",
        "serie_equ.set_index('Date',inplace=True)\n",
        "serie_equ.head()"
      ],
      "metadata": {
        "colab": {
          "base_uri": "https://localhost:8080/",
          "height": 238
        },
        "id": "edHDTYzhhGkJ",
        "outputId": "bfb08809-29c1-435f-b889-afc2ee25bb18"
      },
      "execution_count": null,
      "outputs": [
        {
          "output_type": "execute_result",
          "data": {
            "text/plain": [
              "            Deaths\n",
              "Date              \n",
              "2020-01-22       0\n",
              "2020-01-23       0\n",
              "2020-01-24       0\n",
              "2020-01-25       0\n",
              "2020-01-26       0"
            ],
            "text/html": [
              "\n",
              "  <div id=\"df-072862ab-4986-40f4-a4fc-7677e0d6602e\">\n",
              "    <div class=\"colab-df-container\">\n",
              "      <div>\n",
              "<style scoped>\n",
              "    .dataframe tbody tr th:only-of-type {\n",
              "        vertical-align: middle;\n",
              "    }\n",
              "\n",
              "    .dataframe tbody tr th {\n",
              "        vertical-align: top;\n",
              "    }\n",
              "\n",
              "    .dataframe thead th {\n",
              "        text-align: right;\n",
              "    }\n",
              "</style>\n",
              "<table border=\"1\" class=\"dataframe\">\n",
              "  <thead>\n",
              "    <tr style=\"text-align: right;\">\n",
              "      <th></th>\n",
              "      <th>Deaths</th>\n",
              "    </tr>\n",
              "    <tr>\n",
              "      <th>Date</th>\n",
              "      <th></th>\n",
              "    </tr>\n",
              "  </thead>\n",
              "  <tbody>\n",
              "    <tr>\n",
              "      <th>2020-01-22</th>\n",
              "      <td>0</td>\n",
              "    </tr>\n",
              "    <tr>\n",
              "      <th>2020-01-23</th>\n",
              "      <td>0</td>\n",
              "    </tr>\n",
              "    <tr>\n",
              "      <th>2020-01-24</th>\n",
              "      <td>0</td>\n",
              "    </tr>\n",
              "    <tr>\n",
              "      <th>2020-01-25</th>\n",
              "      <td>0</td>\n",
              "    </tr>\n",
              "    <tr>\n",
              "      <th>2020-01-26</th>\n",
              "      <td>0</td>\n",
              "    </tr>\n",
              "  </tbody>\n",
              "</table>\n",
              "</div>\n",
              "      <button class=\"colab-df-convert\" onclick=\"convertToInteractive('df-072862ab-4986-40f4-a4fc-7677e0d6602e')\"\n",
              "              title=\"Convert this dataframe to an interactive table.\"\n",
              "              style=\"display:none;\">\n",
              "        \n",
              "  <svg xmlns=\"http://www.w3.org/2000/svg\" height=\"24px\"viewBox=\"0 0 24 24\"\n",
              "       width=\"24px\">\n",
              "    <path d=\"M0 0h24v24H0V0z\" fill=\"none\"/>\n",
              "    <path d=\"M18.56 5.44l.94 2.06.94-2.06 2.06-.94-2.06-.94-.94-2.06-.94 2.06-2.06.94zm-11 1L8.5 8.5l.94-2.06 2.06-.94-2.06-.94L8.5 2.5l-.94 2.06-2.06.94zm10 10l.94 2.06.94-2.06 2.06-.94-2.06-.94-.94-2.06-.94 2.06-2.06.94z\"/><path d=\"M17.41 7.96l-1.37-1.37c-.4-.4-.92-.59-1.43-.59-.52 0-1.04.2-1.43.59L10.3 9.45l-7.72 7.72c-.78.78-.78 2.05 0 2.83L4 21.41c.39.39.9.59 1.41.59.51 0 1.02-.2 1.41-.59l7.78-7.78 2.81-2.81c.8-.78.8-2.07 0-2.86zM5.41 20L4 18.59l7.72-7.72 1.47 1.35L5.41 20z\"/>\n",
              "  </svg>\n",
              "      </button>\n",
              "      \n",
              "  <style>\n",
              "    .colab-df-container {\n",
              "      display:flex;\n",
              "      flex-wrap:wrap;\n",
              "      gap: 12px;\n",
              "    }\n",
              "\n",
              "    .colab-df-convert {\n",
              "      background-color: #E8F0FE;\n",
              "      border: none;\n",
              "      border-radius: 50%;\n",
              "      cursor: pointer;\n",
              "      display: none;\n",
              "      fill: #1967D2;\n",
              "      height: 32px;\n",
              "      padding: 0 0 0 0;\n",
              "      width: 32px;\n",
              "    }\n",
              "\n",
              "    .colab-df-convert:hover {\n",
              "      background-color: #E2EBFA;\n",
              "      box-shadow: 0px 1px 2px rgba(60, 64, 67, 0.3), 0px 1px 3px 1px rgba(60, 64, 67, 0.15);\n",
              "      fill: #174EA6;\n",
              "    }\n",
              "\n",
              "    [theme=dark] .colab-df-convert {\n",
              "      background-color: #3B4455;\n",
              "      fill: #D2E3FC;\n",
              "    }\n",
              "\n",
              "    [theme=dark] .colab-df-convert:hover {\n",
              "      background-color: #434B5C;\n",
              "      box-shadow: 0px 1px 3px 1px rgba(0, 0, 0, 0.15);\n",
              "      filter: drop-shadow(0px 1px 2px rgba(0, 0, 0, 0.3));\n",
              "      fill: #FFFFFF;\n",
              "    }\n",
              "  </style>\n",
              "\n",
              "      <script>\n",
              "        const buttonEl =\n",
              "          document.querySelector('#df-072862ab-4986-40f4-a4fc-7677e0d6602e button.colab-df-convert');\n",
              "        buttonEl.style.display =\n",
              "          google.colab.kernel.accessAllowed ? 'block' : 'none';\n",
              "\n",
              "        async function convertToInteractive(key) {\n",
              "          const element = document.querySelector('#df-072862ab-4986-40f4-a4fc-7677e0d6602e');\n",
              "          const dataTable =\n",
              "            await google.colab.kernel.invokeFunction('convertToInteractive',\n",
              "                                                     [key], {});\n",
              "          if (!dataTable) return;\n",
              "\n",
              "          const docLinkHtml = 'Like what you see? Visit the ' +\n",
              "            '<a target=\"_blank\" href=https://colab.research.google.com/notebooks/data_table.ipynb>data table notebook</a>'\n",
              "            + ' to learn more about interactive tables.';\n",
              "          element.innerHTML = '';\n",
              "          dataTable['output_type'] = 'display_data';\n",
              "          await google.colab.output.renderOutput(dataTable, element);\n",
              "          const docLink = document.createElement('div');\n",
              "          docLink.innerHTML = docLinkHtml;\n",
              "          element.appendChild(docLink);\n",
              "        }\n",
              "      </script>\n",
              "    </div>\n",
              "  </div>\n",
              "  "
            ]
          },
          "metadata": {},
          "execution_count": 2
        }
      ]
    },
    {
      "cell_type": "code",
      "source": [
        "# Selecionando apenas os primeiros meses do dataset\n",
        "serie_equ = serie_equ[0:161]"
      ],
      "metadata": {
        "id": "l4oLLrrvh3rB"
      },
      "execution_count": null,
      "outputs": []
    },
    {
      "cell_type": "code",
      "source": [
        "treino = serie_equ[0:131]\n",
        "teste = serie_equ[131:161]"
      ],
      "metadata": {
        "id": "cD9np27mh95v"
      },
      "execution_count": null,
      "outputs": []
    },
    {
      "cell_type": "code",
      "source": [
        "step1 = auto_arima(treino['Deaths'],start_p=1,start_q=1,max_p=6,max_q=6,m=12,start_P=0,seasonal=True,d=1,D=1,trace=True,\n",
        "                    error_action='ignore',suppress_warnings=True,stepwise=False)"
      ],
      "metadata": {
        "colab": {
          "base_uri": "https://localhost:8080/"
        },
        "id": "3C8fI5T-iGw-",
        "outputId": "f9c5159e-4ef3-4d2a-cb3e-281d9f77d034"
      },
      "execution_count": null,
      "outputs": [
        {
          "output_type": "stream",
          "name": "stdout",
          "text": [
            " ARIMA(0,1,0)(0,1,0)[12]             : AIC=1334.976, Time=0.12 sec\n",
            " ARIMA(0,1,0)(0,1,1)[12]             : AIC=1308.390, Time=0.22 sec\n",
            " ARIMA(0,1,0)(0,1,2)[12]             : AIC=1310.312, Time=2.00 sec\n",
            " ARIMA(0,1,0)(1,1,0)[12]             : AIC=1316.537, Time=0.13 sec\n",
            " ARIMA(0,1,0)(1,1,1)[12]             : AIC=1310.333, Time=0.65 sec\n",
            " ARIMA(0,1,0)(1,1,2)[12]             : AIC=inf, Time=1.88 sec\n",
            " ARIMA(0,1,0)(2,1,0)[12]             : AIC=1309.297, Time=0.40 sec\n",
            " ARIMA(0,1,0)(2,1,1)[12]             : AIC=1311.225, Time=0.90 sec\n",
            " ARIMA(0,1,0)(2,1,2)[12]             : AIC=inf, Time=3.70 sec\n",
            " ARIMA(0,1,1)(0,1,0)[12]             : AIC=1334.778, Time=0.17 sec\n",
            " ARIMA(0,1,1)(0,1,1)[12]             : AIC=1305.763, Time=0.67 sec\n",
            " ARIMA(0,1,1)(0,1,2)[12]             : AIC=1307.745, Time=2.12 sec\n",
            " ARIMA(0,1,1)(1,1,0)[12]             : AIC=1314.219, Time=0.45 sec\n",
            " ARIMA(0,1,1)(1,1,1)[12]             : AIC=1307.750, Time=0.86 sec\n",
            " ARIMA(0,1,1)(1,1,2)[12]             : AIC=1309.741, Time=1.78 sec\n",
            " ARIMA(0,1,1)(2,1,0)[12]             : AIC=1307.066, Time=0.54 sec\n",
            " ARIMA(0,1,1)(2,1,1)[12]             : AIC=1308.880, Time=1.32 sec\n",
            " ARIMA(0,1,1)(2,1,2)[12]             : AIC=1310.803, Time=2.90 sec\n",
            " ARIMA(0,1,2)(0,1,0)[12]             : AIC=1336.564, Time=0.11 sec\n",
            " ARIMA(0,1,2)(0,1,1)[12]             : AIC=1305.387, Time=0.83 sec\n",
            " ARIMA(0,1,2)(0,1,2)[12]             : AIC=1307.385, Time=1.60 sec\n",
            " ARIMA(0,1,2)(1,1,0)[12]             : AIC=1314.555, Time=0.29 sec\n",
            " ARIMA(0,1,2)(1,1,1)[12]             : AIC=1307.386, Time=1.11 sec\n",
            " ARIMA(0,1,2)(1,1,2)[12]             : AIC=inf, Time=2.05 sec\n",
            " ARIMA(0,1,2)(2,1,0)[12]             : AIC=1307.115, Time=0.66 sec\n",
            " ARIMA(0,1,2)(2,1,1)[12]             : AIC=1308.701, Time=3.03 sec\n",
            " ARIMA(0,1,3)(0,1,0)[12]             : AIC=1336.648, Time=0.19 sec\n",
            " ARIMA(0,1,3)(0,1,1)[12]             : AIC=1307.028, Time=0.71 sec\n",
            " ARIMA(0,1,3)(0,1,2)[12]             : AIC=1309.021, Time=1.72 sec\n",
            " ARIMA(0,1,3)(1,1,0)[12]             : AIC=1315.741, Time=0.39 sec\n",
            " ARIMA(0,1,3)(1,1,1)[12]             : AIC=1309.022, Time=1.04 sec\n",
            " ARIMA(0,1,3)(2,1,0)[12]             : AIC=1308.843, Time=0.98 sec\n",
            " ARIMA(0,1,4)(0,1,0)[12]             : AIC=1338.471, Time=0.28 sec\n",
            " ARIMA(0,1,4)(0,1,1)[12]             : AIC=1308.815, Time=0.87 sec\n",
            " ARIMA(0,1,4)(1,1,0)[12]             : AIC=1317.725, Time=0.60 sec\n",
            " ARIMA(0,1,5)(0,1,0)[12]             : AIC=1326.006, Time=0.92 sec\n",
            " ARIMA(1,1,0)(0,1,0)[12]             : AIC=1334.686, Time=0.07 sec\n",
            " ARIMA(1,1,0)(0,1,1)[12]             : AIC=1304.552, Time=0.31 sec\n",
            " ARIMA(1,1,0)(0,1,2)[12]             : AIC=1306.548, Time=0.84 sec\n",
            " ARIMA(1,1,0)(1,1,0)[12]             : AIC=1313.320, Time=0.19 sec\n",
            " ARIMA(1,1,0)(1,1,1)[12]             : AIC=1306.549, Time=0.61 sec\n",
            " ARIMA(1,1,0)(1,1,2)[12]             : AIC=1308.514, Time=1.48 sec\n",
            " ARIMA(1,1,0)(2,1,0)[12]             : AIC=1306.075, Time=0.53 sec\n",
            " ARIMA(1,1,0)(2,1,1)[12]             : AIC=1307.789, Time=1.98 sec\n",
            " ARIMA(1,1,0)(2,1,2)[12]             : AIC=1309.713, Time=2.22 sec\n",
            " ARIMA(1,1,1)(0,1,0)[12]             : AIC=1336.686, Time=0.11 sec\n",
            " ARIMA(1,1,1)(0,1,1)[12]             : AIC=1296.400, Time=0.72 sec\n",
            " ARIMA(1,1,1)(0,1,2)[12]             : AIC=1298.379, Time=2.03 sec\n",
            " ARIMA(1,1,1)(1,1,0)[12]             : AIC=1310.553, Time=0.59 sec\n",
            " ARIMA(1,1,1)(1,1,1)[12]             : AIC=1298.383, Time=1.23 sec\n",
            " ARIMA(1,1,1)(1,1,2)[12]             : AIC=1300.383, Time=4.20 sec\n",
            " ARIMA(1,1,1)(2,1,0)[12]             : AIC=1299.572, Time=1.75 sec\n",
            " ARIMA(1,1,1)(2,1,1)[12]             : AIC=1299.709, Time=3.59 sec\n",
            " ARIMA(1,1,2)(0,1,0)[12]             : AIC=1338.205, Time=0.23 sec\n",
            " ARIMA(1,1,2)(0,1,1)[12]             : AIC=1307.178, Time=1.02 sec\n",
            " ARIMA(1,1,2)(0,1,2)[12]             : AIC=inf, Time=2.90 sec\n",
            " ARIMA(1,1,2)(1,1,0)[12]             : AIC=1316.240, Time=0.46 sec\n",
            " ARIMA(1,1,2)(1,1,1)[12]             : AIC=1309.176, Time=1.27 sec\n",
            " ARIMA(1,1,2)(2,1,0)[12]             : AIC=inf, Time=2.93 sec\n",
            " ARIMA(1,1,3)(0,1,0)[12]             : AIC=1338.630, Time=0.26 sec\n",
            " ARIMA(1,1,3)(0,1,1)[12]             : AIC=1308.515, Time=1.18 sec\n",
            " ARIMA(1,1,3)(1,1,0)[12]             : AIC=inf, Time=1.42 sec\n",
            " ARIMA(1,1,4)(0,1,0)[12]             : AIC=1332.400, Time=0.64 sec\n",
            " ARIMA(2,1,0)(0,1,0)[12]             : AIC=1336.686, Time=0.11 sec\n",
            " ARIMA(2,1,0)(0,1,1)[12]             : AIC=1304.960, Time=0.44 sec\n",
            " ARIMA(2,1,0)(0,1,2)[12]             : AIC=1306.957, Time=1.08 sec\n",
            " ARIMA(2,1,0)(1,1,0)[12]             : AIC=1314.505, Time=0.32 sec\n",
            " ARIMA(2,1,0)(1,1,1)[12]             : AIC=1306.958, Time=1.04 sec\n",
            " ARIMA(2,1,0)(1,1,2)[12]             : AIC=1308.886, Time=1.96 sec\n",
            " ARIMA(2,1,0)(2,1,0)[12]             : AIC=1306.794, Time=0.76 sec\n",
            " ARIMA(2,1,0)(2,1,1)[12]             : AIC=1308.296, Time=3.29 sec\n",
            " ARIMA(2,1,1)(0,1,0)[12]             : AIC=1338.585, Time=0.24 sec\n",
            " ARIMA(2,1,1)(0,1,1)[12]             : AIC=1298.384, Time=0.99 sec\n",
            " ARIMA(2,1,1)(0,1,2)[12]             : AIC=1300.361, Time=1.79 sec\n",
            " ARIMA(2,1,1)(1,1,0)[12]             : AIC=1316.522, Time=0.36 sec\n",
            " ARIMA(2,1,1)(1,1,1)[12]             : AIC=1300.366, Time=1.37 sec\n",
            " ARIMA(2,1,1)(2,1,0)[12]             : AIC=1301.545, Time=2.15 sec\n",
            " ARIMA(2,1,2)(0,1,0)[12]             : AIC=inf, Time=0.77 sec\n",
            " ARIMA(2,1,2)(0,1,1)[12]             : AIC=inf, Time=1.66 sec\n",
            " ARIMA(2,1,2)(1,1,0)[12]             : AIC=inf, Time=1.59 sec\n",
            " ARIMA(2,1,3)(0,1,0)[12]             : AIC=1323.591, Time=0.76 sec\n",
            " ARIMA(3,1,0)(0,1,0)[12]             : AIC=1338.110, Time=0.12 sec\n",
            " ARIMA(3,1,0)(0,1,1)[12]             : AIC=1306.714, Time=0.53 sec\n",
            " ARIMA(3,1,0)(0,1,2)[12]             : AIC=1308.704, Time=1.22 sec\n",
            " ARIMA(3,1,0)(1,1,0)[12]             : AIC=1316.463, Time=0.32 sec\n",
            " ARIMA(3,1,0)(1,1,1)[12]             : AIC=1308.706, Time=1.04 sec\n",
            " ARIMA(3,1,0)(2,1,0)[12]             : AIC=1308.588, Time=0.87 sec\n",
            " ARIMA(3,1,1)(0,1,0)[12]             : AIC=1339.900, Time=0.22 sec\n",
            " ARIMA(3,1,1)(0,1,1)[12]             : AIC=1300.012, Time=1.17 sec\n",
            " ARIMA(3,1,1)(1,1,0)[12]             : AIC=1314.003, Time=1.41 sec\n",
            " ARIMA(3,1,2)(0,1,0)[12]             : AIC=1323.508, Time=0.96 sec\n",
            " ARIMA(4,1,0)(0,1,0)[12]             : AIC=1338.392, Time=0.21 sec\n",
            " ARIMA(4,1,0)(0,1,1)[12]             : AIC=1305.284, Time=0.80 sec\n",
            " ARIMA(4,1,0)(1,1,0)[12]             : AIC=1315.039, Time=0.92 sec\n",
            " ARIMA(4,1,1)(0,1,0)[12]             : AIC=1336.016, Time=0.80 sec\n",
            " ARIMA(5,1,0)(0,1,0)[12]             : AIC=1331.770, Time=0.50 sec\n",
            "\n",
            "Best model:  ARIMA(1,1,1)(0,1,1)[12]          \n",
            "Total fit time: 104.990 seconds\n"
          ]
        }
      ]
    },
    {
      "cell_type": "code",
      "source": [
        "step2 = auto_arima(treino['Deaths'],start_p=1,start_q=1,max_p=6,max_q=6,m=12,start_P=0,seasonal=True,d=1,D=1,trace=True,\n",
        "                    error_action='ignore',suppress_warnings=True,stepwise=True)"
      ],
      "metadata": {
        "colab": {
          "base_uri": "https://localhost:8080/"
        },
        "id": "0ZhWrox-i0O_",
        "outputId": "c281a7f0-c8b9-4e20-e99c-c38d20067e86"
      },
      "execution_count": null,
      "outputs": [
        {
          "output_type": "stream",
          "name": "stdout",
          "text": [
            "Performing stepwise search to minimize aic\n",
            " ARIMA(1,1,1)(0,1,1)[12]             : AIC=1296.400, Time=0.70 sec\n",
            " ARIMA(0,1,0)(0,1,0)[12]             : AIC=1334.976, Time=0.04 sec\n",
            " ARIMA(1,1,0)(1,1,0)[12]             : AIC=1313.320, Time=0.24 sec\n",
            " ARIMA(0,1,1)(0,1,1)[12]             : AIC=1305.763, Time=0.36 sec\n",
            " ARIMA(1,1,1)(0,1,0)[12]             : AIC=1336.686, Time=0.12 sec\n",
            " ARIMA(1,1,1)(1,1,1)[12]             : AIC=1298.383, Time=1.28 sec\n",
            " ARIMA(1,1,1)(0,1,2)[12]             : AIC=1298.379, Time=2.00 sec\n",
            " ARIMA(1,1,1)(1,1,0)[12]             : AIC=1310.553, Time=0.64 sec\n",
            " ARIMA(1,1,1)(1,1,2)[12]             : AIC=1300.383, Time=4.25 sec\n",
            " ARIMA(1,1,0)(0,1,1)[12]             : AIC=1304.552, Time=0.31 sec\n",
            " ARIMA(2,1,1)(0,1,1)[12]             : AIC=1298.384, Time=0.90 sec\n",
            " ARIMA(1,1,2)(0,1,1)[12]             : AIC=1307.178, Time=1.01 sec\n",
            " ARIMA(0,1,0)(0,1,1)[12]             : AIC=1308.390, Time=0.22 sec\n",
            " ARIMA(0,1,2)(0,1,1)[12]             : AIC=1305.387, Time=0.48 sec\n",
            " ARIMA(2,1,0)(0,1,1)[12]             : AIC=1304.960, Time=0.45 sec\n",
            " ARIMA(2,1,2)(0,1,1)[12]             : AIC=inf, Time=1.71 sec\n",
            " ARIMA(1,1,1)(0,1,1)[12] intercept   : AIC=1297.036, Time=0.84 sec\n",
            "\n",
            "Best model:  ARIMA(1,1,1)(0,1,1)[12]          \n",
            "Total fit time: 15.583 seconds\n"
          ]
        }
      ]
    },
    {
      "cell_type": "code",
      "source": [
        "step1.fit(treino['Deaths'])"
      ],
      "metadata": {
        "colab": {
          "base_uri": "https://localhost:8080/"
        },
        "id": "px_ls_sNi_ZY",
        "outputId": "80714c0b-1585-47f9-8036-ad4436aafb21"
      },
      "execution_count": null,
      "outputs": [
        {
          "output_type": "execute_result",
          "data": {
            "text/plain": [
              "ARIMA(order=(1, 1, 1), scoring_args={}, seasonal_order=(0, 1, 1, 12),\n",
              "      suppress_warnings=True, with_intercept=False)"
            ]
          },
          "metadata": {},
          "execution_count": 7
        }
      ]
    },
    {
      "cell_type": "code",
      "source": [
        "step2.fit(treino['Deaths'])"
      ],
      "metadata": {
        "colab": {
          "base_uri": "https://localhost:8080/"
        },
        "id": "TVu5WC2KjEEI",
        "outputId": "040f3a9f-2cd8-4130-f441-609c2456b091"
      },
      "execution_count": null,
      "outputs": [
        {
          "output_type": "execute_result",
          "data": {
            "text/plain": [
              "ARIMA(order=(1, 1, 1), scoring_args={}, seasonal_order=(0, 1, 1, 12),\n",
              "      suppress_warnings=True, with_intercept=False)"
            ]
          },
          "metadata": {},
          "execution_count": 8
        }
      ]
    },
    {
      "cell_type": "code",
      "source": [
        "future_forecast=step1.predict(n_periods=len(teste))"
      ],
      "metadata": {
        "id": "G-kw8vNPjHp5"
      },
      "execution_count": null,
      "outputs": []
    },
    {
      "cell_type": "code",
      "source": [
        "future_forecast1 = step2.predict(n_periods=len(teste))"
      ],
      "metadata": {
        "id": "SXWdnukLjMd9"
      },
      "execution_count": null,
      "outputs": []
    },
    {
      "cell_type": "code",
      "source": [
        "plt.figure(figsize=(18,6))\n",
        "plt.title('Comparação da Predição Com os Valores Reais', fontsize=14)\n",
        "plt.plot(teste.index,future_forecast,label='Valor Predito')\n",
        "plt.plot(teste.index,teste['Deaths'].values,label='Real')\n",
        "plt.legend()"
      ],
      "metadata": {
        "colab": {
          "base_uri": "https://localhost:8080/",
          "height": 409
        },
        "id": "-sLCFZddjOBR",
        "outputId": "3029473b-b582-4827-9740-c60137c34d5d"
      },
      "execution_count": null,
      "outputs": [
        {
          "output_type": "execute_result",
          "data": {
            "text/plain": [
              "<matplotlib.legend.Legend at 0x7f696542fd90>"
            ]
          },
          "metadata": {},
          "execution_count": 11
        },
        {
          "output_type": "display_data",
          "data": {
            "text/plain": [
              "<Figure size 1296x432 with 1 Axes>"
            ],
            "image/png": "[encoded data removed]"
          },
          "metadata": {
            "needs_background": "light"
          }
        }
      ]
    },
    {
      "cell_type": "code",
      "source": [
        "mae = mean_absolute_error(teste['Deaths'],future_forecast)\n",
        "mape = mean_absolute_percentage_error(teste['Deaths'],future_forecast)\n",
        "rmse = mean_squared_error(teste['Deaths'],future_forecast)\n",
        "\n",
        "print('MAE:',mae)\n",
        "print('MAPE:',mape)\n",
        "print('RMSE:',np.sqrt(rmse))"
      ],
      "metadata": {
        "colab": {
          "base_uri": "https://localhost:8080/"
        },
        "id": "yRAa0d9YjTAU",
        "outputId": "b1020b51-d671-472d-fb07-687697b1ea7b"
      },
      "execution_count": null,
      "outputs": [
        {
          "output_type": "stream",
          "name": "stdout",
          "text": [
            "MAE: 169.81329732884709\n",
            "MAPE: 0.04177577044259137\n",
            "RMSE: 186.53570710043093\n"
          ]
        }
      ]
    },
    {
      "cell_type": "code",
      "source": [
        "plt.figure(figsize=(18,6))\n",
        "plt.title('Comparação da Predição Com os Valores Reais', fontsize=14)\n",
        "plt.plot(teste.index,future_forecast1,label='Valor Predito')\n",
        "plt.plot(teste.index,teste['Deaths'].values,label='Real')\n",
        "plt.legend()"
      ],
      "metadata": {
        "colab": {
          "base_uri": "https://localhost:8080/",
          "height": 409
        },
        "id": "O2uYYWHHjYRK",
        "outputId": "49ec8e6e-93d5-461e-f88e-dd49d73f453a"
      },
      "execution_count": null,
      "outputs": [
        {
          "output_type": "execute_result",
          "data": {
            "text/plain": [
              "<matplotlib.legend.Legend at 0x7f6965150f70>"
            ]
          },
          "metadata": {},
          "execution_count": 13
        },
        {
          "output_type": "display_data",
          "data": {
            "text/plain": [
              "<Figure size 1296x432 with 1 Axes>"
            ],
            "image/png": "[encoded data removed]"
          },
          "metadata": {
            "needs_background": "light"
          }
        }
      ]
    },
    {
      "cell_type": "code",
      "source": [
        "mae = mean_absolute_error(teste['Deaths'],future_forecast1)\n",
        "mape = mean_absolute_percentage_error(teste['Deaths'],future_forecast1)\n",
        "rmse = mean_squared_error(teste['Deaths'],future_forecast1)\n",
        "\n",
        "print('MAE:',mae)\n",
        "print('MAPE:',mape)\n",
        "print('RMSE:',np.sqrt(rmse))"
      ],
      "metadata": {
        "id": "ULHjQq4wjgTs",
        "outputId": "c44ad7d0-5c41-4e1c-fa82-85637684b2d6",
        "colab": {
          "base_uri": "https://localhost:8080/"
        }
      },
      "execution_count": null,
      "outputs": [
        {
          "output_type": "stream",
          "name": "stdout",
          "text": [
            "MAE: 169.81329732884709\n",
            "MAPE: 0.04177577044259137\n",
            "RMSE: 186.53570710043093\n"
          ]
        }
      ]
    }
  ]
}