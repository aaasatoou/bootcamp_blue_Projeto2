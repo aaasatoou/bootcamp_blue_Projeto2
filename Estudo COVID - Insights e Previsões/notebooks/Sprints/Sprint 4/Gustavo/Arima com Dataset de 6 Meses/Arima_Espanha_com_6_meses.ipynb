{
  "nbformat": 4,
  "nbformat_minor": 0,
  "metadata": {
    "colab": {
      "provenance": []
    },
    "kernelspec": {
      "name": "python3",
      "display_name": "Python 3"
    },
    "language_info": {
      "name": "python"
    }
  },
  "cells": [
    {
      "cell_type": "code",
      "execution_count": null,
      "metadata": {
        "colab": {
          "base_uri": "https://localhost:8080/"
        },
        "id": "gXyvhjE4R_IS",
        "outputId": "8e62a8d3-146c-4cae-a336-fcb2d42de20d"
      },
      "outputs": [
        {
          "output_type": "stream",
          "name": "stdout",
          "text": [
            "Looking in indexes: https://pypi.org/simple, https://us-python.pkg.dev/colab-wheels/public/simple/\n",
            "Requirement already satisfied: pmdarima in /usr/local/lib/python3.8/dist-packages (2.0.2)\n",
            "Requirement already satisfied: scipy>=1.3.2 in /usr/local/lib/python3.8/dist-packages (from pmdarima) (1.7.3)\n",
            "Requirement already satisfied: statsmodels>=0.13.2 in /usr/local/lib/python3.8/dist-packages (from pmdarima) (0.13.5)\n",
            "Requirement already satisfied: pandas>=0.19 in /usr/local/lib/python3.8/dist-packages (from pmdarima) (1.3.5)\n",
            "Requirement already satisfied: joblib>=0.11 in /usr/local/lib/python3.8/dist-packages (from pmdarima) (1.2.0)\n",
            "Requirement already satisfied: urllib3 in /usr/local/lib/python3.8/dist-packages (from pmdarima) (1.24.3)\n",
            "Requirement already satisfied: setuptools!=50.0.0,>=38.6.0 in /usr/local/lib/python3.8/dist-packages (from pmdarima) (57.4.0)\n",
            "Requirement already satisfied: scikit-learn>=0.22 in /usr/local/lib/python3.8/dist-packages (from pmdarima) (1.0.2)\n",
            "Requirement already satisfied: numpy>=1.21.2 in /usr/local/lib/python3.8/dist-packages (from pmdarima) (1.21.6)\n",
            "Requirement already satisfied: Cython!=0.29.18,!=0.29.31,>=0.29 in /usr/local/lib/python3.8/dist-packages (from pmdarima) (0.29.32)\n",
            "Requirement already satisfied: pytz>=2017.3 in /usr/local/lib/python3.8/dist-packages (from pandas>=0.19->pmdarima) (2022.7)\n",
            "Requirement already satisfied: python-dateutil>=2.7.3 in /usr/local/lib/python3.8/dist-packages (from pandas>=0.19->pmdarima) (2.8.2)\n",
            "Requirement already satisfied: threadpoolctl>=2.0.0 in /usr/local/lib/python3.8/dist-packages (from scikit-learn>=0.22->pmdarima) (3.1.0)\n",
            "Requirement already satisfied: packaging>=21.3 in /usr/local/lib/python3.8/dist-packages (from statsmodels>=0.13.2->pmdarima) (21.3)\n",
            "Requirement already satisfied: patsy>=0.5.2 in /usr/local/lib/python3.8/dist-packages (from statsmodels>=0.13.2->pmdarima) (0.5.3)\n",
            "Requirement already satisfied: pyparsing!=3.0.5,>=2.0.2 in /usr/local/lib/python3.8/dist-packages (from packaging>=21.3->statsmodels>=0.13.2->pmdarima) (3.0.9)\n",
            "Requirement already satisfied: six in /usr/local/lib/python3.8/dist-packages (from patsy>=0.5.2->statsmodels>=0.13.2->pmdarima) (1.15.0)\n"
          ]
        }
      ],
      "source": [
        "# Importando as Blibiotecas\n",
        "import numpy as np\n",
        "import pandas as pd\n",
        "import matplotlib.pyplot as plt\n",
        "import seaborn as sns\n",
        "\n",
        "!pip install pmdarima\n",
        "from pmdarima.arima import auto_arima\n",
        "\n",
        "from sklearn.metrics import mean_absolute_error, mean_squared_error, mean_absolute_percentage_error"
      ]
    },
    {
      "cell_type": "code",
      "source": [
        "url = 'https://raw.githubusercontent.com/aaasatoou/bootcamp_blue_Projeto2/main/Estudo%20COVID%20-%20Insights%20e%20Previs%C3%B5es/dados/Silver/datasets/serie%20temporal%20pais/S%C3%A9ries%20Temporais%20Espanha.csv'\n",
        "\n",
        "serie_esp = pd.read_csv(url)\n",
        "serie_esp.drop(['Unnamed: 0','Confirmed','Recovered','Ano','Mês'],\n",
        "               axis=1,inplace=True)\n",
        "serie_esp['Date'] = pd.to_datetime(serie_esp['Date'],format='%Y-%m-%d')\n",
        "serie_esp.head()"
      ],
      "metadata": {
        "colab": {
          "base_uri": "https://localhost:8080/",
          "height": 206
        },
        "id": "JZGF-W0OSwWR",
        "outputId": "606b8ef3-de37-458b-a7bc-deb6e7b8a112"
      },
      "execution_count": null,
      "outputs": [
        {
          "output_type": "execute_result",
          "data": {
            "text/plain": [
              "        Date  Deaths\n",
              "0 2020-01-22       0\n",
              "1 2020-01-23       0\n",
              "2 2020-01-24       0\n",
              "3 2020-01-25       0\n",
              "4 2020-01-26       0"
            ],
            "text/html": [
              "\n",
              "  <div id=\"df-f0755bf0-daeb-4a62-a675-24003c283970\">\n",
              "    <div class=\"colab-df-container\">\n",
              "      <div>\n",
              "<style scoped>\n",
              "    .dataframe tbody tr th:only-of-type {\n",
              "        vertical-align: middle;\n",
              "    }\n",
              "\n",
              "    .dataframe tbody tr th {\n",
              "        vertical-align: top;\n",
              "    }\n",
              "\n",
              "    .dataframe thead th {\n",
              "        text-align: right;\n",
              "    }\n",
              "</style>\n",
              "<table border=\"1\" class=\"dataframe\">\n",
              "  <thead>\n",
              "    <tr style=\"text-align: right;\">\n",
              "      <th></th>\n",
              "      <th>Date</th>\n",
              "      <th>Deaths</th>\n",
              "    </tr>\n",
              "  </thead>\n",
              "  <tbody>\n",
              "    <tr>\n",
              "      <th>0</th>\n",
              "      <td>2020-01-22</td>\n",
              "      <td>0</td>\n",
              "    </tr>\n",
              "    <tr>\n",
              "      <th>1</th>\n",
              "      <td>2020-01-23</td>\n",
              "      <td>0</td>\n",
              "    </tr>\n",
              "    <tr>\n",
              "      <th>2</th>\n",
              "      <td>2020-01-24</td>\n",
              "      <td>0</td>\n",
              "    </tr>\n",
              "    <tr>\n",
              "      <th>3</th>\n",
              "      <td>2020-01-25</td>\n",
              "      <td>0</td>\n",
              "    </tr>\n",
              "    <tr>\n",
              "      <th>4</th>\n",
              "      <td>2020-01-26</td>\n",
              "      <td>0</td>\n",
              "    </tr>\n",
              "  </tbody>\n",
              "</table>\n",
              "</div>\n",
              "      <button class=\"colab-df-convert\" onclick=\"convertToInteractive('df-f0755bf0-daeb-4a62-a675-24003c283970')\"\n",
              "              title=\"Convert this dataframe to an interactive table.\"\n",
              "              style=\"display:none;\">\n",
              "        \n",
              "  <svg xmlns=\"http://www.w3.org/2000/svg\" height=\"24px\"viewBox=\"0 0 24 24\"\n",
              "       width=\"24px\">\n",
              "    <path d=\"M0 0h24v24H0V0z\" fill=\"none\"/>\n",
              "    <path d=\"M18.56 5.44l.94 2.06.94-2.06 2.06-.94-2.06-.94-.94-2.06-.94 2.06-2.06.94zm-11 1L8.5 8.5l.94-2.06 2.06-.94-2.06-.94L8.5 2.5l-.94 2.06-2.06.94zm10 10l.94 2.06.94-2.06 2.06-.94-2.06-.94-.94-2.06-.94 2.06-2.06.94z\"/><path d=\"M17.41 7.96l-1.37-1.37c-.4-.4-.92-.59-1.43-.59-.52 0-1.04.2-1.43.59L10.3 9.45l-7.72 7.72c-.78.78-.78 2.05 0 2.83L4 21.41c.39.39.9.59 1.41.59.51 0 1.02-.2 1.41-.59l7.78-7.78 2.81-2.81c.8-.78.8-2.07 0-2.86zM5.41 20L4 18.59l7.72-7.72 1.47 1.35L5.41 20z\"/>\n",
              "  </svg>\n",
              "      </button>\n",
              "      \n",
              "  <style>\n",
              "    .colab-df-container {\n",
              "      display:flex;\n",
              "      flex-wrap:wrap;\n",
              "      gap: 12px;\n",
              "    }\n",
              "\n",
              "    .colab-df-convert {\n",
              "      background-color: #E8F0FE;\n",
              "      border: none;\n",
              "      border-radius: 50%;\n",
              "      cursor: pointer;\n",
              "      display: none;\n",
              "      fill: #1967D2;\n",
              "      height: 32px;\n",
              "      padding: 0 0 0 0;\n",
              "      width: 32px;\n",
              "    }\n",
              "\n",
              "    .colab-df-convert:hover {\n",
              "      background-color: #E2EBFA;\n",
              "      box-shadow: 0px 1px 2px rgba(60, 64, 67, 0.3), 0px 1px 3px 1px rgba(60, 64, 67, 0.15);\n",
              "      fill: #174EA6;\n",
              "    }\n",
              "\n",
              "    [theme=dark] .colab-df-convert {\n",
              "      background-color: #3B4455;\n",
              "      fill: #D2E3FC;\n",
              "    }\n",
              "\n",
              "    [theme=dark] .colab-df-convert:hover {\n",
              "      background-color: #434B5C;\n",
              "      box-shadow: 0px 1px 3px 1px rgba(0, 0, 0, 0.15);\n",
              "      filter: drop-shadow(0px 1px 2px rgba(0, 0, 0, 0.3));\n",
              "      fill: #FFFFFF;\n",
              "    }\n",
              "  </style>\n",
              "\n",
              "      <script>\n",
              "        const buttonEl =\n",
              "          document.querySelector('#df-f0755bf0-daeb-4a62-a675-24003c283970 button.colab-df-convert');\n",
              "        buttonEl.style.display =\n",
              "          google.colab.kernel.accessAllowed ? 'block' : 'none';\n",
              "\n",
              "        async function convertToInteractive(key) {\n",
              "          const element = document.querySelector('#df-f0755bf0-daeb-4a62-a675-24003c283970');\n",
              "          const dataTable =\n",
              "            await google.colab.kernel.invokeFunction('convertToInteractive',\n",
              "                                                     [key], {});\n",
              "          if (!dataTable) return;\n",
              "\n",
              "          const docLinkHtml = 'Like what you see? Visit the ' +\n",
              "            '<a target=\"_blank\" href=https://colab.research.google.com/notebooks/data_table.ipynb>data table notebook</a>'\n",
              "            + ' to learn more about interactive tables.';\n",
              "          element.innerHTML = '';\n",
              "          dataTable['output_type'] = 'display_data';\n",
              "          await google.colab.output.renderOutput(dataTable, element);\n",
              "          const docLink = document.createElement('div');\n",
              "          docLink.innerHTML = docLinkHtml;\n",
              "          element.appendChild(docLink);\n",
              "        }\n",
              "      </script>\n",
              "    </div>\n",
              "  </div>\n",
              "  "
            ]
          },
          "metadata": {},
          "execution_count": 3
        }
      ]
    },
    {
      "cell_type": "code",
      "source": [
        "serie_esp.set_index('Date',inplace=True)\n",
        "serie_esp.head()"
      ],
      "metadata": {
        "colab": {
          "base_uri": "https://localhost:8080/",
          "height": 238
        },
        "id": "CppSm1xDUR8F",
        "outputId": "681061ba-c41c-48a0-f6a0-d8ce38eb90f8"
      },
      "execution_count": null,
      "outputs": [
        {
          "output_type": "execute_result",
          "data": {
            "text/plain": [
              "            Deaths\n",
              "Date              \n",
              "2020-01-22       0\n",
              "2020-01-23       0\n",
              "2020-01-24       0\n",
              "2020-01-25       0\n",
              "2020-01-26       0"
            ],
            "text/html": [
              "\n",
              "  <div id=\"df-6e2f414b-57a7-4840-be57-ac59e02b6976\">\n",
              "    <div class=\"colab-df-container\">\n",
              "      <div>\n",
              "<style scoped>\n",
              "    .dataframe tbody tr th:only-of-type {\n",
              "        vertical-align: middle;\n",
              "    }\n",
              "\n",
              "    .dataframe tbody tr th {\n",
              "        vertical-align: top;\n",
              "    }\n",
              "\n",
              "    .dataframe thead th {\n",
              "        text-align: right;\n",
              "    }\n",
              "</style>\n",
              "<table border=\"1\" class=\"dataframe\">\n",
              "  <thead>\n",
              "    <tr style=\"text-align: right;\">\n",
              "      <th></th>\n",
              "      <th>Deaths</th>\n",
              "    </tr>\n",
              "    <tr>\n",
              "      <th>Date</th>\n",
              "      <th></th>\n",
              "    </tr>\n",
              "  </thead>\n",
              "  <tbody>\n",
              "    <tr>\n",
              "      <th>2020-01-22</th>\n",
              "      <td>0</td>\n",
              "    </tr>\n",
              "    <tr>\n",
              "      <th>2020-01-23</th>\n",
              "      <td>0</td>\n",
              "    </tr>\n",
              "    <tr>\n",
              "      <th>2020-01-24</th>\n",
              "      <td>0</td>\n",
              "    </tr>\n",
              "    <tr>\n",
              "      <th>2020-01-25</th>\n",
              "      <td>0</td>\n",
              "    </tr>\n",
              "    <tr>\n",
              "      <th>2020-01-26</th>\n",
              "      <td>0</td>\n",
              "    </tr>\n",
              "  </tbody>\n",
              "</table>\n",
              "</div>\n",
              "      <button class=\"colab-df-convert\" onclick=\"convertToInteractive('df-6e2f414b-57a7-4840-be57-ac59e02b6976')\"\n",
              "              title=\"Convert this dataframe to an interactive table.\"\n",
              "              style=\"display:none;\">\n",
              "        \n",
              "  <svg xmlns=\"http://www.w3.org/2000/svg\" height=\"24px\"viewBox=\"0 0 24 24\"\n",
              "       width=\"24px\">\n",
              "    <path d=\"M0 0h24v24H0V0z\" fill=\"none\"/>\n",
              "    <path d=\"M18.56 5.44l.94 2.06.94-2.06 2.06-.94-2.06-.94-.94-2.06-.94 2.06-2.06.94zm-11 1L8.5 8.5l.94-2.06 2.06-.94-2.06-.94L8.5 2.5l-.94 2.06-2.06.94zm10 10l.94 2.06.94-2.06 2.06-.94-2.06-.94-.94-2.06-.94 2.06-2.06.94z\"/><path d=\"M17.41 7.96l-1.37-1.37c-.4-.4-.92-.59-1.43-.59-.52 0-1.04.2-1.43.59L10.3 9.45l-7.72 7.72c-.78.78-.78 2.05 0 2.83L4 21.41c.39.39.9.59 1.41.59.51 0 1.02-.2 1.41-.59l7.78-7.78 2.81-2.81c.8-.78.8-2.07 0-2.86zM5.41 20L4 18.59l7.72-7.72 1.47 1.35L5.41 20z\"/>\n",
              "  </svg>\n",
              "      </button>\n",
              "      \n",
              "  <style>\n",
              "    .colab-df-container {\n",
              "      display:flex;\n",
              "      flex-wrap:wrap;\n",
              "      gap: 12px;\n",
              "    }\n",
              "\n",
              "    .colab-df-convert {\n",
              "      background-color: #E8F0FE;\n",
              "      border: none;\n",
              "      border-radius: 50%;\n",
              "      cursor: pointer;\n",
              "      display: none;\n",
              "      fill: #1967D2;\n",
              "      height: 32px;\n",
              "      padding: 0 0 0 0;\n",
              "      width: 32px;\n",
              "    }\n",
              "\n",
              "    .colab-df-convert:hover {\n",
              "      background-color: #E2EBFA;\n",
              "      box-shadow: 0px 1px 2px rgba(60, 64, 67, 0.3), 0px 1px 3px 1px rgba(60, 64, 67, 0.15);\n",
              "      fill: #174EA6;\n",
              "    }\n",
              "\n",
              "    [theme=dark] .colab-df-convert {\n",
              "      background-color: #3B4455;\n",
              "      fill: #D2E3FC;\n",
              "    }\n",
              "\n",
              "    [theme=dark] .colab-df-convert:hover {\n",
              "      background-color: #434B5C;\n",
              "      box-shadow: 0px 1px 3px 1px rgba(0, 0, 0, 0.15);\n",
              "      filter: drop-shadow(0px 1px 2px rgba(0, 0, 0, 0.3));\n",
              "      fill: #FFFFFF;\n",
              "    }\n",
              "  </style>\n",
              "\n",
              "      <script>\n",
              "        const buttonEl =\n",
              "          document.querySelector('#df-6e2f414b-57a7-4840-be57-ac59e02b6976 button.colab-df-convert');\n",
              "        buttonEl.style.display =\n",
              "          google.colab.kernel.accessAllowed ? 'block' : 'none';\n",
              "\n",
              "        async function convertToInteractive(key) {\n",
              "          const element = document.querySelector('#df-6e2f414b-57a7-4840-be57-ac59e02b6976');\n",
              "          const dataTable =\n",
              "            await google.colab.kernel.invokeFunction('convertToInteractive',\n",
              "                                                     [key], {});\n",
              "          if (!dataTable) return;\n",
              "\n",
              "          const docLinkHtml = 'Like what you see? Visit the ' +\n",
              "            '<a target=\"_blank\" href=https://colab.research.google.com/notebooks/data_table.ipynb>data table notebook</a>'\n",
              "            + ' to learn more about interactive tables.';\n",
              "          element.innerHTML = '';\n",
              "          dataTable['output_type'] = 'display_data';\n",
              "          await google.colab.output.renderOutput(dataTable, element);\n",
              "          const docLink = document.createElement('div');\n",
              "          docLink.innerHTML = docLinkHtml;\n",
              "          element.appendChild(docLink);\n",
              "        }\n",
              "      </script>\n",
              "    </div>\n",
              "  </div>\n",
              "  "
            ]
          },
          "metadata": {},
          "execution_count": 4
        }
      ]
    },
    {
      "cell_type": "code",
      "source": [
        "# Selecionando apenas os primeiros meses do dataset\n",
        "serie_esp = serie_esp[0:161]"
      ],
      "metadata": {
        "id": "JoCtuwmBUiAQ"
      },
      "execution_count": null,
      "outputs": []
    },
    {
      "cell_type": "code",
      "source": [
        "treino = serie_esp[0:131]\n",
        "treino"
      ],
      "metadata": {
        "colab": {
          "base_uri": "https://localhost:8080/",
          "height": 455
        },
        "id": "vREpqAE7Ut7I",
        "outputId": "f00fd276-07aa-4265-a6c0-eb0f457ea509"
      },
      "execution_count": null,
      "outputs": [
        {
          "output_type": "execute_result",
          "data": {
            "text/plain": [
              "            Deaths\n",
              "Date              \n",
              "2020-01-22       0\n",
              "2020-01-23       0\n",
              "2020-01-24       0\n",
              "2020-01-25       0\n",
              "2020-01-26       0\n",
              "...            ...\n",
              "2020-05-27   27117\n",
              "2020-05-28   27119\n",
              "2020-05-29   27121\n",
              "2020-05-30   27125\n",
              "2020-05-31   27127\n",
              "\n",
              "[131 rows x 1 columns]"
            ],
            "text/html": [
              "\n",
              "  <div id=\"df-0aa3362f-06b9-43ef-b96b-8a20541889bc\">\n",
              "    <div class=\"colab-df-container\">\n",
              "      <div>\n",
              "<style scoped>\n",
              "    .dataframe tbody tr th:only-of-type {\n",
              "        vertical-align: middle;\n",
              "    }\n",
              "\n",
              "    .dataframe tbody tr th {\n",
              "        vertical-align: top;\n",
              "    }\n",
              "\n",
              "    .dataframe thead th {\n",
              "        text-align: right;\n",
              "    }\n",
              "</style>\n",
              "<table border=\"1\" class=\"dataframe\">\n",
              "  <thead>\n",
              "    <tr style=\"text-align: right;\">\n",
              "      <th></th>\n",
              "      <th>Deaths</th>\n",
              "    </tr>\n",
              "    <tr>\n",
              "      <th>Date</th>\n",
              "      <th></th>\n",
              "    </tr>\n",
              "  </thead>\n",
              "  <tbody>\n",
              "    <tr>\n",
              "      <th>2020-01-22</th>\n",
              "      <td>0</td>\n",
              "    </tr>\n",
              "    <tr>\n",
              "      <th>2020-01-23</th>\n",
              "      <td>0</td>\n",
              "    </tr>\n",
              "    <tr>\n",
              "      <th>2020-01-24</th>\n",
              "      <td>0</td>\n",
              "    </tr>\n",
              "    <tr>\n",
              "      <th>2020-01-25</th>\n",
              "      <td>0</td>\n",
              "    </tr>\n",
              "    <tr>\n",
              "      <th>2020-01-26</th>\n",
              "      <td>0</td>\n",
              "    </tr>\n",
              "    <tr>\n",
              "      <th>...</th>\n",
              "      <td>...</td>\n",
              "    </tr>\n",
              "    <tr>\n",
              "      <th>2020-05-27</th>\n",
              "      <td>27117</td>\n",
              "    </tr>\n",
              "    <tr>\n",
              "      <th>2020-05-28</th>\n",
              "      <td>27119</td>\n",
              "    </tr>\n",
              "    <tr>\n",
              "      <th>2020-05-29</th>\n",
              "      <td>27121</td>\n",
              "    </tr>\n",
              "    <tr>\n",
              "      <th>2020-05-30</th>\n",
              "      <td>27125</td>\n",
              "    </tr>\n",
              "    <tr>\n",
              "      <th>2020-05-31</th>\n",
              "      <td>27127</td>\n",
              "    </tr>\n",
              "  </tbody>\n",
              "</table>\n",
              "<p>131 rows × 1 columns</p>\n",
              "</div>\n",
              "      <button class=\"colab-df-convert\" onclick=\"convertToInteractive('df-0aa3362f-06b9-43ef-b96b-8a20541889bc')\"\n",
              "              title=\"Convert this dataframe to an interactive table.\"\n",
              "              style=\"display:none;\">\n",
              "        \n",
              "  <svg xmlns=\"http://www.w3.org/2000/svg\" height=\"24px\"viewBox=\"0 0 24 24\"\n",
              "       width=\"24px\">\n",
              "    <path d=\"M0 0h24v24H0V0z\" fill=\"none\"/>\n",
              "    <path d=\"M18.56 5.44l.94 2.06.94-2.06 2.06-.94-2.06-.94-.94-2.06-.94 2.06-2.06.94zm-11 1L8.5 8.5l.94-2.06 2.06-.94-2.06-.94L8.5 2.5l-.94 2.06-2.06.94zm10 10l.94 2.06.94-2.06 2.06-.94-2.06-.94-.94-2.06-.94 2.06-2.06.94z\"/><path d=\"M17.41 7.96l-1.37-1.37c-.4-.4-.92-.59-1.43-.59-.52 0-1.04.2-1.43.59L10.3 9.45l-7.72 7.72c-.78.78-.78 2.05 0 2.83L4 21.41c.39.39.9.59 1.41.59.51 0 1.02-.2 1.41-.59l7.78-7.78 2.81-2.81c.8-.78.8-2.07 0-2.86zM5.41 20L4 18.59l7.72-7.72 1.47 1.35L5.41 20z\"/>\n",
              "  </svg>\n",
              "      </button>\n",
              "      \n",
              "  <style>\n",
              "    .colab-df-container {\n",
              "      display:flex;\n",
              "      flex-wrap:wrap;\n",
              "      gap: 12px;\n",
              "    }\n",
              "\n",
              "    .colab-df-convert {\n",
              "      background-color: #E8F0FE;\n",
              "      border: none;\n",
              "      border-radius: 50%;\n",
              "      cursor: pointer;\n",
              "      display: none;\n",
              "      fill: #1967D2;\n",
              "      height: 32px;\n",
              "      padding: 0 0 0 0;\n",
              "      width: 32px;\n",
              "    }\n",
              "\n",
              "    .colab-df-convert:hover {\n",
              "      background-color: #E2EBFA;\n",
              "      box-shadow: 0px 1px 2px rgba(60, 64, 67, 0.3), 0px 1px 3px 1px rgba(60, 64, 67, 0.15);\n",
              "      fill: #174EA6;\n",
              "    }\n",
              "\n",
              "    [theme=dark] .colab-df-convert {\n",
              "      background-color: #3B4455;\n",
              "      fill: #D2E3FC;\n",
              "    }\n",
              "\n",
              "    [theme=dark] .colab-df-convert:hover {\n",
              "      background-color: #434B5C;\n",
              "      box-shadow: 0px 1px 3px 1px rgba(0, 0, 0, 0.15);\n",
              "      filter: drop-shadow(0px 1px 2px rgba(0, 0, 0, 0.3));\n",
              "      fill: #FFFFFF;\n",
              "    }\n",
              "  </style>\n",
              "\n",
              "      <script>\n",
              "        const buttonEl =\n",
              "          document.querySelector('#df-0aa3362f-06b9-43ef-b96b-8a20541889bc button.colab-df-convert');\n",
              "        buttonEl.style.display =\n",
              "          google.colab.kernel.accessAllowed ? 'block' : 'none';\n",
              "\n",
              "        async function convertToInteractive(key) {\n",
              "          const element = document.querySelector('#df-0aa3362f-06b9-43ef-b96b-8a20541889bc');\n",
              "          const dataTable =\n",
              "            await google.colab.kernel.invokeFunction('convertToInteractive',\n",
              "                                                     [key], {});\n",
              "          if (!dataTable) return;\n",
              "\n",
              "          const docLinkHtml = 'Like what you see? Visit the ' +\n",
              "            '<a target=\"_blank\" href=https://colab.research.google.com/notebooks/data_table.ipynb>data table notebook</a>'\n",
              "            + ' to learn more about interactive tables.';\n",
              "          element.innerHTML = '';\n",
              "          dataTable['output_type'] = 'display_data';\n",
              "          await google.colab.output.renderOutput(dataTable, element);\n",
              "          const docLink = document.createElement('div');\n",
              "          docLink.innerHTML = docLinkHtml;\n",
              "          element.appendChild(docLink);\n",
              "        }\n",
              "      </script>\n",
              "    </div>\n",
              "  </div>\n",
              "  "
            ]
          },
          "metadata": {},
          "execution_count": 6
        }
      ]
    },
    {
      "cell_type": "code",
      "source": [
        "teste = serie_esp[131:161]\n",
        "teste.head()"
      ],
      "metadata": {
        "colab": {
          "base_uri": "https://localhost:8080/",
          "height": 238
        },
        "id": "v9PCL4p6U1KY",
        "outputId": "6757d216-dc32-43bb-c539-c407a90d1f09"
      },
      "execution_count": null,
      "outputs": [
        {
          "output_type": "execute_result",
          "data": {
            "text/plain": [
              "            Deaths\n",
              "Date              \n",
              "2020-06-01   27127\n",
              "2020-06-02   27127\n",
              "2020-06-03   27128\n",
              "2020-06-04   27133\n",
              "2020-06-05   27134"
            ],
            "text/html": [
              "\n",
              "  <div id=\"df-a6c80eff-31a2-4201-9760-836cd7f2c513\">\n",
              "    <div class=\"colab-df-container\">\n",
              "      <div>\n",
              "<style scoped>\n",
              "    .dataframe tbody tr th:only-of-type {\n",
              "        vertical-align: middle;\n",
              "    }\n",
              "\n",
              "    .dataframe tbody tr th {\n",
              "        vertical-align: top;\n",
              "    }\n",
              "\n",
              "    .dataframe thead th {\n",
              "        text-align: right;\n",
              "    }\n",
              "</style>\n",
              "<table border=\"1\" class=\"dataframe\">\n",
              "  <thead>\n",
              "    <tr style=\"text-align: right;\">\n",
              "      <th></th>\n",
              "      <th>Deaths</th>\n",
              "    </tr>\n",
              "    <tr>\n",
              "      <th>Date</th>\n",
              "      <th></th>\n",
              "    </tr>\n",
              "  </thead>\n",
              "  <tbody>\n",
              "    <tr>\n",
              "      <th>2020-06-01</th>\n",
              "      <td>27127</td>\n",
              "    </tr>\n",
              "    <tr>\n",
              "      <th>2020-06-02</th>\n",
              "      <td>27127</td>\n",
              "    </tr>\n",
              "    <tr>\n",
              "      <th>2020-06-03</th>\n",
              "      <td>27128</td>\n",
              "    </tr>\n",
              "    <tr>\n",
              "      <th>2020-06-04</th>\n",
              "      <td>27133</td>\n",
              "    </tr>\n",
              "    <tr>\n",
              "      <th>2020-06-05</th>\n",
              "      <td>27134</td>\n",
              "    </tr>\n",
              "  </tbody>\n",
              "</table>\n",
              "</div>\n",
              "      <button class=\"colab-df-convert\" onclick=\"convertToInteractive('df-a6c80eff-31a2-4201-9760-836cd7f2c513')\"\n",
              "              title=\"Convert this dataframe to an interactive table.\"\n",
              "              style=\"display:none;\">\n",
              "        \n",
              "  <svg xmlns=\"http://www.w3.org/2000/svg\" height=\"24px\"viewBox=\"0 0 24 24\"\n",
              "       width=\"24px\">\n",
              "    <path d=\"M0 0h24v24H0V0z\" fill=\"none\"/>\n",
              "    <path d=\"M18.56 5.44l.94 2.06.94-2.06 2.06-.94-2.06-.94-.94-2.06-.94 2.06-2.06.94zm-11 1L8.5 8.5l.94-2.06 2.06-.94-2.06-.94L8.5 2.5l-.94 2.06-2.06.94zm10 10l.94 2.06.94-2.06 2.06-.94-2.06-.94-.94-2.06-.94 2.06-2.06.94z\"/><path d=\"M17.41 7.96l-1.37-1.37c-.4-.4-.92-.59-1.43-.59-.52 0-1.04.2-1.43.59L10.3 9.45l-7.72 7.72c-.78.78-.78 2.05 0 2.83L4 21.41c.39.39.9.59 1.41.59.51 0 1.02-.2 1.41-.59l7.78-7.78 2.81-2.81c.8-.78.8-2.07 0-2.86zM5.41 20L4 18.59l7.72-7.72 1.47 1.35L5.41 20z\"/>\n",
              "  </svg>\n",
              "      </button>\n",
              "      \n",
              "  <style>\n",
              "    .colab-df-container {\n",
              "      display:flex;\n",
              "      flex-wrap:wrap;\n",
              "      gap: 12px;\n",
              "    }\n",
              "\n",
              "    .colab-df-convert {\n",
              "      background-color: #E8F0FE;\n",
              "      border: none;\n",
              "      border-radius: 50%;\n",
              "      cursor: pointer;\n",
              "      display: none;\n",
              "      fill: #1967D2;\n",
              "      height: 32px;\n",
              "      padding: 0 0 0 0;\n",
              "      width: 32px;\n",
              "    }\n",
              "\n",
              "    .colab-df-convert:hover {\n",
              "      background-color: #E2EBFA;\n",
              "      box-shadow: 0px 1px 2px rgba(60, 64, 67, 0.3), 0px 1px 3px 1px rgba(60, 64, 67, 0.15);\n",
              "      fill: #174EA6;\n",
              "    }\n",
              "\n",
              "    [theme=dark] .colab-df-convert {\n",
              "      background-color: #3B4455;\n",
              "      fill: #D2E3FC;\n",
              "    }\n",
              "\n",
              "    [theme=dark] .colab-df-convert:hover {\n",
              "      background-color: #434B5C;\n",
              "      box-shadow: 0px 1px 3px 1px rgba(0, 0, 0, 0.15);\n",
              "      filter: drop-shadow(0px 1px 2px rgba(0, 0, 0, 0.3));\n",
              "      fill: #FFFFFF;\n",
              "    }\n",
              "  </style>\n",
              "\n",
              "      <script>\n",
              "        const buttonEl =\n",
              "          document.querySelector('#df-a6c80eff-31a2-4201-9760-836cd7f2c513 button.colab-df-convert');\n",
              "        buttonEl.style.display =\n",
              "          google.colab.kernel.accessAllowed ? 'block' : 'none';\n",
              "\n",
              "        async function convertToInteractive(key) {\n",
              "          const element = document.querySelector('#df-a6c80eff-31a2-4201-9760-836cd7f2c513');\n",
              "          const dataTable =\n",
              "            await google.colab.kernel.invokeFunction('convertToInteractive',\n",
              "                                                     [key], {});\n",
              "          if (!dataTable) return;\n",
              "\n",
              "          const docLinkHtml = 'Like what you see? Visit the ' +\n",
              "            '<a target=\"_blank\" href=https://colab.research.google.com/notebooks/data_table.ipynb>data table notebook</a>'\n",
              "            + ' to learn more about interactive tables.';\n",
              "          element.innerHTML = '';\n",
              "          dataTable['output_type'] = 'display_data';\n",
              "          await google.colab.output.renderOutput(dataTable, element);\n",
              "          const docLink = document.createElement('div');\n",
              "          docLink.innerHTML = docLinkHtml;\n",
              "          element.appendChild(docLink);\n",
              "        }\n",
              "      </script>\n",
              "    </div>\n",
              "  </div>\n",
              "  "
            ]
          },
          "metadata": {},
          "execution_count": 7
        }
      ]
    },
    {
      "cell_type": "code",
      "source": [
        "step1 = auto_arima(treino['Deaths'],start_p=1,start_q=1,max_p=6,max_q=6,m=12,start_P=0,seasonal=True,d=1,D=1,trace=True,\n",
        "                    error_action='ignore',suppress_warnings=True,stepwise=False)"
      ],
      "metadata": {
        "colab": {
          "base_uri": "https://localhost:8080/"
        },
        "id": "XQm2Ml2RU8Y-",
        "outputId": "39967cba-e693-48cb-baa2-a904ecbcb56c"
      },
      "execution_count": null,
      "outputs": [
        {
          "output_type": "stream",
          "name": "stdout",
          "text": [
            " ARIMA(0,1,0)(0,1,0)[12]             : AIC=1709.071, Time=0.11 sec\n",
            " ARIMA(0,1,0)(0,1,1)[12]             : AIC=1711.064, Time=0.20 sec\n",
            " ARIMA(0,1,0)(0,1,2)[12]             : AIC=1711.942, Time=0.84 sec\n",
            " ARIMA(0,1,0)(1,1,0)[12]             : AIC=1711.066, Time=0.15 sec\n",
            " ARIMA(0,1,0)(1,1,1)[12]             : AIC=inf, Time=1.24 sec\n",
            " ARIMA(0,1,0)(1,1,2)[12]             : AIC=inf, Time=2.27 sec\n",
            " ARIMA(0,1,0)(2,1,0)[12]             : AIC=1712.269, Time=0.42 sec\n",
            " ARIMA(0,1,0)(2,1,1)[12]             : AIC=inf, Time=1.86 sec\n",
            " ARIMA(0,1,0)(2,1,2)[12]             : AIC=inf, Time=2.93 sec\n",
            " ARIMA(0,1,1)(0,1,0)[12]             : AIC=1692.904, Time=0.10 sec\n",
            " ARIMA(0,1,1)(0,1,1)[12]             : AIC=1693.735, Time=0.42 sec\n",
            " ARIMA(0,1,1)(0,1,2)[12]             : AIC=1695.735, Time=1.15 sec\n",
            " ARIMA(0,1,1)(1,1,0)[12]             : AIC=1693.697, Time=0.27 sec\n",
            " ARIMA(0,1,1)(1,1,1)[12]             : AIC=1695.320, Time=0.80 sec\n",
            " ARIMA(0,1,1)(1,1,2)[12]             : AIC=inf, Time=4.59 sec\n",
            " ARIMA(0,1,1)(2,1,0)[12]             : AIC=1695.645, Time=0.79 sec\n",
            " ARIMA(0,1,1)(2,1,1)[12]             : AIC=1697.270, Time=1.98 sec\n",
            " ARIMA(0,1,1)(2,1,2)[12]             : AIC=inf, Time=4.39 sec\n",
            " ARIMA(0,1,2)(0,1,0)[12]             : AIC=1674.329, Time=0.16 sec\n",
            " ARIMA(0,1,2)(0,1,1)[12]             : AIC=1671.281, Time=0.66 sec\n",
            " ARIMA(0,1,2)(0,1,2)[12]             : AIC=1672.899, Time=1.31 sec\n",
            " ARIMA(0,1,2)(1,1,0)[12]             : AIC=1670.344, Time=0.38 sec\n",
            " ARIMA(0,1,2)(1,1,1)[12]             : AIC=1671.895, Time=0.96 sec\n",
            " ARIMA(0,1,2)(1,1,2)[12]             : AIC=1673.874, Time=3.46 sec\n",
            " ARIMA(0,1,2)(2,1,0)[12]             : AIC=1672.022, Time=1.01 sec\n",
            " ARIMA(0,1,2)(2,1,1)[12]             : AIC=inf, Time=1.81 sec\n",
            " ARIMA(0,1,3)(0,1,0)[12]             : AIC=1675.103, Time=0.21 sec\n",
            " ARIMA(0,1,3)(0,1,1)[12]             : AIC=1671.724, Time=0.81 sec\n",
            " ARIMA(0,1,3)(0,1,2)[12]             : AIC=1673.384, Time=1.77 sec\n",
            " ARIMA(0,1,3)(1,1,0)[12]             : AIC=1670.830, Time=0.47 sec\n",
            " ARIMA(0,1,3)(1,1,1)[12]             : AIC=1672.551, Time=1.28 sec\n",
            " ARIMA(0,1,3)(2,1,0)[12]             : AIC=1672.630, Time=1.21 sec\n",
            " ARIMA(0,1,4)(0,1,0)[12]             : AIC=1671.044, Time=0.32 sec\n",
            " ARIMA(0,1,4)(0,1,1)[12]             : AIC=1665.813, Time=1.11 sec\n",
            " ARIMA(0,1,4)(1,1,0)[12]             : AIC=1665.045, Time=0.68 sec\n",
            " ARIMA(0,1,5)(0,1,0)[12]             : AIC=1668.963, Time=0.54 sec\n",
            " ARIMA(1,1,0)(0,1,0)[12]             : AIC=1676.813, Time=0.05 sec\n",
            " ARIMA(1,1,0)(0,1,1)[12]             : AIC=1672.394, Time=0.44 sec\n",
            " ARIMA(1,1,0)(0,1,2)[12]             : AIC=1673.246, Time=1.00 sec\n",
            " ARIMA(1,1,0)(1,1,0)[12]             : AIC=1669.627, Time=0.27 sec\n",
            " ARIMA(1,1,0)(1,1,1)[12]             : AIC=1670.349, Time=0.66 sec\n",
            " ARIMA(1,1,0)(1,1,2)[12]             : AIC=1672.273, Time=1.67 sec\n",
            " ARIMA(1,1,0)(2,1,0)[12]             : AIC=1670.495, Time=0.70 sec\n",
            " ARIMA(1,1,0)(2,1,1)[12]             : AIC=1672.321, Time=1.72 sec\n",
            " ARIMA(1,1,0)(2,1,2)[12]             : AIC=inf, Time=2.35 sec\n",
            " ARIMA(1,1,1)(0,1,0)[12]             : AIC=1657.324, Time=0.17 sec\n",
            " ARIMA(1,1,1)(0,1,1)[12]             : AIC=1643.678, Time=0.87 sec\n",
            " ARIMA(1,1,1)(0,1,2)[12]             : AIC=1644.466, Time=2.38 sec\n",
            " ARIMA(1,1,1)(1,1,0)[12]             : AIC=1643.401, Time=0.64 sec\n",
            " ARIMA(1,1,1)(1,1,1)[12]             : AIC=1644.072, Time=1.36 sec\n",
            " ARIMA(1,1,1)(1,1,2)[12]             : AIC=1645.980, Time=2.25 sec\n",
            " ARIMA(1,1,1)(2,1,0)[12]             : AIC=1644.382, Time=1.88 sec\n",
            " ARIMA(1,1,1)(2,1,1)[12]             : AIC=1645.961, Time=3.42 sec\n",
            " ARIMA(1,1,2)(0,1,0)[12]             : AIC=1658.340, Time=0.22 sec\n",
            " ARIMA(1,1,2)(0,1,1)[12]             : AIC=1644.333, Time=1.03 sec\n",
            " ARIMA(1,1,2)(0,1,2)[12]             : AIC=1644.720, Time=2.84 sec\n",
            " ARIMA(1,1,2)(1,1,0)[12]             : AIC=1644.742, Time=0.77 sec\n",
            " ARIMA(1,1,2)(1,1,1)[12]             : AIC=1644.631, Time=1.59 sec\n",
            " ARIMA(1,1,2)(2,1,0)[12]             : AIC=1644.783, Time=2.10 sec\n",
            " ARIMA(1,1,3)(0,1,0)[12]             : AIC=1660.166, Time=0.74 sec\n",
            " ARIMA(1,1,3)(0,1,1)[12]             : AIC=1646.066, Time=2.50 sec\n",
            " ARIMA(1,1,3)(1,1,0)[12]             : AIC=1646.083, Time=1.13 sec\n",
            " ARIMA(1,1,4)(0,1,0)[12]             : AIC=1653.441, Time=0.57 sec\n",
            " ARIMA(2,1,0)(0,1,0)[12]             : AIC=1659.982, Time=0.12 sec\n",
            " ARIMA(2,1,0)(0,1,1)[12]             : AIC=1648.622, Time=0.74 sec\n",
            " ARIMA(2,1,0)(0,1,2)[12]             : AIC=1647.599, Time=1.32 sec\n",
            " ARIMA(2,1,0)(1,1,0)[12]             : AIC=1646.910, Time=0.38 sec\n",
            " ARIMA(2,1,0)(1,1,1)[12]             : AIC=1647.680, Time=0.80 sec\n",
            " ARIMA(2,1,0)(1,1,2)[12]             : AIC=1649.388, Time=1.61 sec\n",
            " ARIMA(2,1,0)(2,1,0)[12]             : AIC=1647.373, Time=0.98 sec\n",
            " ARIMA(2,1,0)(2,1,1)[12]             : AIC=1649.311, Time=2.89 sec\n",
            " ARIMA(2,1,1)(0,1,0)[12]             : AIC=1658.180, Time=0.18 sec\n",
            " ARIMA(2,1,1)(0,1,1)[12]             : AIC=1644.084, Time=1.32 sec\n",
            " ARIMA(2,1,1)(0,1,2)[12]             : AIC=1644.289, Time=3.25 sec\n",
            " ARIMA(2,1,1)(1,1,0)[12]             : AIC=1644.578, Time=0.82 sec\n",
            " ARIMA(2,1,1)(1,1,1)[12]             : AIC=1644.292, Time=1.59 sec\n",
            " ARIMA(2,1,1)(2,1,0)[12]             : AIC=1644.305, Time=2.15 sec\n",
            " ARIMA(2,1,2)(0,1,0)[12]             : AIC=1658.664, Time=0.28 sec\n",
            " ARIMA(2,1,2)(0,1,1)[12]             : AIC=1643.449, Time=1.44 sec\n",
            " ARIMA(2,1,2)(1,1,0)[12]             : AIC=1643.496, Time=1.18 sec\n",
            " ARIMA(2,1,3)(0,1,0)[12]             : AIC=1660.220, Time=0.45 sec\n",
            " ARIMA(3,1,0)(0,1,0)[12]             : AIC=1661.417, Time=0.20 sec\n",
            " ARIMA(3,1,0)(0,1,1)[12]             : AIC=1649.769, Time=0.62 sec\n",
            " ARIMA(3,1,0)(0,1,2)[12]             : AIC=1648.904, Time=1.48 sec\n",
            " ARIMA(3,1,0)(1,1,0)[12]             : AIC=1648.583, Time=0.43 sec\n",
            " ARIMA(3,1,0)(1,1,1)[12]             : AIC=1649.103, Time=0.97 sec\n",
            " ARIMA(3,1,0)(2,1,0)[12]             : AIC=1648.724, Time=0.99 sec\n",
            " ARIMA(3,1,1)(0,1,0)[12]             : AIC=1659.738, Time=0.32 sec\n",
            " ARIMA(3,1,1)(0,1,1)[12]             : AIC=1645.366, Time=1.63 sec\n",
            " ARIMA(3,1,1)(1,1,0)[12]             : AIC=1645.701, Time=1.17 sec\n",
            " ARIMA(3,1,2)(0,1,0)[12]             : AIC=1660.442, Time=0.62 sec\n",
            " ARIMA(4,1,0)(0,1,0)[12]             : AIC=1657.680, Time=0.23 sec\n",
            " ARIMA(4,1,0)(0,1,1)[12]             : AIC=1642.969, Time=0.88 sec\n",
            " ARIMA(4,1,0)(1,1,0)[12]             : AIC=1641.744, Time=0.66 sec\n",
            " ARIMA(4,1,1)(0,1,0)[12]             : AIC=1658.012, Time=0.42 sec\n",
            " ARIMA(5,1,0)(0,1,0)[12]             : AIC=1657.610, Time=0.28 sec\n",
            "\n",
            "Best model:  ARIMA(4,1,0)(1,1,0)[12]          \n",
            "Total fit time: 110.579 seconds\n"
          ]
        }
      ]
    },
    {
      "cell_type": "code",
      "source": [
        "step2 = auto_arima(treino['Deaths'],start_p=1,start_q=1,max_p=6,max_q=6,m=12,start_P=0,seasonal=True,d=1,D=1,trace=True,\n",
        "                    error_action='ignore',suppress_warnings=True,stepwise=True)"
      ],
      "metadata": {
        "colab": {
          "base_uri": "https://localhost:8080/"
        },
        "id": "yiL9OK9qVqZJ",
        "outputId": "8d7d4927-f8d0-44b5-b13b-d6fe3e691f6f"
      },
      "execution_count": null,
      "outputs": [
        {
          "output_type": "stream",
          "name": "stdout",
          "text": [
            "Performing stepwise search to minimize aic\n",
            " ARIMA(1,1,1)(0,1,1)[12]             : AIC=1643.678, Time=0.83 sec\n",
            " ARIMA(0,1,0)(0,1,0)[12]             : AIC=1709.071, Time=0.03 sec\n",
            " ARIMA(1,1,0)(1,1,0)[12]             : AIC=1669.627, Time=0.26 sec\n",
            " ARIMA(0,1,1)(0,1,1)[12]             : AIC=1693.735, Time=0.38 sec\n",
            " ARIMA(1,1,1)(0,1,0)[12]             : AIC=1657.324, Time=0.15 sec\n",
            " ARIMA(1,1,1)(1,1,1)[12]             : AIC=1644.072, Time=1.31 sec\n",
            " ARIMA(1,1,1)(0,1,2)[12]             : AIC=1644.466, Time=2.39 sec\n",
            " ARIMA(1,1,1)(1,1,0)[12]             : AIC=1643.401, Time=0.58 sec\n",
            " ARIMA(1,1,1)(2,1,0)[12]             : AIC=1644.382, Time=1.85 sec\n",
            " ARIMA(1,1,1)(2,1,1)[12]             : AIC=1645.961, Time=3.37 sec\n",
            " ARIMA(0,1,1)(1,1,0)[12]             : AIC=1693.697, Time=0.26 sec\n",
            " ARIMA(2,1,1)(1,1,0)[12]             : AIC=1644.578, Time=0.81 sec\n",
            " ARIMA(1,1,2)(1,1,0)[12]             : AIC=1644.742, Time=0.78 sec\n",
            " ARIMA(0,1,0)(1,1,0)[12]             : AIC=1711.066, Time=0.14 sec\n",
            " ARIMA(0,1,2)(1,1,0)[12]             : AIC=1670.344, Time=0.39 sec\n",
            " ARIMA(2,1,0)(1,1,0)[12]             : AIC=1646.910, Time=0.36 sec\n",
            " ARIMA(2,1,2)(1,1,0)[12]             : AIC=1643.496, Time=1.18 sec\n",
            " ARIMA(1,1,1)(1,1,0)[12] intercept   : AIC=1645.378, Time=1.20 sec\n",
            "\n",
            "Best model:  ARIMA(1,1,1)(1,1,0)[12]          \n",
            "Total fit time: 16.321 seconds\n"
          ]
        }
      ]
    },
    {
      "cell_type": "code",
      "source": [
        "step1.fit(treino['Deaths'])"
      ],
      "metadata": {
        "colab": {
          "base_uri": "https://localhost:8080/"
        },
        "id": "7LjYM1eBWF_2",
        "outputId": "e2cfb724-d428-4f85-f64c-589b7e4c104a"
      },
      "execution_count": null,
      "outputs": [
        {
          "output_type": "execute_result",
          "data": {
            "text/plain": [
              "ARIMA(order=(4, 1, 0), scoring_args={}, seasonal_order=(1, 1, 0, 12),\n",
              "      suppress_warnings=True, with_intercept=False)"
            ]
          },
          "metadata": {},
          "execution_count": 10
        }
      ]
    },
    {
      "cell_type": "code",
      "source": [
        "step2.fit(treino['Deaths'])"
      ],
      "metadata": {
        "colab": {
          "base_uri": "https://localhost:8080/"
        },
        "id": "J9s4uUf4WKfM",
        "outputId": "8d16e4c6-4eb3-4ef8-c43d-ebab2e91f16c"
      },
      "execution_count": null,
      "outputs": [
        {
          "output_type": "execute_result",
          "data": {
            "text/plain": [
              "ARIMA(order=(1, 1, 1), scoring_args={}, seasonal_order=(1, 1, 0, 12),\n",
              "      suppress_warnings=True, with_intercept=False)"
            ]
          },
          "metadata": {},
          "execution_count": 11
        }
      ]
    },
    {
      "cell_type": "code",
      "source": [
        "future_forecast=step1.predict(n_periods=len(teste))"
      ],
      "metadata": {
        "id": "xAKwmOfUWNX5"
      },
      "execution_count": null,
      "outputs": []
    },
    {
      "cell_type": "code",
      "source": [
        "future_forecast1=step2.predict(n_periods=len(teste))"
      ],
      "metadata": {
        "id": "SE3lAM3kWQwJ"
      },
      "execution_count": null,
      "outputs": []
    },
    {
      "cell_type": "code",
      "source": [
        "plt.figure(figsize=(12,6))\n",
        "plt.title('Comparação da Predição Com os Valores Reais', fontsize=14)\n",
        "plt.plot(teste.index,future_forecast,label='Valor Predito')\n",
        "plt.plot(teste.index,teste['Deaths'].values,label='Real')\n",
        "plt.legend()"
      ],
      "metadata": {
        "colab": {
          "base_uri": "https://localhost:8080/",
          "height": 409
        },
        "id": "WhrcaKyQWUXH",
        "outputId": "07f26cf5-eb0c-4243-abed-fa6e65c17f34"
      },
      "execution_count": null,
      "outputs": [
        {
          "output_type": "execute_result",
          "data": {
            "text/plain": [
              "<matplotlib.legend.Legend at 0x7f74dd3e45b0>"
            ]
          },
          "metadata": {},
          "execution_count": 14
        },
        {
          "output_type": "display_data",
          "data": {
            "text/plain": [
              "<Figure size 864x432 with 1 Axes>"
            ],
            "image/png": "[encoded data removed]"
          },
          "metadata": {
            "needs_background": "light"
          }
        }
      ]
    },
    {
      "cell_type": "code",
      "source": [
        "mae = mean_absolute_error(teste['Deaths'],future_forecast)\n",
        "mape = mean_absolute_percentage_error(teste['Deaths'],future_forecast)\n",
        "rmse = mean_squared_error(teste['Deaths'],future_forecast)\n",
        "\n",
        "print('MAE:',mae)\n",
        "print('MAPE:',mape)\n",
        "print('RMSE:',np.sqrt(rmse))"
      ],
      "metadata": {
        "colab": {
          "base_uri": "https://localhost:8080/"
        },
        "id": "5ylEDU_5WbVF",
        "outputId": "5e5fd97e-4576-45bf-e800-1e144b31dbdb"
      },
      "execution_count": null,
      "outputs": [
        {
          "output_type": "stream",
          "name": "stdout",
          "text": [
            "MAE: 1334.9127741050902\n",
            "MAPE: 0.04745837283091852\n",
            "RMSE: 1814.06464359529\n"
          ]
        }
      ]
    },
    {
      "cell_type": "code",
      "source": [
        "plt.figure(figsize=(12,6))\n",
        "plt.title('Comparação da Predição Com os Valores Reais', fontsize=14)\n",
        "plt.plot(teste.index,future_forecast1,label='Valor Predito')\n",
        "plt.plot(teste.index,teste['Deaths'].values,label='Real')\n",
        "plt.legend()"
      ],
      "metadata": {
        "colab": {
          "base_uri": "https://localhost:8080/",
          "height": 409
        },
        "id": "yw0efqy4Wf0S",
        "outputId": "a0f2414b-75f1-41c6-f8ea-d0d7c34bbefe"
      },
      "execution_count": null,
      "outputs": [
        {
          "output_type": "execute_result",
          "data": {
            "text/plain": [
              "<matplotlib.legend.Legend at 0x7f74dd31ceb0>"
            ]
          },
          "metadata": {},
          "execution_count": 16
        },
        {
          "output_type": "display_data",
          "data": {
            "text/plain": [
              "<Figure size 864x432 with 1 Axes>"
            ],
            "image/png": "[encoded data removed]"
          },
          "metadata": {
            "needs_background": "light"
          }
        }
      ]
    },
    {
      "cell_type": "code",
      "source": [
        "mae = mean_absolute_error(teste['Deaths'],future_forecast1)\n",
        "mape = mean_absolute_percentage_error(teste['Deaths'],future_forecast1)\n",
        "rmse = mean_squared_error(teste['Deaths'],future_forecast1)\n",
        "\n",
        "print('MAE:',mae)\n",
        "print('MAPE:',mape)\n",
        "print('RMSE:',np.sqrt(rmse))"
      ],
      "metadata": {
        "id": "a6yaW93bWksR",
        "outputId": "06c96f25-acf7-49ba-997e-a9e83b26d0ec",
        "colab": {
          "base_uri": "https://localhost:8080/"
        }
      },
      "execution_count": null,
      "outputs": [
        {
          "output_type": "stream",
          "name": "stdout",
          "text": [
            "MAE: 1999.8236665218044\n",
            "MAPE: 0.0712551322109398\n",
            "RMSE: 2588.974270648522\n"
          ]
        }
      ]
    }
  ]
}