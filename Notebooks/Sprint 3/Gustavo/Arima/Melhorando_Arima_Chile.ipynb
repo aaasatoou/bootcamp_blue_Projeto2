{
  "nbformat": 4,
  "nbformat_minor": 0,
  "metadata": {
    "colab": {
      "provenance": []
    },
    "kernelspec": {
      "name": "python3",
      "display_name": "Python 3"
    },
    "language_info": {
      "name": "python"
    }
  },
  "cells": [
    {
      "cell_type": "markdown",
      "source": [
        "# Testando Outros Modelos Chile\n",
        "\n",
        "Neste notebook será testado outros modelo de séries temporais da Covid no Chile, comparando os resultados com o modelo baseline feito na sprint 2."
      ],
      "metadata": {
        "id": "loLRYSR07YHO"
      }
    },
    {
      "cell_type": "code",
      "execution_count": null,
      "metadata": {
        "colab": {
          "base_uri": "https://localhost:8080/"
        },
        "id": "AJ4tty1W7CUJ",
        "outputId": "76d80201-7975-4264-8831-525e18f2c9bc"
      },
      "outputs": [
        {
          "output_type": "stream",
          "name": "stdout",
          "text": [
            "Looking in indexes: https://pypi.org/simple, https://us-python.pkg.dev/colab-wheels/public/simple/\n",
            "Requirement already satisfied: pmdarima in /usr/local/lib/python3.8/dist-packages (2.0.2)\n",
            "Requirement already satisfied: pandas>=0.19 in /usr/local/lib/python3.8/dist-packages (from pmdarima) (1.3.5)\n",
            "Requirement already satisfied: scipy>=1.3.2 in /usr/local/lib/python3.8/dist-packages (from pmdarima) (1.7.3)\n",
            "Requirement already satisfied: statsmodels>=0.13.2 in /usr/local/lib/python3.8/dist-packages (from pmdarima) (0.13.5)\n",
            "Requirement already satisfied: joblib>=0.11 in /usr/local/lib/python3.8/dist-packages (from pmdarima) (1.2.0)\n",
            "Requirement already satisfied: numpy>=1.21.2 in /usr/local/lib/python3.8/dist-packages (from pmdarima) (1.21.6)\n",
            "Requirement already satisfied: scikit-learn>=0.22 in /usr/local/lib/python3.8/dist-packages (from pmdarima) (1.0.2)\n",
            "Requirement already satisfied: setuptools!=50.0.0,>=38.6.0 in /usr/local/lib/python3.8/dist-packages (from pmdarima) (57.4.0)\n",
            "Requirement already satisfied: urllib3 in /usr/local/lib/python3.8/dist-packages (from pmdarima) (1.24.3)\n",
            "Requirement already satisfied: Cython!=0.29.18,!=0.29.31,>=0.29 in /usr/local/lib/python3.8/dist-packages (from pmdarima) (0.29.32)\n",
            "Requirement already satisfied: pytz>=2017.3 in /usr/local/lib/python3.8/dist-packages (from pandas>=0.19->pmdarima) (2022.6)\n",
            "Requirement already satisfied: python-dateutil>=2.7.3 in /usr/local/lib/python3.8/dist-packages (from pandas>=0.19->pmdarima) (2.8.2)\n",
            "Requirement already satisfied: six>=1.5 in /usr/local/lib/python3.8/dist-packages (from python-dateutil>=2.7.3->pandas>=0.19->pmdarima) (1.15.0)\n",
            "Requirement already satisfied: threadpoolctl>=2.0.0 in /usr/local/lib/python3.8/dist-packages (from scikit-learn>=0.22->pmdarima) (3.1.0)\n",
            "Requirement already satisfied: packaging>=21.3 in /usr/local/lib/python3.8/dist-packages (from statsmodels>=0.13.2->pmdarima) (21.3)\n",
            "Requirement already satisfied: patsy>=0.5.2 in /usr/local/lib/python3.8/dist-packages (from statsmodels>=0.13.2->pmdarima) (0.5.3)\n",
            "Requirement already satisfied: pyparsing!=3.0.5,>=2.0.2 in /usr/local/lib/python3.8/dist-packages (from packaging>=21.3->statsmodels>=0.13.2->pmdarima) (3.0.9)\n"
          ]
        }
      ],
      "source": [
        "# Importando as Blibiotecas\n",
        "import numpy as np\n",
        "import pandas as pd\n",
        "import matplotlib.pyplot as plt\n",
        "import seaborn as sns\n",
        "\n",
        "!pip install pmdarima\n",
        "from pmdarima.arima import auto_arima\n",
        "\n",
        "from sklearn.metrics import mean_absolute_error, mean_squared_error, mean_absolute_percentage_error"
      ]
    },
    {
      "cell_type": "code",
      "source": [
        "serie_chi = pd.read_csv('Séries Temporais Chile.csv')\n",
        "serie_chi.drop('Unnamed: 0',axis=1,inplace=True)\n",
        "serie_chi['Date'] = pd.to_datetime(serie_chi['Date'],format='%Y-%m-%d')\n",
        "serie_chi['Mês'] = serie_chi['Date'].dt.month\n",
        "serie_chi.head()"
      ],
      "metadata": {
        "colab": {
          "base_uri": "https://localhost:8080/",
          "height": 206
        },
        "id": "gEcAsjsc76f7",
        "outputId": "06c4153f-483a-4946-b484-2869fc3ba0ce"
      },
      "execution_count": null,
      "outputs": [
        {
          "output_type": "execute_result",
          "data": {
            "text/plain": [
              "        Date  Confirmed  Recovered  Deaths   Ano  Mês\n",
              "0 2020-01-22          0        0.0       0  2020    1\n",
              "1 2020-01-23          0        0.0       0  2020    1\n",
              "2 2020-01-24          0        0.0       0  2020    1\n",
              "3 2020-01-25          0        0.0       0  2020    1\n",
              "4 2020-01-26          0        0.0       0  2020    1"
            ],
            "text/html": [
              "\n",
              "  <div id=\"df-455dad2f-2cbd-4a7f-973d-1c5defa625a5\">\n",
              "    <div class=\"colab-df-container\">\n",
              "      <div>\n",
              "<style scoped>\n",
              "    .dataframe tbody tr th:only-of-type {\n",
              "        vertical-align: middle;\n",
              "    }\n",
              "\n",
              "    .dataframe tbody tr th {\n",
              "        vertical-align: top;\n",
              "    }\n",
              "\n",
              "    .dataframe thead th {\n",
              "        text-align: right;\n",
              "    }\n",
              "</style>\n",
              "<table border=\"1\" class=\"dataframe\">\n",
              "  <thead>\n",
              "    <tr style=\"text-align: right;\">\n",
              "      <th></th>\n",
              "      <th>Date</th>\n",
              "      <th>Confirmed</th>\n",
              "      <th>Recovered</th>\n",
              "      <th>Deaths</th>\n",
              "      <th>Ano</th>\n",
              "      <th>Mês</th>\n",
              "    </tr>\n",
              "  </thead>\n",
              "  <tbody>\n",
              "    <tr>\n",
              "      <th>0</th>\n",
              "      <td>2020-01-22</td>\n",
              "      <td>0</td>\n",
              "      <td>0.0</td>\n",
              "      <td>0</td>\n",
              "      <td>2020</td>\n",
              "      <td>1</td>\n",
              "    </tr>\n",
              "    <tr>\n",
              "      <th>1</th>\n",
              "      <td>2020-01-23</td>\n",
              "      <td>0</td>\n",
              "      <td>0.0</td>\n",
              "      <td>0</td>\n",
              "      <td>2020</td>\n",
              "      <td>1</td>\n",
              "    </tr>\n",
              "    <tr>\n",
              "      <th>2</th>\n",
              "      <td>2020-01-24</td>\n",
              "      <td>0</td>\n",
              "      <td>0.0</td>\n",
              "      <td>0</td>\n",
              "      <td>2020</td>\n",
              "      <td>1</td>\n",
              "    </tr>\n",
              "    <tr>\n",
              "      <th>3</th>\n",
              "      <td>2020-01-25</td>\n",
              "      <td>0</td>\n",
              "      <td>0.0</td>\n",
              "      <td>0</td>\n",
              "      <td>2020</td>\n",
              "      <td>1</td>\n",
              "    </tr>\n",
              "    <tr>\n",
              "      <th>4</th>\n",
              "      <td>2020-01-26</td>\n",
              "      <td>0</td>\n",
              "      <td>0.0</td>\n",
              "      <td>0</td>\n",
              "      <td>2020</td>\n",
              "      <td>1</td>\n",
              "    </tr>\n",
              "  </tbody>\n",
              "</table>\n",
              "</div>\n",
              "      <button class=\"colab-df-convert\" onclick=\"convertToInteractive('df-455dad2f-2cbd-4a7f-973d-1c5defa625a5')\"\n",
              "              title=\"Convert this dataframe to an interactive table.\"\n",
              "              style=\"display:none;\">\n",
              "        \n",
              "  <svg xmlns=\"http://www.w3.org/2000/svg\" height=\"24px\"viewBox=\"0 0 24 24\"\n",
              "       width=\"24px\">\n",
              "    <path d=\"M0 0h24v24H0V0z\" fill=\"none\"/>\n",
              "    <path d=\"M18.56 5.44l.94 2.06.94-2.06 2.06-.94-2.06-.94-.94-2.06-.94 2.06-2.06.94zm-11 1L8.5 8.5l.94-2.06 2.06-.94-2.06-.94L8.5 2.5l-.94 2.06-2.06.94zm10 10l.94 2.06.94-2.06 2.06-.94-2.06-.94-.94-2.06-.94 2.06-2.06.94z\"/><path d=\"M17.41 7.96l-1.37-1.37c-.4-.4-.92-.59-1.43-.59-.52 0-1.04.2-1.43.59L10.3 9.45l-7.72 7.72c-.78.78-.78 2.05 0 2.83L4 21.41c.39.39.9.59 1.41.59.51 0 1.02-.2 1.41-.59l7.78-7.78 2.81-2.81c.8-.78.8-2.07 0-2.86zM5.41 20L4 18.59l7.72-7.72 1.47 1.35L5.41 20z\"/>\n",
              "  </svg>\n",
              "      </button>\n",
              "      \n",
              "  <style>\n",
              "    .colab-df-container {\n",
              "      display:flex;\n",
              "      flex-wrap:wrap;\n",
              "      gap: 12px;\n",
              "    }\n",
              "\n",
              "    .colab-df-convert {\n",
              "      background-color: #E8F0FE;\n",
              "      border: none;\n",
              "      border-radius: 50%;\n",
              "      cursor: pointer;\n",
              "      display: none;\n",
              "      fill: #1967D2;\n",
              "      height: 32px;\n",
              "      padding: 0 0 0 0;\n",
              "      width: 32px;\n",
              "    }\n",
              "\n",
              "    .colab-df-convert:hover {\n",
              "      background-color: #E2EBFA;\n",
              "      box-shadow: 0px 1px 2px rgba(60, 64, 67, 0.3), 0px 1px 3px 1px rgba(60, 64, 67, 0.15);\n",
              "      fill: #174EA6;\n",
              "    }\n",
              "\n",
              "    [theme=dark] .colab-df-convert {\n",
              "      background-color: #3B4455;\n",
              "      fill: #D2E3FC;\n",
              "    }\n",
              "\n",
              "    [theme=dark] .colab-df-convert:hover {\n",
              "      background-color: #434B5C;\n",
              "      box-shadow: 0px 1px 3px 1px rgba(0, 0, 0, 0.15);\n",
              "      filter: drop-shadow(0px 1px 2px rgba(0, 0, 0, 0.3));\n",
              "      fill: #FFFFFF;\n",
              "    }\n",
              "  </style>\n",
              "\n",
              "      <script>\n",
              "        const buttonEl =\n",
              "          document.querySelector('#df-455dad2f-2cbd-4a7f-973d-1c5defa625a5 button.colab-df-convert');\n",
              "        buttonEl.style.display =\n",
              "          google.colab.kernel.accessAllowed ? 'block' : 'none';\n",
              "\n",
              "        async function convertToInteractive(key) {\n",
              "          const element = document.querySelector('#df-455dad2f-2cbd-4a7f-973d-1c5defa625a5');\n",
              "          const dataTable =\n",
              "            await google.colab.kernel.invokeFunction('convertToInteractive',\n",
              "                                                     [key], {});\n",
              "          if (!dataTable) return;\n",
              "\n",
              "          const docLinkHtml = 'Like what you see? Visit the ' +\n",
              "            '<a target=\"_blank\" href=https://colab.research.google.com/notebooks/data_table.ipynb>data table notebook</a>'\n",
              "            + ' to learn more about interactive tables.';\n",
              "          element.innerHTML = '';\n",
              "          dataTable['output_type'] = 'display_data';\n",
              "          await google.colab.output.renderOutput(dataTable, element);\n",
              "          const docLink = document.createElement('div');\n",
              "          docLink.innerHTML = docLinkHtml;\n",
              "          element.appendChild(docLink);\n",
              "        }\n",
              "      </script>\n",
              "    </div>\n",
              "  </div>\n",
              "  "
            ]
          },
          "metadata": {},
          "execution_count": 2
        }
      ]
    },
    {
      "cell_type": "code",
      "source": [
        "serie_chi.set_index('Date',inplace=True)\n",
        "serie_chi.head()"
      ],
      "metadata": {
        "colab": {
          "base_uri": "https://localhost:8080/",
          "height": 238
        },
        "id": "aSXBtKWO8jW6",
        "outputId": "cb96a419-1781-4bdd-d2a7-c04f0a07c086"
      },
      "execution_count": null,
      "outputs": [
        {
          "output_type": "execute_result",
          "data": {
            "text/plain": [
              "            Confirmed  Recovered  Deaths   Ano  Mês\n",
              "Date                                               \n",
              "2020-01-22          0        0.0       0  2020    1\n",
              "2020-01-23          0        0.0       0  2020    1\n",
              "2020-01-24          0        0.0       0  2020    1\n",
              "2020-01-25          0        0.0       0  2020    1\n",
              "2020-01-26          0        0.0       0  2020    1"
            ],
            "text/html": [
              "\n",
              "  <div id=\"df-86fd64d9-1efc-4dd9-9d91-908cbc3dc1d9\">\n",
              "    <div class=\"colab-df-container\">\n",
              "      <div>\n",
              "<style scoped>\n",
              "    .dataframe tbody tr th:only-of-type {\n",
              "        vertical-align: middle;\n",
              "    }\n",
              "\n",
              "    .dataframe tbody tr th {\n",
              "        vertical-align: top;\n",
              "    }\n",
              "\n",
              "    .dataframe thead th {\n",
              "        text-align: right;\n",
              "    }\n",
              "</style>\n",
              "<table border=\"1\" class=\"dataframe\">\n",
              "  <thead>\n",
              "    <tr style=\"text-align: right;\">\n",
              "      <th></th>\n",
              "      <th>Confirmed</th>\n",
              "      <th>Recovered</th>\n",
              "      <th>Deaths</th>\n",
              "      <th>Ano</th>\n",
              "      <th>Mês</th>\n",
              "    </tr>\n",
              "    <tr>\n",
              "      <th>Date</th>\n",
              "      <th></th>\n",
              "      <th></th>\n",
              "      <th></th>\n",
              "      <th></th>\n",
              "      <th></th>\n",
              "    </tr>\n",
              "  </thead>\n",
              "  <tbody>\n",
              "    <tr>\n",
              "      <th>2020-01-22</th>\n",
              "      <td>0</td>\n",
              "      <td>0.0</td>\n",
              "      <td>0</td>\n",
              "      <td>2020</td>\n",
              "      <td>1</td>\n",
              "    </tr>\n",
              "    <tr>\n",
              "      <th>2020-01-23</th>\n",
              "      <td>0</td>\n",
              "      <td>0.0</td>\n",
              "      <td>0</td>\n",
              "      <td>2020</td>\n",
              "      <td>1</td>\n",
              "    </tr>\n",
              "    <tr>\n",
              "      <th>2020-01-24</th>\n",
              "      <td>0</td>\n",
              "      <td>0.0</td>\n",
              "      <td>0</td>\n",
              "      <td>2020</td>\n",
              "      <td>1</td>\n",
              "    </tr>\n",
              "    <tr>\n",
              "      <th>2020-01-25</th>\n",
              "      <td>0</td>\n",
              "      <td>0.0</td>\n",
              "      <td>0</td>\n",
              "      <td>2020</td>\n",
              "      <td>1</td>\n",
              "    </tr>\n",
              "    <tr>\n",
              "      <th>2020-01-26</th>\n",
              "      <td>0</td>\n",
              "      <td>0.0</td>\n",
              "      <td>0</td>\n",
              "      <td>2020</td>\n",
              "      <td>1</td>\n",
              "    </tr>\n",
              "  </tbody>\n",
              "</table>\n",
              "</div>\n",
              "      <button class=\"colab-df-convert\" onclick=\"convertToInteractive('df-86fd64d9-1efc-4dd9-9d91-908cbc3dc1d9')\"\n",
              "              title=\"Convert this dataframe to an interactive table.\"\n",
              "              style=\"display:none;\">\n",
              "        \n",
              "  <svg xmlns=\"http://www.w3.org/2000/svg\" height=\"24px\"viewBox=\"0 0 24 24\"\n",
              "       width=\"24px\">\n",
              "    <path d=\"M0 0h24v24H0V0z\" fill=\"none\"/>\n",
              "    <path d=\"M18.56 5.44l.94 2.06.94-2.06 2.06-.94-2.06-.94-.94-2.06-.94 2.06-2.06.94zm-11 1L8.5 8.5l.94-2.06 2.06-.94-2.06-.94L8.5 2.5l-.94 2.06-2.06.94zm10 10l.94 2.06.94-2.06 2.06-.94-2.06-.94-.94-2.06-.94 2.06-2.06.94z\"/><path d=\"M17.41 7.96l-1.37-1.37c-.4-.4-.92-.59-1.43-.59-.52 0-1.04.2-1.43.59L10.3 9.45l-7.72 7.72c-.78.78-.78 2.05 0 2.83L4 21.41c.39.39.9.59 1.41.59.51 0 1.02-.2 1.41-.59l7.78-7.78 2.81-2.81c.8-.78.8-2.07 0-2.86zM5.41 20L4 18.59l7.72-7.72 1.47 1.35L5.41 20z\"/>\n",
              "  </svg>\n",
              "      </button>\n",
              "      \n",
              "  <style>\n",
              "    .colab-df-container {\n",
              "      display:flex;\n",
              "      flex-wrap:wrap;\n",
              "      gap: 12px;\n",
              "    }\n",
              "\n",
              "    .colab-df-convert {\n",
              "      background-color: #E8F0FE;\n",
              "      border: none;\n",
              "      border-radius: 50%;\n",
              "      cursor: pointer;\n",
              "      display: none;\n",
              "      fill: #1967D2;\n",
              "      height: 32px;\n",
              "      padding: 0 0 0 0;\n",
              "      width: 32px;\n",
              "    }\n",
              "\n",
              "    .colab-df-convert:hover {\n",
              "      background-color: #E2EBFA;\n",
              "      box-shadow: 0px 1px 2px rgba(60, 64, 67, 0.3), 0px 1px 3px 1px rgba(60, 64, 67, 0.15);\n",
              "      fill: #174EA6;\n",
              "    }\n",
              "\n",
              "    [theme=dark] .colab-df-convert {\n",
              "      background-color: #3B4455;\n",
              "      fill: #D2E3FC;\n",
              "    }\n",
              "\n",
              "    [theme=dark] .colab-df-convert:hover {\n",
              "      background-color: #434B5C;\n",
              "      box-shadow: 0px 1px 3px 1px rgba(0, 0, 0, 0.15);\n",
              "      filter: drop-shadow(0px 1px 2px rgba(0, 0, 0, 0.3));\n",
              "      fill: #FFFFFF;\n",
              "    }\n",
              "  </style>\n",
              "\n",
              "      <script>\n",
              "        const buttonEl =\n",
              "          document.querySelector('#df-86fd64d9-1efc-4dd9-9d91-908cbc3dc1d9 button.colab-df-convert');\n",
              "        buttonEl.style.display =\n",
              "          google.colab.kernel.accessAllowed ? 'block' : 'none';\n",
              "\n",
              "        async function convertToInteractive(key) {\n",
              "          const element = document.querySelector('#df-86fd64d9-1efc-4dd9-9d91-908cbc3dc1d9');\n",
              "          const dataTable =\n",
              "            await google.colab.kernel.invokeFunction('convertToInteractive',\n",
              "                                                     [key], {});\n",
              "          if (!dataTable) return;\n",
              "\n",
              "          const docLinkHtml = 'Like what you see? Visit the ' +\n",
              "            '<a target=\"_blank\" href=https://colab.research.google.com/notebooks/data_table.ipynb>data table notebook</a>'\n",
              "            + ' to learn more about interactive tables.';\n",
              "          element.innerHTML = '';\n",
              "          dataTable['output_type'] = 'display_data';\n",
              "          await google.colab.output.renderOutput(dataTable, element);\n",
              "          const docLink = document.createElement('div');\n",
              "          docLink.innerHTML = docLinkHtml;\n",
              "          element.appendChild(docLink);\n",
              "        }\n",
              "      </script>\n",
              "    </div>\n",
              "  </div>\n",
              "  "
            ]
          },
          "metadata": {},
          "execution_count": 3
        }
      ]
    },
    {
      "cell_type": "code",
      "source": [
        "treino = serie_chi[(serie_chi['Ano']<=2021)&(serie_chi['Mês']<12)]\n",
        "teste = serie_chi[(serie_chi['Ano']==2021)&(serie_chi['Mês'] == 12)]"
      ],
      "metadata": {
        "id": "zuvHY3sO8qmh"
      },
      "execution_count": null,
      "outputs": []
    },
    {
      "cell_type": "code",
      "source": [
        "step1 = auto_arima(treino['Deaths'],start_p=1,start_q=1,max_p=6,max_q=6,m=12,start_P=0,seasonal=True,d=1,D=1,trace=True,\n",
        "                    error_action='ignore',suppress_warnings=True,stepwise=False)"
      ],
      "metadata": {
        "colab": {
          "base_uri": "https://localhost:8080/"
        },
        "id": "9TkwOjTg82q2",
        "outputId": "ee15d837-9ae9-4bcf-d258-c44c9d70c08e"
      },
      "execution_count": null,
      "outputs": [
        {
          "output_type": "stream",
          "name": "stdout",
          "text": [
            " ARIMA(0,1,0)(0,1,0)[12]             : AIC=7776.542, Time=0.16 sec\n",
            " ARIMA(0,1,0)(0,1,1)[12]             : AIC=7479.903, Time=0.98 sec\n",
            " ARIMA(0,1,0)(0,1,2)[12]             : AIC=7481.221, Time=2.09 sec\n",
            " ARIMA(0,1,0)(1,1,0)[12]             : AIC=7608.722, Time=0.43 sec\n",
            " ARIMA(0,1,0)(1,1,1)[12]             : AIC=7481.082, Time=2.36 sec\n",
            " ARIMA(0,1,0)(1,1,2)[12]             : AIC=7482.825, Time=4.79 sec\n",
            " ARIMA(0,1,0)(2,1,0)[12]             : AIC=7535.958, Time=1.08 sec\n",
            " ARIMA(0,1,0)(2,1,1)[12]             : AIC=inf, Time=4.47 sec\n",
            " ARIMA(0,1,0)(2,1,2)[12]             : AIC=inf, Time=16.09 sec\n",
            " ARIMA(0,1,1)(0,1,0)[12]             : AIC=7778.312, Time=0.25 sec\n",
            " ARIMA(0,1,1)(0,1,1)[12]             : AIC=7466.511, Time=3.43 sec\n",
            " ARIMA(0,1,1)(0,1,2)[12]             : AIC=inf, Time=4.71 sec\n",
            " ARIMA(0,1,1)(1,1,0)[12]             : AIC=7607.128, Time=0.68 sec\n",
            " ARIMA(0,1,1)(1,1,1)[12]             : AIC=inf, Time=3.10 sec\n",
            " ARIMA(0,1,1)(1,1,2)[12]             : AIC=inf, Time=16.24 sec\n",
            " ARIMA(0,1,1)(2,1,0)[12]             : AIC=7534.852, Time=1.48 sec\n",
            " ARIMA(0,1,1)(2,1,1)[12]             : AIC=inf, Time=5.70 sec\n",
            " ARIMA(0,1,1)(2,1,2)[12]             : AIC=inf, Time=8.30 sec\n",
            " ARIMA(0,1,2)(0,1,0)[12]             : AIC=7777.115, Time=0.35 sec\n",
            " ARIMA(0,1,2)(0,1,1)[12]             : AIC=inf, Time=2.31 sec\n",
            " ARIMA(0,1,2)(0,1,2)[12]             : AIC=inf, Time=4.88 sec\n",
            " ARIMA(0,1,2)(1,1,0)[12]             : AIC=7609.127, Time=0.82 sec\n",
            " ARIMA(0,1,2)(1,1,1)[12]             : AIC=inf, Time=2.83 sec\n",
            " ARIMA(0,1,2)(1,1,2)[12]             : AIC=inf, Time=12.24 sec\n",
            " ARIMA(0,1,2)(2,1,0)[12]             : AIC=7536.515, Time=1.96 sec\n",
            " ARIMA(0,1,2)(2,1,1)[12]             : AIC=inf, Time=6.50 sec\n",
            " ARIMA(0,1,3)(0,1,0)[12]             : AIC=7779.010, Time=0.48 sec\n",
            " ARIMA(0,1,3)(0,1,1)[12]             : AIC=inf, Time=3.72 sec\n",
            " ARIMA(0,1,3)(0,1,2)[12]             : AIC=inf, Time=8.03 sec\n",
            " ARIMA(0,1,3)(1,1,0)[12]             : AIC=7610.903, Time=0.94 sec\n",
            " ARIMA(0,1,3)(1,1,1)[12]             : AIC=inf, Time=4.48 sec\n",
            " ARIMA(0,1,3)(2,1,0)[12]             : AIC=7538.501, Time=2.07 sec\n",
            " ARIMA(0,1,4)(0,1,0)[12]             : AIC=7780.997, Time=0.60 sec\n",
            " ARIMA(0,1,4)(0,1,1)[12]             : AIC=inf, Time=4.26 sec\n",
            " ARIMA(0,1,4)(1,1,0)[12]             : AIC=7611.727, Time=1.30 sec\n",
            " ARIMA(0,1,5)(0,1,0)[12]             : AIC=7780.672, Time=0.89 sec\n",
            " ARIMA(1,1,0)(0,1,0)[12]             : AIC=7778.345, Time=0.10 sec\n",
            " ARIMA(1,1,0)(0,1,1)[12]             : AIC=7462.412, Time=3.04 sec\n",
            " ARIMA(1,1,0)(0,1,2)[12]             : AIC=inf, Time=3.68 sec\n",
            " ARIMA(1,1,0)(1,1,0)[12]             : AIC=7607.163, Time=0.65 sec\n",
            " ARIMA(1,1,0)(1,1,1)[12]             : AIC=inf, Time=2.04 sec\n",
            " ARIMA(1,1,0)(1,1,2)[12]             : AIC=inf, Time=13.87 sec\n",
            " ARIMA(1,1,0)(2,1,0)[12]             : AIC=7534.717, Time=1.46 sec\n",
            " ARIMA(1,1,0)(2,1,1)[12]             : AIC=inf, Time=5.35 sec\n",
            " ARIMA(1,1,0)(2,1,2)[12]             : AIC=inf, Time=13.10 sec\n",
            " ARIMA(1,1,1)(0,1,0)[12]             : AIC=inf, Time=0.92 sec\n",
            " ARIMA(1,1,1)(0,1,1)[12]             : AIC=inf, Time=3.04 sec\n",
            " ARIMA(1,1,1)(0,1,2)[12]             : AIC=inf, Time=11.03 sec\n",
            " ARIMA(1,1,1)(1,1,0)[12]             : AIC=7609.117, Time=1.30 sec\n",
            " ARIMA(1,1,1)(1,1,1)[12]             : AIC=inf, Time=3.70 sec\n",
            " ARIMA(1,1,1)(1,1,2)[12]             : AIC=inf, Time=16.27 sec\n",
            " ARIMA(1,1,1)(2,1,0)[12]             : AIC=7522.166, Time=4.41 sec\n",
            " ARIMA(1,1,1)(2,1,1)[12]             : AIC=inf, Time=6.42 sec\n",
            " ARIMA(1,1,2)(0,1,0)[12]             : AIC=7779.006, Time=0.52 sec\n",
            " ARIMA(1,1,2)(0,1,1)[12]             : AIC=inf, Time=3.40 sec\n",
            " ARIMA(1,1,2)(0,1,2)[12]             : AIC=inf, Time=7.01 sec\n",
            " ARIMA(1,1,2)(1,1,0)[12]             : AIC=7609.485, Time=1.74 sec\n",
            " ARIMA(1,1,2)(1,1,1)[12]             : AIC=inf, Time=4.37 sec\n",
            " ARIMA(1,1,2)(2,1,0)[12]             : AIC=7524.166, Time=4.24 sec\n",
            " ARIMA(1,1,3)(0,1,0)[12]             : AIC=7781.106, Time=0.55 sec\n",
            " ARIMA(1,1,3)(0,1,1)[12]             : AIC=inf, Time=4.73 sec\n",
            " ARIMA(1,1,3)(1,1,0)[12]             : AIC=7611.069, Time=2.47 sec\n",
            " ARIMA(1,1,4)(0,1,0)[12]             : AIC=7783.003, Time=0.74 sec\n",
            " ARIMA(2,1,0)(0,1,0)[12]             : AIC=7777.135, Time=0.12 sec\n",
            " ARIMA(2,1,0)(0,1,1)[12]             : AIC=inf, Time=2.17 sec\n",
            " ARIMA(2,1,0)(0,1,2)[12]             : AIC=inf, Time=5.03 sec\n",
            " ARIMA(2,1,0)(1,1,0)[12]             : AIC=7609.105, Time=0.94 sec\n",
            " ARIMA(2,1,0)(1,1,1)[12]             : AIC=inf, Time=2.84 sec\n",
            " ARIMA(2,1,0)(1,1,2)[12]             : AIC=inf, Time=6.22 sec\n",
            " ARIMA(2,1,0)(2,1,0)[12]             : AIC=7536.475, Time=2.09 sec\n",
            " ARIMA(2,1,0)(2,1,1)[12]             : AIC=inf, Time=10.78 sec\n",
            " ARIMA(2,1,1)(0,1,0)[12]             : AIC=7779.138, Time=0.17 sec\n",
            " ARIMA(2,1,1)(0,1,1)[12]             : AIC=inf, Time=6.49 sec\n",
            " ARIMA(2,1,1)(0,1,2)[12]             : AIC=inf, Time=8.85 sec\n",
            " ARIMA(2,1,1)(1,1,0)[12]             : AIC=7610.861, Time=1.80 sec\n",
            " ARIMA(2,1,1)(1,1,1)[12]             : AIC=inf, Time=4.53 sec\n",
            " ARIMA(2,1,1)(2,1,0)[12]             : AIC=7524.166, Time=5.38 sec\n",
            " ARIMA(2,1,2)(0,1,0)[12]             : AIC=7781.004, Time=0.95 sec\n",
            " ARIMA(2,1,2)(0,1,1)[12]             : AIC=inf, Time=4.10 sec\n",
            " ARIMA(2,1,2)(1,1,0)[12]             : AIC=7570.811, Time=6.68 sec\n",
            " ARIMA(2,1,3)(0,1,0)[12]             : AIC=7746.438, Time=2.93 sec\n",
            " ARIMA(3,1,0)(0,1,0)[12]             : AIC=7779.135, Time=0.18 sec\n",
            " ARIMA(3,1,0)(0,1,1)[12]             : AIC=inf, Time=3.11 sec\n",
            " ARIMA(3,1,0)(0,1,2)[12]             : AIC=inf, Time=6.74 sec\n",
            " ARIMA(3,1,0)(1,1,0)[12]             : AIC=7610.660, Time=1.09 sec\n",
            " ARIMA(3,1,0)(1,1,1)[12]             : AIC=inf, Time=4.00 sec\n",
            " ARIMA(3,1,0)(2,1,0)[12]             : AIC=7538.444, Time=2.24 sec\n",
            " ARIMA(3,1,1)(0,1,0)[12]             : AIC=7781.141, Time=0.17 sec\n",
            " ARIMA(3,1,1)(0,1,1)[12]             : AIC=inf, Time=3.65 sec\n",
            " ARIMA(3,1,1)(1,1,0)[12]             : AIC=7610.967, Time=2.35 sec\n",
            " ARIMA(3,1,2)(0,1,0)[12]             : AIC=7783.004, Time=0.77 sec\n",
            " ARIMA(4,1,0)(0,1,0)[12]             : AIC=7781.003, Time=0.19 sec\n",
            " ARIMA(4,1,0)(0,1,1)[12]             : AIC=inf, Time=3.54 sec\n",
            " ARIMA(4,1,0)(1,1,0)[12]             : AIC=7611.120, Time=1.35 sec\n",
            " ARIMA(4,1,1)(0,1,0)[12]             : AIC=7782.694, Time=1.05 sec\n",
            " ARIMA(5,1,0)(0,1,0)[12]             : AIC=7779.565, Time=0.24 sec\n",
            "\n",
            "Best model:  ARIMA(1,1,0)(0,1,1)[12]          \n",
            "Total fit time: 358.327 seconds\n"
          ]
        }
      ]
    },
    {
      "cell_type": "code",
      "source": [
        "step2 = auto_arima(serie_chi['Deaths'],start_p=1,start_q=1,max_p=6,max_q=6,m=12,start_P=0,seasonal=True,d=1,D=1,trace=True,\n",
        "                    error_action='ignore',suppress_warnings=True,stepwise=True)"
      ],
      "metadata": {
        "colab": {
          "base_uri": "https://localhost:8080/"
        },
        "id": "HcKyBjmR-rn7",
        "outputId": "855a00d6-1878-4aeb-82ba-24f093651564"
      },
      "execution_count": null,
      "outputs": [
        {
          "output_type": "stream",
          "name": "stdout",
          "text": [
            "Performing stepwise search to minimize aic\n",
            " ARIMA(1,1,1)(0,1,1)[12]             : AIC=inf, Time=3.05 sec\n",
            " ARIMA(0,1,0)(0,1,0)[12]             : AIC=8179.301, Time=0.08 sec\n",
            " ARIMA(1,1,0)(1,1,0)[12]             : AIC=8001.288, Time=0.73 sec\n",
            " ARIMA(0,1,1)(0,1,1)[12]             : AIC=7874.379, Time=2.63 sec\n",
            " ARIMA(0,1,1)(0,1,0)[12]             : AIC=8181.167, Time=0.19 sec\n",
            " ARIMA(0,1,1)(1,1,1)[12]             : AIC=inf, Time=4.23 sec\n",
            " ARIMA(0,1,1)(0,1,2)[12]             : AIC=7876.004, Time=4.61 sec\n",
            " ARIMA(0,1,1)(1,1,0)[12]             : AIC=8001.218, Time=0.68 sec\n",
            " ARIMA(0,1,1)(1,1,2)[12]             : AIC=inf, Time=8.38 sec\n",
            " ARIMA(0,1,0)(0,1,1)[12]             : AIC=7895.609, Time=0.81 sec\n",
            " ARIMA(0,1,2)(0,1,1)[12]             : AIC=inf, Time=2.09 sec\n",
            " ARIMA(1,1,0)(0,1,1)[12]             : AIC=inf, Time=1.51 sec\n",
            " ARIMA(1,1,2)(0,1,1)[12]             : AIC=inf, Time=6.30 sec\n",
            " ARIMA(0,1,1)(0,1,1)[12] intercept   : AIC=7876.219, Time=4.11 sec\n",
            "\n",
            "Best model:  ARIMA(0,1,1)(0,1,1)[12]          \n",
            "Total fit time: 39.435 seconds\n"
          ]
        }
      ]
    },
    {
      "cell_type": "code",
      "source": [
        "step1.fit(treino['Deaths'])"
      ],
      "metadata": {
        "colab": {
          "base_uri": "https://localhost:8080/"
        },
        "id": "fxX1HvG--xPb",
        "outputId": "66300766-8945-4d26-f5cd-7803272dd1e1"
      },
      "execution_count": null,
      "outputs": [
        {
          "output_type": "execute_result",
          "data": {
            "text/plain": [
              "ARIMA(order=(1, 1, 0), scoring_args={}, seasonal_order=(0, 1, 1, 12),\n",
              "      suppress_warnings=True, with_intercept=False)"
            ]
          },
          "metadata": {},
          "execution_count": 8
        }
      ]
    },
    {
      "cell_type": "code",
      "source": [
        "step2.fit(treino['Deaths'])"
      ],
      "metadata": {
        "colab": {
          "base_uri": "https://localhost:8080/"
        },
        "id": "pDLsO1L3_K5N",
        "outputId": "c5fd49ed-5e68-442f-e702-6c437e806add"
      },
      "execution_count": null,
      "outputs": [
        {
          "output_type": "execute_result",
          "data": {
            "text/plain": [
              "ARIMA(order=(0, 1, 1), scoring_args={}, seasonal_order=(0, 1, 1, 12),\n",
              "      suppress_warnings=True, with_intercept=False)"
            ]
          },
          "metadata": {},
          "execution_count": 9
        }
      ]
    },
    {
      "cell_type": "code",
      "source": [
        "future_forecast=step1.predict(n_periods=len(teste))"
      ],
      "metadata": {
        "colab": {
          "base_uri": "https://localhost:8080/"
        },
        "id": "aKMeqS7h_OTa",
        "outputId": "33402c65-c13b-436e-aa4c-ad1978ca7aa7"
      },
      "execution_count": null,
      "outputs": [
        {
          "output_type": "stream",
          "name": "stderr",
          "text": [
            "/usr/local/lib/python3.8/dist-packages/statsmodels/tsa/base/tsa_model.py:834: ValueWarning: No supported index is available. Prediction results will be given with an integer index beginning at `start`.\n",
            "  return get_prediction_index(\n"
          ]
        }
      ]
    },
    {
      "cell_type": "code",
      "source": [
        "future_forecast1=step2.predict(n_periods=len(teste))"
      ],
      "metadata": {
        "colab": {
          "base_uri": "https://localhost:8080/"
        },
        "id": "qgZkyQIX_RJf",
        "outputId": "5b406318-be5f-4414-9444-82bd0caf7e66"
      },
      "execution_count": null,
      "outputs": [
        {
          "output_type": "stream",
          "name": "stderr",
          "text": [
            "/usr/local/lib/python3.8/dist-packages/statsmodels/tsa/base/tsa_model.py:834: ValueWarning: No supported index is available. Prediction results will be given with an integer index beginning at `start`.\n",
            "  return get_prediction_index(\n"
          ]
        }
      ]
    },
    {
      "cell_type": "code",
      "source": [
        "plt.figure(figsize=(12,6))\n",
        "plt.title('Comparação da Predição Com os Valores Reais', fontsize=14)\n",
        "plt.plot(teste.index,future_forecast,label='Valor Predito')\n",
        "plt.plot(teste.index,teste['Deaths'].values,label='Real')\n",
        "plt.legend()"
      ],
      "metadata": {
        "colab": {
          "base_uri": "https://localhost:8080/",
          "height": 408
        },
        "id": "Cla5GfDP_VXG",
        "outputId": "d6faebd9-673c-4ff4-ba58-1fe82c13f97a"
      },
      "execution_count": null,
      "outputs": [
        {
          "output_type": "execute_result",
          "data": {
            "text/plain": [
              "<matplotlib.legend.Legend at 0x7f10c5749b80>"
            ]
          },
          "metadata": {},
          "execution_count": 12
        },
        {
          "output_type": "display_data",
          "data": {
            "text/plain": [
              "<Figure size 864x432 with 1 Axes>"
            ],
            "image/png": "[encoded data removed]"
          },
          "metadata": {
            "needs_background": "light"
          }
        }
      ]
    },
    {
      "cell_type": "code",
      "source": [
        "mae = mean_absolute_error(teste['Deaths'],future_forecast)\n",
        "mape = mean_absolute_percentage_error(teste['Deaths'],future_forecast)\n",
        "rmse = mean_squared_error(teste['Deaths'],future_forecast)\n",
        "\n",
        "print('MAE:',mae)\n",
        "print('MAPE:',mape)\n",
        "print('RMSE:',np.sqrt(rmse))"
      ],
      "metadata": {
        "colab": {
          "base_uri": "https://localhost:8080/"
        },
        "id": "iJ3M2I-__ajJ",
        "outputId": "e434e329-735c-40d8-def2-ac30ac881e6d"
      },
      "execution_count": null,
      "outputs": [
        {
          "output_type": "stream",
          "name": "stdout",
          "text": [
            "MAE: 220.79378615722183\n",
            "MAPE: 0.0056749340482763625\n",
            "RMSE: 261.174255213807\n"
          ]
        }
      ]
    },
    {
      "cell_type": "code",
      "source": [
        "plt.figure(figsize=(12,6))\n",
        "plt.title('Comparação da Predição Com os Valores Reais', fontsize=14)\n",
        "plt.plot(teste.index,future_forecast1,label='Valor Predito')\n",
        "plt.plot(teste.index,teste['Deaths'].values,label='Real')\n",
        "plt.legend()"
      ],
      "metadata": {
        "colab": {
          "base_uri": "https://localhost:8080/",
          "height": 408
        },
        "id": "IZR9ZjOY_e6-",
        "outputId": "63217fbc-800f-4772-e953-97d3ecbba9d8"
      },
      "execution_count": null,
      "outputs": [
        {
          "output_type": "execute_result",
          "data": {
            "text/plain": [
              "<matplotlib.legend.Legend at 0x7f10c5178520>"
            ]
          },
          "metadata": {},
          "execution_count": 14
        },
        {
          "output_type": "display_data",
          "data": {
            "text/plain": [
              "<Figure size 864x432 with 1 Axes>"
            ],
            "image/png": "[encoded data removed]"
          },
          "metadata": {
            "needs_background": "light"
          }
        }
      ]
    },
    {
      "cell_type": "code",
      "source": [
        "mae = mean_absolute_error(teste['Deaths'],future_forecast1)\n",
        "mape = mean_absolute_percentage_error(teste['Deaths'],future_forecast1)\n",
        "rmse = mean_squared_error(teste['Deaths'],future_forecast1)\n",
        "\n",
        "print('MAE:',mae)\n",
        "print('MAPE:',mape)\n",
        "print('RMSE:',np.sqrt(rmse))"
      ],
      "metadata": {
        "colab": {
          "base_uri": "https://localhost:8080/"
        },
        "id": "SUezk0N6_i9Q",
        "outputId": "2f154bbb-a442-4b9b-ca29-2a10604f6419"
      },
      "execution_count": null,
      "outputs": [
        {
          "output_type": "stream",
          "name": "stdout",
          "text": [
            "MAE: 130.5651911801772\n",
            "MAPE: 0.003355357711384228\n",
            "RMSE: 157.15243237668253\n"
          ]
        }
      ]
    }
  ]
}