{
  "nbformat": 4,
  "nbformat_minor": 0,
  "metadata": {
    "colab": {
      "provenance": []
    },
    "kernelspec": {
      "name": "python3",
      "display_name": "Python 3"
    },
    "language_info": {
      "name": "python"
    }
  },
  "cells": [
    {
      "cell_type": "markdown",
      "source": [
        "# Testando Outros Modelos Argentina\n",
        "\n",
        "Neste notebook será testado outros modelo de séries temporais da Covid na Argentina, comparando os resultados com o modelo baseline feito na sprint 2."
      ],
      "metadata": {
        "id": "DexOMPh1o4CL"
      }
    },
    {
      "cell_type": "code",
      "execution_count": null,
      "metadata": {
        "colab": {
          "base_uri": "https://localhost:8080/"
        },
        "id": "zSbNJ21Roumv",
        "outputId": "f656740a-2828-4bd3-cd2f-177d8076669a"
      },
      "outputs": [
        {
          "output_type": "stream",
          "name": "stdout",
          "text": [
            "Looking in indexes: https://pypi.org/simple, https://us-python.pkg.dev/colab-wheels/public/simple/\n",
            "Requirement already satisfied: pmdarima in /usr/local/lib/python3.8/dist-packages (2.0.2)\n",
            "Requirement already satisfied: statsmodels>=0.13.2 in /usr/local/lib/python3.8/dist-packages (from pmdarima) (0.13.5)\n",
            "Requirement already satisfied: urllib3 in /usr/local/lib/python3.8/dist-packages (from pmdarima) (1.24.3)\n",
            "Requirement already satisfied: scipy>=1.3.2 in /usr/local/lib/python3.8/dist-packages (from pmdarima) (1.7.3)\n",
            "Requirement already satisfied: scikit-learn>=0.22 in /usr/local/lib/python3.8/dist-packages (from pmdarima) (1.0.2)\n",
            "Requirement already satisfied: setuptools!=50.0.0,>=38.6.0 in /usr/local/lib/python3.8/dist-packages (from pmdarima) (57.4.0)\n",
            "Requirement already satisfied: Cython!=0.29.18,!=0.29.31,>=0.29 in /usr/local/lib/python3.8/dist-packages (from pmdarima) (0.29.32)\n",
            "Requirement already satisfied: pandas>=0.19 in /usr/local/lib/python3.8/dist-packages (from pmdarima) (1.3.5)\n",
            "Requirement already satisfied: numpy>=1.21.2 in /usr/local/lib/python3.8/dist-packages (from pmdarima) (1.21.6)\n",
            "Requirement already satisfied: joblib>=0.11 in /usr/local/lib/python3.8/dist-packages (from pmdarima) (1.2.0)\n",
            "Requirement already satisfied: python-dateutil>=2.7.3 in /usr/local/lib/python3.8/dist-packages (from pandas>=0.19->pmdarima) (2.8.2)\n",
            "Requirement already satisfied: pytz>=2017.3 in /usr/local/lib/python3.8/dist-packages (from pandas>=0.19->pmdarima) (2022.6)\n",
            "Requirement already satisfied: six>=1.5 in /usr/local/lib/python3.8/dist-packages (from python-dateutil>=2.7.3->pandas>=0.19->pmdarima) (1.15.0)\n",
            "Requirement already satisfied: threadpoolctl>=2.0.0 in /usr/local/lib/python3.8/dist-packages (from scikit-learn>=0.22->pmdarima) (3.1.0)\n",
            "Requirement already satisfied: patsy>=0.5.2 in /usr/local/lib/python3.8/dist-packages (from statsmodels>=0.13.2->pmdarima) (0.5.3)\n",
            "Requirement already satisfied: packaging>=21.3 in /usr/local/lib/python3.8/dist-packages (from statsmodels>=0.13.2->pmdarima) (21.3)\n",
            "Requirement already satisfied: pyparsing!=3.0.5,>=2.0.2 in /usr/local/lib/python3.8/dist-packages (from packaging>=21.3->statsmodels>=0.13.2->pmdarima) (3.0.9)\n"
          ]
        }
      ],
      "source": [
        "# Importando as Blibiotecas\n",
        "import numpy as np\n",
        "import pandas as pd\n",
        "import matplotlib.pyplot as plt\n",
        "import seaborn as sns\n",
        "\n",
        "!pip install pmdarima\n",
        "from pmdarima.arima import auto_arima\n",
        "\n",
        "from sklearn.metrics import mean_absolute_error, mean_squared_error, mean_absolute_percentage_error"
      ]
    },
    {
      "cell_type": "code",
      "source": [
        "serie_arg = pd.read_csv('Séries Temporais Argentina.csv')\n",
        "serie_arg.drop('Unnamed: 0',axis=1,inplace=True)\n",
        "serie_arg['Date'] = pd.to_datetime(serie_arg['Date'],format='%Y-%m-%d')\n",
        "serie_arg['Mês'] = serie_arg['Date'].dt.month\n",
        "serie_arg.head()"
      ],
      "metadata": {
        "colab": {
          "base_uri": "https://localhost:8080/",
          "height": 206
        },
        "id": "929mLnLGpRtB",
        "outputId": "a658eb6d-32d1-45c3-aab7-75024fc153d4"
      },
      "execution_count": null,
      "outputs": [
        {
          "output_type": "execute_result",
          "data": {
            "text/plain": [
              "        Date  Confirmed  Recovered  Deaths   Ano  Mês\n",
              "0 2020-01-22          0        0.0       0  2020    1\n",
              "1 2020-01-23          0        0.0       0  2020    1\n",
              "2 2020-01-24          0        0.0       0  2020    1\n",
              "3 2020-01-25          0        0.0       0  2020    1\n",
              "4 2020-01-26          0        0.0       0  2020    1"
            ],
            "text/html": [
              "\n",
              "  <div id=\"df-dcd16c25-e2db-4bf1-9543-84ef7f4c06d8\">\n",
              "    <div class=\"colab-df-container\">\n",
              "      <div>\n",
              "<style scoped>\n",
              "    .dataframe tbody tr th:only-of-type {\n",
              "        vertical-align: middle;\n",
              "    }\n",
              "\n",
              "    .dataframe tbody tr th {\n",
              "        vertical-align: top;\n",
              "    }\n",
              "\n",
              "    .dataframe thead th {\n",
              "        text-align: right;\n",
              "    }\n",
              "</style>\n",
              "<table border=\"1\" class=\"dataframe\">\n",
              "  <thead>\n",
              "    <tr style=\"text-align: right;\">\n",
              "      <th></th>\n",
              "      <th>Date</th>\n",
              "      <th>Confirmed</th>\n",
              "      <th>Recovered</th>\n",
              "      <th>Deaths</th>\n",
              "      <th>Ano</th>\n",
              "      <th>Mês</th>\n",
              "    </tr>\n",
              "  </thead>\n",
              "  <tbody>\n",
              "    <tr>\n",
              "      <th>0</th>\n",
              "      <td>2020-01-22</td>\n",
              "      <td>0</td>\n",
              "      <td>0.0</td>\n",
              "      <td>0</td>\n",
              "      <td>2020</td>\n",
              "      <td>1</td>\n",
              "    </tr>\n",
              "    <tr>\n",
              "      <th>1</th>\n",
              "      <td>2020-01-23</td>\n",
              "      <td>0</td>\n",
              "      <td>0.0</td>\n",
              "      <td>0</td>\n",
              "      <td>2020</td>\n",
              "      <td>1</td>\n",
              "    </tr>\n",
              "    <tr>\n",
              "      <th>2</th>\n",
              "      <td>2020-01-24</td>\n",
              "      <td>0</td>\n",
              "      <td>0.0</td>\n",
              "      <td>0</td>\n",
              "      <td>2020</td>\n",
              "      <td>1</td>\n",
              "    </tr>\n",
              "    <tr>\n",
              "      <th>3</th>\n",
              "      <td>2020-01-25</td>\n",
              "      <td>0</td>\n",
              "      <td>0.0</td>\n",
              "      <td>0</td>\n",
              "      <td>2020</td>\n",
              "      <td>1</td>\n",
              "    </tr>\n",
              "    <tr>\n",
              "      <th>4</th>\n",
              "      <td>2020-01-26</td>\n",
              "      <td>0</td>\n",
              "      <td>0.0</td>\n",
              "      <td>0</td>\n",
              "      <td>2020</td>\n",
              "      <td>1</td>\n",
              "    </tr>\n",
              "  </tbody>\n",
              "</table>\n",
              "</div>\n",
              "      <button class=\"colab-df-convert\" onclick=\"convertToInteractive('df-dcd16c25-e2db-4bf1-9543-84ef7f4c06d8')\"\n",
              "              title=\"Convert this dataframe to an interactive table.\"\n",
              "              style=\"display:none;\">\n",
              "        \n",
              "  <svg xmlns=\"http://www.w3.org/2000/svg\" height=\"24px\"viewBox=\"0 0 24 24\"\n",
              "       width=\"24px\">\n",
              "    <path d=\"M0 0h24v24H0V0z\" fill=\"none\"/>\n",
              "    <path d=\"M18.56 5.44l.94 2.06.94-2.06 2.06-.94-2.06-.94-.94-2.06-.94 2.06-2.06.94zm-11 1L8.5 8.5l.94-2.06 2.06-.94-2.06-.94L8.5 2.5l-.94 2.06-2.06.94zm10 10l.94 2.06.94-2.06 2.06-.94-2.06-.94-.94-2.06-.94 2.06-2.06.94z\"/><path d=\"M17.41 7.96l-1.37-1.37c-.4-.4-.92-.59-1.43-.59-.52 0-1.04.2-1.43.59L10.3 9.45l-7.72 7.72c-.78.78-.78 2.05 0 2.83L4 21.41c.39.39.9.59 1.41.59.51 0 1.02-.2 1.41-.59l7.78-7.78 2.81-2.81c.8-.78.8-2.07 0-2.86zM5.41 20L4 18.59l7.72-7.72 1.47 1.35L5.41 20z\"/>\n",
              "  </svg>\n",
              "      </button>\n",
              "      \n",
              "  <style>\n",
              "    .colab-df-container {\n",
              "      display:flex;\n",
              "      flex-wrap:wrap;\n",
              "      gap: 12px;\n",
              "    }\n",
              "\n",
              "    .colab-df-convert {\n",
              "      background-color: #E8F0FE;\n",
              "      border: none;\n",
              "      border-radius: 50%;\n",
              "      cursor: pointer;\n",
              "      display: none;\n",
              "      fill: #1967D2;\n",
              "      height: 32px;\n",
              "      padding: 0 0 0 0;\n",
              "      width: 32px;\n",
              "    }\n",
              "\n",
              "    .colab-df-convert:hover {\n",
              "      background-color: #E2EBFA;\n",
              "      box-shadow: 0px 1px 2px rgba(60, 64, 67, 0.3), 0px 1px 3px 1px rgba(60, 64, 67, 0.15);\n",
              "      fill: #174EA6;\n",
              "    }\n",
              "\n",
              "    [theme=dark] .colab-df-convert {\n",
              "      background-color: #3B4455;\n",
              "      fill: #D2E3FC;\n",
              "    }\n",
              "\n",
              "    [theme=dark] .colab-df-convert:hover {\n",
              "      background-color: #434B5C;\n",
              "      box-shadow: 0px 1px 3px 1px rgba(0, 0, 0, 0.15);\n",
              "      filter: drop-shadow(0px 1px 2px rgba(0, 0, 0, 0.3));\n",
              "      fill: #FFFFFF;\n",
              "    }\n",
              "  </style>\n",
              "\n",
              "      <script>\n",
              "        const buttonEl =\n",
              "          document.querySelector('#df-dcd16c25-e2db-4bf1-9543-84ef7f4c06d8 button.colab-df-convert');\n",
              "        buttonEl.style.display =\n",
              "          google.colab.kernel.accessAllowed ? 'block' : 'none';\n",
              "\n",
              "        async function convertToInteractive(key) {\n",
              "          const element = document.querySelector('#df-dcd16c25-e2db-4bf1-9543-84ef7f4c06d8');\n",
              "          const dataTable =\n",
              "            await google.colab.kernel.invokeFunction('convertToInteractive',\n",
              "                                                     [key], {});\n",
              "          if (!dataTable) return;\n",
              "\n",
              "          const docLinkHtml = 'Like what you see? Visit the ' +\n",
              "            '<a target=\"_blank\" href=https://colab.research.google.com/notebooks/data_table.ipynb>data table notebook</a>'\n",
              "            + ' to learn more about interactive tables.';\n",
              "          element.innerHTML = '';\n",
              "          dataTable['output_type'] = 'display_data';\n",
              "          await google.colab.output.renderOutput(dataTable, element);\n",
              "          const docLink = document.createElement('div');\n",
              "          docLink.innerHTML = docLinkHtml;\n",
              "          element.appendChild(docLink);\n",
              "        }\n",
              "      </script>\n",
              "    </div>\n",
              "  </div>\n",
              "  "
            ]
          },
          "metadata": {},
          "execution_count": 9
        }
      ]
    },
    {
      "cell_type": "code",
      "source": [
        "serie_arg.set_index('Date',inplace=True)\n",
        "serie_arg.head()"
      ],
      "metadata": {
        "colab": {
          "base_uri": "https://localhost:8080/",
          "height": 238
        },
        "id": "dujsyeaLpwDf",
        "outputId": "8f5ee472-09cb-45fe-c343-6a221e29cd52"
      },
      "execution_count": null,
      "outputs": [
        {
          "output_type": "execute_result",
          "data": {
            "text/plain": [
              "            Confirmed  Recovered  Deaths   Ano  Mês\n",
              "Date                                               \n",
              "2020-01-22          0        0.0       0  2020    1\n",
              "2020-01-23          0        0.0       0  2020    1\n",
              "2020-01-24          0        0.0       0  2020    1\n",
              "2020-01-25          0        0.0       0  2020    1\n",
              "2020-01-26          0        0.0       0  2020    1"
            ],
            "text/html": [
              "\n",
              "  <div id=\"df-56bc45c0-5994-421d-bb0d-8940a5d05d4d\">\n",
              "    <div class=\"colab-df-container\">\n",
              "      <div>\n",
              "<style scoped>\n",
              "    .dataframe tbody tr th:only-of-type {\n",
              "        vertical-align: middle;\n",
              "    }\n",
              "\n",
              "    .dataframe tbody tr th {\n",
              "        vertical-align: top;\n",
              "    }\n",
              "\n",
              "    .dataframe thead th {\n",
              "        text-align: right;\n",
              "    }\n",
              "</style>\n",
              "<table border=\"1\" class=\"dataframe\">\n",
              "  <thead>\n",
              "    <tr style=\"text-align: right;\">\n",
              "      <th></th>\n",
              "      <th>Confirmed</th>\n",
              "      <th>Recovered</th>\n",
              "      <th>Deaths</th>\n",
              "      <th>Ano</th>\n",
              "      <th>Mês</th>\n",
              "    </tr>\n",
              "    <tr>\n",
              "      <th>Date</th>\n",
              "      <th></th>\n",
              "      <th></th>\n",
              "      <th></th>\n",
              "      <th></th>\n",
              "      <th></th>\n",
              "    </tr>\n",
              "  </thead>\n",
              "  <tbody>\n",
              "    <tr>\n",
              "      <th>2020-01-22</th>\n",
              "      <td>0</td>\n",
              "      <td>0.0</td>\n",
              "      <td>0</td>\n",
              "      <td>2020</td>\n",
              "      <td>1</td>\n",
              "    </tr>\n",
              "    <tr>\n",
              "      <th>2020-01-23</th>\n",
              "      <td>0</td>\n",
              "      <td>0.0</td>\n",
              "      <td>0</td>\n",
              "      <td>2020</td>\n",
              "      <td>1</td>\n",
              "    </tr>\n",
              "    <tr>\n",
              "      <th>2020-01-24</th>\n",
              "      <td>0</td>\n",
              "      <td>0.0</td>\n",
              "      <td>0</td>\n",
              "      <td>2020</td>\n",
              "      <td>1</td>\n",
              "    </tr>\n",
              "    <tr>\n",
              "      <th>2020-01-25</th>\n",
              "      <td>0</td>\n",
              "      <td>0.0</td>\n",
              "      <td>0</td>\n",
              "      <td>2020</td>\n",
              "      <td>1</td>\n",
              "    </tr>\n",
              "    <tr>\n",
              "      <th>2020-01-26</th>\n",
              "      <td>0</td>\n",
              "      <td>0.0</td>\n",
              "      <td>0</td>\n",
              "      <td>2020</td>\n",
              "      <td>1</td>\n",
              "    </tr>\n",
              "  </tbody>\n",
              "</table>\n",
              "</div>\n",
              "      <button class=\"colab-df-convert\" onclick=\"convertToInteractive('df-56bc45c0-5994-421d-bb0d-8940a5d05d4d')\"\n",
              "              title=\"Convert this dataframe to an interactive table.\"\n",
              "              style=\"display:none;\">\n",
              "        \n",
              "  <svg xmlns=\"http://www.w3.org/2000/svg\" height=\"24px\"viewBox=\"0 0 24 24\"\n",
              "       width=\"24px\">\n",
              "    <path d=\"M0 0h24v24H0V0z\" fill=\"none\"/>\n",
              "    <path d=\"M18.56 5.44l.94 2.06.94-2.06 2.06-.94-2.06-.94-.94-2.06-.94 2.06-2.06.94zm-11 1L8.5 8.5l.94-2.06 2.06-.94-2.06-.94L8.5 2.5l-.94 2.06-2.06.94zm10 10l.94 2.06.94-2.06 2.06-.94-2.06-.94-.94-2.06-.94 2.06-2.06.94z\"/><path d=\"M17.41 7.96l-1.37-1.37c-.4-.4-.92-.59-1.43-.59-.52 0-1.04.2-1.43.59L10.3 9.45l-7.72 7.72c-.78.78-.78 2.05 0 2.83L4 21.41c.39.39.9.59 1.41.59.51 0 1.02-.2 1.41-.59l7.78-7.78 2.81-2.81c.8-.78.8-2.07 0-2.86zM5.41 20L4 18.59l7.72-7.72 1.47 1.35L5.41 20z\"/>\n",
              "  </svg>\n",
              "      </button>\n",
              "      \n",
              "  <style>\n",
              "    .colab-df-container {\n",
              "      display:flex;\n",
              "      flex-wrap:wrap;\n",
              "      gap: 12px;\n",
              "    }\n",
              "\n",
              "    .colab-df-convert {\n",
              "      background-color: #E8F0FE;\n",
              "      border: none;\n",
              "      border-radius: 50%;\n",
              "      cursor: pointer;\n",
              "      display: none;\n",
              "      fill: #1967D2;\n",
              "      height: 32px;\n",
              "      padding: 0 0 0 0;\n",
              "      width: 32px;\n",
              "    }\n",
              "\n",
              "    .colab-df-convert:hover {\n",
              "      background-color: #E2EBFA;\n",
              "      box-shadow: 0px 1px 2px rgba(60, 64, 67, 0.3), 0px 1px 3px 1px rgba(60, 64, 67, 0.15);\n",
              "      fill: #174EA6;\n",
              "    }\n",
              "\n",
              "    [theme=dark] .colab-df-convert {\n",
              "      background-color: #3B4455;\n",
              "      fill: #D2E3FC;\n",
              "    }\n",
              "\n",
              "    [theme=dark] .colab-df-convert:hover {\n",
              "      background-color: #434B5C;\n",
              "      box-shadow: 0px 1px 3px 1px rgba(0, 0, 0, 0.15);\n",
              "      filter: drop-shadow(0px 1px 2px rgba(0, 0, 0, 0.3));\n",
              "      fill: #FFFFFF;\n",
              "    }\n",
              "  </style>\n",
              "\n",
              "      <script>\n",
              "        const buttonEl =\n",
              "          document.querySelector('#df-56bc45c0-5994-421d-bb0d-8940a5d05d4d button.colab-df-convert');\n",
              "        buttonEl.style.display =\n",
              "          google.colab.kernel.accessAllowed ? 'block' : 'none';\n",
              "\n",
              "        async function convertToInteractive(key) {\n",
              "          const element = document.querySelector('#df-56bc45c0-5994-421d-bb0d-8940a5d05d4d');\n",
              "          const dataTable =\n",
              "            await google.colab.kernel.invokeFunction('convertToInteractive',\n",
              "                                                     [key], {});\n",
              "          if (!dataTable) return;\n",
              "\n",
              "          const docLinkHtml = 'Like what you see? Visit the ' +\n",
              "            '<a target=\"_blank\" href=https://colab.research.google.com/notebooks/data_table.ipynb>data table notebook</a>'\n",
              "            + ' to learn more about interactive tables.';\n",
              "          element.innerHTML = '';\n",
              "          dataTable['output_type'] = 'display_data';\n",
              "          await google.colab.output.renderOutput(dataTable, element);\n",
              "          const docLink = document.createElement('div');\n",
              "          docLink.innerHTML = docLinkHtml;\n",
              "          element.appendChild(docLink);\n",
              "        }\n",
              "      </script>\n",
              "    </div>\n",
              "  </div>\n",
              "  "
            ]
          },
          "metadata": {},
          "execution_count": 10
        }
      ]
    },
    {
      "cell_type": "code",
      "source": [
        "treino = serie_arg[(serie_arg['Ano']<=2021)&(serie_arg['Mês']<12)]\n",
        "teste = serie_arg[(serie_arg['Ano']==2021)&(serie_arg['Mês'] == 12)]"
      ],
      "metadata": {
        "id": "tPrKLdyBp199"
      },
      "execution_count": null,
      "outputs": []
    },
    {
      "cell_type": "code",
      "source": [
        "step1 = auto_arima(treino['Deaths'],start_p=1,start_q=1,max_p=6,max_q=6,m=12,start_P=0,seasonal=True,d=1,D=1,trace=True,\n",
        "                    error_action='ignore',suppress_warnings=True,stepwise=False)"
      ],
      "metadata": {
        "colab": {
          "base_uri": "https://localhost:8080/"
        },
        "id": "voJ9DCw8qvD5",
        "outputId": "68968e2b-1394-4938-a471-e35d6d0c18b3"
      },
      "execution_count": null,
      "outputs": [
        {
          "output_type": "stream",
          "name": "stdout",
          "text": [
            " ARIMA(0,1,0)(0,1,0)[12]             : AIC=9153.701, Time=0.11 sec\n",
            " ARIMA(0,1,0)(0,1,1)[12]             : AIC=8899.327, Time=0.81 sec\n",
            " ARIMA(0,1,0)(0,1,2)[12]             : AIC=8901.233, Time=2.66 sec\n",
            " ARIMA(0,1,0)(1,1,0)[12]             : AIC=8990.699, Time=0.25 sec\n",
            " ARIMA(0,1,0)(1,1,1)[12]             : AIC=8901.230, Time=1.33 sec\n",
            " ARIMA(0,1,0)(1,1,2)[12]             : AIC=inf, Time=7.54 sec\n",
            " ARIMA(0,1,0)(2,1,0)[12]             : AIC=8926.490, Time=1.09 sec\n",
            " ARIMA(0,1,0)(2,1,1)[12]             : AIC=inf, Time=7.62 sec\n",
            " ARIMA(0,1,0)(2,1,2)[12]             : AIC=inf, Time=8.39 sec\n",
            " ARIMA(0,1,1)(0,1,0)[12]             : AIC=9154.794, Time=0.23 sec\n",
            " ARIMA(0,1,1)(0,1,1)[12]             : AIC=8888.141, Time=1.85 sec\n",
            " ARIMA(0,1,1)(0,1,2)[12]             : AIC=8890.093, Time=6.12 sec\n",
            " ARIMA(0,1,1)(1,1,0)[12]             : AIC=8989.084, Time=0.61 sec\n",
            " ARIMA(0,1,1)(1,1,1)[12]             : AIC=8890.083, Time=3.99 sec\n",
            " ARIMA(0,1,1)(1,1,2)[12]             : AIC=8892.138, Time=5.55 sec\n",
            " ARIMA(0,1,1)(2,1,0)[12]             : AIC=8923.122, Time=1.39 sec\n",
            " ARIMA(0,1,1)(2,1,1)[12]             : AIC=inf, Time=6.07 sec\n",
            " ARIMA(0,1,1)(2,1,2)[12]             : AIC=inf, Time=12.91 sec\n",
            " ARIMA(0,1,2)(0,1,0)[12]             : AIC=9155.519, Time=0.14 sec\n",
            " ARIMA(0,1,2)(0,1,1)[12]             : AIC=8883.837, Time=3.15 sec\n",
            " ARIMA(0,1,2)(0,1,2)[12]             : AIC=8885.690, Time=4.62 sec\n",
            " ARIMA(0,1,2)(1,1,0)[12]             : AIC=8991.083, Time=0.74 sec\n",
            " ARIMA(0,1,2)(1,1,1)[12]             : AIC=8885.657, Time=5.08 sec\n",
            " ARIMA(0,1,2)(1,1,2)[12]             : AIC=inf, Time=13.04 sec\n",
            " ARIMA(0,1,2)(2,1,0)[12]             : AIC=8924.706, Time=1.69 sec\n",
            " ARIMA(0,1,2)(2,1,1)[12]             : AIC=inf, Time=8.82 sec\n",
            " ARIMA(0,1,3)(0,1,0)[12]             : AIC=9157.210, Time=0.39 sec\n",
            " ARIMA(0,1,3)(0,1,1)[12]             : AIC=8881.104, Time=6.36 sec\n",
            " ARIMA(0,1,3)(0,1,2)[12]             : AIC=8882.681, Time=8.01 sec\n",
            " ARIMA(0,1,3)(1,1,0)[12]             : AIC=8992.502, Time=0.93 sec\n",
            " ARIMA(0,1,3)(1,1,1)[12]             : AIC=8882.595, Time=8.61 sec\n",
            " ARIMA(0,1,3)(2,1,0)[12]             : AIC=8926.578, Time=2.22 sec\n",
            " ARIMA(0,1,4)(0,1,0)[12]             : AIC=9158.911, Time=0.31 sec\n",
            " ARIMA(0,1,4)(0,1,1)[12]             : AIC=8877.553, Time=6.61 sec\n",
            " ARIMA(0,1,4)(1,1,0)[12]             : AIC=8994.441, Time=1.29 sec\n",
            " ARIMA(0,1,5)(0,1,0)[12]             : AIC=9160.659, Time=0.42 sec\n",
            " ARIMA(1,1,0)(0,1,0)[12]             : AIC=9154.882, Time=0.11 sec\n",
            " ARIMA(1,1,0)(0,1,1)[12]             : AIC=8884.717, Time=2.07 sec\n",
            " ARIMA(1,1,0)(0,1,2)[12]             : AIC=8886.510, Time=4.12 sec\n",
            " ARIMA(1,1,0)(1,1,0)[12]             : AIC=8989.130, Time=0.69 sec\n",
            " ARIMA(1,1,0)(1,1,1)[12]             : AIC=8886.458, Time=4.07 sec\n",
            " ARIMA(1,1,0)(1,1,2)[12]             : AIC=inf, Time=10.13 sec\n",
            " ARIMA(1,1,0)(2,1,0)[12]             : AIC=8922.864, Time=1.46 sec\n",
            " ARIMA(1,1,0)(2,1,1)[12]             : AIC=inf, Time=5.00 sec\n",
            " ARIMA(1,1,0)(2,1,2)[12]             : AIC=inf, Time=10.92 sec\n",
            " ARIMA(1,1,1)(0,1,0)[12]             : AIC=9156.323, Time=0.30 sec\n",
            " ARIMA(1,1,1)(0,1,1)[12]             : AIC=inf, Time=2.45 sec\n",
            " ARIMA(1,1,1)(0,1,2)[12]             : AIC=inf, Time=14.36 sec\n",
            " ARIMA(1,1,1)(1,1,0)[12]             : AIC=inf, Time=2.92 sec\n",
            " ARIMA(1,1,1)(1,1,1)[12]             : AIC=inf, Time=6.01 sec\n",
            " ARIMA(1,1,1)(1,1,2)[12]             : AIC=inf, Time=8.61 sec\n",
            " ARIMA(1,1,1)(2,1,0)[12]             : AIC=8914.670, Time=4.91 sec\n",
            " ARIMA(1,1,1)(2,1,1)[12]             : AIC=inf, Time=9.01 sec\n",
            " ARIMA(1,1,2)(0,1,0)[12]             : AIC=9157.323, Time=0.31 sec\n",
            " ARIMA(1,1,2)(0,1,1)[12]             : AIC=inf, Time=4.24 sec\n",
            " ARIMA(1,1,2)(0,1,2)[12]             : AIC=inf, Time=8.68 sec\n",
            " ARIMA(1,1,2)(1,1,0)[12]             : AIC=8989.182, Time=2.00 sec\n",
            " ARIMA(1,1,2)(1,1,1)[12]             : AIC=inf, Time=5.59 sec\n",
            " ARIMA(1,1,2)(2,1,0)[12]             : AIC=8908.585, Time=9.95 sec\n",
            " ARIMA(1,1,3)(0,1,0)[12]             : AIC=9159.560, Time=0.24 sec\n",
            " ARIMA(1,1,3)(0,1,1)[12]             : AIC=inf, Time=5.98 sec\n",
            " ARIMA(1,1,3)(1,1,0)[12]             : AIC=inf, Time=4.31 sec\n",
            " ARIMA(1,1,4)(0,1,0)[12]             : AIC=9159.928, Time=1.16 sec\n",
            " ARIMA(2,1,0)(0,1,0)[12]             : AIC=9155.329, Time=0.11 sec\n",
            " ARIMA(2,1,0)(0,1,1)[12]             : AIC=8875.785, Time=3.95 sec\n",
            " ARIMA(2,1,0)(0,1,2)[12]             : AIC=8877.250, Time=9.45 sec\n",
            " ARIMA(2,1,0)(1,1,0)[12]             : AIC=8991.044, Time=0.86 sec\n",
            " ARIMA(2,1,0)(1,1,1)[12]             : AIC=inf, Time=3.27 sec\n",
            " ARIMA(2,1,0)(1,1,2)[12]             : AIC=inf, Time=11.96 sec\n",
            " ARIMA(2,1,0)(2,1,0)[12]             : AIC=8924.575, Time=2.33 sec\n",
            " ARIMA(2,1,0)(2,1,1)[12]             : AIC=inf, Time=11.42 sec\n",
            " ARIMA(2,1,1)(0,1,0)[12]             : AIC=9157.200, Time=0.31 sec\n",
            " ARIMA(2,1,1)(0,1,1)[12]             : AIC=inf, Time=4.80 sec\n",
            " ARIMA(2,1,1)(0,1,2)[12]             : AIC=inf, Time=10.01 sec\n",
            " ARIMA(2,1,1)(1,1,0)[12]             : AIC=inf, Time=4.29 sec\n",
            " ARIMA(2,1,1)(1,1,1)[12]             : AIC=inf, Time=6.38 sec\n",
            " ARIMA(2,1,1)(2,1,0)[12]             : AIC=8916.406, Time=6.32 sec\n",
            " ARIMA(2,1,2)(0,1,0)[12]             : AIC=9159.212, Time=0.48 sec\n",
            " ARIMA(2,1,2)(0,1,1)[12]             : AIC=inf, Time=6.39 sec\n",
            " ARIMA(2,1,2)(1,1,0)[12]             : AIC=8984.662, Time=7.33 sec\n",
            " ARIMA(2,1,3)(0,1,0)[12]             : AIC=inf, Time=2.85 sec\n",
            " ARIMA(3,1,0)(0,1,0)[12]             : AIC=9157.134, Time=0.13 sec\n",
            " ARIMA(3,1,0)(0,1,1)[12]             : AIC=inf, Time=3.07 sec\n",
            " ARIMA(3,1,0)(0,1,2)[12]             : AIC=inf, Time=6.79 sec\n",
            " ARIMA(3,1,0)(1,1,0)[12]             : AIC=8992.454, Time=0.96 sec\n",
            " ARIMA(3,1,0)(1,1,1)[12]             : AIC=inf, Time=4.06 sec\n",
            " ARIMA(3,1,0)(2,1,0)[12]             : AIC=8926.274, Time=1.88 sec\n",
            " ARIMA(3,1,1)(0,1,0)[12]             : AIC=9158.851, Time=0.71 sec\n",
            " ARIMA(3,1,1)(0,1,1)[12]             : AIC=inf, Time=5.69 sec\n",
            " ARIMA(3,1,1)(1,1,0)[12]             : AIC=inf, Time=5.00 sec\n",
            " ARIMA(3,1,2)(0,1,0)[12]             : AIC=9139.841, Time=2.24 sec\n",
            " ARIMA(4,1,0)(0,1,0)[12]             : AIC=9159.015, Time=0.15 sec\n",
            " ARIMA(4,1,0)(0,1,1)[12]             : AIC=inf, Time=3.75 sec\n",
            " ARIMA(4,1,0)(1,1,0)[12]             : AIC=8994.409, Time=1.29 sec\n",
            " ARIMA(4,1,1)(0,1,0)[12]             : AIC=9160.716, Time=0.50 sec\n",
            " ARIMA(5,1,0)(0,1,0)[12]             : AIC=9160.206, Time=0.20 sec\n",
            "\n",
            "Best model:  ARIMA(2,1,0)(0,1,1)[12]          \n",
            "Total fit time: 399.841 seconds\n"
          ]
        }
      ]
    },
    {
      "cell_type": "code",
      "source": [
        "step2 = auto_arima(serie_arg['Deaths'],start_p=1,start_q=1,max_p=6,max_q=6,m=12,start_P=0,seasonal=True,d=1,D=1,trace=True,\n",
        "                    error_action='ignore',suppress_warnings=True,stepwise=True)"
      ],
      "metadata": {
        "colab": {
          "base_uri": "https://localhost:8080/"
        },
        "id": "I1vhcppMsaF7",
        "outputId": "c93e5041-0338-4420-ee31-1108ce0927a5"
      },
      "execution_count": null,
      "outputs": [
        {
          "output_type": "stream",
          "name": "stdout",
          "text": [
            "Performing stepwise search to minimize aic\n",
            " ARIMA(1,1,1)(0,1,1)[12]             : AIC=inf, Time=4.52 sec\n",
            " ARIMA(0,1,0)(0,1,0)[12]             : AIC=9418.940, Time=0.07 sec\n",
            " ARIMA(1,1,0)(1,1,0)[12]             : AIC=9246.806, Time=0.63 sec\n",
            " ARIMA(0,1,1)(0,1,1)[12]             : AIC=9177.693, Time=1.32 sec\n",
            " ARIMA(0,1,1)(0,1,0)[12]             : AIC=9408.786, Time=0.23 sec\n",
            " ARIMA(0,1,1)(1,1,1)[12]             : AIC=9178.674, Time=1.98 sec\n",
            " ARIMA(0,1,1)(0,1,2)[12]             : AIC=9178.485, Time=3.09 sec\n",
            " ARIMA(0,1,1)(1,1,0)[12]             : AIC=9247.671, Time=0.64 sec\n",
            " ARIMA(0,1,1)(1,1,2)[12]             : AIC=inf, Time=10.43 sec\n",
            " ARIMA(0,1,0)(0,1,1)[12]             : AIC=9224.276, Time=0.63 sec\n",
            " ARIMA(0,1,2)(0,1,1)[12]             : AIC=9168.928, Time=1.91 sec\n",
            " ARIMA(0,1,2)(0,1,0)[12]             : AIC=9407.481, Time=0.12 sec\n",
            " ARIMA(0,1,2)(1,1,1)[12]             : AIC=9169.749, Time=2.09 sec\n",
            " ARIMA(0,1,2)(0,1,2)[12]             : AIC=9169.670, Time=4.25 sec\n",
            " ARIMA(0,1,2)(1,1,0)[12]             : AIC=9248.505, Time=0.83 sec\n",
            " ARIMA(0,1,2)(1,1,2)[12]             : AIC=inf, Time=9.97 sec\n",
            " ARIMA(1,1,2)(0,1,1)[12]             : AIC=inf, Time=3.16 sec\n",
            " ARIMA(0,1,3)(0,1,1)[12]             : AIC=9161.511, Time=3.00 sec\n",
            " ARIMA(0,1,3)(0,1,0)[12]             : AIC=9407.726, Time=0.43 sec\n",
            " ARIMA(0,1,3)(1,1,1)[12]             : AIC=9162.953, Time=6.39 sec\n",
            " ARIMA(0,1,3)(0,1,2)[12]             : AIC=9162.935, Time=5.97 sec\n",
            " ARIMA(0,1,3)(1,1,0)[12]             : AIC=9250.252, Time=0.91 sec\n",
            " ARIMA(0,1,3)(1,1,2)[12]             : AIC=inf, Time=17.64 sec\n",
            " ARIMA(1,1,3)(0,1,1)[12]             : AIC=inf, Time=6.83 sec\n",
            " ARIMA(0,1,4)(0,1,1)[12]             : AIC=9155.812, Time=5.78 sec\n",
            " ARIMA(0,1,4)(0,1,0)[12]             : AIC=9409.622, Time=0.67 sec\n",
            " ARIMA(0,1,4)(1,1,1)[12]             : AIC=9157.755, Time=9.54 sec\n",
            " ARIMA(0,1,4)(0,1,2)[12]             : AIC=9157.755, Time=9.50 sec\n",
            " ARIMA(0,1,4)(1,1,0)[12]             : AIC=9252.250, Time=1.16 sec\n",
            " ARIMA(0,1,4)(1,1,2)[12]             : AIC=inf, Time=20.55 sec\n",
            " ARIMA(1,1,4)(0,1,1)[12]             : AIC=inf, Time=10.21 sec\n",
            " ARIMA(0,1,5)(0,1,1)[12]             : AIC=9156.746, Time=5.27 sec\n",
            " ARIMA(1,1,5)(0,1,1)[12]             : AIC=inf, Time=7.78 sec\n",
            " ARIMA(0,1,4)(0,1,1)[12] intercept   : AIC=9157.758, Time=7.57 sec\n",
            "\n",
            "Best model:  ARIMA(0,1,4)(0,1,1)[12]          \n",
            "Total fit time: 165.154 seconds\n"
          ]
        }
      ]
    },
    {
      "cell_type": "code",
      "source": [
        "step1.fit(treino['Deaths'])"
      ],
      "metadata": {
        "colab": {
          "base_uri": "https://localhost:8080/"
        },
        "id": "NBhZHOzRtS6w",
        "outputId": "6efe87b5-58ef-4143-b60b-ff54fccb3594"
      },
      "execution_count": null,
      "outputs": [
        {
          "output_type": "execute_result",
          "data": {
            "text/plain": [
              "ARIMA(order=(2, 1, 0), scoring_args={}, seasonal_order=(0, 1, 1, 12),\n",
              "      suppress_warnings=True, with_intercept=False)"
            ]
          },
          "metadata": {},
          "execution_count": 14
        }
      ]
    },
    {
      "cell_type": "code",
      "source": [
        "step2.fit(treino['Deaths'])"
      ],
      "metadata": {
        "colab": {
          "base_uri": "https://localhost:8080/"
        },
        "id": "6MbVKTDGtUjC",
        "outputId": "72154d63-2876-4f09-90ad-26b68e8ce7cf"
      },
      "execution_count": null,
      "outputs": [
        {
          "output_type": "execute_result",
          "data": {
            "text/plain": [
              "ARIMA(order=(0, 1, 4), scoring_args={}, seasonal_order=(0, 1, 1, 12),\n",
              "      suppress_warnings=True, with_intercept=False)"
            ]
          },
          "metadata": {},
          "execution_count": 15
        }
      ]
    },
    {
      "cell_type": "code",
      "source": [
        "future_forecast=step1.predict(n_periods=len(teste))"
      ],
      "metadata": {
        "colab": {
          "base_uri": "https://localhost:8080/"
        },
        "id": "lcchE04-tbql",
        "outputId": "d171928a-2b41-48a9-c584-0c25fd125efa"
      },
      "execution_count": null,
      "outputs": [
        {
          "output_type": "stream",
          "name": "stderr",
          "text": [
            "/usr/local/lib/python3.8/dist-packages/statsmodels/tsa/base/tsa_model.py:834: ValueWarning: No supported index is available. Prediction results will be given with an integer index beginning at `start`.\n",
            "  return get_prediction_index(\n"
          ]
        }
      ]
    },
    {
      "cell_type": "code",
      "source": [
        "future_forecast1 = step2.predict(n_periods=len(teste))"
      ],
      "metadata": {
        "colab": {
          "base_uri": "https://localhost:8080/"
        },
        "id": "np3_-kvUtf0v",
        "outputId": "6b175f6f-b53e-4429-a3af-3cdee0d00908"
      },
      "execution_count": null,
      "outputs": [
        {
          "output_type": "stream",
          "name": "stderr",
          "text": [
            "/usr/local/lib/python3.8/dist-packages/statsmodels/tsa/base/tsa_model.py:834: ValueWarning: No supported index is available. Prediction results will be given with an integer index beginning at `start`.\n",
            "  return get_prediction_index(\n"
          ]
        }
      ]
    },
    {
      "cell_type": "code",
      "source": [
        "plt.figure(figsize=(12,6))\n",
        "plt.title('Comparação da Predição Com os Valores Reais', fontsize=14)\n",
        "plt.plot(teste.index,future_forecast,label='Valor Predito')\n",
        "plt.plot(teste.index,teste['Deaths'].values,label='Real')\n",
        "plt.legend()"
      ],
      "metadata": {
        "colab": {
          "base_uri": "https://localhost:8080/",
          "height": 408
        },
        "id": "JpJ9OaBLtjCO",
        "outputId": "7a282745-dbf7-419d-833f-8d0a84b68588"
      },
      "execution_count": null,
      "outputs": [
        {
          "output_type": "execute_result",
          "data": {
            "text/plain": [
              "<matplotlib.legend.Legend at 0x7f34d58d5160>"
            ]
          },
          "metadata": {},
          "execution_count": 18
        },
        {
          "output_type": "display_data",
          "data": {
            "text/plain": [
              "<Figure size 864x432 with 1 Axes>"
            ],
            "image/png": "[encoded data removed]"
          },
          "metadata": {
            "needs_background": "light"
          }
        }
      ]
    },
    {
      "cell_type": "code",
      "source": [
        "mae = mean_absolute_error(teste['Deaths'],future_forecast)\n",
        "mape = mean_absolute_percentage_error(teste['Deaths'],future_forecast)\n",
        "rmse = mean_squared_error(teste['Deaths'],future_forecast)\n",
        "\n",
        "print('MAE:',mae)\n",
        "print('MAPE:',mape)\n",
        "print('RMSE:',np.sqrt(rmse))"
      ],
      "metadata": {
        "colab": {
          "base_uri": "https://localhost:8080/"
        },
        "id": "ZsQLIiRMtqhO",
        "outputId": "cdd724cb-52e1-4735-af2e-005d184f4197"
      },
      "execution_count": null,
      "outputs": [
        {
          "output_type": "stream",
          "name": "stdout",
          "text": [
            "MAE: 1566.5791892997738\n",
            "MAPE: 0.013394544008283672\n",
            "RMSE: 1800.8609480006116\n"
          ]
        }
      ]
    },
    {
      "cell_type": "code",
      "source": [
        "plt.figure(figsize=(12,6))\n",
        "plt.title('Comparação da Predição Com os Valores Reais', fontsize=14)\n",
        "plt.plot(teste.index,future_forecast1,label='Valor Predito')\n",
        "plt.plot(teste.index,teste['Deaths'].values,label='Real')\n",
        "plt.legend()"
      ],
      "metadata": {
        "colab": {
          "base_uri": "https://localhost:8080/",
          "height": 408
        },
        "id": "tdNkv8-3tvZP",
        "outputId": "a8abed4a-67d1-44cc-beb0-39d0cb0c87e6"
      },
      "execution_count": null,
      "outputs": [
        {
          "output_type": "execute_result",
          "data": {
            "text/plain": [
              "<matplotlib.legend.Legend at 0x7f34d53c6820>"
            ]
          },
          "metadata": {},
          "execution_count": 20
        },
        {
          "output_type": "display_data",
          "data": {
            "text/plain": [
              "<Figure size 864x432 with 1 Axes>"
            ],
            "image/png": "[encoded data removed]"
          },
          "metadata": {
            "needs_background": "light"
          }
        }
      ]
    },
    {
      "cell_type": "code",
      "source": [
        "mae = mean_absolute_error(teste['Deaths'],future_forecast1)\n",
        "mape = mean_absolute_percentage_error(teste['Deaths'],future_forecast1)\n",
        "rmse = mean_squared_error(teste['Deaths'],future_forecast1)\n",
        "\n",
        "print('MAE:',mae)\n",
        "print('MAPE:',mape)\n",
        "print('RMSE:',np.sqrt(rmse))"
      ],
      "metadata": {
        "colab": {
          "base_uri": "https://localhost:8080/"
        },
        "id": "4WTHfsN5tzcZ",
        "outputId": "ecd9f18c-0be7-4e1a-c7ee-b68c0432f9fa"
      },
      "execution_count": null,
      "outputs": [
        {
          "output_type": "stream",
          "name": "stdout",
          "text": [
            "MAE: 1327.1499845104515\n",
            "MAPE: 0.011347435667855553\n",
            "RMSE: 1523.4824505395177\n"
          ]
        }
      ]
    }
  ]
}