{
  "nbformat": 4,
  "nbformat_minor": 0,
  "metadata": {
    "colab": {
      "provenance": []
    },
    "kernelspec": {
      "name": "python3",
      "display_name": "Python 3"
    },
    "language_info": {
      "name": "python"
    },
    "accelerator": "GPU",
    "gpuClass": "standard",
    "widgets": {
      "application/vnd.jupyter.widget-state+json": {
        "b5a607693dd24c74904c92f63a2ef395": {
          "model_module": "@jupyter-widgets/controls",
          "model_name": "HBoxModel",
          "model_module_version": "1.5.0",
          "state": {
            "_dom_classes": [],
            "_model_module": "@jupyter-widgets/controls",
            "_model_module_version": "1.5.0",
            "_model_name": "HBoxModel",
            "_view_count": null,
            "_view_module": "@jupyter-widgets/controls",
            "_view_module_version": "1.5.0",
            "_view_name": "HBoxView",
            "box_style": "",
            "children": [
              "IPY_MODEL_18a7da110b284919afc7524396a6524c",
              "IPY_MODEL_79dd525f810148a28d83f1eff6b168cc",
              "IPY_MODEL_89dff34f0f674aa5b01c9fdd95ef11a8"
            ],
            "layout": "IPY_MODEL_87a8bf13760d44f384e5b5f857d556cb"
          }
        },
        "18a7da110b284919afc7524396a6524c": {
          "model_module": "@jupyter-widgets/controls",
          "model_name": "HTMLModel",
          "model_module_version": "1.5.0",
          "state": {
            "_dom_classes": [],
            "_model_module": "@jupyter-widgets/controls",
            "_model_module_version": "1.5.0",
            "_model_name": "HTMLModel",
            "_view_count": null,
            "_view_module": "@jupyter-widgets/controls",
            "_view_module_version": "1.5.0",
            "_view_name": "HTMLView",
            "description": "",
            "description_tooltip": null,
            "layout": "IPY_MODEL_daa5068e1d9e49c8ae8d22577da50894",
            "placeholder": "​",
            "style": "IPY_MODEL_23097d39c932461695fc7d552c75b56c",
            "value": "Epoch 30: 100%"
          }
        },
        "79dd525f810148a28d83f1eff6b168cc": {
          "model_module": "@jupyter-widgets/controls",
          "model_name": "FloatProgressModel",
          "model_module_version": "1.5.0",
          "state": {
            "_dom_classes": [],
            "_model_module": "@jupyter-widgets/controls",
            "_model_module_version": "1.5.0",
            "_model_name": "FloatProgressModel",
            "_view_count": null,
            "_view_module": "@jupyter-widgets/controls",
            "_view_module_version": "1.5.0",
            "_view_name": "ProgressView",
            "bar_style": "success",
            "description": "",
            "description_tooltip": null,
            "layout": "IPY_MODEL_913a943133e644ebb7794536e1384445",
            "max": 30,
            "min": 0,
            "orientation": "horizontal",
            "style": "IPY_MODEL_c11c72d4dd184b9db6cc5d8ea160fddd",
            "value": 30
          }
        },
        "89dff34f0f674aa5b01c9fdd95ef11a8": {
          "model_module": "@jupyter-widgets/controls",
          "model_name": "HTMLModel",
          "model_module_version": "1.5.0",
          "state": {
            "_dom_classes": [],
            "_model_module": "@jupyter-widgets/controls",
            "_model_module_version": "1.5.0",
            "_model_name": "HTMLModel",
            "_view_count": null,
            "_view_module": "@jupyter-widgets/controls",
            "_view_module_version": "1.5.0",
            "_view_name": "HTMLView",
            "description": "",
            "description_tooltip": null,
            "layout": "IPY_MODEL_e1d0171b335d4bce81f52a9c1d45235b",
            "placeholder": "​",
            "style": "IPY_MODEL_cca5e93d27d94e78b688ea47884ec213",
            "value": " 30/30 [00:00&lt;00:00, 284.57it/s, loss=0.000121, v_num=10, MAE=1.18e+3, RMSE=1.82e+3, Loss=0.000125, RegLoss=0.000]"
          }
        },
        "87a8bf13760d44f384e5b5f857d556cb": {
          "model_module": "@jupyter-widgets/base",
          "model_name": "LayoutModel",
          "model_module_version": "1.2.0",
          "state": {
            "_model_module": "@jupyter-widgets/base",
            "_model_module_version": "1.2.0",
            "_model_name": "LayoutModel",
            "_view_count": null,
            "_view_module": "@jupyter-widgets/base",
            "_view_module_version": "1.2.0",
            "_view_name": "LayoutView",
            "align_content": null,
            "align_items": null,
            "align_self": null,
            "border": null,
            "bottom": null,
            "display": "inline-flex",
            "flex": null,
            "flex_flow": "row wrap",
            "grid_area": null,
            "grid_auto_columns": null,
            "grid_auto_flow": null,
            "grid_auto_rows": null,
            "grid_column": null,
            "grid_gap": null,
            "grid_row": null,
            "grid_template_areas": null,
            "grid_template_columns": null,
            "grid_template_rows": null,
            "height": null,
            "justify_content": null,
            "justify_items": null,
            "left": null,
            "margin": null,
            "max_height": null,
            "max_width": null,
            "min_height": null,
            "min_width": null,
            "object_fit": null,
            "object_position": null,
            "order": null,
            "overflow": null,
            "overflow_x": null,
            "overflow_y": null,
            "padding": null,
            "right": null,
            "top": null,
            "visibility": null,
            "width": "100%"
          }
        },
        "daa5068e1d9e49c8ae8d22577da50894": {
          "model_module": "@jupyter-widgets/base",
          "model_name": "LayoutModel",
          "model_module_version": "1.2.0",
          "state": {
            "_model_module": "@jupyter-widgets/base",
            "_model_module_version": "1.2.0",
            "_model_name": "LayoutModel",
            "_view_count": null,
            "_view_module": "@jupyter-widgets/base",
            "_view_module_version": "1.2.0",
            "_view_name": "LayoutView",
            "align_content": null,
            "align_items": null,
            "align_self": null,
            "border": null,
            "bottom": null,
            "display": null,
            "flex": null,
            "flex_flow": null,
            "grid_area": null,
            "grid_auto_columns": null,
            "grid_auto_flow": null,
            "grid_auto_rows": null,
            "grid_column": null,
            "grid_gap": null,
            "grid_row": null,
            "grid_template_areas": null,
            "grid_template_columns": null,
            "grid_template_rows": null,
            "height": null,
            "justify_content": null,
            "justify_items": null,
            "left": null,
            "margin": null,
            "max_height": null,
            "max_width": null,
            "min_height": null,
            "min_width": null,
            "object_fit": null,
            "object_position": null,
            "order": null,
            "overflow": null,
            "overflow_x": null,
            "overflow_y": null,
            "padding": null,
            "right": null,
            "top": null,
            "visibility": null,
            "width": null
          }
        },
        "23097d39c932461695fc7d552c75b56c": {
          "model_module": "@jupyter-widgets/controls",
          "model_name": "DescriptionStyleModel",
          "model_module_version": "1.5.0",
          "state": {
            "_model_module": "@jupyter-widgets/controls",
            "_model_module_version": "1.5.0",
            "_model_name": "DescriptionStyleModel",
            "_view_count": null,
            "_view_module": "@jupyter-widgets/base",
            "_view_module_version": "1.2.0",
            "_view_name": "StyleView",
            "description_width": ""
          }
        },
        "913a943133e644ebb7794536e1384445": {
          "model_module": "@jupyter-widgets/base",
          "model_name": "LayoutModel",
          "model_module_version": "1.2.0",
          "state": {
            "_model_module": "@jupyter-widgets/base",
            "_model_module_version": "1.2.0",
            "_model_name": "LayoutModel",
            "_view_count": null,
            "_view_module": "@jupyter-widgets/base",
            "_view_module_version": "1.2.0",
            "_view_name": "LayoutView",
            "align_content": null,
            "align_items": null,
            "align_self": null,
            "border": null,
            "bottom": null,
            "display": null,
            "flex": "2",
            "flex_flow": null,
            "grid_area": null,
            "grid_auto_columns": null,
            "grid_auto_flow": null,
            "grid_auto_rows": null,
            "grid_column": null,
            "grid_gap": null,
            "grid_row": null,
            "grid_template_areas": null,
            "grid_template_columns": null,
            "grid_template_rows": null,
            "height": null,
            "justify_content": null,
            "justify_items": null,
            "left": null,
            "margin": null,
            "max_height": null,
            "max_width": null,
            "min_height": null,
            "min_width": null,
            "object_fit": null,
            "object_position": null,
            "order": null,
            "overflow": null,
            "overflow_x": null,
            "overflow_y": null,
            "padding": null,
            "right": null,
            "top": null,
            "visibility": null,
            "width": null
          }
        },
        "c11c72d4dd184b9db6cc5d8ea160fddd": {
          "model_module": "@jupyter-widgets/controls",
          "model_name": "ProgressStyleModel",
          "model_module_version": "1.5.0",
          "state": {
            "_model_module": "@jupyter-widgets/controls",
            "_model_module_version": "1.5.0",
            "_model_name": "ProgressStyleModel",
            "_view_count": null,
            "_view_module": "@jupyter-widgets/base",
            "_view_module_version": "1.2.0",
            "_view_name": "StyleView",
            "bar_color": null,
            "description_width": ""
          }
        },
        "e1d0171b335d4bce81f52a9c1d45235b": {
          "model_module": "@jupyter-widgets/base",
          "model_name": "LayoutModel",
          "model_module_version": "1.2.0",
          "state": {
            "_model_module": "@jupyter-widgets/base",
            "_model_module_version": "1.2.0",
            "_model_name": "LayoutModel",
            "_view_count": null,
            "_view_module": "@jupyter-widgets/base",
            "_view_module_version": "1.2.0",
            "_view_name": "LayoutView",
            "align_content": null,
            "align_items": null,
            "align_self": null,
            "border": null,
            "bottom": null,
            "display": null,
            "flex": null,
            "flex_flow": null,
            "grid_area": null,
            "grid_auto_columns": null,
            "grid_auto_flow": null,
            "grid_auto_rows": null,
            "grid_column": null,
            "grid_gap": null,
            "grid_row": null,
            "grid_template_areas": null,
            "grid_template_columns": null,
            "grid_template_rows": null,
            "height": null,
            "justify_content": null,
            "justify_items": null,
            "left": null,
            "margin": null,
            "max_height": null,
            "max_width": null,
            "min_height": null,
            "min_width": null,
            "object_fit": null,
            "object_position": null,
            "order": null,
            "overflow": null,
            "overflow_x": null,
            "overflow_y": null,
            "padding": null,
            "right": null,
            "top": null,
            "visibility": null,
            "width": null
          }
        },
        "cca5e93d27d94e78b688ea47884ec213": {
          "model_module": "@jupyter-widgets/controls",
          "model_name": "DescriptionStyleModel",
          "model_module_version": "1.5.0",
          "state": {
            "_model_module": "@jupyter-widgets/controls",
            "_model_module_version": "1.5.0",
            "_model_name": "DescriptionStyleModel",
            "_view_count": null,
            "_view_module": "@jupyter-widgets/base",
            "_view_module_version": "1.2.0",
            "_view_name": "StyleView",
            "description_width": ""
          }
        },
        "2de893c5b8a64f89b857d835dad1271d": {
          "model_module": "@jupyter-widgets/controls",
          "model_name": "HBoxModel",
          "model_module_version": "1.5.0",
          "state": {
            "_dom_classes": [],
            "_model_module": "@jupyter-widgets/controls",
            "_model_module_version": "1.5.0",
            "_model_name": "HBoxModel",
            "_view_count": null,
            "_view_module": "@jupyter-widgets/controls",
            "_view_module_version": "1.5.0",
            "_view_name": "HBoxView",
            "box_style": "",
            "children": [
              "IPY_MODEL_8c791590f2584232b535f468733fa57c",
              "IPY_MODEL_c5a2d1444d1d4c408f6dd466274da6d8",
              "IPY_MODEL_a568f766216d4843a20c3c317a7be924"
            ],
            "layout": "IPY_MODEL_38d3ee1d3eb94a82bac689205568923d"
          }
        },
        "8c791590f2584232b535f468733fa57c": {
          "model_module": "@jupyter-widgets/controls",
          "model_name": "HTMLModel",
          "model_module_version": "1.5.0",
          "state": {
            "_dom_classes": [],
            "_model_module": "@jupyter-widgets/controls",
            "_model_module_version": "1.5.0",
            "_model_name": "HTMLModel",
            "_view_count": null,
            "_view_module": "@jupyter-widgets/controls",
            "_view_module_version": "1.5.0",
            "_view_name": "HTMLView",
            "description": "",
            "description_tooltip": null,
            "layout": "IPY_MODEL_e8c4706582744a2fb16ca611ed552def",
            "placeholder": "​",
            "style": "IPY_MODEL_854c9b2d732a4151acba16e30a121a7e",
            "value": "Predicting DataLoader 0: 100%"
          }
        },
        "c5a2d1444d1d4c408f6dd466274da6d8": {
          "model_module": "@jupyter-widgets/controls",
          "model_name": "FloatProgressModel",
          "model_module_version": "1.5.0",
          "state": {
            "_dom_classes": [],
            "_model_module": "@jupyter-widgets/controls",
            "_model_module_version": "1.5.0",
            "_model_name": "FloatProgressModel",
            "_view_count": null,
            "_view_module": "@jupyter-widgets/controls",
            "_view_module_version": "1.5.0",
            "_view_name": "ProgressView",
            "bar_style": "success",
            "description": "",
            "description_tooltip": null,
            "layout": "IPY_MODEL_2bb202d8c48944e9bae3b0b5b4464d33",
            "max": 1,
            "min": 0,
            "orientation": "horizontal",
            "style": "IPY_MODEL_fdceaeca9cb044a0a9045be5a9a10694",
            "value": 1
          }
        },
        "a568f766216d4843a20c3c317a7be924": {
          "model_module": "@jupyter-widgets/controls",
          "model_name": "HTMLModel",
          "model_module_version": "1.5.0",
          "state": {
            "_dom_classes": [],
            "_model_module": "@jupyter-widgets/controls",
            "_model_module_version": "1.5.0",
            "_model_name": "HTMLModel",
            "_view_count": null,
            "_view_module": "@jupyter-widgets/controls",
            "_view_module_version": "1.5.0",
            "_view_name": "HTMLView",
            "description": "",
            "description_tooltip": null,
            "layout": "IPY_MODEL_313a8d12972947e880d520f9998bf636",
            "placeholder": "​",
            "style": "IPY_MODEL_1db876fddd4d4334aaf7707395798754",
            "value": " 1/1 [00:00&lt;00:00, 66.98it/s]"
          }
        },
        "38d3ee1d3eb94a82bac689205568923d": {
          "model_module": "@jupyter-widgets/base",
          "model_name": "LayoutModel",
          "model_module_version": "1.2.0",
          "state": {
            "_model_module": "@jupyter-widgets/base",
            "_model_module_version": "1.2.0",
            "_model_name": "LayoutModel",
            "_view_count": null,
            "_view_module": "@jupyter-widgets/base",
            "_view_module_version": "1.2.0",
            "_view_name": "LayoutView",
            "align_content": null,
            "align_items": null,
            "align_self": null,
            "border": null,
            "bottom": null,
            "display": "inline-flex",
            "flex": null,
            "flex_flow": "row wrap",
            "grid_area": null,
            "grid_auto_columns": null,
            "grid_auto_flow": null,
            "grid_auto_rows": null,
            "grid_column": null,
            "grid_gap": null,
            "grid_row": null,
            "grid_template_areas": null,
            "grid_template_columns": null,
            "grid_template_rows": null,
            "height": null,
            "justify_content": null,
            "justify_items": null,
            "left": null,
            "margin": null,
            "max_height": null,
            "max_width": null,
            "min_height": null,
            "min_width": null,
            "object_fit": null,
            "object_position": null,
            "order": null,
            "overflow": null,
            "overflow_x": null,
            "overflow_y": null,
            "padding": null,
            "right": null,
            "top": null,
            "visibility": null,
            "width": "100%"
          }
        },
        "e8c4706582744a2fb16ca611ed552def": {
          "model_module": "@jupyter-widgets/base",
          "model_name": "LayoutModel",
          "model_module_version": "1.2.0",
          "state": {
            "_model_module": "@jupyter-widgets/base",
            "_model_module_version": "1.2.0",
            "_model_name": "LayoutModel",
            "_view_count": null,
            "_view_module": "@jupyter-widgets/base",
            "_view_module_version": "1.2.0",
            "_view_name": "LayoutView",
            "align_content": null,
            "align_items": null,
            "align_self": null,
            "border": null,
            "bottom": null,
            "display": null,
            "flex": null,
            "flex_flow": null,
            "grid_area": null,
            "grid_auto_columns": null,
            "grid_auto_flow": null,
            "grid_auto_rows": null,
            "grid_column": null,
            "grid_gap": null,
            "grid_row": null,
            "grid_template_areas": null,
            "grid_template_columns": null,
            "grid_template_rows": null,
            "height": null,
            "justify_content": null,
            "justify_items": null,
            "left": null,
            "margin": null,
            "max_height": null,
            "max_width": null,
            "min_height": null,
            "min_width": null,
            "object_fit": null,
            "object_position": null,
            "order": null,
            "overflow": null,
            "overflow_x": null,
            "overflow_y": null,
            "padding": null,
            "right": null,
            "top": null,
            "visibility": null,
            "width": null
          }
        },
        "854c9b2d732a4151acba16e30a121a7e": {
          "model_module": "@jupyter-widgets/controls",
          "model_name": "DescriptionStyleModel",
          "model_module_version": "1.5.0",
          "state": {
            "_model_module": "@jupyter-widgets/controls",
            "_model_module_version": "1.5.0",
            "_model_name": "DescriptionStyleModel",
            "_view_count": null,
            "_view_module": "@jupyter-widgets/base",
            "_view_module_version": "1.2.0",
            "_view_name": "StyleView",
            "description_width": ""
          }
        },
        "2bb202d8c48944e9bae3b0b5b4464d33": {
          "model_module": "@jupyter-widgets/base",
          "model_name": "LayoutModel",
          "model_module_version": "1.2.0",
          "state": {
            "_model_module": "@jupyter-widgets/base",
            "_model_module_version": "1.2.0",
            "_model_name": "LayoutModel",
            "_view_count": null,
            "_view_module": "@jupyter-widgets/base",
            "_view_module_version": "1.2.0",
            "_view_name": "LayoutView",
            "align_content": null,
            "align_items": null,
            "align_self": null,
            "border": null,
            "bottom": null,
            "display": null,
            "flex": "2",
            "flex_flow": null,
            "grid_area": null,
            "grid_auto_columns": null,
            "grid_auto_flow": null,
            "grid_auto_rows": null,
            "grid_column": null,
            "grid_gap": null,
            "grid_row": null,
            "grid_template_areas": null,
            "grid_template_columns": null,
            "grid_template_rows": null,
            "height": null,
            "justify_content": null,
            "justify_items": null,
            "left": null,
            "margin": null,
            "max_height": null,
            "max_width": null,
            "min_height": null,
            "min_width": null,
            "object_fit": null,
            "object_position": null,
            "order": null,
            "overflow": null,
            "overflow_x": null,
            "overflow_y": null,
            "padding": null,
            "right": null,
            "top": null,
            "visibility": null,
            "width": null
          }
        },
        "fdceaeca9cb044a0a9045be5a9a10694": {
          "model_module": "@jupyter-widgets/controls",
          "model_name": "ProgressStyleModel",
          "model_module_version": "1.5.0",
          "state": {
            "_model_module": "@jupyter-widgets/controls",
            "_model_module_version": "1.5.0",
            "_model_name": "ProgressStyleModel",
            "_view_count": null,
            "_view_module": "@jupyter-widgets/base",
            "_view_module_version": "1.2.0",
            "_view_name": "StyleView",
            "bar_color": null,
            "description_width": ""
          }
        },
        "313a8d12972947e880d520f9998bf636": {
          "model_module": "@jupyter-widgets/base",
          "model_name": "LayoutModel",
          "model_module_version": "1.2.0",
          "state": {
            "_model_module": "@jupyter-widgets/base",
            "_model_module_version": "1.2.0",
            "_model_name": "LayoutModel",
            "_view_count": null,
            "_view_module": "@jupyter-widgets/base",
            "_view_module_version": "1.2.0",
            "_view_name": "LayoutView",
            "align_content": null,
            "align_items": null,
            "align_self": null,
            "border": null,
            "bottom": null,
            "display": null,
            "flex": null,
            "flex_flow": null,
            "grid_area": null,
            "grid_auto_columns": null,
            "grid_auto_flow": null,
            "grid_auto_rows": null,
            "grid_column": null,
            "grid_gap": null,
            "grid_row": null,
            "grid_template_areas": null,
            "grid_template_columns": null,
            "grid_template_rows": null,
            "height": null,
            "justify_content": null,
            "justify_items": null,
            "left": null,
            "margin": null,
            "max_height": null,
            "max_width": null,
            "min_height": null,
            "min_width": null,
            "object_fit": null,
            "object_position": null,
            "order": null,
            "overflow": null,
            "overflow_x": null,
            "overflow_y": null,
            "padding": null,
            "right": null,
            "top": null,
            "visibility": null,
            "width": null
          }
        },
        "1db876fddd4d4334aaf7707395798754": {
          "model_module": "@jupyter-widgets/controls",
          "model_name": "DescriptionStyleModel",
          "model_module_version": "1.5.0",
          "state": {
            "_model_module": "@jupyter-widgets/controls",
            "_model_module_version": "1.5.0",
            "_model_name": "DescriptionStyleModel",
            "_view_count": null,
            "_view_module": "@jupyter-widgets/base",
            "_view_module_version": "1.2.0",
            "_view_name": "StyleView",
            "description_width": ""
          }
        }
      }
    }
  },
  "cells": [
    {
      "cell_type": "markdown",
      "source": [
        "# Testando Outros Modelos Espanha\n",
        "\n",
        "Neste notebook será testado outros modelo de séries temporais da Covid na Espanha, comparando os resultados com o modelo baseline feito na sprint 2."
      ],
      "metadata": {
        "id": "AAMofWMpsKFS"
      }
    },
    {
      "cell_type": "code",
      "source": [
        "!pip install git+https://github.com/ourownstory/neural_prophet.git"
      ],
      "metadata": {
        "colab": {
          "base_uri": "https://localhost:8080/"
        },
        "id": "-0CKTLewDf2t",
        "outputId": "375eae22-a0c6-4b8c-df1f-f7883c206b63"
      },
      "execution_count": null,
      "outputs": [
        {
          "output_type": "stream",
          "name": "stdout",
          "text": [
            "Looking in indexes: https://pypi.org/simple, https://us-python.pkg.dev/colab-wheels/public/simple/\n",
            "Collecting git+https://github.com/ourownstory/neural_prophet.git\n",
            "  Cloning https://github.com/ourownstory/neural_prophet.git to /tmp/pip-req-build-ithb7ra4\n",
            "  Running command git clone -q https://github.com/ourownstory/neural_prophet.git /tmp/pip-req-build-ithb7ra4\n",
            "  Installing build dependencies ... \u001b[?25l\u001b[?25hdone\n",
            "  Getting requirements to build wheel ... \u001b[?25l\u001b[?25hdone\n",
            "    Preparing wheel metadata ... \u001b[?25l\u001b[?25hdone\n",
            "Requirement already satisfied: plotly>=4.14.3 in /usr/local/lib/python3.8/dist-packages (from neuralprophet==0.5.0) (5.5.0)\n",
            "Requirement already satisfied: pytorch-lightning==1.7.4 in /usr/local/lib/python3.8/dist-packages (from neuralprophet==0.5.0) (1.7.4)\n",
            "Requirement already satisfied: rich==12.4.4 in /usr/local/lib/python3.8/dist-packages (from neuralprophet==0.5.0) (12.4.4)\n",
            "Requirement already satisfied: LunarCalendar>=0.0.9 in /usr/local/lib/python3.8/dist-packages (from neuralprophet==0.5.0) (0.0.9)\n",
            "Requirement already satisfied: convertdate>=2.1.2 in /usr/local/lib/python3.8/dist-packages (from neuralprophet==0.5.0) (2.4.0)\n",
            "Requirement already satisfied: torch>=1.8.0 in /usr/local/lib/python3.8/dist-packages (from neuralprophet==0.5.0) (1.13.0+cu116)\n",
            "Requirement already satisfied: torchmetrics==0.9.3 in /usr/local/lib/python3.8/dist-packages (from neuralprophet==0.5.0) (0.9.3)\n",
            "Requirement already satisfied: ipywidgets>=7.5.1 in /usr/local/lib/python3.8/dist-packages (from neuralprophet==0.5.0) (7.7.1)\n",
            "Requirement already satisfied: holidays>=0.11.3.1 in /usr/local/lib/python3.8/dist-packages (from neuralprophet==0.5.0) (0.17.2)\n",
            "Requirement already satisfied: python-dateutil>=2.8.0 in /usr/local/lib/python3.8/dist-packages (from neuralprophet==0.5.0) (2.8.2)\n",
            "Requirement already satisfied: numpy>=1.15.4 in /usr/local/lib/python3.8/dist-packages (from neuralprophet==0.5.0) (1.21.6)\n",
            "Requirement already satisfied: pandas>=1.0.4 in /usr/local/lib/python3.8/dist-packages (from neuralprophet==0.5.0) (1.3.5)\n",
            "Requirement already satisfied: matplotlib>=2.0.0 in /usr/local/lib/python3.8/dist-packages (from neuralprophet==0.5.0) (3.2.2)\n",
            "Requirement already satisfied: captum>=0.5.0 in /usr/local/lib/python3.8/dist-packages (from neuralprophet==0.5.0) (0.5.0)\n",
            "Requirement already satisfied: fsspec[http]!=2021.06.0,>=2021.05.0 in /usr/local/lib/python3.8/dist-packages (from pytorch-lightning==1.7.4->neuralprophet==0.5.0) (2022.11.0)\n",
            "Requirement already satisfied: packaging>=17.0 in /usr/local/lib/python3.8/dist-packages (from pytorch-lightning==1.7.4->neuralprophet==0.5.0) (21.3)\n",
            "Requirement already satisfied: tensorboard>=2.9.1 in /usr/local/lib/python3.8/dist-packages (from pytorch-lightning==1.7.4->neuralprophet==0.5.0) (2.9.1)\n",
            "Requirement already satisfied: typing-extensions>=4.0.0 in /usr/local/lib/python3.8/dist-packages (from pytorch-lightning==1.7.4->neuralprophet==0.5.0) (4.4.0)\n",
            "Requirement already satisfied: pyDeprecate>=0.3.1 in /usr/local/lib/python3.8/dist-packages (from pytorch-lightning==1.7.4->neuralprophet==0.5.0) (0.3.2)\n",
            "Requirement already satisfied: tqdm>=4.57.0 in /usr/local/lib/python3.8/dist-packages (from pytorch-lightning==1.7.4->neuralprophet==0.5.0) (4.64.1)\n",
            "Requirement already satisfied: PyYAML>=5.4 in /usr/local/lib/python3.8/dist-packages (from pytorch-lightning==1.7.4->neuralprophet==0.5.0) (6.0)\n",
            "Requirement already satisfied: commonmark<0.10.0,>=0.9.0 in /usr/local/lib/python3.8/dist-packages (from rich==12.4.4->neuralprophet==0.5.0) (0.9.1)\n",
            "Requirement already satisfied: pygments<3.0.0,>=2.6.0 in /usr/local/lib/python3.8/dist-packages (from rich==12.4.4->neuralprophet==0.5.0) (2.6.1)\n",
            "Requirement already satisfied: pymeeus<=1,>=0.3.13 in /usr/local/lib/python3.8/dist-packages (from convertdate>=2.1.2->neuralprophet==0.5.0) (0.5.11)\n",
            "Requirement already satisfied: aiohttp!=4.0.0a0,!=4.0.0a1 in /usr/local/lib/python3.8/dist-packages (from fsspec[http]!=2021.06.0,>=2021.05.0->pytorch-lightning==1.7.4->neuralprophet==0.5.0) (3.8.3)\n",
            "Requirement already satisfied: requests in /usr/local/lib/python3.8/dist-packages (from fsspec[http]!=2021.06.0,>=2021.05.0->pytorch-lightning==1.7.4->neuralprophet==0.5.0) (2.23.0)\n",
            "Requirement already satisfied: attrs>=17.3.0 in /usr/local/lib/python3.8/dist-packages (from aiohttp!=4.0.0a0,!=4.0.0a1->fsspec[http]!=2021.06.0,>=2021.05.0->pytorch-lightning==1.7.4->neuralprophet==0.5.0) (22.1.0)\n",
            "Requirement already satisfied: frozenlist>=1.1.1 in /usr/local/lib/python3.8/dist-packages (from aiohttp!=4.0.0a0,!=4.0.0a1->fsspec[http]!=2021.06.0,>=2021.05.0->pytorch-lightning==1.7.4->neuralprophet==0.5.0) (1.3.3)\n",
            "Requirement already satisfied: charset-normalizer<3.0,>=2.0 in /usr/local/lib/python3.8/dist-packages (from aiohttp!=4.0.0a0,!=4.0.0a1->fsspec[http]!=2021.06.0,>=2021.05.0->pytorch-lightning==1.7.4->neuralprophet==0.5.0) (2.1.1)\n",
            "Requirement already satisfied: async-timeout<5.0,>=4.0.0a3 in /usr/local/lib/python3.8/dist-packages (from aiohttp!=4.0.0a0,!=4.0.0a1->fsspec[http]!=2021.06.0,>=2021.05.0->pytorch-lightning==1.7.4->neuralprophet==0.5.0) (4.0.2)\n",
            "Requirement already satisfied: multidict<7.0,>=4.5 in /usr/local/lib/python3.8/dist-packages (from aiohttp!=4.0.0a0,!=4.0.0a1->fsspec[http]!=2021.06.0,>=2021.05.0->pytorch-lightning==1.7.4->neuralprophet==0.5.0) (6.0.3)\n",
            "Requirement already satisfied: aiosignal>=1.1.2 in /usr/local/lib/python3.8/dist-packages (from aiohttp!=4.0.0a0,!=4.0.0a1->fsspec[http]!=2021.06.0,>=2021.05.0->pytorch-lightning==1.7.4->neuralprophet==0.5.0) (1.3.1)\n",
            "Requirement already satisfied: yarl<2.0,>=1.0 in /usr/local/lib/python3.8/dist-packages (from aiohttp!=4.0.0a0,!=4.0.0a1->fsspec[http]!=2021.06.0,>=2021.05.0->pytorch-lightning==1.7.4->neuralprophet==0.5.0) (1.8.2)\n",
            "Requirement already satisfied: hijri-converter in /usr/local/lib/python3.8/dist-packages (from holidays>=0.11.3.1->neuralprophet==0.5.0) (2.2.4)\n",
            "Requirement already satisfied: korean-lunar-calendar in /usr/local/lib/python3.8/dist-packages (from holidays>=0.11.3.1->neuralprophet==0.5.0) (0.3.1)\n",
            "Requirement already satisfied: ipykernel>=4.5.1 in /usr/local/lib/python3.8/dist-packages (from ipywidgets>=7.5.1->neuralprophet==0.5.0) (5.3.4)\n",
            "Requirement already satisfied: traitlets>=4.3.1 in /usr/local/lib/python3.8/dist-packages (from ipywidgets>=7.5.1->neuralprophet==0.5.0) (5.6.0)\n",
            "Requirement already satisfied: ipython>=4.0.0 in /usr/local/lib/python3.8/dist-packages (from ipywidgets>=7.5.1->neuralprophet==0.5.0) (7.9.0)\n",
            "Requirement already satisfied: widgetsnbextension~=3.6.0 in /usr/local/lib/python3.8/dist-packages (from ipywidgets>=7.5.1->neuralprophet==0.5.0) (3.6.1)\n",
            "Requirement already satisfied: jupyterlab-widgets>=1.0.0 in /usr/local/lib/python3.8/dist-packages (from ipywidgets>=7.5.1->neuralprophet==0.5.0) (3.0.3)\n",
            "Requirement already satisfied: ipython-genutils~=0.2.0 in /usr/local/lib/python3.8/dist-packages (from ipywidgets>=7.5.1->neuralprophet==0.5.0) (0.2.0)\n",
            "Requirement already satisfied: jupyter-client in /usr/local/lib/python3.8/dist-packages (from ipykernel>=4.5.1->ipywidgets>=7.5.1->neuralprophet==0.5.0) (6.1.12)\n",
            "Requirement already satisfied: tornado>=4.2 in /usr/local/lib/python3.8/dist-packages (from ipykernel>=4.5.1->ipywidgets>=7.5.1->neuralprophet==0.5.0) (6.0.4)\n",
            "Requirement already satisfied: pexpect in /usr/local/lib/python3.8/dist-packages (from ipython>=4.0.0->ipywidgets>=7.5.1->neuralprophet==0.5.0) (4.8.0)\n",
            "Requirement already satisfied: setuptools>=18.5 in /usr/local/lib/python3.8/dist-packages (from ipython>=4.0.0->ipywidgets>=7.5.1->neuralprophet==0.5.0) (57.4.0)\n",
            "Requirement already satisfied: jedi>=0.10 in /usr/local/lib/python3.8/dist-packages (from ipython>=4.0.0->ipywidgets>=7.5.1->neuralprophet==0.5.0) (0.18.2)\n",
            "Requirement already satisfied: prompt-toolkit<2.1.0,>=2.0.0 in /usr/local/lib/python3.8/dist-packages (from ipython>=4.0.0->ipywidgets>=7.5.1->neuralprophet==0.5.0) (2.0.10)\n",
            "Requirement already satisfied: backcall in /usr/local/lib/python3.8/dist-packages (from ipython>=4.0.0->ipywidgets>=7.5.1->neuralprophet==0.5.0) (0.2.0)\n",
            "Requirement already satisfied: decorator in /usr/local/lib/python3.8/dist-packages (from ipython>=4.0.0->ipywidgets>=7.5.1->neuralprophet==0.5.0) (4.4.2)\n",
            "Requirement already satisfied: pickleshare in /usr/local/lib/python3.8/dist-packages (from ipython>=4.0.0->ipywidgets>=7.5.1->neuralprophet==0.5.0) (0.7.5)\n",
            "Requirement already satisfied: parso<0.9.0,>=0.8.0 in /usr/local/lib/python3.8/dist-packages (from jedi>=0.10->ipython>=4.0.0->ipywidgets>=7.5.1->neuralprophet==0.5.0) (0.8.3)\n",
            "Requirement already satisfied: ephem>=3.7.5.3 in /usr/local/lib/python3.8/dist-packages (from LunarCalendar>=0.0.9->neuralprophet==0.5.0) (4.1.3)\n",
            "Requirement already satisfied: pytz in /usr/local/lib/python3.8/dist-packages (from LunarCalendar>=0.0.9->neuralprophet==0.5.0) (2022.6)\n",
            "Requirement already satisfied: cycler>=0.10 in /usr/local/lib/python3.8/dist-packages (from matplotlib>=2.0.0->neuralprophet==0.5.0) (0.11.0)\n",
            "Requirement already satisfied: kiwisolver>=1.0.1 in /usr/local/lib/python3.8/dist-packages (from matplotlib>=2.0.0->neuralprophet==0.5.0) (1.4.4)\n",
            "Requirement already satisfied: pyparsing!=2.0.4,!=2.1.2,!=2.1.6,>=2.0.1 in /usr/local/lib/python3.8/dist-packages (from matplotlib>=2.0.0->neuralprophet==0.5.0) (3.0.9)\n",
            "Requirement already satisfied: six in /usr/local/lib/python3.8/dist-packages (from plotly>=4.14.3->neuralprophet==0.5.0) (1.15.0)\n",
            "Requirement already satisfied: tenacity>=6.2.0 in /usr/local/lib/python3.8/dist-packages (from plotly>=4.14.3->neuralprophet==0.5.0) (8.1.0)\n",
            "Requirement already satisfied: wcwidth in /usr/local/lib/python3.8/dist-packages (from prompt-toolkit<2.1.0,>=2.0.0->ipython>=4.0.0->ipywidgets>=7.5.1->neuralprophet==0.5.0) (0.2.5)\n",
            "Requirement already satisfied: google-auth-oauthlib<0.5,>=0.4.1 in /usr/local/lib/python3.8/dist-packages (from tensorboard>=2.9.1->pytorch-lightning==1.7.4->neuralprophet==0.5.0) (0.4.6)\n",
            "Requirement already satisfied: grpcio>=1.24.3 in /usr/local/lib/python3.8/dist-packages (from tensorboard>=2.9.1->pytorch-lightning==1.7.4->neuralprophet==0.5.0) (1.51.1)\n",
            "Requirement already satisfied: markdown>=2.6.8 in /usr/local/lib/python3.8/dist-packages (from tensorboard>=2.9.1->pytorch-lightning==1.7.4->neuralprophet==0.5.0) (3.4.1)\n",
            "Requirement already satisfied: tensorboard-data-server<0.7.0,>=0.6.0 in /usr/local/lib/python3.8/dist-packages (from tensorboard>=2.9.1->pytorch-lightning==1.7.4->neuralprophet==0.5.0) (0.6.1)\n",
            "Requirement already satisfied: google-auth<3,>=1.6.3 in /usr/local/lib/python3.8/dist-packages (from tensorboard>=2.9.1->pytorch-lightning==1.7.4->neuralprophet==0.5.0) (2.15.0)\n",
            "Requirement already satisfied: tensorboard-plugin-wit>=1.6.0 in /usr/local/lib/python3.8/dist-packages (from tensorboard>=2.9.1->pytorch-lightning==1.7.4->neuralprophet==0.5.0) (1.8.1)\n",
            "Requirement already satisfied: protobuf<3.20,>=3.9.2 in /usr/local/lib/python3.8/dist-packages (from tensorboard>=2.9.1->pytorch-lightning==1.7.4->neuralprophet==0.5.0) (3.19.6)\n",
            "Requirement already satisfied: absl-py>=0.4 in /usr/local/lib/python3.8/dist-packages (from tensorboard>=2.9.1->pytorch-lightning==1.7.4->neuralprophet==0.5.0) (1.3.0)\n",
            "Requirement already satisfied: werkzeug>=1.0.1 in /usr/local/lib/python3.8/dist-packages (from tensorboard>=2.9.1->pytorch-lightning==1.7.4->neuralprophet==0.5.0) (1.0.1)\n",
            "Requirement already satisfied: wheel>=0.26 in /usr/local/lib/python3.8/dist-packages (from tensorboard>=2.9.1->pytorch-lightning==1.7.4->neuralprophet==0.5.0) (0.38.4)\n",
            "Requirement already satisfied: rsa<5,>=3.1.4 in /usr/local/lib/python3.8/dist-packages (from google-auth<3,>=1.6.3->tensorboard>=2.9.1->pytorch-lightning==1.7.4->neuralprophet==0.5.0) (4.9)\n",
            "Requirement already satisfied: cachetools<6.0,>=2.0.0 in /usr/local/lib/python3.8/dist-packages (from google-auth<3,>=1.6.3->tensorboard>=2.9.1->pytorch-lightning==1.7.4->neuralprophet==0.5.0) (5.2.0)\n",
            "Requirement already satisfied: pyasn1-modules>=0.2.1 in /usr/local/lib/python3.8/dist-packages (from google-auth<3,>=1.6.3->tensorboard>=2.9.1->pytorch-lightning==1.7.4->neuralprophet==0.5.0) (0.2.8)\n",
            "Requirement already satisfied: requests-oauthlib>=0.7.0 in /usr/local/lib/python3.8/dist-packages (from google-auth-oauthlib<0.5,>=0.4.1->tensorboard>=2.9.1->pytorch-lightning==1.7.4->neuralprophet==0.5.0) (1.3.1)\n",
            "Requirement already satisfied: importlib-metadata>=4.4 in /usr/local/lib/python3.8/dist-packages (from markdown>=2.6.8->tensorboard>=2.9.1->pytorch-lightning==1.7.4->neuralprophet==0.5.0) (4.13.0)\n",
            "Requirement already satisfied: zipp>=0.5 in /usr/local/lib/python3.8/dist-packages (from importlib-metadata>=4.4->markdown>=2.6.8->tensorboard>=2.9.1->pytorch-lightning==1.7.4->neuralprophet==0.5.0) (3.11.0)\n",
            "Requirement already satisfied: pyasn1<0.5.0,>=0.4.6 in /usr/local/lib/python3.8/dist-packages (from pyasn1-modules>=0.2.1->google-auth<3,>=1.6.3->tensorboard>=2.9.1->pytorch-lightning==1.7.4->neuralprophet==0.5.0) (0.4.8)\n",
            "Requirement already satisfied: certifi>=2017.4.17 in /usr/local/lib/python3.8/dist-packages (from requests->fsspec[http]!=2021.06.0,>=2021.05.0->pytorch-lightning==1.7.4->neuralprophet==0.5.0) (2022.9.24)\n",
            "Requirement already satisfied: chardet<4,>=3.0.2 in /usr/local/lib/python3.8/dist-packages (from requests->fsspec[http]!=2021.06.0,>=2021.05.0->pytorch-lightning==1.7.4->neuralprophet==0.5.0) (3.0.4)\n",
            "Requirement already satisfied: urllib3!=1.25.0,!=1.25.1,<1.26,>=1.21.1 in /usr/local/lib/python3.8/dist-packages (from requests->fsspec[http]!=2021.06.0,>=2021.05.0->pytorch-lightning==1.7.4->neuralprophet==0.5.0) (1.24.3)\n",
            "Requirement already satisfied: idna<3,>=2.5 in /usr/local/lib/python3.8/dist-packages (from requests->fsspec[http]!=2021.06.0,>=2021.05.0->pytorch-lightning==1.7.4->neuralprophet==0.5.0) (2.10)\n",
            "Requirement already satisfied: oauthlib>=3.0.0 in /usr/local/lib/python3.8/dist-packages (from requests-oauthlib>=0.7.0->google-auth-oauthlib<0.5,>=0.4.1->tensorboard>=2.9.1->pytorch-lightning==1.7.4->neuralprophet==0.5.0) (3.2.2)\n",
            "Requirement already satisfied: notebook>=4.4.1 in /usr/local/lib/python3.8/dist-packages (from widgetsnbextension~=3.6.0->ipywidgets>=7.5.1->neuralprophet==0.5.0) (5.7.16)\n",
            "Requirement already satisfied: pyzmq>=17 in /usr/local/lib/python3.8/dist-packages (from notebook>=4.4.1->widgetsnbextension~=3.6.0->ipywidgets>=7.5.1->neuralprophet==0.5.0) (23.2.1)\n",
            "Requirement already satisfied: nbformat in /usr/local/lib/python3.8/dist-packages (from notebook>=4.4.1->widgetsnbextension~=3.6.0->ipywidgets>=7.5.1->neuralprophet==0.5.0) (5.7.0)\n",
            "Requirement already satisfied: Send2Trash in /usr/local/lib/python3.8/dist-packages (from notebook>=4.4.1->widgetsnbextension~=3.6.0->ipywidgets>=7.5.1->neuralprophet==0.5.0) (1.8.0)\n",
            "Requirement already satisfied: terminado>=0.8.1 in /usr/local/lib/python3.8/dist-packages (from notebook>=4.4.1->widgetsnbextension~=3.6.0->ipywidgets>=7.5.1->neuralprophet==0.5.0) (0.13.3)\n",
            "Requirement already satisfied: prometheus-client in /usr/local/lib/python3.8/dist-packages (from notebook>=4.4.1->widgetsnbextension~=3.6.0->ipywidgets>=7.5.1->neuralprophet==0.5.0) (0.15.0)\n",
            "Requirement already satisfied: jupyter-core>=4.4.0 in /usr/local/lib/python3.8/dist-packages (from notebook>=4.4.1->widgetsnbextension~=3.6.0->ipywidgets>=7.5.1->neuralprophet==0.5.0) (5.1.0)\n",
            "Requirement already satisfied: nbconvert<6.0 in /usr/local/lib/python3.8/dist-packages (from notebook>=4.4.1->widgetsnbextension~=3.6.0->ipywidgets>=7.5.1->neuralprophet==0.5.0) (5.6.1)\n",
            "Requirement already satisfied: jinja2<=3.0.0 in /usr/local/lib/python3.8/dist-packages (from notebook>=4.4.1->widgetsnbextension~=3.6.0->ipywidgets>=7.5.1->neuralprophet==0.5.0) (2.11.3)\n",
            "Requirement already satisfied: MarkupSafe>=0.23 in /usr/local/lib/python3.8/dist-packages (from jinja2<=3.0.0->notebook>=4.4.1->widgetsnbextension~=3.6.0->ipywidgets>=7.5.1->neuralprophet==0.5.0) (2.0.1)\n",
            "Requirement already satisfied: platformdirs>=2.5 in /usr/local/lib/python3.8/dist-packages (from jupyter-core>=4.4.0->notebook>=4.4.1->widgetsnbextension~=3.6.0->ipywidgets>=7.5.1->neuralprophet==0.5.0) (2.5.4)\n",
            "Requirement already satisfied: mistune<2,>=0.8.1 in /usr/local/lib/python3.8/dist-packages (from nbconvert<6.0->notebook>=4.4.1->widgetsnbextension~=3.6.0->ipywidgets>=7.5.1->neuralprophet==0.5.0) (0.8.4)\n",
            "Requirement already satisfied: pandocfilters>=1.4.1 in /usr/local/lib/python3.8/dist-packages (from nbconvert<6.0->notebook>=4.4.1->widgetsnbextension~=3.6.0->ipywidgets>=7.5.1->neuralprophet==0.5.0) (1.5.0)\n",
            "Requirement already satisfied: bleach in /usr/local/lib/python3.8/dist-packages (from nbconvert<6.0->notebook>=4.4.1->widgetsnbextension~=3.6.0->ipywidgets>=7.5.1->neuralprophet==0.5.0) (5.0.1)\n",
            "Requirement already satisfied: defusedxml in /usr/local/lib/python3.8/dist-packages (from nbconvert<6.0->notebook>=4.4.1->widgetsnbextension~=3.6.0->ipywidgets>=7.5.1->neuralprophet==0.5.0) (0.7.1)\n",
            "Requirement already satisfied: entrypoints>=0.2.2 in /usr/local/lib/python3.8/dist-packages (from nbconvert<6.0->notebook>=4.4.1->widgetsnbextension~=3.6.0->ipywidgets>=7.5.1->neuralprophet==0.5.0) (0.4)\n",
            "Requirement already satisfied: testpath in /usr/local/lib/python3.8/dist-packages (from nbconvert<6.0->notebook>=4.4.1->widgetsnbextension~=3.6.0->ipywidgets>=7.5.1->neuralprophet==0.5.0) (0.6.0)\n",
            "Requirement already satisfied: jsonschema>=2.6 in /usr/local/lib/python3.8/dist-packages (from nbformat->notebook>=4.4.1->widgetsnbextension~=3.6.0->ipywidgets>=7.5.1->neuralprophet==0.5.0) (4.3.3)\n",
            "Requirement already satisfied: fastjsonschema in /usr/local/lib/python3.8/dist-packages (from nbformat->notebook>=4.4.1->widgetsnbextension~=3.6.0->ipywidgets>=7.5.1->neuralprophet==0.5.0) (2.16.2)\n",
            "Requirement already satisfied: pyrsistent!=0.17.0,!=0.17.1,!=0.17.2,>=0.14.0 in /usr/local/lib/python3.8/dist-packages (from jsonschema>=2.6->nbformat->notebook>=4.4.1->widgetsnbextension~=3.6.0->ipywidgets>=7.5.1->neuralprophet==0.5.0) (0.19.2)\n",
            "Requirement already satisfied: importlib-resources>=1.4.0 in /usr/local/lib/python3.8/dist-packages (from jsonschema>=2.6->nbformat->notebook>=4.4.1->widgetsnbextension~=3.6.0->ipywidgets>=7.5.1->neuralprophet==0.5.0) (5.10.0)\n",
            "Requirement already satisfied: ptyprocess in /usr/local/lib/python3.8/dist-packages (from terminado>=0.8.1->notebook>=4.4.1->widgetsnbextension~=3.6.0->ipywidgets>=7.5.1->neuralprophet==0.5.0) (0.7.0)\n",
            "Requirement already satisfied: webencodings in /usr/local/lib/python3.8/dist-packages (from bleach->nbconvert<6.0->notebook>=4.4.1->widgetsnbextension~=3.6.0->ipywidgets>=7.5.1->neuralprophet==0.5.0) (0.5.1)\n"
          ]
        }
      ]
    },
    {
      "cell_type": "code",
      "source": [
        "!pip install pmdarima"
      ],
      "metadata": {
        "colab": {
          "base_uri": "https://localhost:8080/"
        },
        "id": "0bN4BXbTEPMt",
        "outputId": "bc85eeb3-704a-4740-8ac3-53b1d61ffee1"
      },
      "execution_count": null,
      "outputs": [
        {
          "output_type": "stream",
          "name": "stdout",
          "text": [
            "Looking in indexes: https://pypi.org/simple, https://us-python.pkg.dev/colab-wheels/public/simple/\n",
            "Requirement already satisfied: pmdarima in /usr/local/lib/python3.8/dist-packages (2.0.2)\n",
            "Requirement already satisfied: joblib>=0.11 in /usr/local/lib/python3.8/dist-packages (from pmdarima) (1.2.0)\n",
            "Requirement already satisfied: urllib3 in /usr/local/lib/python3.8/dist-packages (from pmdarima) (1.24.3)\n",
            "Requirement already satisfied: scipy>=1.3.2 in /usr/local/lib/python3.8/dist-packages (from pmdarima) (1.7.3)\n",
            "Requirement already satisfied: scikit-learn>=0.22 in /usr/local/lib/python3.8/dist-packages (from pmdarima) (1.0.2)\n",
            "Requirement already satisfied: Cython!=0.29.18,!=0.29.31,>=0.29 in /usr/local/lib/python3.8/dist-packages (from pmdarima) (0.29.32)\n",
            "Requirement already satisfied: pandas>=0.19 in /usr/local/lib/python3.8/dist-packages (from pmdarima) (1.3.5)\n",
            "Requirement already satisfied: numpy>=1.21.2 in /usr/local/lib/python3.8/dist-packages (from pmdarima) (1.21.6)\n",
            "Requirement already satisfied: setuptools!=50.0.0,>=38.6.0 in /usr/local/lib/python3.8/dist-packages (from pmdarima) (57.4.0)\n",
            "Requirement already satisfied: statsmodels>=0.13.2 in /usr/local/lib/python3.8/dist-packages (from pmdarima) (0.13.5)\n",
            "Requirement already satisfied: python-dateutil>=2.7.3 in /usr/local/lib/python3.8/dist-packages (from pandas>=0.19->pmdarima) (2.8.2)\n",
            "Requirement already satisfied: pytz>=2017.3 in /usr/local/lib/python3.8/dist-packages (from pandas>=0.19->pmdarima) (2022.6)\n",
            "Requirement already satisfied: six>=1.5 in /usr/local/lib/python3.8/dist-packages (from python-dateutil>=2.7.3->pandas>=0.19->pmdarima) (1.15.0)\n",
            "Requirement already satisfied: threadpoolctl>=2.0.0 in /usr/local/lib/python3.8/dist-packages (from scikit-learn>=0.22->pmdarima) (3.1.0)\n",
            "Requirement already satisfied: patsy>=0.5.2 in /usr/local/lib/python3.8/dist-packages (from statsmodels>=0.13.2->pmdarima) (0.5.3)\n",
            "Requirement already satisfied: packaging>=21.3 in /usr/local/lib/python3.8/dist-packages (from statsmodels>=0.13.2->pmdarima) (21.3)\n",
            "Requirement already satisfied: pyparsing!=3.0.5,>=2.0.2 in /usr/local/lib/python3.8/dist-packages (from packaging>=21.3->statsmodels>=0.13.2->pmdarima) (3.0.9)\n"
          ]
        }
      ]
    },
    {
      "cell_type": "code",
      "source": [
        "# Importando as Blibiotecas\n",
        "import numpy as np\n",
        "import pandas as pd\n",
        "import matplotlib.pyplot as plt\n",
        "import seaborn as sns\n",
        "\n",
        "from pmdarima.arima import auto_arima\n",
        "from neuralprophet import NeuralProphet\n",
        "\n",
        "from sklearn.metrics import mean_absolute_error, mean_squared_error, mean_absolute_percentage_error"
      ],
      "metadata": {
        "id": "9jB9FJYhtNhx"
      },
      "execution_count": null,
      "outputs": []
    },
    {
      "cell_type": "code",
      "source": [
        "serie_esp = pd.read_csv('Séries Temporais Espanha.csv')\n",
        "serie_esp.drop('Unnamed: 0',axis=1,inplace=True)\n",
        "serie_esp['Date'] = pd.to_datetime(serie_esp['Date'],format='%Y-%m-%d')\n",
        "serie_esp.head()"
      ],
      "metadata": {
        "colab": {
          "base_uri": "https://localhost:8080/",
          "height": 206
        },
        "id": "4vWVaKGIvs7V",
        "outputId": "2de627fe-c8fe-4ada-f266-1fe207f3d129"
      },
      "execution_count": null,
      "outputs": [
        {
          "output_type": "execute_result",
          "data": {
            "text/plain": [
              "        Date  Confirmed  Recovered  Deaths   Ano  Mês\n",
              "0 2020-01-22          0        0.0       0  2020    1\n",
              "1 2020-01-23          0        0.0       0  2020    1\n",
              "2 2020-01-24          0        0.0       0  2020    1\n",
              "3 2020-01-25          0        0.0       0  2020    1\n",
              "4 2020-01-26          0        0.0       0  2020    1"
            ],
            "text/html": [
              "\n",
              "  <div id=\"df-d83c5ddb-3d7f-475a-ad33-43bd368e6961\">\n",
              "    <div class=\"colab-df-container\">\n",
              "      <div>\n",
              "<style scoped>\n",
              "    .dataframe tbody tr th:only-of-type {\n",
              "        vertical-align: middle;\n",
              "    }\n",
              "\n",
              "    .dataframe tbody tr th {\n",
              "        vertical-align: top;\n",
              "    }\n",
              "\n",
              "    .dataframe thead th {\n",
              "        text-align: right;\n",
              "    }\n",
              "</style>\n",
              "<table border=\"1\" class=\"dataframe\">\n",
              "  <thead>\n",
              "    <tr style=\"text-align: right;\">\n",
              "      <th></th>\n",
              "      <th>Date</th>\n",
              "      <th>Confirmed</th>\n",
              "      <th>Recovered</th>\n",
              "      <th>Deaths</th>\n",
              "      <th>Ano</th>\n",
              "      <th>Mês</th>\n",
              "    </tr>\n",
              "  </thead>\n",
              "  <tbody>\n",
              "    <tr>\n",
              "      <th>0</th>\n",
              "      <td>2020-01-22</td>\n",
              "      <td>0</td>\n",
              "      <td>0.0</td>\n",
              "      <td>0</td>\n",
              "      <td>2020</td>\n",
              "      <td>1</td>\n",
              "    </tr>\n",
              "    <tr>\n",
              "      <th>1</th>\n",
              "      <td>2020-01-23</td>\n",
              "      <td>0</td>\n",
              "      <td>0.0</td>\n",
              "      <td>0</td>\n",
              "      <td>2020</td>\n",
              "      <td>1</td>\n",
              "    </tr>\n",
              "    <tr>\n",
              "      <th>2</th>\n",
              "      <td>2020-01-24</td>\n",
              "      <td>0</td>\n",
              "      <td>0.0</td>\n",
              "      <td>0</td>\n",
              "      <td>2020</td>\n",
              "      <td>1</td>\n",
              "    </tr>\n",
              "    <tr>\n",
              "      <th>3</th>\n",
              "      <td>2020-01-25</td>\n",
              "      <td>0</td>\n",
              "      <td>0.0</td>\n",
              "      <td>0</td>\n",
              "      <td>2020</td>\n",
              "      <td>1</td>\n",
              "    </tr>\n",
              "    <tr>\n",
              "      <th>4</th>\n",
              "      <td>2020-01-26</td>\n",
              "      <td>0</td>\n",
              "      <td>0.0</td>\n",
              "      <td>0</td>\n",
              "      <td>2020</td>\n",
              "      <td>1</td>\n",
              "    </tr>\n",
              "  </tbody>\n",
              "</table>\n",
              "</div>\n",
              "      <button class=\"colab-df-convert\" onclick=\"convertToInteractive('df-d83c5ddb-3d7f-475a-ad33-43bd368e6961')\"\n",
              "              title=\"Convert this dataframe to an interactive table.\"\n",
              "              style=\"display:none;\">\n",
              "        \n",
              "  <svg xmlns=\"http://www.w3.org/2000/svg\" height=\"24px\"viewBox=\"0 0 24 24\"\n",
              "       width=\"24px\">\n",
              "    <path d=\"M0 0h24v24H0V0z\" fill=\"none\"/>\n",
              "    <path d=\"M18.56 5.44l.94 2.06.94-2.06 2.06-.94-2.06-.94-.94-2.06-.94 2.06-2.06.94zm-11 1L8.5 8.5l.94-2.06 2.06-.94-2.06-.94L8.5 2.5l-.94 2.06-2.06.94zm10 10l.94 2.06.94-2.06 2.06-.94-2.06-.94-.94-2.06-.94 2.06-2.06.94z\"/><path d=\"M17.41 7.96l-1.37-1.37c-.4-.4-.92-.59-1.43-.59-.52 0-1.04.2-1.43.59L10.3 9.45l-7.72 7.72c-.78.78-.78 2.05 0 2.83L4 21.41c.39.39.9.59 1.41.59.51 0 1.02-.2 1.41-.59l7.78-7.78 2.81-2.81c.8-.78.8-2.07 0-2.86zM5.41 20L4 18.59l7.72-7.72 1.47 1.35L5.41 20z\"/>\n",
              "  </svg>\n",
              "      </button>\n",
              "      \n",
              "  <style>\n",
              "    .colab-df-container {\n",
              "      display:flex;\n",
              "      flex-wrap:wrap;\n",
              "      gap: 12px;\n",
              "    }\n",
              "\n",
              "    .colab-df-convert {\n",
              "      background-color: #E8F0FE;\n",
              "      border: none;\n",
              "      border-radius: 50%;\n",
              "      cursor: pointer;\n",
              "      display: none;\n",
              "      fill: #1967D2;\n",
              "      height: 32px;\n",
              "      padding: 0 0 0 0;\n",
              "      width: 32px;\n",
              "    }\n",
              "\n",
              "    .colab-df-convert:hover {\n",
              "      background-color: #E2EBFA;\n",
              "      box-shadow: 0px 1px 2px rgba(60, 64, 67, 0.3), 0px 1px 3px 1px rgba(60, 64, 67, 0.15);\n",
              "      fill: #174EA6;\n",
              "    }\n",
              "\n",
              "    [theme=dark] .colab-df-convert {\n",
              "      background-color: #3B4455;\n",
              "      fill: #D2E3FC;\n",
              "    }\n",
              "\n",
              "    [theme=dark] .colab-df-convert:hover {\n",
              "      background-color: #434B5C;\n",
              "      box-shadow: 0px 1px 3px 1px rgba(0, 0, 0, 0.15);\n",
              "      filter: drop-shadow(0px 1px 2px rgba(0, 0, 0, 0.3));\n",
              "      fill: #FFFFFF;\n",
              "    }\n",
              "  </style>\n",
              "\n",
              "      <script>\n",
              "        const buttonEl =\n",
              "          document.querySelector('#df-d83c5ddb-3d7f-475a-ad33-43bd368e6961 button.colab-df-convert');\n",
              "        buttonEl.style.display =\n",
              "          google.colab.kernel.accessAllowed ? 'block' : 'none';\n",
              "\n",
              "        async function convertToInteractive(key) {\n",
              "          const element = document.querySelector('#df-d83c5ddb-3d7f-475a-ad33-43bd368e6961');\n",
              "          const dataTable =\n",
              "            await google.colab.kernel.invokeFunction('convertToInteractive',\n",
              "                                                     [key], {});\n",
              "          if (!dataTable) return;\n",
              "\n",
              "          const docLinkHtml = 'Like what you see? Visit the ' +\n",
              "            '<a target=\"_blank\" href=https://colab.research.google.com/notebooks/data_table.ipynb>data table notebook</a>'\n",
              "            + ' to learn more about interactive tables.';\n",
              "          element.innerHTML = '';\n",
              "          dataTable['output_type'] = 'display_data';\n",
              "          await google.colab.output.renderOutput(dataTable, element);\n",
              "          const docLink = document.createElement('div');\n",
              "          docLink.innerHTML = docLinkHtml;\n",
              "          element.appendChild(docLink);\n",
              "        }\n",
              "      </script>\n",
              "    </div>\n",
              "  </div>\n",
              "  "
            ]
          },
          "metadata": {},
          "execution_count": 77
        }
      ]
    },
    {
      "cell_type": "code",
      "source": [
        "serie_esp.set_index('Date',inplace=True)\n",
        "serie_esp.head()"
      ],
      "metadata": {
        "colab": {
          "base_uri": "https://localhost:8080/",
          "height": 238
        },
        "id": "OjmWALrmxUQQ",
        "outputId": "ec2e229d-9eae-4091-afa6-d6755cd07019"
      },
      "execution_count": null,
      "outputs": [
        {
          "output_type": "execute_result",
          "data": {
            "text/plain": [
              "            Confirmed  Recovered  Deaths   Ano  Mês\n",
              "Date                                               \n",
              "2020-01-22          0        0.0       0  2020    1\n",
              "2020-01-23          0        0.0       0  2020    1\n",
              "2020-01-24          0        0.0       0  2020    1\n",
              "2020-01-25          0        0.0       0  2020    1\n",
              "2020-01-26          0        0.0       0  2020    1"
            ],
            "text/html": [
              "\n",
              "  <div id=\"df-c63cd862-1009-4c35-9c93-a547ce64d5cc\">\n",
              "    <div class=\"colab-df-container\">\n",
              "      <div>\n",
              "<style scoped>\n",
              "    .dataframe tbody tr th:only-of-type {\n",
              "        vertical-align: middle;\n",
              "    }\n",
              "\n",
              "    .dataframe tbody tr th {\n",
              "        vertical-align: top;\n",
              "    }\n",
              "\n",
              "    .dataframe thead th {\n",
              "        text-align: right;\n",
              "    }\n",
              "</style>\n",
              "<table border=\"1\" class=\"dataframe\">\n",
              "  <thead>\n",
              "    <tr style=\"text-align: right;\">\n",
              "      <th></th>\n",
              "      <th>Confirmed</th>\n",
              "      <th>Recovered</th>\n",
              "      <th>Deaths</th>\n",
              "      <th>Ano</th>\n",
              "      <th>Mês</th>\n",
              "    </tr>\n",
              "    <tr>\n",
              "      <th>Date</th>\n",
              "      <th></th>\n",
              "      <th></th>\n",
              "      <th></th>\n",
              "      <th></th>\n",
              "      <th></th>\n",
              "    </tr>\n",
              "  </thead>\n",
              "  <tbody>\n",
              "    <tr>\n",
              "      <th>2020-01-22</th>\n",
              "      <td>0</td>\n",
              "      <td>0.0</td>\n",
              "      <td>0</td>\n",
              "      <td>2020</td>\n",
              "      <td>1</td>\n",
              "    </tr>\n",
              "    <tr>\n",
              "      <th>2020-01-23</th>\n",
              "      <td>0</td>\n",
              "      <td>0.0</td>\n",
              "      <td>0</td>\n",
              "      <td>2020</td>\n",
              "      <td>1</td>\n",
              "    </tr>\n",
              "    <tr>\n",
              "      <th>2020-01-24</th>\n",
              "      <td>0</td>\n",
              "      <td>0.0</td>\n",
              "      <td>0</td>\n",
              "      <td>2020</td>\n",
              "      <td>1</td>\n",
              "    </tr>\n",
              "    <tr>\n",
              "      <th>2020-01-25</th>\n",
              "      <td>0</td>\n",
              "      <td>0.0</td>\n",
              "      <td>0</td>\n",
              "      <td>2020</td>\n",
              "      <td>1</td>\n",
              "    </tr>\n",
              "    <tr>\n",
              "      <th>2020-01-26</th>\n",
              "      <td>0</td>\n",
              "      <td>0.0</td>\n",
              "      <td>0</td>\n",
              "      <td>2020</td>\n",
              "      <td>1</td>\n",
              "    </tr>\n",
              "  </tbody>\n",
              "</table>\n",
              "</div>\n",
              "      <button class=\"colab-df-convert\" onclick=\"convertToInteractive('df-c63cd862-1009-4c35-9c93-a547ce64d5cc')\"\n",
              "              title=\"Convert this dataframe to an interactive table.\"\n",
              "              style=\"display:none;\">\n",
              "        \n",
              "  <svg xmlns=\"http://www.w3.org/2000/svg\" height=\"24px\"viewBox=\"0 0 24 24\"\n",
              "       width=\"24px\">\n",
              "    <path d=\"M0 0h24v24H0V0z\" fill=\"none\"/>\n",
              "    <path d=\"M18.56 5.44l.94 2.06.94-2.06 2.06-.94-2.06-.94-.94-2.06-.94 2.06-2.06.94zm-11 1L8.5 8.5l.94-2.06 2.06-.94-2.06-.94L8.5 2.5l-.94 2.06-2.06.94zm10 10l.94 2.06.94-2.06 2.06-.94-2.06-.94-.94-2.06-.94 2.06-2.06.94z\"/><path d=\"M17.41 7.96l-1.37-1.37c-.4-.4-.92-.59-1.43-.59-.52 0-1.04.2-1.43.59L10.3 9.45l-7.72 7.72c-.78.78-.78 2.05 0 2.83L4 21.41c.39.39.9.59 1.41.59.51 0 1.02-.2 1.41-.59l7.78-7.78 2.81-2.81c.8-.78.8-2.07 0-2.86zM5.41 20L4 18.59l7.72-7.72 1.47 1.35L5.41 20z\"/>\n",
              "  </svg>\n",
              "      </button>\n",
              "      \n",
              "  <style>\n",
              "    .colab-df-container {\n",
              "      display:flex;\n",
              "      flex-wrap:wrap;\n",
              "      gap: 12px;\n",
              "    }\n",
              "\n",
              "    .colab-df-convert {\n",
              "      background-color: #E8F0FE;\n",
              "      border: none;\n",
              "      border-radius: 50%;\n",
              "      cursor: pointer;\n",
              "      display: none;\n",
              "      fill: #1967D2;\n",
              "      height: 32px;\n",
              "      padding: 0 0 0 0;\n",
              "      width: 32px;\n",
              "    }\n",
              "\n",
              "    .colab-df-convert:hover {\n",
              "      background-color: #E2EBFA;\n",
              "      box-shadow: 0px 1px 2px rgba(60, 64, 67, 0.3), 0px 1px 3px 1px rgba(60, 64, 67, 0.15);\n",
              "      fill: #174EA6;\n",
              "    }\n",
              "\n",
              "    [theme=dark] .colab-df-convert {\n",
              "      background-color: #3B4455;\n",
              "      fill: #D2E3FC;\n",
              "    }\n",
              "\n",
              "    [theme=dark] .colab-df-convert:hover {\n",
              "      background-color: #434B5C;\n",
              "      box-shadow: 0px 1px 3px 1px rgba(0, 0, 0, 0.15);\n",
              "      filter: drop-shadow(0px 1px 2px rgba(0, 0, 0, 0.3));\n",
              "      fill: #FFFFFF;\n",
              "    }\n",
              "  </style>\n",
              "\n",
              "      <script>\n",
              "        const buttonEl =\n",
              "          document.querySelector('#df-c63cd862-1009-4c35-9c93-a547ce64d5cc button.colab-df-convert');\n",
              "        buttonEl.style.display =\n",
              "          google.colab.kernel.accessAllowed ? 'block' : 'none';\n",
              "\n",
              "        async function convertToInteractive(key) {\n",
              "          const element = document.querySelector('#df-c63cd862-1009-4c35-9c93-a547ce64d5cc');\n",
              "          const dataTable =\n",
              "            await google.colab.kernel.invokeFunction('convertToInteractive',\n",
              "                                                     [key], {});\n",
              "          if (!dataTable) return;\n",
              "\n",
              "          const docLinkHtml = 'Like what you see? Visit the ' +\n",
              "            '<a target=\"_blank\" href=https://colab.research.google.com/notebooks/data_table.ipynb>data table notebook</a>'\n",
              "            + ' to learn more about interactive tables.';\n",
              "          element.innerHTML = '';\n",
              "          dataTable['output_type'] = 'display_data';\n",
              "          await google.colab.output.renderOutput(dataTable, element);\n",
              "          const docLink = document.createElement('div');\n",
              "          docLink.innerHTML = docLinkHtml;\n",
              "          element.appendChild(docLink);\n",
              "        }\n",
              "      </script>\n",
              "    </div>\n",
              "  </div>\n",
              "  "
            ]
          },
          "metadata": {},
          "execution_count": 78
        }
      ]
    },
    {
      "cell_type": "code",
      "source": [
        "treino = serie_esp[(serie_esp['Ano']<=2021)&(serie_esp['Mês']<12)]\n",
        "teste = serie_esp[(serie_esp['Ano']==2021)&(serie_esp['Mês'] == 12)]"
      ],
      "metadata": {
        "id": "7iO7OBWyyESm"
      },
      "execution_count": null,
      "outputs": []
    },
    {
      "cell_type": "markdown",
      "source": [
        "## Modelo"
      ],
      "metadata": {
        "id": "IXxSu3vnyq9C"
      }
    },
    {
      "cell_type": "markdown",
      "source": [
        "### PD Arima"
      ],
      "metadata": {
        "id": "8rKskNGyAyfi"
      }
    },
    {
      "cell_type": "code",
      "source": [
        "step1 = auto_arima(treino['Deaths'],start_p=1,start_q=1,max_p=6,max_q=6,m=12,start_P=0,seasonal=True,d=1,D=1,trace=True,\n",
        "                    error_action='ignore',suppress_warnings=True,stepwise=False)\n"
      ],
      "metadata": {
        "colab": {
          "base_uri": "https://localhost:8080/"
        },
        "id": "3WwRZodPyMxG",
        "outputId": "7a3da130-c861-44e7-b739-edf31e55a3be"
      },
      "execution_count": null,
      "outputs": [
        {
          "output_type": "stream",
          "name": "stdout",
          "text": [
            " ARIMA(0,1,0)(0,1,0)[12]             : AIC=9425.297, Time=0.04 sec\n",
            " ARIMA(0,1,0)(0,1,1)[12]             : AIC=inf, Time=0.87 sec\n",
            " ARIMA(0,1,0)(0,1,2)[12]             : AIC=inf, Time=2.81 sec\n",
            " ARIMA(0,1,0)(1,1,0)[12]             : AIC=9270.334, Time=0.17 sec\n",
            " ARIMA(0,1,0)(1,1,1)[12]             : AIC=inf, Time=1.25 sec\n",
            " ARIMA(0,1,0)(1,1,2)[12]             : AIC=inf, Time=7.02 sec\n",
            " ARIMA(0,1,0)(2,1,0)[12]             : AIC=9236.084, Time=1.53 sec\n",
            " ARIMA(0,1,0)(2,1,1)[12]             : AIC=inf, Time=8.30 sec\n",
            " ARIMA(0,1,0)(2,1,2)[12]             : AIC=inf, Time=13.25 sec\n",
            " ARIMA(0,1,1)(0,1,0)[12]             : AIC=9423.546, Time=0.21 sec\n",
            " ARIMA(0,1,1)(0,1,1)[12]             : AIC=inf, Time=1.60 sec\n",
            " ARIMA(0,1,1)(0,1,2)[12]             : AIC=inf, Time=4.78 sec\n",
            " ARIMA(0,1,1)(1,1,0)[12]             : AIC=9253.142, Time=0.53 sec\n",
            " ARIMA(0,1,1)(1,1,1)[12]             : AIC=inf, Time=1.94 sec\n",
            " ARIMA(0,1,1)(1,1,2)[12]             : AIC=inf, Time=7.97 sec\n",
            " ARIMA(0,1,1)(2,1,0)[12]             : AIC=9217.612, Time=1.25 sec\n",
            " ARIMA(0,1,1)(2,1,1)[12]             : AIC=inf, Time=5.12 sec\n",
            " ARIMA(0,1,1)(2,1,2)[12]             : AIC=inf, Time=14.66 sec\n",
            " ARIMA(0,1,2)(0,1,0)[12]             : AIC=9424.967, Time=0.10 sec\n",
            " ARIMA(0,1,2)(0,1,1)[12]             : AIC=inf, Time=2.20 sec\n",
            " ARIMA(0,1,2)(0,1,2)[12]             : AIC=inf, Time=6.04 sec\n",
            " ARIMA(0,1,2)(1,1,0)[12]             : AIC=9253.230, Time=0.73 sec\n",
            " ARIMA(0,1,2)(1,1,1)[12]             : AIC=inf, Time=2.80 sec\n",
            " ARIMA(0,1,2)(1,1,2)[12]             : AIC=inf, Time=10.26 sec\n",
            " ARIMA(0,1,2)(2,1,0)[12]             : AIC=9216.118, Time=1.58 sec\n",
            " ARIMA(0,1,2)(2,1,1)[12]             : AIC=inf, Time=6.36 sec\n",
            " ARIMA(0,1,3)(0,1,0)[12]             : AIC=9427.000, Time=0.15 sec\n",
            " ARIMA(0,1,3)(0,1,1)[12]             : AIC=inf, Time=2.85 sec\n",
            " ARIMA(0,1,3)(0,1,2)[12]             : AIC=inf, Time=9.60 sec\n",
            " ARIMA(0,1,3)(1,1,0)[12]             : AIC=9254.628, Time=1.71 sec\n",
            " ARIMA(0,1,3)(1,1,1)[12]             : AIC=inf, Time=5.44 sec\n",
            " ARIMA(0,1,3)(2,1,0)[12]             : AIC=9218.105, Time=1.74 sec\n",
            " ARIMA(0,1,4)(0,1,0)[12]             : AIC=9423.472, Time=0.20 sec\n",
            " ARIMA(0,1,4)(0,1,1)[12]             : AIC=inf, Time=3.57 sec\n",
            " ARIMA(0,1,4)(1,1,0)[12]             : AIC=9253.726, Time=1.00 sec\n",
            " ARIMA(0,1,5)(0,1,0)[12]             : AIC=9425.207, Time=0.30 sec\n",
            " ARIMA(1,1,0)(0,1,0)[12]             : AIC=9423.820, Time=0.06 sec\n",
            " ARIMA(1,1,0)(0,1,1)[12]             : AIC=inf, Time=1.30 sec\n",
            " ARIMA(1,1,0)(0,1,2)[12]             : AIC=inf, Time=4.23 sec\n",
            " ARIMA(1,1,0)(1,1,0)[12]             : AIC=9251.709, Time=0.52 sec\n",
            " ARIMA(1,1,0)(1,1,1)[12]             : AIC=inf, Time=1.91 sec\n",
            " ARIMA(1,1,0)(1,1,2)[12]             : AIC=inf, Time=7.62 sec\n",
            " ARIMA(1,1,0)(2,1,0)[12]             : AIC=9214.861, Time=1.15 sec\n",
            " ARIMA(1,1,0)(2,1,1)[12]             : AIC=inf, Time=5.12 sec\n",
            " ARIMA(1,1,0)(2,1,2)[12]             : AIC=inf, Time=8.22 sec\n",
            " ARIMA(1,1,1)(0,1,0)[12]             : AIC=9425.096, Time=0.18 sec\n",
            " ARIMA(1,1,1)(0,1,1)[12]             : AIC=inf, Time=2.17 sec\n",
            " ARIMA(1,1,1)(0,1,2)[12]             : AIC=inf, Time=11.31 sec\n",
            " ARIMA(1,1,1)(1,1,0)[12]             : AIC=9246.956, Time=1.46 sec\n",
            " ARIMA(1,1,1)(1,1,1)[12]             : AIC=inf, Time=4.67 sec\n",
            " ARIMA(1,1,1)(1,1,2)[12]             : AIC=inf, Time=6.31 sec\n",
            " ARIMA(1,1,1)(2,1,0)[12]             : AIC=9193.651, Time=4.49 sec\n",
            " ARIMA(1,1,1)(2,1,1)[12]             : AIC=inf, Time=12.30 sec\n",
            " ARIMA(1,1,2)(0,1,0)[12]             : AIC=9426.958, Time=0.27 sec\n",
            " ARIMA(1,1,2)(0,1,1)[12]             : AIC=inf, Time=5.39 sec\n",
            " ARIMA(1,1,2)(0,1,2)[12]             : AIC=inf, Time=12.49 sec\n",
            " ARIMA(1,1,2)(1,1,0)[12]             : AIC=9253.397, Time=1.44 sec\n",
            " ARIMA(1,1,2)(1,1,1)[12]             : AIC=inf, Time=6.96 sec\n",
            " ARIMA(1,1,2)(2,1,0)[12]             : AIC=inf, Time=6.59 sec\n",
            " ARIMA(1,1,3)(0,1,0)[12]             : AIC=9423.979, Time=0.63 sec\n",
            " ARIMA(1,1,3)(0,1,1)[12]             : AIC=inf, Time=5.62 sec\n",
            " ARIMA(1,1,3)(1,1,0)[12]             : AIC=9245.465, Time=1.60 sec\n",
            " ARIMA(1,1,4)(0,1,0)[12]             : AIC=9415.282, Time=1.15 sec\n",
            " ARIMA(2,1,0)(0,1,0)[12]             : AIC=9424.927, Time=0.08 sec\n",
            " ARIMA(2,1,0)(0,1,1)[12]             : AIC=inf, Time=1.65 sec\n",
            " ARIMA(2,1,0)(0,1,2)[12]             : AIC=inf, Time=5.53 sec\n",
            " ARIMA(2,1,0)(1,1,0)[12]             : AIC=9253.540, Time=0.71 sec\n",
            " ARIMA(2,1,0)(1,1,1)[12]             : AIC=inf, Time=2.38 sec\n",
            " ARIMA(2,1,0)(1,1,2)[12]             : AIC=inf, Time=9.33 sec\n",
            " ARIMA(2,1,0)(2,1,0)[12]             : AIC=9215.299, Time=1.68 sec\n",
            " ARIMA(2,1,0)(2,1,1)[12]             : AIC=inf, Time=8.00 sec\n",
            " ARIMA(2,1,1)(0,1,0)[12]             : AIC=inf, Time=0.94 sec\n",
            " ARIMA(2,1,1)(0,1,1)[12]             : AIC=inf, Time=6.29 sec\n",
            " ARIMA(2,1,1)(0,1,2)[12]             : AIC=inf, Time=13.98 sec\n",
            " ARIMA(2,1,1)(1,1,0)[12]             : AIC=9254.452, Time=1.65 sec\n",
            " ARIMA(2,1,1)(1,1,1)[12]             : AIC=inf, Time=nan sec\n",
            " ARIMA(2,1,1)(2,1,0)[12]             : AIC=9207.158, Time=7.01 sec\n",
            " ARIMA(2,1,2)(0,1,0)[12]             : AIC=inf, Time=1.25 sec\n",
            " ARIMA(2,1,2)(0,1,1)[12]             : AIC=inf, Time=6.96 sec\n",
            " ARIMA(2,1,2)(1,1,0)[12]             : AIC=9245.677, Time=4.53 sec\n",
            " ARIMA(2,1,3)(0,1,0)[12]             : AIC=inf, Time=2.47 sec\n",
            " ARIMA(3,1,0)(0,1,0)[12]             : AIC=9426.297, Time=0.10 sec\n",
            " ARIMA(3,1,0)(0,1,1)[12]             : AIC=inf, Time=2.28 sec\n",
            " ARIMA(3,1,0)(0,1,2)[12]             : AIC=inf, Time=6.06 sec\n",
            " ARIMA(3,1,0)(1,1,0)[12]             : AIC=9255.372, Time=0.79 sec\n",
            " ARIMA(3,1,0)(1,1,1)[12]             : AIC=inf, Time=3.10 sec\n",
            " ARIMA(3,1,0)(2,1,0)[12]             : AIC=9216.921, Time=1.86 sec\n",
            " ARIMA(3,1,1)(0,1,0)[12]             : AIC=9423.826, Time=0.42 sec\n",
            " ARIMA(3,1,1)(0,1,1)[12]             : AIC=inf, Time=6.53 sec\n",
            " ARIMA(3,1,1)(1,1,0)[12]             : AIC=9244.171, Time=1.81 sec\n",
            " ARIMA(3,1,2)(0,1,0)[12]             : AIC=inf, Time=2.22 sec\n",
            " ARIMA(4,1,0)(0,1,0)[12]             : AIC=9423.489, Time=0.15 sec\n",
            " ARIMA(4,1,0)(0,1,1)[12]             : AIC=inf, Time=2.94 sec\n",
            " ARIMA(4,1,0)(1,1,0)[12]             : AIC=9252.447, Time=1.13 sec\n",
            " ARIMA(4,1,1)(0,1,0)[12]             : AIC=9424.267, Time=0.36 sec\n",
            " ARIMA(5,1,0)(0,1,0)[12]             : AIC=9424.355, Time=0.16 sec\n",
            "\n",
            "Best model:  ARIMA(1,1,1)(2,1,0)[12]          \n",
            "Total fit time: 355.629 seconds\n"
          ]
        }
      ]
    },
    {
      "cell_type": "code",
      "source": [
        "step2 = auto_arima(serie_esp['Deaths'],start_p=1,start_q=1,max_p=6,max_q=6,m=12,start_P=0,seasonal=True,d=1,D=1,trace=True,\n",
        "                    error_action='ignore',suppress_warnings=True,stepwise=True)"
      ],
      "metadata": {
        "colab": {
          "base_uri": "https://localhost:8080/"
        },
        "id": "Vnxs5Oyr6t85",
        "outputId": "36fbc7cc-ecf7-424a-c90c-54eba927e1eb"
      },
      "execution_count": null,
      "outputs": [
        {
          "output_type": "stream",
          "name": "stdout",
          "text": [
            "Performing stepwise search to minimize aic\n",
            " ARIMA(1,1,1)(0,1,1)[12]             : AIC=inf, Time=2.27 sec\n",
            " ARIMA(0,1,0)(0,1,0)[12]             : AIC=9723.692, Time=0.06 sec\n",
            " ARIMA(1,1,0)(1,1,0)[12]             : AIC=9483.810, Time=0.50 sec\n",
            " ARIMA(0,1,1)(0,1,1)[12]             : AIC=inf, Time=3.07 sec\n",
            " ARIMA(1,1,0)(0,1,0)[12]             : AIC=9681.990, Time=0.08 sec\n",
            " ARIMA(1,1,0)(2,1,0)[12]             : AIC=9451.028, Time=1.25 sec\n",
            " ARIMA(1,1,0)(2,1,1)[12]             : AIC=inf, Time=10.07 sec\n",
            " ARIMA(1,1,0)(1,1,1)[12]             : AIC=inf, Time=3.89 sec\n",
            " ARIMA(0,1,0)(2,1,0)[12]             : AIC=9580.373, Time=2.14 sec\n",
            " ARIMA(2,1,0)(2,1,0)[12]             : AIC=9430.702, Time=4.73 sec\n",
            " ARIMA(2,1,0)(1,1,0)[12]             : AIC=9483.217, Time=1.79 sec\n",
            " ARIMA(2,1,0)(2,1,1)[12]             : AIC=inf, Time=11.84 sec\n",
            " ARIMA(2,1,0)(1,1,1)[12]             : AIC=inf, Time=2.77 sec\n",
            " ARIMA(3,1,0)(2,1,0)[12]             : AIC=9430.016, Time=1.87 sec\n",
            " ARIMA(3,1,0)(1,1,0)[12]             : AIC=9484.365, Time=0.87 sec\n",
            " ARIMA(3,1,0)(2,1,1)[12]             : AIC=inf, Time=9.14 sec\n",
            " ARIMA(3,1,0)(1,1,1)[12]             : AIC=inf, Time=3.32 sec\n",
            " ARIMA(4,1,0)(2,1,0)[12]             : AIC=9411.821, Time=2.88 sec\n",
            " ARIMA(4,1,0)(1,1,0)[12]             : AIC=9475.691, Time=1.19 sec\n",
            " ARIMA(4,1,0)(2,1,1)[12]             : AIC=inf, Time=16.57 sec\n",
            " ARIMA(4,1,0)(1,1,1)[12]             : AIC=inf, Time=6.58 sec\n",
            " ARIMA(5,1,0)(2,1,0)[12]             : AIC=9402.153, Time=3.17 sec\n",
            " ARIMA(5,1,0)(1,1,0)[12]             : AIC=9462.483, Time=1.34 sec\n",
            " ARIMA(5,1,0)(2,1,1)[12]             : AIC=inf, Time=20.22 sec\n",
            " ARIMA(5,1,0)(1,1,1)[12]             : AIC=inf, Time=12.82 sec\n",
            " ARIMA(6,1,0)(2,1,0)[12]             : AIC=9369.446, Time=6.09 sec\n",
            " ARIMA(6,1,0)(1,1,0)[12]             : AIC=9415.598, Time=1.99 sec\n",
            " ARIMA(6,1,0)(2,1,1)[12]             : AIC=inf, Time=25.90 sec\n",
            " ARIMA(6,1,0)(1,1,1)[12]             : AIC=inf, Time=10.71 sec\n",
            " ARIMA(6,1,1)(2,1,0)[12]             : AIC=9322.602, Time=9.11 sec\n",
            " ARIMA(6,1,1)(1,1,0)[12]             : AIC=9366.344, Time=4.84 sec\n",
            " ARIMA(6,1,1)(2,1,1)[12]             : AIC=inf, Time=22.85 sec\n",
            " ARIMA(6,1,1)(1,1,1)[12]             : AIC=inf, Time=8.49 sec\n",
            " ARIMA(5,1,1)(2,1,0)[12]             : AIC=9362.580, Time=6.50 sec\n",
            " ARIMA(6,1,2)(2,1,0)[12]             : AIC=9337.600, Time=12.70 sec\n",
            " ARIMA(5,1,2)(2,1,0)[12]             : AIC=9363.095, Time=9.03 sec\n",
            " ARIMA(6,1,1)(2,1,0)[12] intercept   : AIC=9324.610, Time=28.49 sec\n",
            "\n",
            "Best model:  ARIMA(6,1,1)(2,1,0)[12]          \n",
            "Total fit time: 271.155 seconds\n"
          ]
        }
      ]
    },
    {
      "cell_type": "code",
      "source": [
        "step1"
      ],
      "metadata": {
        "colab": {
          "base_uri": "https://localhost:8080/"
        },
        "id": "hKmwMP9h5iVO",
        "outputId": "e6961b42-01bb-4c2e-c3eb-4e8b387cf713"
      },
      "execution_count": null,
      "outputs": [
        {
          "output_type": "execute_result",
          "data": {
            "text/plain": [
              "ARIMA(order=(1, 1, 1), scoring_args={}, seasonal_order=(2, 1, 0, 12),\n",
              "      suppress_warnings=True, with_intercept=False)"
            ]
          },
          "metadata": {},
          "execution_count": 82
        }
      ]
    },
    {
      "cell_type": "code",
      "source": [
        "step2"
      ],
      "metadata": {
        "colab": {
          "base_uri": "https://localhost:8080/"
        },
        "id": "bG3xowr88axW",
        "outputId": "633de047-feaf-4e46-a5e0-4b5bf02d9246"
      },
      "execution_count": null,
      "outputs": [
        {
          "output_type": "execute_result",
          "data": {
            "text/plain": [
              "ARIMA(order=(6, 1, 1), scoring_args={}, seasonal_order=(2, 1, 0, 12),\n",
              "      suppress_warnings=True, with_intercept=False)"
            ]
          },
          "metadata": {},
          "execution_count": 83
        }
      ]
    },
    {
      "cell_type": "code",
      "source": [
        "step1.fit(treino['Deaths'])"
      ],
      "metadata": {
        "colab": {
          "base_uri": "https://localhost:8080/"
        },
        "id": "yyInwIDO5wg1",
        "outputId": "4f420999-d75f-447e-afc7-d73862c0b90c"
      },
      "execution_count": null,
      "outputs": [
        {
          "output_type": "execute_result",
          "data": {
            "text/plain": [
              "ARIMA(order=(1, 1, 1), scoring_args={}, seasonal_order=(2, 1, 0, 12),\n",
              "      suppress_warnings=True, with_intercept=False)"
            ]
          },
          "metadata": {},
          "execution_count": 84
        }
      ]
    },
    {
      "cell_type": "code",
      "source": [
        "step2.fit(treino['Deaths'])"
      ],
      "metadata": {
        "colab": {
          "base_uri": "https://localhost:8080/"
        },
        "id": "6YMjkodr8cxM",
        "outputId": "4034729e-ef96-4c7e-e2a5-32232f6e5429"
      },
      "execution_count": null,
      "outputs": [
        {
          "output_type": "execute_result",
          "data": {
            "text/plain": [
              "ARIMA(order=(6, 1, 1), scoring_args={}, seasonal_order=(2, 1, 0, 12),\n",
              "      suppress_warnings=True, with_intercept=False)"
            ]
          },
          "metadata": {},
          "execution_count": 85
        }
      ]
    },
    {
      "cell_type": "code",
      "source": [
        "future_forecast=step1.predict(n_periods=len(teste))"
      ],
      "metadata": {
        "colab": {
          "base_uri": "https://localhost:8080/"
        },
        "id": "JeAjI_H-58ev",
        "outputId": "6218bf3f-255a-4cd9-fd59-17e219aaefae"
      },
      "execution_count": null,
      "outputs": [
        {
          "output_type": "stream",
          "name": "stderr",
          "text": [
            "WARNING - (py.warnings._showwarnmsg) - /usr/local/lib/python3.8/dist-packages/statsmodels/tsa/base/tsa_model.py:834: ValueWarning: No supported index is available. Prediction results will be given with an integer index beginning at `start`.\n",
            "  return get_prediction_index(\n",
            "\n",
            "WARNING:py.warnings:/usr/local/lib/python3.8/dist-packages/statsmodels/tsa/base/tsa_model.py:834: ValueWarning: No supported index is available. Prediction results will be given with an integer index beginning at `start`.\n",
            "  return get_prediction_index(\n",
            "\n"
          ]
        }
      ]
    },
    {
      "cell_type": "code",
      "source": [
        "future_forecast1 = step2.predict(n_periods=len(teste))"
      ],
      "metadata": {
        "colab": {
          "base_uri": "https://localhost:8080/"
        },
        "id": "mabj9CUS8jBI",
        "outputId": "2aa79119-c70a-467a-fc23-a7ecc25ade07"
      },
      "execution_count": null,
      "outputs": [
        {
          "output_type": "stream",
          "name": "stderr",
          "text": [
            "WARNING - (py.warnings._showwarnmsg) - /usr/local/lib/python3.8/dist-packages/statsmodels/tsa/base/tsa_model.py:834: ValueWarning: No supported index is available. Prediction results will be given with an integer index beginning at `start`.\n",
            "  return get_prediction_index(\n",
            "\n",
            "WARNING:py.warnings:/usr/local/lib/python3.8/dist-packages/statsmodels/tsa/base/tsa_model.py:834: ValueWarning: No supported index is available. Prediction results will be given with an integer index beginning at `start`.\n",
            "  return get_prediction_index(\n",
            "\n"
          ]
        }
      ]
    },
    {
      "cell_type": "code",
      "source": [
        "plt.figure(figsize=(12,6))\n",
        "plt.title('Comparação da Predição Com os Valores Reais', fontsize=14)\n",
        "plt.plot(teste.index,future_forecast,label='Valor Predito')\n",
        "plt.plot(teste.index,teste['Deaths'].values,label='Real')\n",
        "plt.legend()"
      ],
      "metadata": {
        "colab": {
          "base_uri": "https://localhost:8080/",
          "height": 409
        },
        "id": "cqcNjVWi6RHT",
        "outputId": "b7b128fa-6c1d-43b6-b455-4a592d98e7c8"
      },
      "execution_count": null,
      "outputs": [
        {
          "output_type": "execute_result",
          "data": {
            "text/plain": [
              "<matplotlib.legend.Legend at 0x7f335884e0d0>"
            ]
          },
          "metadata": {},
          "execution_count": 88
        },
        {
          "output_type": "display_data",
          "data": {
            "text/plain": [
              "<Figure size 864x432 with 1 Axes>"
            ],
            "image/png": "[encoded data removed]"
          },
          "metadata": {
            "needs_background": "light"
          }
        }
      ]
    },
    {
      "cell_type": "code",
      "source": [
        "mae = mean_absolute_error(teste['Deaths'],future_forecast)\n",
        "mape = mean_absolute_percentage_error(teste['Deaths'],future_forecast)\n",
        "rmse = mean_squared_error(teste['Deaths'],future_forecast)\n",
        "\n",
        "print('MAE:',mae)\n",
        "print('MAPE:',mape)\n",
        "print('RMSE:',np.sqrt(rmse))"
      ],
      "metadata": {
        "colab": {
          "base_uri": "https://localhost:8080/"
        },
        "id": "zRCfDKLr8yT5",
        "outputId": "b54519cd-ffbc-4ca9-8d01-136b7e97cf1d"
      },
      "execution_count": null,
      "outputs": [
        {
          "output_type": "stream",
          "name": "stdout",
          "text": [
            "MAE: 236.2358003126893\n",
            "MAPE: 0.002654281784891738\n",
            "RMSE: 310.2042301742621\n"
          ]
        }
      ]
    },
    {
      "cell_type": "code",
      "source": [
        "plt.figure(figsize=(12,6))\n",
        "plt.title('Comparação da Predição Com os Valores Reais', fontsize=14)\n",
        "plt.plot(teste.index,future_forecast1,label='Valor Predito')\n",
        "plt.plot(teste.index,teste['Deaths'].values,label='Real')\n",
        "plt.legend()"
      ],
      "metadata": {
        "colab": {
          "base_uri": "https://localhost:8080/",
          "height": 409
        },
        "id": "i88boSu08qqa",
        "outputId": "4103382e-33df-430a-a385-b9c9abdadbec"
      },
      "execution_count": null,
      "outputs": [
        {
          "output_type": "execute_result",
          "data": {
            "text/plain": [
              "<matplotlib.legend.Legend at 0x7f33587b8640>"
            ]
          },
          "metadata": {},
          "execution_count": 90
        },
        {
          "output_type": "display_data",
          "data": {
            "text/plain": [
              "<Figure size 864x432 with 1 Axes>"
            ],
            "image/png": "[encoded data removed]"
          },
          "metadata": {
            "needs_background": "light"
          }
        }
      ]
    },
    {
      "cell_type": "code",
      "source": [
        "mae = mean_absolute_error(teste['Deaths'],future_forecast1)\n",
        "mape = mean_absolute_percentage_error(teste['Deaths'],future_forecast1)\n",
        "rmse = mean_squared_error(teste['Deaths'],future_forecast1)\n",
        "\n",
        "print('MAE:',mae)\n",
        "print('MAPE:',mape)\n",
        "print('RMSE:',np.sqrt(rmse))"
      ],
      "metadata": {
        "colab": {
          "base_uri": "https://localhost:8080/"
        },
        "id": "ZTc3AcrP-Zck",
        "outputId": "771c38da-da2a-4e73-c9ed-851edf7a0132"
      },
      "execution_count": null,
      "outputs": [
        {
          "output_type": "stream",
          "name": "stdout",
          "text": [
            "MAE: 225.83756423135844\n",
            "MAPE: 0.002537357142051522\n",
            "RMSE: 297.9976389419516\n"
          ]
        }
      ]
    },
    {
      "cell_type": "markdown",
      "source": [
        "### Profhet"
      ],
      "metadata": {
        "id": "lcD7EZcZA4Ig"
      }
    },
    {
      "cell_type": "code",
      "source": [
        "serie2 = pd.read_csv('Séries Temporais Espanha.csv')\n",
        "serie2 = serie2[['Date','Deaths']]\n",
        "serie2.columns = ['ds','y']\n",
        "serie2['ds'] = pd.to_datetime(serie2['ds'], format='%Y-%m-%d')\n",
        "serie2.head()\n"
      ],
      "metadata": {
        "colab": {
          "base_uri": "https://localhost:8080/",
          "height": 206
        },
        "id": "dXeV3WojHQKP",
        "outputId": "7f06e3f0-ae46-4a17-dc3a-6cfc9ffd45ab"
      },
      "execution_count": null,
      "outputs": [
        {
          "output_type": "execute_result",
          "data": {
            "text/plain": [
              "          ds  y\n",
              "0 2020-01-22  0\n",
              "1 2020-01-23  0\n",
              "2 2020-01-24  0\n",
              "3 2020-01-25  0\n",
              "4 2020-01-26  0"
            ],
            "text/html": [
              "\n",
              "  <div id=\"df-4006b1b7-ed79-4fb3-8400-d4e476d1dc34\">\n",
              "    <div class=\"colab-df-container\">\n",
              "      <div>\n",
              "<style scoped>\n",
              "    .dataframe tbody tr th:only-of-type {\n",
              "        vertical-align: middle;\n",
              "    }\n",
              "\n",
              "    .dataframe tbody tr th {\n",
              "        vertical-align: top;\n",
              "    }\n",
              "\n",
              "    .dataframe thead th {\n",
              "        text-align: right;\n",
              "    }\n",
              "</style>\n",
              "<table border=\"1\" class=\"dataframe\">\n",
              "  <thead>\n",
              "    <tr style=\"text-align: right;\">\n",
              "      <th></th>\n",
              "      <th>ds</th>\n",
              "      <th>y</th>\n",
              "    </tr>\n",
              "  </thead>\n",
              "  <tbody>\n",
              "    <tr>\n",
              "      <th>0</th>\n",
              "      <td>2020-01-22</td>\n",
              "      <td>0</td>\n",
              "    </tr>\n",
              "    <tr>\n",
              "      <th>1</th>\n",
              "      <td>2020-01-23</td>\n",
              "      <td>0</td>\n",
              "    </tr>\n",
              "    <tr>\n",
              "      <th>2</th>\n",
              "      <td>2020-01-24</td>\n",
              "      <td>0</td>\n",
              "    </tr>\n",
              "    <tr>\n",
              "      <th>3</th>\n",
              "      <td>2020-01-25</td>\n",
              "      <td>0</td>\n",
              "    </tr>\n",
              "    <tr>\n",
              "      <th>4</th>\n",
              "      <td>2020-01-26</td>\n",
              "      <td>0</td>\n",
              "    </tr>\n",
              "  </tbody>\n",
              "</table>\n",
              "</div>\n",
              "      <button class=\"colab-df-convert\" onclick=\"convertToInteractive('df-4006b1b7-ed79-4fb3-8400-d4e476d1dc34')\"\n",
              "              title=\"Convert this dataframe to an interactive table.\"\n",
              "              style=\"display:none;\">\n",
              "        \n",
              "  <svg xmlns=\"http://www.w3.org/2000/svg\" height=\"24px\"viewBox=\"0 0 24 24\"\n",
              "       width=\"24px\">\n",
              "    <path d=\"M0 0h24v24H0V0z\" fill=\"none\"/>\n",
              "    <path d=\"M18.56 5.44l.94 2.06.94-2.06 2.06-.94-2.06-.94-.94-2.06-.94 2.06-2.06.94zm-11 1L8.5 8.5l.94-2.06 2.06-.94-2.06-.94L8.5 2.5l-.94 2.06-2.06.94zm10 10l.94 2.06.94-2.06 2.06-.94-2.06-.94-.94-2.06-.94 2.06-2.06.94z\"/><path d=\"M17.41 7.96l-1.37-1.37c-.4-.4-.92-.59-1.43-.59-.52 0-1.04.2-1.43.59L10.3 9.45l-7.72 7.72c-.78.78-.78 2.05 0 2.83L4 21.41c.39.39.9.59 1.41.59.51 0 1.02-.2 1.41-.59l7.78-7.78 2.81-2.81c.8-.78.8-2.07 0-2.86zM5.41 20L4 18.59l7.72-7.72 1.47 1.35L5.41 20z\"/>\n",
              "  </svg>\n",
              "      </button>\n",
              "      \n",
              "  <style>\n",
              "    .colab-df-container {\n",
              "      display:flex;\n",
              "      flex-wrap:wrap;\n",
              "      gap: 12px;\n",
              "    }\n",
              "\n",
              "    .colab-df-convert {\n",
              "      background-color: #E8F0FE;\n",
              "      border: none;\n",
              "      border-radius: 50%;\n",
              "      cursor: pointer;\n",
              "      display: none;\n",
              "      fill: #1967D2;\n",
              "      height: 32px;\n",
              "      padding: 0 0 0 0;\n",
              "      width: 32px;\n",
              "    }\n",
              "\n",
              "    .colab-df-convert:hover {\n",
              "      background-color: #E2EBFA;\n",
              "      box-shadow: 0px 1px 2px rgba(60, 64, 67, 0.3), 0px 1px 3px 1px rgba(60, 64, 67, 0.15);\n",
              "      fill: #174EA6;\n",
              "    }\n",
              "\n",
              "    [theme=dark] .colab-df-convert {\n",
              "      background-color: #3B4455;\n",
              "      fill: #D2E3FC;\n",
              "    }\n",
              "\n",
              "    [theme=dark] .colab-df-convert:hover {\n",
              "      background-color: #434B5C;\n",
              "      box-shadow: 0px 1px 3px 1px rgba(0, 0, 0, 0.15);\n",
              "      filter: drop-shadow(0px 1px 2px rgba(0, 0, 0, 0.3));\n",
              "      fill: #FFFFFF;\n",
              "    }\n",
              "  </style>\n",
              "\n",
              "      <script>\n",
              "        const buttonEl =\n",
              "          document.querySelector('#df-4006b1b7-ed79-4fb3-8400-d4e476d1dc34 button.colab-df-convert');\n",
              "        buttonEl.style.display =\n",
              "          google.colab.kernel.accessAllowed ? 'block' : 'none';\n",
              "\n",
              "        async function convertToInteractive(key) {\n",
              "          const element = document.querySelector('#df-4006b1b7-ed79-4fb3-8400-d4e476d1dc34');\n",
              "          const dataTable =\n",
              "            await google.colab.kernel.invokeFunction('convertToInteractive',\n",
              "                                                     [key], {});\n",
              "          if (!dataTable) return;\n",
              "\n",
              "          const docLinkHtml = 'Like what you see? Visit the ' +\n",
              "            '<a target=\"_blank\" href=https://colab.research.google.com/notebooks/data_table.ipynb>data table notebook</a>'\n",
              "            + ' to learn more about interactive tables.';\n",
              "          element.innerHTML = '';\n",
              "          dataTable['output_type'] = 'display_data';\n",
              "          await google.colab.output.renderOutput(dataTable, element);\n",
              "          const docLink = document.createElement('div');\n",
              "          docLink.innerHTML = docLinkHtml;\n",
              "          element.appendChild(docLink);\n",
              "        }\n",
              "      </script>\n",
              "    </div>\n",
              "  </div>\n",
              "  "
            ]
          },
          "metadata": {},
          "execution_count": 92
        }
      ]
    },
    {
      "cell_type": "code",
      "source": [
        "treino_re = serie2[:679]\n",
        "teste_re = serie2[679:709]"
      ],
      "metadata": {
        "id": "-quEgIsSJIdS"
      },
      "execution_count": null,
      "outputs": []
    },
    {
      "cell_type": "code",
      "source": [
        "treino_re.info()"
      ],
      "metadata": {
        "colab": {
          "base_uri": "https://localhost:8080/"
        },
        "id": "GAqn0UskLFbT",
        "outputId": "5bb9dc40-e9a1-48e3-941b-616abb556c4e"
      },
      "execution_count": null,
      "outputs": [
        {
          "output_type": "stream",
          "name": "stdout",
          "text": [
            "<class 'pandas.core.frame.DataFrame'>\n",
            "RangeIndex: 679 entries, 0 to 678\n",
            "Data columns (total 2 columns):\n",
            " #   Column  Non-Null Count  Dtype         \n",
            "---  ------  --------------  -----         \n",
            " 0   ds      679 non-null    datetime64[ns]\n",
            " 1   y       679 non-null    int64         \n",
            "dtypes: datetime64[ns](1), int64(1)\n",
            "memory usage: 10.7 KB\n"
          ]
        }
      ]
    },
    {
      "cell_type": "code",
      "source": [
        "treino_re.ds = treino_re.ds.astype(str)"
      ],
      "metadata": {
        "colab": {
          "base_uri": "https://localhost:8080/"
        },
        "id": "eJ3mOKZXKcjg",
        "outputId": "caebd277-04a1-42ce-ef7e-9512c360329c"
      },
      "execution_count": null,
      "outputs": [
        {
          "output_type": "stream",
          "name": "stderr",
          "text": [
            "WARNING - (py.warnings._showwarnmsg) - /usr/local/lib/python3.8/dist-packages/pandas/core/generic.py:5516: SettingWithCopyWarning: \n",
            "A value is trying to be set on a copy of a slice from a DataFrame.\n",
            "Try using .loc[row_indexer,col_indexer] = value instead\n",
            "\n",
            "See the caveats in the documentation: https://pandas.pydata.org/pandas-docs/stable/user_guide/indexing.html#returning-a-view-versus-a-copy\n",
            "  self[name] = value\n",
            "\n",
            "WARNING:py.warnings:/usr/local/lib/python3.8/dist-packages/pandas/core/generic.py:5516: SettingWithCopyWarning: \n",
            "A value is trying to be set on a copy of a slice from a DataFrame.\n",
            "Try using .loc[row_indexer,col_indexer] = value instead\n",
            "\n",
            "See the caveats in the documentation: https://pandas.pydata.org/pandas-docs/stable/user_guide/indexing.html#returning-a-view-versus-a-copy\n",
            "  self[name] = value\n",
            "\n"
          ]
        }
      ]
    },
    {
      "cell_type": "code",
      "source": [
        "m3 = NeuralProphet( num_hidden_layers=10, d_hidden=10, learning_rate=0.8, batch_size=29, epochs=30,)"
      ],
      "metadata": {
        "id": "YhTzKu2YJ0ip"
      },
      "execution_count": null,
      "outputs": []
    },
    {
      "cell_type": "code",
      "source": [
        "metrics = m3.fit(treino_re, freq='D') "
      ],
      "metadata": {
        "colab": {
          "base_uri": "https://localhost:8080/",
          "height": 233,
          "referenced_widgets": [
            "b5a607693dd24c74904c92f63a2ef395",
            "18a7da110b284919afc7524396a6524c",
            "79dd525f810148a28d83f1eff6b168cc",
            "89dff34f0f674aa5b01c9fdd95ef11a8",
            "87a8bf13760d44f384e5b5f857d556cb",
            "daa5068e1d9e49c8ae8d22577da50894",
            "23097d39c932461695fc7d552c75b56c",
            "913a943133e644ebb7794536e1384445",
            "c11c72d4dd184b9db6cc5d8ea160fddd",
            "e1d0171b335d4bce81f52a9c1d45235b",
            "cca5e93d27d94e78b688ea47884ec213"
          ]
        },
        "id": "SfwYyqLlJc4Q",
        "outputId": "3cfe2b68-98c7-4b03-8e4b-edfe7f451754"
      },
      "execution_count": null,
      "outputs": [
        {
          "output_type": "stream",
          "name": "stderr",
          "text": [
            "INFO - (NP.df_utils._infer_frequency) - Major frequency D corresponds to 99.853% of the data.\n",
            "INFO:NP.df_utils:Major frequency D corresponds to 99.853% of the data.\n",
            "INFO - (NP.df_utils._infer_frequency) - Defined frequency is equal to major frequency - D\n",
            "INFO:NP.df_utils:Defined frequency is equal to major frequency - D\n",
            "INFO - (NP.config.init_data_params) - Setting normalization to global as only one dataframe provided for training.\n",
            "INFO:NP.config:Setting normalization to global as only one dataframe provided for training.\n",
            "INFO - (NP.utils.set_auto_seasonalities) - Disabling yearly seasonality. Run NeuralProphet with yearly_seasonality=True to override this.\n",
            "INFO:NP.utils:Disabling yearly seasonality. Run NeuralProphet with yearly_seasonality=True to override this.\n",
            "INFO - (NP.utils.set_auto_seasonalities) - Disabling daily seasonality. Run NeuralProphet with daily_seasonality=True to override this.\n",
            "INFO:NP.utils:Disabling daily seasonality. Run NeuralProphet with daily_seasonality=True to override this.\n"
          ]
        },
        {
          "output_type": "display_data",
          "data": {
            "text/plain": [
              "Training: 0it [00:00, ?it/s]"
            ],
            "application/vnd.jupyter.widget-view+json": {
              "version_major": 2,
              "version_minor": 0,
              "model_id": "b5a607693dd24c74904c92f63a2ef395"
            }
          },
          "metadata": {}
        }
      ]
    },
    {
      "cell_type": "code",
      "source": [
        "\n",
        "future = m3.make_future_dataframe(treino_re, periods=31)"
      ],
      "metadata": {
        "colab": {
          "base_uri": "https://localhost:8080/"
        },
        "id": "AQQPbbReLk-0",
        "outputId": "1298d18b-3c33-498a-c24b-a915b3ff9027"
      },
      "execution_count": null,
      "outputs": [
        {
          "output_type": "stream",
          "name": "stderr",
          "text": [
            "INFO - (NP.df_utils._infer_frequency) - Major frequency D corresponds to 99.853% of the data.\n",
            "INFO:NP.df_utils:Major frequency D corresponds to 99.853% of the data.\n",
            "INFO - (NP.df_utils._infer_frequency) - Defined frequency is equal to major frequency - D\n",
            "INFO:NP.df_utils:Defined frequency is equal to major frequency - D\n",
            "INFO - (NP.df_utils.return_df_in_original_format) - Returning df with no ID column\n",
            "INFO:NP.df_utils:Returning df with no ID column\n"
          ]
        }
      ]
    },
    {
      "cell_type": "code",
      "source": [
        "forecast = m3.predict(future)\n",
        "     "
      ],
      "metadata": {
        "colab": {
          "base_uri": "https://localhost:8080/",
          "height": 233,
          "referenced_widgets": [
            "2de893c5b8a64f89b857d835dad1271d",
            "8c791590f2584232b535f468733fa57c",
            "c5a2d1444d1d4c408f6dd466274da6d8",
            "a568f766216d4843a20c3c317a7be924",
            "38d3ee1d3eb94a82bac689205568923d",
            "e8c4706582744a2fb16ca611ed552def",
            "854c9b2d732a4151acba16e30a121a7e",
            "2bb202d8c48944e9bae3b0b5b4464d33",
            "fdceaeca9cb044a0a9045be5a9a10694",
            "313a8d12972947e880d520f9998bf636",
            "1db876fddd4d4334aaf7707395798754"
          ]
        },
        "id": "tD2wIwZjL5lZ",
        "outputId": "decd37eb-3b0f-42ec-ce57-c9edd686f4d8"
      },
      "execution_count": null,
      "outputs": [
        {
          "output_type": "stream",
          "name": "stderr",
          "text": [
            "INFO - (NP.df_utils._infer_frequency) - Major frequency D corresponds to 96.774% of the data.\n",
            "INFO:NP.df_utils:Major frequency D corresponds to 96.774% of the data.\n",
            "INFO - (NP.df_utils._infer_frequency) - Defined frequency is equal to major frequency - D\n",
            "INFO:NP.df_utils:Defined frequency is equal to major frequency - D\n",
            "INFO - (NP.df_utils._infer_frequency) - Major frequency D corresponds to 96.774% of the data.\n",
            "INFO:NP.df_utils:Major frequency D corresponds to 96.774% of the data.\n",
            "INFO - (NP.df_utils._infer_frequency) - Defined frequency is equal to major frequency - D\n",
            "INFO:NP.df_utils:Defined frequency is equal to major frequency - D\n"
          ]
        },
        {
          "output_type": "display_data",
          "data": {
            "text/plain": [
              "Predicting: 24it [00:00, ?it/s]"
            ],
            "application/vnd.jupyter.widget-view+json": {
              "version_major": 2,
              "version_minor": 0,
              "model_id": "2de893c5b8a64f89b857d835dad1271d"
            }
          },
          "metadata": {}
        },
        {
          "output_type": "stream",
          "name": "stderr",
          "text": [
            "INFO - (NP.df_utils.return_df_in_original_format) - Returning df with no ID column\n",
            "INFO:NP.df_utils:Returning df with no ID column\n"
          ]
        }
      ]
    },
    {
      "cell_type": "code",
      "source": [
        "forecast"
      ],
      "metadata": {
        "colab": {
          "base_uri": "https://localhost:8080/",
          "height": 1000
        },
        "id": "twPmpDvjL-vc",
        "outputId": "ffab9e33-bf95-4a6e-c91e-bc74bb0c7438"
      },
      "execution_count": null,
      "outputs": [
        {
          "output_type": "execute_result",
          "data": {
            "text/plain": [
              "           ds     y         yhat1         trend  season_weekly\n",
              "0  2021-12-01  None  88648.906250  88774.515625    -125.608566\n",
              "1  2021-12-02  None  89104.085938  88824.859375     279.227905\n",
              "2  2021-12-03  None  89030.671875  88875.203125     155.470276\n",
              "3  2021-12-04  None  89001.804688  88925.546875      76.251724\n",
              "4  2021-12-05  None  88780.406250  88975.890625    -195.489655\n",
              "5  2021-12-06  None  88846.492188  89026.234375    -179.746414\n",
              "6  2021-12-07  None  89066.484375  89076.593750     -10.105262\n",
              "7  2021-12-08  None  89001.328125  89126.937500    -125.608566\n",
              "8  2021-12-09  None  89456.507812  89177.281250     279.227905\n",
              "9  2021-12-10  None  89383.093750  89227.625000     155.470276\n",
              "10 2021-12-11  None  89354.226562  89277.968750      76.251724\n",
              "11 2021-12-12  None  89132.828125  89328.312500    -195.489655\n",
              "12 2021-12-13  None  89198.921875  89378.671875    -179.746414\n",
              "13 2021-12-14  None  89418.898438  89429.000000     -10.105262\n",
              "14 2021-12-15  None  89353.750000  89479.359375    -125.608566\n",
              "15 2021-12-16  None  89808.929688  89529.703125     279.227905\n",
              "16 2021-12-17  None  89735.515625  89580.046875     155.470276\n",
              "17 2021-12-18  None  89706.648438  89630.390625      76.251724\n",
              "18 2021-12-19  None  89485.257812  89680.750000    -195.489655\n",
              "19 2021-12-20  None  89551.343750  89731.093750    -179.746414\n",
              "20 2021-12-21  None  89771.328125  89781.437500     -10.105262\n",
              "21 2021-12-22  None  89706.171875  89831.781250    -125.608566\n",
              "22 2021-12-23  None  90161.351562  89882.125000     279.227905\n",
              "23 2021-12-24  None  90087.937500  89932.468750     155.470276\n",
              "24 2021-12-25  None  90059.070312  89982.812500      76.251724\n",
              "25 2021-12-26  None  89837.671875  90033.156250    -195.489655\n",
              "26 2021-12-27  None  89903.765625  90083.515625    -179.746414\n",
              "27 2021-12-28  None  90123.750000  90133.859375     -10.105262\n",
              "28 2021-12-29  None  90058.593750  90184.203125    -125.608566\n",
              "29 2021-12-30  None  90513.773438  90234.546875     279.227905\n",
              "30 2021-12-31  None  90440.359375  90284.890625     155.470276"
            ],
            "text/html": [
              "\n",
              "  <div id=\"df-2f81751b-208c-421b-9837-a15e39ea96e1\">\n",
              "    <div class=\"colab-df-container\">\n",
              "      <div>\n",
              "<style scoped>\n",
              "    .dataframe tbody tr th:only-of-type {\n",
              "        vertical-align: middle;\n",
              "    }\n",
              "\n",
              "    .dataframe tbody tr th {\n",
              "        vertical-align: top;\n",
              "    }\n",
              "\n",
              "    .dataframe thead th {\n",
              "        text-align: right;\n",
              "    }\n",
              "</style>\n",
              "<table border=\"1\" class=\"dataframe\">\n",
              "  <thead>\n",
              "    <tr style=\"text-align: right;\">\n",
              "      <th></th>\n",
              "      <th>ds</th>\n",
              "      <th>y</th>\n",
              "      <th>yhat1</th>\n",
              "      <th>trend</th>\n",
              "      <th>season_weekly</th>\n",
              "    </tr>\n",
              "  </thead>\n",
              "  <tbody>\n",
              "    <tr>\n",
              "      <th>0</th>\n",
              "      <td>2021-12-01</td>\n",
              "      <td>None</td>\n",
              "      <td>88648.906250</td>\n",
              "      <td>88774.515625</td>\n",
              "      <td>-125.608566</td>\n",
              "    </tr>\n",
              "    <tr>\n",
              "      <th>1</th>\n",
              "      <td>2021-12-02</td>\n",
              "      <td>None</td>\n",
              "      <td>89104.085938</td>\n",
              "      <td>88824.859375</td>\n",
              "      <td>279.227905</td>\n",
              "    </tr>\n",
              "    <tr>\n",
              "      <th>2</th>\n",
              "      <td>2021-12-03</td>\n",
              "      <td>None</td>\n",
              "      <td>89030.671875</td>\n",
              "      <td>88875.203125</td>\n",
              "      <td>155.470276</td>\n",
              "    </tr>\n",
              "    <tr>\n",
              "      <th>3</th>\n",
              "      <td>2021-12-04</td>\n",
              "      <td>None</td>\n",
              "      <td>89001.804688</td>\n",
              "      <td>88925.546875</td>\n",
              "      <td>76.251724</td>\n",
              "    </tr>\n",
              "    <tr>\n",
              "      <th>4</th>\n",
              "      <td>2021-12-05</td>\n",
              "      <td>None</td>\n",
              "      <td>88780.406250</td>\n",
              "      <td>88975.890625</td>\n",
              "      <td>-195.489655</td>\n",
              "    </tr>\n",
              "    <tr>\n",
              "      <th>5</th>\n",
              "      <td>2021-12-06</td>\n",
              "      <td>None</td>\n",
              "      <td>88846.492188</td>\n",
              "      <td>89026.234375</td>\n",
              "      <td>-179.746414</td>\n",
              "    </tr>\n",
              "    <tr>\n",
              "      <th>6</th>\n",
              "      <td>2021-12-07</td>\n",
              "      <td>None</td>\n",
              "      <td>89066.484375</td>\n",
              "      <td>89076.593750</td>\n",
              "      <td>-10.105262</td>\n",
              "    </tr>\n",
              "    <tr>\n",
              "      <th>7</th>\n",
              "      <td>2021-12-08</td>\n",
              "      <td>None</td>\n",
              "      <td>89001.328125</td>\n",
              "      <td>89126.937500</td>\n",
              "      <td>-125.608566</td>\n",
              "    </tr>\n",
              "    <tr>\n",
              "      <th>8</th>\n",
              "      <td>2021-12-09</td>\n",
              "      <td>None</td>\n",
              "      <td>89456.507812</td>\n",
              "      <td>89177.281250</td>\n",
              "      <td>279.227905</td>\n",
              "    </tr>\n",
              "    <tr>\n",
              "      <th>9</th>\n",
              "      <td>2021-12-10</td>\n",
              "      <td>None</td>\n",
              "      <td>89383.093750</td>\n",
              "      <td>89227.625000</td>\n",
              "      <td>155.470276</td>\n",
              "    </tr>\n",
              "    <tr>\n",
              "      <th>10</th>\n",
              "      <td>2021-12-11</td>\n",
              "      <td>None</td>\n",
              "      <td>89354.226562</td>\n",
              "      <td>89277.968750</td>\n",
              "      <td>76.251724</td>\n",
              "    </tr>\n",
              "    <tr>\n",
              "      <th>11</th>\n",
              "      <td>2021-12-12</td>\n",
              "      <td>None</td>\n",
              "      <td>89132.828125</td>\n",
              "      <td>89328.312500</td>\n",
              "      <td>-195.489655</td>\n",
              "    </tr>\n",
              "    <tr>\n",
              "      <th>12</th>\n",
              "      <td>2021-12-13</td>\n",
              "      <td>None</td>\n",
              "      <td>89198.921875</td>\n",
              "      <td>89378.671875</td>\n",
              "      <td>-179.746414</td>\n",
              "    </tr>\n",
              "    <tr>\n",
              "      <th>13</th>\n",
              "      <td>2021-12-14</td>\n",
              "      <td>None</td>\n",
              "      <td>89418.898438</td>\n",
              "      <td>89429.000000</td>\n",
              "      <td>-10.105262</td>\n",
              "    </tr>\n",
              "    <tr>\n",
              "      <th>14</th>\n",
              "      <td>2021-12-15</td>\n",
              "      <td>None</td>\n",
              "      <td>89353.750000</td>\n",
              "      <td>89479.359375</td>\n",
              "      <td>-125.608566</td>\n",
              "    </tr>\n",
              "    <tr>\n",
              "      <th>15</th>\n",
              "      <td>2021-12-16</td>\n",
              "      <td>None</td>\n",
              "      <td>89808.929688</td>\n",
              "      <td>89529.703125</td>\n",
              "      <td>279.227905</td>\n",
              "    </tr>\n",
              "    <tr>\n",
              "      <th>16</th>\n",
              "      <td>2021-12-17</td>\n",
              "      <td>None</td>\n",
              "      <td>89735.515625</td>\n",
              "      <td>89580.046875</td>\n",
              "      <td>155.470276</td>\n",
              "    </tr>\n",
              "    <tr>\n",
              "      <th>17</th>\n",
              "      <td>2021-12-18</td>\n",
              "      <td>None</td>\n",
              "      <td>89706.648438</td>\n",
              "      <td>89630.390625</td>\n",
              "      <td>76.251724</td>\n",
              "    </tr>\n",
              "    <tr>\n",
              "      <th>18</th>\n",
              "      <td>2021-12-19</td>\n",
              "      <td>None</td>\n",
              "      <td>89485.257812</td>\n",
              "      <td>89680.750000</td>\n",
              "      <td>-195.489655</td>\n",
              "    </tr>\n",
              "    <tr>\n",
              "      <th>19</th>\n",
              "      <td>2021-12-20</td>\n",
              "      <td>None</td>\n",
              "      <td>89551.343750</td>\n",
              "      <td>89731.093750</td>\n",
              "      <td>-179.746414</td>\n",
              "    </tr>\n",
              "    <tr>\n",
              "      <th>20</th>\n",
              "      <td>2021-12-21</td>\n",
              "      <td>None</td>\n",
              "      <td>89771.328125</td>\n",
              "      <td>89781.437500</td>\n",
              "      <td>-10.105262</td>\n",
              "    </tr>\n",
              "    <tr>\n",
              "      <th>21</th>\n",
              "      <td>2021-12-22</td>\n",
              "      <td>None</td>\n",
              "      <td>89706.171875</td>\n",
              "      <td>89831.781250</td>\n",
              "      <td>-125.608566</td>\n",
              "    </tr>\n",
              "    <tr>\n",
              "      <th>22</th>\n",
              "      <td>2021-12-23</td>\n",
              "      <td>None</td>\n",
              "      <td>90161.351562</td>\n",
              "      <td>89882.125000</td>\n",
              "      <td>279.227905</td>\n",
              "    </tr>\n",
              "    <tr>\n",
              "      <th>23</th>\n",
              "      <td>2021-12-24</td>\n",
              "      <td>None</td>\n",
              "      <td>90087.937500</td>\n",
              "      <td>89932.468750</td>\n",
              "      <td>155.470276</td>\n",
              "    </tr>\n",
              "    <tr>\n",
              "      <th>24</th>\n",
              "      <td>2021-12-25</td>\n",
              "      <td>None</td>\n",
              "      <td>90059.070312</td>\n",
              "      <td>89982.812500</td>\n",
              "      <td>76.251724</td>\n",
              "    </tr>\n",
              "    <tr>\n",
              "      <th>25</th>\n",
              "      <td>2021-12-26</td>\n",
              "      <td>None</td>\n",
              "      <td>89837.671875</td>\n",
              "      <td>90033.156250</td>\n",
              "      <td>-195.489655</td>\n",
              "    </tr>\n",
              "    <tr>\n",
              "      <th>26</th>\n",
              "      <td>2021-12-27</td>\n",
              "      <td>None</td>\n",
              "      <td>89903.765625</td>\n",
              "      <td>90083.515625</td>\n",
              "      <td>-179.746414</td>\n",
              "    </tr>\n",
              "    <tr>\n",
              "      <th>27</th>\n",
              "      <td>2021-12-28</td>\n",
              "      <td>None</td>\n",
              "      <td>90123.750000</td>\n",
              "      <td>90133.859375</td>\n",
              "      <td>-10.105262</td>\n",
              "    </tr>\n",
              "    <tr>\n",
              "      <th>28</th>\n",
              "      <td>2021-12-29</td>\n",
              "      <td>None</td>\n",
              "      <td>90058.593750</td>\n",
              "      <td>90184.203125</td>\n",
              "      <td>-125.608566</td>\n",
              "    </tr>\n",
              "    <tr>\n",
              "      <th>29</th>\n",
              "      <td>2021-12-30</td>\n",
              "      <td>None</td>\n",
              "      <td>90513.773438</td>\n",
              "      <td>90234.546875</td>\n",
              "      <td>279.227905</td>\n",
              "    </tr>\n",
              "    <tr>\n",
              "      <th>30</th>\n",
              "      <td>2021-12-31</td>\n",
              "      <td>None</td>\n",
              "      <td>90440.359375</td>\n",
              "      <td>90284.890625</td>\n",
              "      <td>155.470276</td>\n",
              "    </tr>\n",
              "  </tbody>\n",
              "</table>\n",
              "</div>\n",
              "      <button class=\"colab-df-convert\" onclick=\"convertToInteractive('df-2f81751b-208c-421b-9837-a15e39ea96e1')\"\n",
              "              title=\"Convert this dataframe to an interactive table.\"\n",
              "              style=\"display:none;\">\n",
              "        \n",
              "  <svg xmlns=\"http://www.w3.org/2000/svg\" height=\"24px\"viewBox=\"0 0 24 24\"\n",
              "       width=\"24px\">\n",
              "    <path d=\"M0 0h24v24H0V0z\" fill=\"none\"/>\n",
              "    <path d=\"M18.56 5.44l.94 2.06.94-2.06 2.06-.94-2.06-.94-.94-2.06-.94 2.06-2.06.94zm-11 1L8.5 8.5l.94-2.06 2.06-.94-2.06-.94L8.5 2.5l-.94 2.06-2.06.94zm10 10l.94 2.06.94-2.06 2.06-.94-2.06-.94-.94-2.06-.94 2.06-2.06.94z\"/><path d=\"M17.41 7.96l-1.37-1.37c-.4-.4-.92-.59-1.43-.59-.52 0-1.04.2-1.43.59L10.3 9.45l-7.72 7.72c-.78.78-.78 2.05 0 2.83L4 21.41c.39.39.9.59 1.41.59.51 0 1.02-.2 1.41-.59l7.78-7.78 2.81-2.81c.8-.78.8-2.07 0-2.86zM5.41 20L4 18.59l7.72-7.72 1.47 1.35L5.41 20z\"/>\n",
              "  </svg>\n",
              "      </button>\n",
              "      \n",
              "  <style>\n",
              "    .colab-df-container {\n",
              "      display:flex;\n",
              "      flex-wrap:wrap;\n",
              "      gap: 12px;\n",
              "    }\n",
              "\n",
              "    .colab-df-convert {\n",
              "      background-color: #E8F0FE;\n",
              "      border: none;\n",
              "      border-radius: 50%;\n",
              "      cursor: pointer;\n",
              "      display: none;\n",
              "      fill: #1967D2;\n",
              "      height: 32px;\n",
              "      padding: 0 0 0 0;\n",
              "      width: 32px;\n",
              "    }\n",
              "\n",
              "    .colab-df-convert:hover {\n",
              "      background-color: #E2EBFA;\n",
              "      box-shadow: 0px 1px 2px rgba(60, 64, 67, 0.3), 0px 1px 3px 1px rgba(60, 64, 67, 0.15);\n",
              "      fill: #174EA6;\n",
              "    }\n",
              "\n",
              "    [theme=dark] .colab-df-convert {\n",
              "      background-color: #3B4455;\n",
              "      fill: #D2E3FC;\n",
              "    }\n",
              "\n",
              "    [theme=dark] .colab-df-convert:hover {\n",
              "      background-color: #434B5C;\n",
              "      box-shadow: 0px 1px 3px 1px rgba(0, 0, 0, 0.15);\n",
              "      filter: drop-shadow(0px 1px 2px rgba(0, 0, 0, 0.3));\n",
              "      fill: #FFFFFF;\n",
              "    }\n",
              "  </style>\n",
              "\n",
              "      <script>\n",
              "        const buttonEl =\n",
              "          document.querySelector('#df-2f81751b-208c-421b-9837-a15e39ea96e1 button.colab-df-convert');\n",
              "        buttonEl.style.display =\n",
              "          google.colab.kernel.accessAllowed ? 'block' : 'none';\n",
              "\n",
              "        async function convertToInteractive(key) {\n",
              "          const element = document.querySelector('#df-2f81751b-208c-421b-9837-a15e39ea96e1');\n",
              "          const dataTable =\n",
              "            await google.colab.kernel.invokeFunction('convertToInteractive',\n",
              "                                                     [key], {});\n",
              "          if (!dataTable) return;\n",
              "\n",
              "          const docLinkHtml = 'Like what you see? Visit the ' +\n",
              "            '<a target=\"_blank\" href=https://colab.research.google.com/notebooks/data_table.ipynb>data table notebook</a>'\n",
              "            + ' to learn more about interactive tables.';\n",
              "          element.innerHTML = '';\n",
              "          dataTable['output_type'] = 'display_data';\n",
              "          await google.colab.output.renderOutput(dataTable, element);\n",
              "          const docLink = document.createElement('div');\n",
              "          docLink.innerHTML = docLinkHtml;\n",
              "          element.appendChild(docLink);\n",
              "        }\n",
              "      </script>\n",
              "    </div>\n",
              "  </div>\n",
              "  "
            ]
          },
          "metadata": {},
          "execution_count": 154
        }
      ]
    },
    {
      "cell_type": "code",
      "source": [
        "plt.figure(figsize=(12,6))\n",
        "plt.title('Comparação da Predição Com os Valores Reais', fontsize=14)\n",
        "plt.plot(teste.index,forecast['yhat1'],label='Valor Predito')\n",
        "plt.plot(teste.index,teste['Deaths'].values,label='Real')\n",
        "plt.legend()"
      ],
      "metadata": {
        "colab": {
          "base_uri": "https://localhost:8080/",
          "height": 409
        },
        "id": "fT5ijZ7YMLct",
        "outputId": "3e7d14eb-8ae4-4bd3-f1b9-d1491ae38295"
      },
      "execution_count": null,
      "outputs": [
        {
          "output_type": "execute_result",
          "data": {
            "text/plain": [
              "<matplotlib.legend.Legend at 0x7f33588c2970>"
            ]
          },
          "metadata": {},
          "execution_count": 155
        },
        {
          "output_type": "display_data",
          "data": {
            "text/plain": [
              "<Figure size 864x432 with 1 Axes>"
            ],
            "image/png": "[encoded data removed]"
          },
          "metadata": {
            "needs_background": "light"
          }
        }
      ]
    },
    {
      "cell_type": "code",
      "source": [
        "mae = mean_absolute_error(teste['Deaths'],forecast['yhat1'])\n",
        "mape = mean_absolute_percentage_error(teste['Deaths'],forecast['yhat1'])\n",
        "rmse = mean_squared_error(teste['Deaths'],forecast['yhat1'])\n",
        "\n",
        "print('MAE:',mae)\n",
        "print('MAPE:',mape)\n",
        "print('RMSE:',np.sqrt(rmse))"
      ],
      "metadata": {
        "colab": {
          "base_uri": "https://localhost:8080/"
        },
        "id": "-IuFNTysMjIZ",
        "outputId": "62b08cf6-a4d7-4dd4-ed99-a0ead79e227e"
      },
      "execution_count": null,
      "outputs": [
        {
          "output_type": "stream",
          "name": "stdout",
          "text": [
            "MAE: 880.4153225806451\n",
            "MAPE: 0.009927855608903994\n",
            "RMSE: 894.4374275085992\n"
          ]
        }
      ]
    }
  ]
}