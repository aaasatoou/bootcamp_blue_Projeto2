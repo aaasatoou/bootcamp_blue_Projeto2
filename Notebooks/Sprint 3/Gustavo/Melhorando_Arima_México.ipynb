{
  "nbformat": 4,
  "nbformat_minor": 0,
  "metadata": {
    "colab": {
      "provenance": []
    },
    "kernelspec": {
      "name": "python3",
      "display_name": "Python 3"
    },
    "language_info": {
      "name": "python"
    }
  },
  "cells": [
    {
      "cell_type": "markdown",
      "source": [
        "# Testando Outros Modelos México\n",
        "\n",
        "Neste notebook será testado outros modelo de séries temporais da Covid no México, comparando os resultados com o modelo baseline feito na sprint 2."
      ],
      "metadata": {
        "id": "BAdOcxhivros"
      }
    },
    {
      "cell_type": "code",
      "execution_count": null,
      "metadata": {
        "colab": {
          "base_uri": "https://localhost:8080/"
        },
        "id": "Ov61sr0Wvks4",
        "outputId": "76566783-cf9c-4bf4-bf40-e6399490d459"
      },
      "outputs": [
        {
          "output_type": "stream",
          "name": "stdout",
          "text": [
            "Looking in indexes: https://pypi.org/simple, https://us-python.pkg.dev/colab-wheels/public/simple/\n",
            "Requirement already satisfied: pmdarima in /usr/local/lib/python3.8/dist-packages (2.0.2)\n",
            "Requirement already satisfied: scipy>=1.3.2 in /usr/local/lib/python3.8/dist-packages (from pmdarima) (1.7.3)\n",
            "Requirement already satisfied: joblib>=0.11 in /usr/local/lib/python3.8/dist-packages (from pmdarima) (1.2.0)\n",
            "Requirement already satisfied: statsmodels>=0.13.2 in /usr/local/lib/python3.8/dist-packages (from pmdarima) (0.13.5)\n",
            "Requirement already satisfied: numpy>=1.21.2 in /usr/local/lib/python3.8/dist-packages (from pmdarima) (1.21.6)\n",
            "Requirement already satisfied: Cython!=0.29.18,!=0.29.31,>=0.29 in /usr/local/lib/python3.8/dist-packages (from pmdarima) (0.29.32)\n",
            "Requirement already satisfied: urllib3 in /usr/local/lib/python3.8/dist-packages (from pmdarima) (1.24.3)\n",
            "Requirement already satisfied: setuptools!=50.0.0,>=38.6.0 in /usr/local/lib/python3.8/dist-packages (from pmdarima) (57.4.0)\n",
            "Requirement already satisfied: pandas>=0.19 in /usr/local/lib/python3.8/dist-packages (from pmdarima) (1.3.5)\n",
            "Requirement already satisfied: scikit-learn>=0.22 in /usr/local/lib/python3.8/dist-packages (from pmdarima) (1.0.2)\n",
            "Requirement already satisfied: python-dateutil>=2.7.3 in /usr/local/lib/python3.8/dist-packages (from pandas>=0.19->pmdarima) (2.8.2)\n",
            "Requirement already satisfied: pytz>=2017.3 in /usr/local/lib/python3.8/dist-packages (from pandas>=0.19->pmdarima) (2022.6)\n",
            "Requirement already satisfied: six>=1.5 in /usr/local/lib/python3.8/dist-packages (from python-dateutil>=2.7.3->pandas>=0.19->pmdarima) (1.15.0)\n",
            "Requirement already satisfied: threadpoolctl>=2.0.0 in /usr/local/lib/python3.8/dist-packages (from scikit-learn>=0.22->pmdarima) (3.1.0)\n",
            "Requirement already satisfied: packaging>=21.3 in /usr/local/lib/python3.8/dist-packages (from statsmodels>=0.13.2->pmdarima) (21.3)\n",
            "Requirement already satisfied: patsy>=0.5.2 in /usr/local/lib/python3.8/dist-packages (from statsmodels>=0.13.2->pmdarima) (0.5.3)\n",
            "Requirement already satisfied: pyparsing!=3.0.5,>=2.0.2 in /usr/local/lib/python3.8/dist-packages (from packaging>=21.3->statsmodels>=0.13.2->pmdarima) (3.0.9)\n"
          ]
        }
      ],
      "source": [
        "# Importando as Blibiotecas\n",
        "import numpy as np\n",
        "import pandas as pd\n",
        "import matplotlib.pyplot as plt\n",
        "import seaborn as sns\n",
        "\n",
        "!pip install pmdarima\n",
        "from pmdarima.arima import auto_arima\n",
        "\n",
        "from sklearn.metrics import mean_absolute_error, mean_squared_error, mean_absolute_percentage_error"
      ]
    },
    {
      "cell_type": "code",
      "source": [
        "serie_mex = pd.read_csv('Séries Temporais México.csv')\n",
        "serie_mex.drop('Unnamed: 0',axis=1,inplace=True)\n",
        "serie_mex['Date'] = pd.to_datetime(serie_mex['Date'],format='%Y-%m-%d')\n",
        "serie_mex['Mês'] = serie_mex['Date'].dt.month\n",
        "serie_mex.head()"
      ],
      "metadata": {
        "colab": {
          "base_uri": "https://localhost:8080/",
          "height": 206
        },
        "id": "POXPnGePwGFL",
        "outputId": "083f4885-198a-457d-d47f-67bbe3e8dcbb"
      },
      "execution_count": null,
      "outputs": [
        {
          "output_type": "execute_result",
          "data": {
            "text/plain": [
              "        Date  Confirmed  Recovered  Deaths   Ano  Mês\n",
              "0 2020-01-22          0        0.0       0  2020    1\n",
              "1 2020-01-23          0        0.0       0  2020    1\n",
              "2 2020-01-24          0        0.0       0  2020    1\n",
              "3 2020-01-25          0        0.0       0  2020    1\n",
              "4 2020-01-26          0        0.0       0  2020    1"
            ],
            "text/html": [
              "\n",
              "  <div id=\"df-e19201d1-a550-485f-a99c-5b6c6e45186c\">\n",
              "    <div class=\"colab-df-container\">\n",
              "      <div>\n",
              "<style scoped>\n",
              "    .dataframe tbody tr th:only-of-type {\n",
              "        vertical-align: middle;\n",
              "    }\n",
              "\n",
              "    .dataframe tbody tr th {\n",
              "        vertical-align: top;\n",
              "    }\n",
              "\n",
              "    .dataframe thead th {\n",
              "        text-align: right;\n",
              "    }\n",
              "</style>\n",
              "<table border=\"1\" class=\"dataframe\">\n",
              "  <thead>\n",
              "    <tr style=\"text-align: right;\">\n",
              "      <th></th>\n",
              "      <th>Date</th>\n",
              "      <th>Confirmed</th>\n",
              "      <th>Recovered</th>\n",
              "      <th>Deaths</th>\n",
              "      <th>Ano</th>\n",
              "      <th>Mês</th>\n",
              "    </tr>\n",
              "  </thead>\n",
              "  <tbody>\n",
              "    <tr>\n",
              "      <th>0</th>\n",
              "      <td>2020-01-22</td>\n",
              "      <td>0</td>\n",
              "      <td>0.0</td>\n",
              "      <td>0</td>\n",
              "      <td>2020</td>\n",
              "      <td>1</td>\n",
              "    </tr>\n",
              "    <tr>\n",
              "      <th>1</th>\n",
              "      <td>2020-01-23</td>\n",
              "      <td>0</td>\n",
              "      <td>0.0</td>\n",
              "      <td>0</td>\n",
              "      <td>2020</td>\n",
              "      <td>1</td>\n",
              "    </tr>\n",
              "    <tr>\n",
              "      <th>2</th>\n",
              "      <td>2020-01-24</td>\n",
              "      <td>0</td>\n",
              "      <td>0.0</td>\n",
              "      <td>0</td>\n",
              "      <td>2020</td>\n",
              "      <td>1</td>\n",
              "    </tr>\n",
              "    <tr>\n",
              "      <th>3</th>\n",
              "      <td>2020-01-25</td>\n",
              "      <td>0</td>\n",
              "      <td>0.0</td>\n",
              "      <td>0</td>\n",
              "      <td>2020</td>\n",
              "      <td>1</td>\n",
              "    </tr>\n",
              "    <tr>\n",
              "      <th>4</th>\n",
              "      <td>2020-01-26</td>\n",
              "      <td>0</td>\n",
              "      <td>0.0</td>\n",
              "      <td>0</td>\n",
              "      <td>2020</td>\n",
              "      <td>1</td>\n",
              "    </tr>\n",
              "  </tbody>\n",
              "</table>\n",
              "</div>\n",
              "      <button class=\"colab-df-convert\" onclick=\"convertToInteractive('df-e19201d1-a550-485f-a99c-5b6c6e45186c')\"\n",
              "              title=\"Convert this dataframe to an interactive table.\"\n",
              "              style=\"display:none;\">\n",
              "        \n",
              "  <svg xmlns=\"http://www.w3.org/2000/svg\" height=\"24px\"viewBox=\"0 0 24 24\"\n",
              "       width=\"24px\">\n",
              "    <path d=\"M0 0h24v24H0V0z\" fill=\"none\"/>\n",
              "    <path d=\"M18.56 5.44l.94 2.06.94-2.06 2.06-.94-2.06-.94-.94-2.06-.94 2.06-2.06.94zm-11 1L8.5 8.5l.94-2.06 2.06-.94-2.06-.94L8.5 2.5l-.94 2.06-2.06.94zm10 10l.94 2.06.94-2.06 2.06-.94-2.06-.94-.94-2.06-.94 2.06-2.06.94z\"/><path d=\"M17.41 7.96l-1.37-1.37c-.4-.4-.92-.59-1.43-.59-.52 0-1.04.2-1.43.59L10.3 9.45l-7.72 7.72c-.78.78-.78 2.05 0 2.83L4 21.41c.39.39.9.59 1.41.59.51 0 1.02-.2 1.41-.59l7.78-7.78 2.81-2.81c.8-.78.8-2.07 0-2.86zM5.41 20L4 18.59l7.72-7.72 1.47 1.35L5.41 20z\"/>\n",
              "  </svg>\n",
              "      </button>\n",
              "      \n",
              "  <style>\n",
              "    .colab-df-container {\n",
              "      display:flex;\n",
              "      flex-wrap:wrap;\n",
              "      gap: 12px;\n",
              "    }\n",
              "\n",
              "    .colab-df-convert {\n",
              "      background-color: #E8F0FE;\n",
              "      border: none;\n",
              "      border-radius: 50%;\n",
              "      cursor: pointer;\n",
              "      display: none;\n",
              "      fill: #1967D2;\n",
              "      height: 32px;\n",
              "      padding: 0 0 0 0;\n",
              "      width: 32px;\n",
              "    }\n",
              "\n",
              "    .colab-df-convert:hover {\n",
              "      background-color: #E2EBFA;\n",
              "      box-shadow: 0px 1px 2px rgba(60, 64, 67, 0.3), 0px 1px 3px 1px rgba(60, 64, 67, 0.15);\n",
              "      fill: #174EA6;\n",
              "    }\n",
              "\n",
              "    [theme=dark] .colab-df-convert {\n",
              "      background-color: #3B4455;\n",
              "      fill: #D2E3FC;\n",
              "    }\n",
              "\n",
              "    [theme=dark] .colab-df-convert:hover {\n",
              "      background-color: #434B5C;\n",
              "      box-shadow: 0px 1px 3px 1px rgba(0, 0, 0, 0.15);\n",
              "      filter: drop-shadow(0px 1px 2px rgba(0, 0, 0, 0.3));\n",
              "      fill: #FFFFFF;\n",
              "    }\n",
              "  </style>\n",
              "\n",
              "      <script>\n",
              "        const buttonEl =\n",
              "          document.querySelector('#df-e19201d1-a550-485f-a99c-5b6c6e45186c button.colab-df-convert');\n",
              "        buttonEl.style.display =\n",
              "          google.colab.kernel.accessAllowed ? 'block' : 'none';\n",
              "\n",
              "        async function convertToInteractive(key) {\n",
              "          const element = document.querySelector('#df-e19201d1-a550-485f-a99c-5b6c6e45186c');\n",
              "          const dataTable =\n",
              "            await google.colab.kernel.invokeFunction('convertToInteractive',\n",
              "                                                     [key], {});\n",
              "          if (!dataTable) return;\n",
              "\n",
              "          const docLinkHtml = 'Like what you see? Visit the ' +\n",
              "            '<a target=\"_blank\" href=https://colab.research.google.com/notebooks/data_table.ipynb>data table notebook</a>'\n",
              "            + ' to learn more about interactive tables.';\n",
              "          element.innerHTML = '';\n",
              "          dataTable['output_type'] = 'display_data';\n",
              "          await google.colab.output.renderOutput(dataTable, element);\n",
              "          const docLink = document.createElement('div');\n",
              "          docLink.innerHTML = docLinkHtml;\n",
              "          element.appendChild(docLink);\n",
              "        }\n",
              "      </script>\n",
              "    </div>\n",
              "  </div>\n",
              "  "
            ]
          },
          "metadata": {},
          "execution_count": 2
        }
      ]
    },
    {
      "cell_type": "code",
      "source": [
        "serie_mex.set_index('Date',inplace=True)\n",
        "serie_mex.head()"
      ],
      "metadata": {
        "colab": {
          "base_uri": "https://localhost:8080/",
          "height": 238
        },
        "id": "SlGS8twRwaaE",
        "outputId": "c7d84479-df01-40ff-c7de-83bd027431ec"
      },
      "execution_count": null,
      "outputs": [
        {
          "output_type": "execute_result",
          "data": {
            "text/plain": [
              "            Confirmed  Recovered  Deaths   Ano  Mês\n",
              "Date                                               \n",
              "2020-01-22          0        0.0       0  2020    1\n",
              "2020-01-23          0        0.0       0  2020    1\n",
              "2020-01-24          0        0.0       0  2020    1\n",
              "2020-01-25          0        0.0       0  2020    1\n",
              "2020-01-26          0        0.0       0  2020    1"
            ],
            "text/html": [
              "\n",
              "  <div id=\"df-43125d49-e6a7-4cc6-af36-714c0052058b\">\n",
              "    <div class=\"colab-df-container\">\n",
              "      <div>\n",
              "<style scoped>\n",
              "    .dataframe tbody tr th:only-of-type {\n",
              "        vertical-align: middle;\n",
              "    }\n",
              "\n",
              "    .dataframe tbody tr th {\n",
              "        vertical-align: top;\n",
              "    }\n",
              "\n",
              "    .dataframe thead th {\n",
              "        text-align: right;\n",
              "    }\n",
              "</style>\n",
              "<table border=\"1\" class=\"dataframe\">\n",
              "  <thead>\n",
              "    <tr style=\"text-align: right;\">\n",
              "      <th></th>\n",
              "      <th>Confirmed</th>\n",
              "      <th>Recovered</th>\n",
              "      <th>Deaths</th>\n",
              "      <th>Ano</th>\n",
              "      <th>Mês</th>\n",
              "    </tr>\n",
              "    <tr>\n",
              "      <th>Date</th>\n",
              "      <th></th>\n",
              "      <th></th>\n",
              "      <th></th>\n",
              "      <th></th>\n",
              "      <th></th>\n",
              "    </tr>\n",
              "  </thead>\n",
              "  <tbody>\n",
              "    <tr>\n",
              "      <th>2020-01-22</th>\n",
              "      <td>0</td>\n",
              "      <td>0.0</td>\n",
              "      <td>0</td>\n",
              "      <td>2020</td>\n",
              "      <td>1</td>\n",
              "    </tr>\n",
              "    <tr>\n",
              "      <th>2020-01-23</th>\n",
              "      <td>0</td>\n",
              "      <td>0.0</td>\n",
              "      <td>0</td>\n",
              "      <td>2020</td>\n",
              "      <td>1</td>\n",
              "    </tr>\n",
              "    <tr>\n",
              "      <th>2020-01-24</th>\n",
              "      <td>0</td>\n",
              "      <td>0.0</td>\n",
              "      <td>0</td>\n",
              "      <td>2020</td>\n",
              "      <td>1</td>\n",
              "    </tr>\n",
              "    <tr>\n",
              "      <th>2020-01-25</th>\n",
              "      <td>0</td>\n",
              "      <td>0.0</td>\n",
              "      <td>0</td>\n",
              "      <td>2020</td>\n",
              "      <td>1</td>\n",
              "    </tr>\n",
              "    <tr>\n",
              "      <th>2020-01-26</th>\n",
              "      <td>0</td>\n",
              "      <td>0.0</td>\n",
              "      <td>0</td>\n",
              "      <td>2020</td>\n",
              "      <td>1</td>\n",
              "    </tr>\n",
              "  </tbody>\n",
              "</table>\n",
              "</div>\n",
              "      <button class=\"colab-df-convert\" onclick=\"convertToInteractive('df-43125d49-e6a7-4cc6-af36-714c0052058b')\"\n",
              "              title=\"Convert this dataframe to an interactive table.\"\n",
              "              style=\"display:none;\">\n",
              "        \n",
              "  <svg xmlns=\"http://www.w3.org/2000/svg\" height=\"24px\"viewBox=\"0 0 24 24\"\n",
              "       width=\"24px\">\n",
              "    <path d=\"M0 0h24v24H0V0z\" fill=\"none\"/>\n",
              "    <path d=\"M18.56 5.44l.94 2.06.94-2.06 2.06-.94-2.06-.94-.94-2.06-.94 2.06-2.06.94zm-11 1L8.5 8.5l.94-2.06 2.06-.94-2.06-.94L8.5 2.5l-.94 2.06-2.06.94zm10 10l.94 2.06.94-2.06 2.06-.94-2.06-.94-.94-2.06-.94 2.06-2.06.94z\"/><path d=\"M17.41 7.96l-1.37-1.37c-.4-.4-.92-.59-1.43-.59-.52 0-1.04.2-1.43.59L10.3 9.45l-7.72 7.72c-.78.78-.78 2.05 0 2.83L4 21.41c.39.39.9.59 1.41.59.51 0 1.02-.2 1.41-.59l7.78-7.78 2.81-2.81c.8-.78.8-2.07 0-2.86zM5.41 20L4 18.59l7.72-7.72 1.47 1.35L5.41 20z\"/>\n",
              "  </svg>\n",
              "      </button>\n",
              "      \n",
              "  <style>\n",
              "    .colab-df-container {\n",
              "      display:flex;\n",
              "      flex-wrap:wrap;\n",
              "      gap: 12px;\n",
              "    }\n",
              "\n",
              "    .colab-df-convert {\n",
              "      background-color: #E8F0FE;\n",
              "      border: none;\n",
              "      border-radius: 50%;\n",
              "      cursor: pointer;\n",
              "      display: none;\n",
              "      fill: #1967D2;\n",
              "      height: 32px;\n",
              "      padding: 0 0 0 0;\n",
              "      width: 32px;\n",
              "    }\n",
              "\n",
              "    .colab-df-convert:hover {\n",
              "      background-color: #E2EBFA;\n",
              "      box-shadow: 0px 1px 2px rgba(60, 64, 67, 0.3), 0px 1px 3px 1px rgba(60, 64, 67, 0.15);\n",
              "      fill: #174EA6;\n",
              "    }\n",
              "\n",
              "    [theme=dark] .colab-df-convert {\n",
              "      background-color: #3B4455;\n",
              "      fill: #D2E3FC;\n",
              "    }\n",
              "\n",
              "    [theme=dark] .colab-df-convert:hover {\n",
              "      background-color: #434B5C;\n",
              "      box-shadow: 0px 1px 3px 1px rgba(0, 0, 0, 0.15);\n",
              "      filter: drop-shadow(0px 1px 2px rgba(0, 0, 0, 0.3));\n",
              "      fill: #FFFFFF;\n",
              "    }\n",
              "  </style>\n",
              "\n",
              "      <script>\n",
              "        const buttonEl =\n",
              "          document.querySelector('#df-43125d49-e6a7-4cc6-af36-714c0052058b button.colab-df-convert');\n",
              "        buttonEl.style.display =\n",
              "          google.colab.kernel.accessAllowed ? 'block' : 'none';\n",
              "\n",
              "        async function convertToInteractive(key) {\n",
              "          const element = document.querySelector('#df-43125d49-e6a7-4cc6-af36-714c0052058b');\n",
              "          const dataTable =\n",
              "            await google.colab.kernel.invokeFunction('convertToInteractive',\n",
              "                                                     [key], {});\n",
              "          if (!dataTable) return;\n",
              "\n",
              "          const docLinkHtml = 'Like what you see? Visit the ' +\n",
              "            '<a target=\"_blank\" href=https://colab.research.google.com/notebooks/data_table.ipynb>data table notebook</a>'\n",
              "            + ' to learn more about interactive tables.';\n",
              "          element.innerHTML = '';\n",
              "          dataTable['output_type'] = 'display_data';\n",
              "          await google.colab.output.renderOutput(dataTable, element);\n",
              "          const docLink = document.createElement('div');\n",
              "          docLink.innerHTML = docLinkHtml;\n",
              "          element.appendChild(docLink);\n",
              "        }\n",
              "      </script>\n",
              "    </div>\n",
              "  </div>\n",
              "  "
            ]
          },
          "metadata": {},
          "execution_count": 3
        }
      ]
    },
    {
      "cell_type": "code",
      "source": [
        "treino = serie_mex[(serie_mex['Ano']<=2021)&(serie_mex['Mês']<12)]\n",
        "teste = serie_mex[(serie_mex['Ano']==2021)&(serie_mex['Mês'] == 12)]"
      ],
      "metadata": {
        "id": "b548h9nRwg6C"
      },
      "execution_count": null,
      "outputs": []
    },
    {
      "cell_type": "code",
      "source": [
        "step1 = auto_arima(treino['Deaths'],start_p=1,start_q=1,max_p=6,max_q=6,m=12,start_P=0,seasonal=True,d=1,D=1,trace=True,\n",
        "                    error_action='ignore',suppress_warnings=True,stepwise=False)"
      ],
      "metadata": {
        "colab": {
          "base_uri": "https://localhost:8080/"
        },
        "id": "nTl18bPmwqzM",
        "outputId": "527c4eac-c1c7-417e-84ed-57e25527ffe1"
      },
      "execution_count": null,
      "outputs": [
        {
          "output_type": "stream",
          "name": "stdout",
          "text": [
            " ARIMA(0,1,0)(0,1,0)[12]             : AIC=10809.780, Time=0.15 sec\n",
            " ARIMA(0,1,0)(0,1,1)[12]             : AIC=inf, Time=1.11 sec\n",
            " ARIMA(0,1,0)(0,1,2)[12]             : AIC=inf, Time=4.00 sec\n",
            " ARIMA(0,1,0)(1,1,0)[12]             : AIC=10646.881, Time=0.40 sec\n",
            " ARIMA(0,1,0)(1,1,1)[12]             : AIC=inf, Time=2.11 sec\n",
            " ARIMA(0,1,0)(1,1,2)[12]             : AIC=inf, Time=10.62 sec\n",
            " ARIMA(0,1,0)(2,1,0)[12]             : AIC=10573.267, Time=1.00 sec\n",
            " ARIMA(0,1,0)(2,1,1)[12]             : AIC=inf, Time=6.39 sec\n",
            " ARIMA(0,1,0)(2,1,2)[12]             : AIC=inf, Time=8.82 sec\n",
            " ARIMA(0,1,1)(0,1,0)[12]             : AIC=10810.891, Time=0.16 sec\n",
            " ARIMA(0,1,1)(0,1,1)[12]             : AIC=inf, Time=1.86 sec\n",
            " ARIMA(0,1,1)(0,1,2)[12]             : AIC=inf, Time=6.21 sec\n",
            " ARIMA(0,1,1)(1,1,0)[12]             : AIC=10648.707, Time=1.65 sec\n",
            " ARIMA(0,1,1)(1,1,1)[12]             : AIC=inf, Time=2.81 sec\n",
            " ARIMA(0,1,1)(1,1,2)[12]             : AIC=inf, Time=8.44 sec\n",
            " ARIMA(0,1,1)(2,1,0)[12]             : AIC=10574.707, Time=4.18 sec\n",
            " ARIMA(0,1,1)(2,1,1)[12]             : AIC=inf, Time=7.50 sec\n",
            " ARIMA(0,1,1)(2,1,2)[12]             : AIC=inf, Time=11.27 sec\n",
            " ARIMA(0,1,2)(0,1,0)[12]             : AIC=10811.518, Time=0.22 sec\n",
            " ARIMA(0,1,2)(0,1,1)[12]             : AIC=inf, Time=2.99 sec\n",
            " ARIMA(0,1,2)(0,1,2)[12]             : AIC=inf, Time=8.74 sec\n",
            " ARIMA(0,1,2)(1,1,0)[12]             : AIC=10649.386, Time=2.17 sec\n",
            " ARIMA(0,1,2)(1,1,1)[12]             : AIC=inf, Time=3.70 sec\n",
            " ARIMA(0,1,2)(1,1,2)[12]             : AIC=inf, Time=10.32 sec\n",
            " ARIMA(0,1,2)(2,1,0)[12]             : AIC=10576.642, Time=5.50 sec\n",
            " ARIMA(0,1,2)(2,1,1)[12]             : AIC=inf, Time=13.51 sec\n",
            " ARIMA(0,1,3)(0,1,0)[12]             : AIC=10813.574, Time=0.34 sec\n",
            " ARIMA(0,1,3)(0,1,1)[12]             : AIC=inf, Time=4.11 sec\n",
            " ARIMA(0,1,3)(0,1,2)[12]             : AIC=inf, Time=9.48 sec\n",
            " ARIMA(0,1,3)(1,1,0)[12]             : AIC=10650.843, Time=2.54 sec\n",
            " ARIMA(0,1,3)(1,1,1)[12]             : AIC=inf, Time=8.50 sec\n",
            " ARIMA(0,1,3)(2,1,0)[12]             : AIC=10578.439, Time=5.80 sec\n",
            " ARIMA(0,1,4)(0,1,0)[12]             : AIC=10815.088, Time=0.43 sec\n",
            " ARIMA(0,1,4)(0,1,1)[12]             : AIC=inf, Time=8.54 sec\n",
            " ARIMA(0,1,4)(1,1,0)[12]             : AIC=10652.811, Time=2.99 sec\n",
            " ARIMA(0,1,5)(0,1,0)[12]             : AIC=10817.181, Time=0.72 sec\n",
            " ARIMA(1,1,0)(0,1,0)[12]             : AIC=10810.963, Time=0.15 sec\n",
            " ARIMA(1,1,0)(0,1,1)[12]             : AIC=inf, Time=1.86 sec\n",
            " ARIMA(1,1,0)(0,1,2)[12]             : AIC=inf, Time=4.70 sec\n",
            " ARIMA(1,1,0)(1,1,0)[12]             : AIC=10648.713, Time=1.77 sec\n",
            " ARIMA(1,1,0)(1,1,1)[12]             : AIC=inf, Time=2.42 sec\n",
            " ARIMA(1,1,0)(1,1,2)[12]             : AIC=inf, Time=7.03 sec\n",
            " ARIMA(1,1,0)(2,1,0)[12]             : AIC=10574.709, Time=4.29 sec\n",
            " ARIMA(1,1,0)(2,1,1)[12]             : AIC=inf, Time=7.54 sec\n",
            " ARIMA(1,1,0)(2,1,2)[12]             : AIC=inf, Time=12.11 sec\n",
            " ARIMA(1,1,1)(0,1,0)[12]             : AIC=10812.125, Time=0.59 sec\n",
            " ARIMA(1,1,1)(0,1,1)[12]             : AIC=inf, Time=9.32 sec\n",
            " ARIMA(1,1,1)(0,1,2)[12]             : AIC=inf, Time=19.02 sec\n",
            " ARIMA(1,1,1)(1,1,0)[12]             : AIC=inf, Time=3.82 sec\n",
            " ARIMA(1,1,1)(1,1,1)[12]             : AIC=inf, Time=9.34 sec\n",
            " ARIMA(1,1,1)(1,1,2)[12]             : AIC=inf, Time=21.52 sec\n",
            " ARIMA(1,1,1)(2,1,0)[12]             : AIC=inf, Time=6.03 sec\n",
            " ARIMA(1,1,1)(2,1,1)[12]             : AIC=inf, Time=15.87 sec\n",
            " ARIMA(1,1,2)(0,1,0)[12]             : AIC=10813.514, Time=0.67 sec\n",
            " ARIMA(1,1,2)(0,1,1)[12]             : AIC=inf, Time=9.11 sec\n",
            " ARIMA(1,1,2)(0,1,2)[12]             : AIC=inf, Time=17.90 sec\n",
            " ARIMA(1,1,2)(1,1,0)[12]             : AIC=inf, Time=5.66 sec\n",
            " ARIMA(1,1,2)(1,1,1)[12]             : AIC=inf, Time=14.78 sec\n",
            " ARIMA(1,1,2)(2,1,0)[12]             : AIC=inf, Time=8.72 sec\n",
            " ARIMA(1,1,3)(0,1,0)[12]             : AIC=10815.564, Time=0.42 sec\n",
            " ARIMA(1,1,3)(0,1,1)[12]             : AIC=inf, Time=25.46 sec\n",
            " ARIMA(1,1,3)(1,1,0)[12]             : AIC=inf, Time=3.73 sec\n",
            " ARIMA(1,1,4)(0,1,0)[12]             : AIC=10817.091, Time=0.50 sec\n",
            " ARIMA(2,1,0)(0,1,0)[12]             : AIC=10811.416, Time=0.20 sec\n",
            " ARIMA(2,1,0)(0,1,1)[12]             : AIC=inf, Time=2.88 sec\n",
            " ARIMA(2,1,0)(0,1,2)[12]             : AIC=inf, Time=6.66 sec\n",
            " ARIMA(2,1,0)(1,1,0)[12]             : AIC=10649.431, Time=2.59 sec\n",
            " ARIMA(2,1,0)(1,1,1)[12]             : AIC=inf, Time=3.98 sec\n",
            " ARIMA(2,1,0)(1,1,2)[12]             : AIC=inf, Time=9.53 sec\n",
            " ARIMA(2,1,0)(2,1,0)[12]             : AIC=10576.645, Time=6.15 sec\n",
            " ARIMA(2,1,0)(2,1,1)[12]             : AIC=inf, Time=12.53 sec\n",
            " ARIMA(2,1,1)(0,1,0)[12]             : AIC=10813.403, Time=0.76 sec\n",
            " ARIMA(2,1,1)(0,1,1)[12]             : AIC=inf, Time=6.63 sec\n",
            " ARIMA(2,1,1)(0,1,2)[12]             : AIC=inf, Time=16.29 sec\n",
            " ARIMA(2,1,1)(1,1,0)[12]             : AIC=10650.984, Time=4.54 sec\n",
            " ARIMA(2,1,1)(1,1,1)[12]             : AIC=inf, Time=14.73 sec\n",
            " ARIMA(2,1,1)(2,1,0)[12]             : AIC=inf, Time=8.38 sec\n",
            " ARIMA(2,1,2)(0,1,0)[12]             : AIC=10815.287, Time=0.35 sec\n",
            " ARIMA(2,1,2)(0,1,1)[12]             : AIC=inf, Time=10.43 sec\n",
            " ARIMA(2,1,2)(1,1,0)[12]             : AIC=10657.263, Time=9.20 sec\n",
            " ARIMA(2,1,3)(0,1,0)[12]             : AIC=inf, Time=3.47 sec\n",
            " ARIMA(3,1,0)(0,1,0)[12]             : AIC=10813.374, Time=0.24 sec\n",
            " ARIMA(3,1,0)(0,1,1)[12]             : AIC=inf, Time=5.87 sec\n",
            " ARIMA(3,1,0)(0,1,2)[12]             : AIC=inf, Time=8.87 sec\n",
            " ARIMA(3,1,0)(1,1,0)[12]             : AIC=10650.782, Time=2.84 sec\n",
            " ARIMA(3,1,0)(1,1,1)[12]             : AIC=inf, Time=4.85 sec\n",
            " ARIMA(3,1,0)(2,1,0)[12]             : AIC=10578.374, Time=6.22 sec\n",
            " ARIMA(3,1,1)(0,1,0)[12]             : AIC=10815.193, Time=1.10 sec\n",
            " ARIMA(3,1,1)(0,1,1)[12]             : AIC=inf, Time=9.93 sec\n",
            " ARIMA(3,1,1)(1,1,0)[12]             : AIC=10652.773, Time=5.41 sec\n",
            " ARIMA(3,1,2)(0,1,0)[12]             : AIC=10793.385, Time=4.00 sec\n",
            " ARIMA(4,1,0)(0,1,0)[12]             : AIC=10814.935, Time=0.31 sec\n",
            " ARIMA(4,1,0)(0,1,1)[12]             : AIC=inf, Time=3.93 sec\n",
            " ARIMA(4,1,0)(1,1,0)[12]             : AIC=10652.773, Time=3.97 sec\n",
            " ARIMA(4,1,1)(0,1,0)[12]             : AIC=10816.884, Time=1.30 sec\n",
            " ARIMA(5,1,0)(0,1,0)[12]             : AIC=10816.866, Time=0.37 sec\n",
            "\n",
            "Best model:  ARIMA(0,1,0)(2,1,0)[12]          \n",
            "Total fit time: 562.662 seconds\n"
          ]
        }
      ]
    },
    {
      "cell_type": "code",
      "source": [
        "step2 = auto_arima(serie_mex['Deaths'],start_p=1,start_q=1,max_p=6,max_q=6,m=12,start_P=0,seasonal=True,d=1,D=1,trace=True,\n",
        "                    error_action='ignore',suppress_warnings=True,stepwise=True)"
      ],
      "metadata": {
        "colab": {
          "base_uri": "https://localhost:8080/"
        },
        "id": "rgI2nSgmy30D",
        "outputId": "c7b56a0c-cba9-46b1-ac5c-b17f8046ec7e"
      },
      "execution_count": null,
      "outputs": [
        {
          "output_type": "stream",
          "name": "stdout",
          "text": [
            "Performing stepwise search to minimize aic\n",
            " ARIMA(1,1,1)(0,1,1)[12]             : AIC=inf, Time=5.70 sec\n",
            " ARIMA(0,1,0)(0,1,0)[12]             : AIC=10577.651, Time=0.06 sec\n",
            " ARIMA(1,1,0)(1,1,0)[12]             : AIC=10386.926, Time=0.84 sec\n",
            " ARIMA(0,1,1)(0,1,1)[12]             : AIC=10259.184, Time=2.68 sec\n",
            " ARIMA(0,1,1)(0,1,0)[12]             : AIC=10571.976, Time=0.14 sec\n",
            " ARIMA(0,1,1)(1,1,1)[12]             : AIC=10260.939, Time=4.19 sec\n",
            " ARIMA(0,1,1)(0,1,2)[12]             : AIC=10260.946, Time=5.73 sec\n",
            " ARIMA(0,1,1)(1,1,0)[12]             : AIC=10385.992, Time=0.86 sec\n",
            " ARIMA(0,1,1)(1,1,2)[12]             : AIC=inf, Time=14.24 sec\n",
            " ARIMA(0,1,0)(0,1,1)[12]             : AIC=10310.385, Time=1.07 sec\n",
            " ARIMA(0,1,2)(0,1,1)[12]             : AIC=10251.404, Time=3.95 sec\n",
            " ARIMA(0,1,2)(0,1,0)[12]             : AIC=10562.919, Time=0.19 sec\n",
            " ARIMA(0,1,2)(1,1,1)[12]             : AIC=10252.156, Time=5.50 sec\n",
            " ARIMA(0,1,2)(0,1,2)[12]             : AIC=10252.252, Time=10.87 sec\n",
            " ARIMA(0,1,2)(1,1,0)[12]             : AIC=10387.754, Time=1.02 sec\n",
            " ARIMA(0,1,2)(1,1,2)[12]             : AIC=inf, Time=14.55 sec\n",
            " ARIMA(1,1,2)(0,1,1)[12]             : AIC=inf, Time=6.34 sec\n",
            " ARIMA(0,1,3)(0,1,1)[12]             : AIC=10243.143, Time=6.82 sec\n",
            " ARIMA(0,1,3)(0,1,0)[12]             : AIC=10560.990, Time=0.60 sec\n",
            " ARIMA(0,1,3)(1,1,1)[12]             : AIC=10243.565, Time=9.11 sec\n",
            " ARIMA(0,1,3)(0,1,2)[12]             : AIC=10243.577, Time=12.87 sec\n",
            " ARIMA(0,1,3)(1,1,0)[12]             : AIC=10386.465, Time=1.21 sec\n",
            " ARIMA(0,1,3)(1,1,2)[12]             : AIC=inf, Time=22.92 sec\n",
            " ARIMA(1,1,3)(0,1,1)[12]             : AIC=inf, Time=8.03 sec\n",
            " ARIMA(0,1,4)(0,1,1)[12]             : AIC=inf, Time=5.58 sec\n",
            " ARIMA(1,1,4)(0,1,1)[12]             : AIC=inf, Time=10.00 sec\n",
            " ARIMA(0,1,3)(0,1,1)[12] intercept   : AIC=10244.340, Time=9.56 sec\n",
            "\n",
            "Best model:  ARIMA(0,1,3)(0,1,1)[12]          \n",
            "Total fit time: 164.693 seconds\n"
          ]
        }
      ]
    },
    {
      "cell_type": "code",
      "source": [
        "step1.fit(treino['Deaths'])"
      ],
      "metadata": {
        "colab": {
          "base_uri": "https://localhost:8080/"
        },
        "id": "2rdBnkI4zp6D",
        "outputId": "86783588-1b56-4a6f-f46e-c890f7347d92"
      },
      "execution_count": null,
      "outputs": [
        {
          "output_type": "execute_result",
          "data": {
            "text/plain": [
              "ARIMA(order=(0, 1, 0), scoring_args={}, seasonal_order=(2, 1, 0, 12),\n",
              "      suppress_warnings=True, with_intercept=False)"
            ]
          },
          "metadata": {},
          "execution_count": 7
        }
      ]
    },
    {
      "cell_type": "code",
      "source": [
        "step2.fit(treino['Deaths'])"
      ],
      "metadata": {
        "colab": {
          "base_uri": "https://localhost:8080/"
        },
        "id": "CZTojUf7zs7c",
        "outputId": "fee3bc24-6008-4301-9186-f2e5da7e5a2f"
      },
      "execution_count": null,
      "outputs": [
        {
          "output_type": "execute_result",
          "data": {
            "text/plain": [
              "ARIMA(order=(0, 1, 3), scoring_args={}, seasonal_order=(0, 1, 1, 12),\n",
              "      suppress_warnings=True, with_intercept=False)"
            ]
          },
          "metadata": {},
          "execution_count": 8
        }
      ]
    },
    {
      "cell_type": "code",
      "source": [
        "future_forecast=step1.predict(n_periods=len(teste))"
      ],
      "metadata": {
        "colab": {
          "base_uri": "https://localhost:8080/"
        },
        "id": "7003oCy8zwr4",
        "outputId": "d23be8f9-ed07-4ae9-fdb2-e02fdcf0ae5f"
      },
      "execution_count": null,
      "outputs": [
        {
          "output_type": "stream",
          "name": "stderr",
          "text": [
            "/usr/local/lib/python3.8/dist-packages/statsmodels/tsa/base/tsa_model.py:834: ValueWarning: No supported index is available. Prediction results will be given with an integer index beginning at `start`.\n",
            "  return get_prediction_index(\n"
          ]
        }
      ]
    },
    {
      "cell_type": "code",
      "source": [
        "future_forecast1 = step2.predict(n_periods=len(teste))"
      ],
      "metadata": {
        "colab": {
          "base_uri": "https://localhost:8080/"
        },
        "id": "2Z2DBoesz0sZ",
        "outputId": "3a59a414-c075-42cf-f874-b25d37b24882"
      },
      "execution_count": null,
      "outputs": [
        {
          "output_type": "stream",
          "name": "stderr",
          "text": [
            "/usr/local/lib/python3.8/dist-packages/statsmodels/tsa/base/tsa_model.py:834: ValueWarning: No supported index is available. Prediction results will be given with an integer index beginning at `start`.\n",
            "  return get_prediction_index(\n"
          ]
        }
      ]
    },
    {
      "cell_type": "code",
      "source": [
        "plt.figure(figsize=(12,6))\n",
        "plt.title('Comparação da Predição Com os Valores Reais', fontsize=14)\n",
        "plt.plot(teste.index,future_forecast,label='Valor Predito')\n",
        "plt.plot(teste.index,teste['Deaths'].values,label='Real')\n",
        "plt.legend()"
      ],
      "metadata": {
        "colab": {
          "base_uri": "https://localhost:8080/",
          "height": 408
        },
        "id": "Z-uQmU0Iz4JL",
        "outputId": "c9dc4153-e456-477f-d5ad-2edbd85aae82"
      },
      "execution_count": null,
      "outputs": [
        {
          "output_type": "execute_result",
          "data": {
            "text/plain": [
              "<matplotlib.legend.Legend at 0x7f5da4f6e9a0>"
            ]
          },
          "metadata": {},
          "execution_count": 11
        },
        {
          "output_type": "display_data",
          "data": {
            "text/plain": [
              "<Figure size 864x432 with 1 Axes>"
            ],
            "image/png": "[encoded data removed]"
          },
          "metadata": {
            "needs_background": "light"
          }
        }
      ]
    },
    {
      "cell_type": "code",
      "source": [
        "mae = mean_absolute_error(teste['Deaths'],future_forecast)\n",
        "mape = mean_absolute_percentage_error(teste['Deaths'],future_forecast)\n",
        "rmse = mean_squared_error(teste['Deaths'],future_forecast)\n",
        "\n",
        "print('MAE:',mae)\n",
        "print('MAPE:',mape)\n",
        "print('RMSE:',np.sqrt(rmse))"
      ],
      "metadata": {
        "colab": {
          "base_uri": "https://localhost:8080/"
        },
        "id": "1efdifjIz-jc",
        "outputId": "e43fd40a-57ea-44cc-814e-ee3971416476"
      },
      "execution_count": null,
      "outputs": [
        {
          "output_type": "stream",
          "name": "stdout",
          "text": [
            "MAE: 239.76632305726807\n",
            "MAPE: 0.0008063024977768475\n",
            "RMSE: 307.6112896454656\n"
          ]
        }
      ]
    },
    {
      "cell_type": "code",
      "source": [
        "plt.figure(figsize=(12,6))\n",
        "plt.title('Comparação da Predição Com os Valores Reais', fontsize=14)\n",
        "plt.plot(teste.index,future_forecast1,label='Valor Predito')\n",
        "plt.plot(teste.index,teste['Deaths'].values,label='Real')\n",
        "plt.legend()"
      ],
      "metadata": {
        "colab": {
          "base_uri": "https://localhost:8080/",
          "height": 408
        },
        "id": "PbIVYZ9M0EGk",
        "outputId": "5396c886-9db0-4fcf-8b0a-b2070fde86b6"
      },
      "execution_count": null,
      "outputs": [
        {
          "output_type": "execute_result",
          "data": {
            "text/plain": [
              "<matplotlib.legend.Legend at 0x7f5da4e2f4c0>"
            ]
          },
          "metadata": {},
          "execution_count": 13
        },
        {
          "output_type": "display_data",
          "data": {
            "text/plain": [
              "<Figure size 864x432 with 1 Axes>"
            ],
            "image/png": "[encoded data removed]"
          },
          "metadata": {
            "needs_background": "light"
          }
        }
      ]
    },
    {
      "cell_type": "code",
      "source": [
        "mae = mean_absolute_error(teste['Deaths'],future_forecast1)\n",
        "mape = mean_absolute_percentage_error(teste['Deaths'],future_forecast1)\n",
        "rmse = mean_squared_error(teste['Deaths'],future_forecast1)\n",
        "\n",
        "print('MAE:',mae)\n",
        "print('MAPE:',mape)\n",
        "print('RMSE:',np.sqrt(rmse))"
      ],
      "metadata": {
        "id": "RkvTyO1Z0Mmd",
        "outputId": "21ef67e5-6f3d-4da4-c5fe-17a5be078ad4",
        "colab": {
          "base_uri": "https://localhost:8080/"
        }
      },
      "execution_count": null,
      "outputs": [
        {
          "output_type": "stream",
          "name": "stdout",
          "text": [
            "MAE: 4040.971531839769\n",
            "MAPE: 0.01356002188118948\n",
            "RMSE: 4762.756184301696\n"
          ]
        }
      ]
    }
  ]
}