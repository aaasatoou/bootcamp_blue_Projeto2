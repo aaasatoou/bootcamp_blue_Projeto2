{
  "nbformat": 4,
  "nbformat_minor": 0,
  "metadata": {
    "colab": {
      "provenance": []
    },
    "kernelspec": {
      "name": "python3",
      "display_name": "Python 3"
    },
    "language_info": {
      "name": "python"
    }
  },
  "cells": [
    {
      "cell_type": "markdown",
      "source": [
        "# Testando Outros Modelos Equador\n",
        "\n",
        "Neste notebook será testado outros modelo de séries temporais da Covid no Equador, comparando os resultados com o modelo baseline feito na sprint 2."
      ],
      "metadata": {
        "id": "-taqbXbc2DSS"
      }
    },
    {
      "cell_type": "code",
      "execution_count": null,
      "metadata": {
        "colab": {
          "base_uri": "https://localhost:8080/"
        },
        "id": "h40xJhWI1Z_A",
        "outputId": "8db803c1-3ce1-4e40-f602-cd3a749888de"
      },
      "outputs": [
        {
          "output_type": "stream",
          "name": "stdout",
          "text": [
            "Looking in indexes: https://pypi.org/simple, https://us-python.pkg.dev/colab-wheels/public/simple/\n",
            "Requirement already satisfied: pmdarima in /usr/local/lib/python3.8/dist-packages (2.0.2)\n",
            "Requirement already satisfied: Cython!=0.29.18,!=0.29.31,>=0.29 in /usr/local/lib/python3.8/dist-packages (from pmdarima) (0.29.32)\n",
            "Requirement already satisfied: scipy>=1.3.2 in /usr/local/lib/python3.8/dist-packages (from pmdarima) (1.7.3)\n",
            "Requirement already satisfied: numpy>=1.21.2 in /usr/local/lib/python3.8/dist-packages (from pmdarima) (1.21.6)\n",
            "Requirement already satisfied: pandas>=0.19 in /usr/local/lib/python3.8/dist-packages (from pmdarima) (1.3.5)\n",
            "Requirement already satisfied: urllib3 in /usr/local/lib/python3.8/dist-packages (from pmdarima) (1.24.3)\n",
            "Requirement already satisfied: statsmodels>=0.13.2 in /usr/local/lib/python3.8/dist-packages (from pmdarima) (0.13.5)\n",
            "Requirement already satisfied: scikit-learn>=0.22 in /usr/local/lib/python3.8/dist-packages (from pmdarima) (1.0.2)\n",
            "Requirement already satisfied: setuptools!=50.0.0,>=38.6.0 in /usr/local/lib/python3.8/dist-packages (from pmdarima) (57.4.0)\n",
            "Requirement already satisfied: joblib>=0.11 in /usr/local/lib/python3.8/dist-packages (from pmdarima) (1.2.0)\n",
            "Requirement already satisfied: pytz>=2017.3 in /usr/local/lib/python3.8/dist-packages (from pandas>=0.19->pmdarima) (2022.6)\n",
            "Requirement already satisfied: python-dateutil>=2.7.3 in /usr/local/lib/python3.8/dist-packages (from pandas>=0.19->pmdarima) (2.8.2)\n",
            "Requirement already satisfied: six>=1.5 in /usr/local/lib/python3.8/dist-packages (from python-dateutil>=2.7.3->pandas>=0.19->pmdarima) (1.15.0)\n",
            "Requirement already satisfied: threadpoolctl>=2.0.0 in /usr/local/lib/python3.8/dist-packages (from scikit-learn>=0.22->pmdarima) (3.1.0)\n",
            "Requirement already satisfied: patsy>=0.5.2 in /usr/local/lib/python3.8/dist-packages (from statsmodels>=0.13.2->pmdarima) (0.5.3)\n",
            "Requirement already satisfied: packaging>=21.3 in /usr/local/lib/python3.8/dist-packages (from statsmodels>=0.13.2->pmdarima) (21.3)\n",
            "Requirement already satisfied: pyparsing!=3.0.5,>=2.0.2 in /usr/local/lib/python3.8/dist-packages (from packaging>=21.3->statsmodels>=0.13.2->pmdarima) (3.0.9)\n"
          ]
        }
      ],
      "source": [
        "# Importando as Blibiotecas\n",
        "import numpy as np\n",
        "import pandas as pd\n",
        "import matplotlib.pyplot as plt\n",
        "import seaborn as sns\n",
        "\n",
        "!pip install pmdarima\n",
        "from pmdarima.arima import auto_arima\n",
        "\n",
        "from sklearn.metrics import mean_absolute_error, mean_squared_error, mean_absolute_percentage_error"
      ]
    },
    {
      "cell_type": "code",
      "source": [
        "serie_equ = pd.read_csv('Séries Temporais Equador.csv')\n",
        "serie_equ.drop('Unnamed: 0',axis=1,inplace=True)\n",
        "serie_equ['Date'] = pd.to_datetime(serie_equ['Date'],format='%Y-%m-%d')\n",
        "serie_equ['Mês'] = serie_equ['Date'].dt.month\n",
        "serie_equ.head()"
      ],
      "metadata": {
        "colab": {
          "base_uri": "https://localhost:8080/",
          "height": 206
        },
        "id": "-GUHcYpZ2cHh",
        "outputId": "318313a5-092f-496e-c0ef-c68ed93b0ce4"
      },
      "execution_count": null,
      "outputs": [
        {
          "output_type": "execute_result",
          "data": {
            "text/plain": [
              "        Date  Confirmed  Recovered  Deaths   Ano  Mês\n",
              "0 2020-01-22          0        0.0       0  2020    1\n",
              "1 2020-01-23          0        0.0       0  2020    1\n",
              "2 2020-01-24          0        0.0       0  2020    1\n",
              "3 2020-01-25          0        0.0       0  2020    1\n",
              "4 2020-01-26          0        0.0       0  2020    1"
            ],
            "text/html": [
              "\n",
              "  <div id=\"df-3d03cf91-5d49-4851-8222-9a10885acdfb\">\n",
              "    <div class=\"colab-df-container\">\n",
              "      <div>\n",
              "<style scoped>\n",
              "    .dataframe tbody tr th:only-of-type {\n",
              "        vertical-align: middle;\n",
              "    }\n",
              "\n",
              "    .dataframe tbody tr th {\n",
              "        vertical-align: top;\n",
              "    }\n",
              "\n",
              "    .dataframe thead th {\n",
              "        text-align: right;\n",
              "    }\n",
              "</style>\n",
              "<table border=\"1\" class=\"dataframe\">\n",
              "  <thead>\n",
              "    <tr style=\"text-align: right;\">\n",
              "      <th></th>\n",
              "      <th>Date</th>\n",
              "      <th>Confirmed</th>\n",
              "      <th>Recovered</th>\n",
              "      <th>Deaths</th>\n",
              "      <th>Ano</th>\n",
              "      <th>Mês</th>\n",
              "    </tr>\n",
              "  </thead>\n",
              "  <tbody>\n",
              "    <tr>\n",
              "      <th>0</th>\n",
              "      <td>2020-01-22</td>\n",
              "      <td>0</td>\n",
              "      <td>0.0</td>\n",
              "      <td>0</td>\n",
              "      <td>2020</td>\n",
              "      <td>1</td>\n",
              "    </tr>\n",
              "    <tr>\n",
              "      <th>1</th>\n",
              "      <td>2020-01-23</td>\n",
              "      <td>0</td>\n",
              "      <td>0.0</td>\n",
              "      <td>0</td>\n",
              "      <td>2020</td>\n",
              "      <td>1</td>\n",
              "    </tr>\n",
              "    <tr>\n",
              "      <th>2</th>\n",
              "      <td>2020-01-24</td>\n",
              "      <td>0</td>\n",
              "      <td>0.0</td>\n",
              "      <td>0</td>\n",
              "      <td>2020</td>\n",
              "      <td>1</td>\n",
              "    </tr>\n",
              "    <tr>\n",
              "      <th>3</th>\n",
              "      <td>2020-01-25</td>\n",
              "      <td>0</td>\n",
              "      <td>0.0</td>\n",
              "      <td>0</td>\n",
              "      <td>2020</td>\n",
              "      <td>1</td>\n",
              "    </tr>\n",
              "    <tr>\n",
              "      <th>4</th>\n",
              "      <td>2020-01-26</td>\n",
              "      <td>0</td>\n",
              "      <td>0.0</td>\n",
              "      <td>0</td>\n",
              "      <td>2020</td>\n",
              "      <td>1</td>\n",
              "    </tr>\n",
              "  </tbody>\n",
              "</table>\n",
              "</div>\n",
              "      <button class=\"colab-df-convert\" onclick=\"convertToInteractive('df-3d03cf91-5d49-4851-8222-9a10885acdfb')\"\n",
              "              title=\"Convert this dataframe to an interactive table.\"\n",
              "              style=\"display:none;\">\n",
              "        \n",
              "  <svg xmlns=\"http://www.w3.org/2000/svg\" height=\"24px\"viewBox=\"0 0 24 24\"\n",
              "       width=\"24px\">\n",
              "    <path d=\"M0 0h24v24H0V0z\" fill=\"none\"/>\n",
              "    <path d=\"M18.56 5.44l.94 2.06.94-2.06 2.06-.94-2.06-.94-.94-2.06-.94 2.06-2.06.94zm-11 1L8.5 8.5l.94-2.06 2.06-.94-2.06-.94L8.5 2.5l-.94 2.06-2.06.94zm10 10l.94 2.06.94-2.06 2.06-.94-2.06-.94-.94-2.06-.94 2.06-2.06.94z\"/><path d=\"M17.41 7.96l-1.37-1.37c-.4-.4-.92-.59-1.43-.59-.52 0-1.04.2-1.43.59L10.3 9.45l-7.72 7.72c-.78.78-.78 2.05 0 2.83L4 21.41c.39.39.9.59 1.41.59.51 0 1.02-.2 1.41-.59l7.78-7.78 2.81-2.81c.8-.78.8-2.07 0-2.86zM5.41 20L4 18.59l7.72-7.72 1.47 1.35L5.41 20z\"/>\n",
              "  </svg>\n",
              "      </button>\n",
              "      \n",
              "  <style>\n",
              "    .colab-df-container {\n",
              "      display:flex;\n",
              "      flex-wrap:wrap;\n",
              "      gap: 12px;\n",
              "    }\n",
              "\n",
              "    .colab-df-convert {\n",
              "      background-color: #E8F0FE;\n",
              "      border: none;\n",
              "      border-radius: 50%;\n",
              "      cursor: pointer;\n",
              "      display: none;\n",
              "      fill: #1967D2;\n",
              "      height: 32px;\n",
              "      padding: 0 0 0 0;\n",
              "      width: 32px;\n",
              "    }\n",
              "\n",
              "    .colab-df-convert:hover {\n",
              "      background-color: #E2EBFA;\n",
              "      box-shadow: 0px 1px 2px rgba(60, 64, 67, 0.3), 0px 1px 3px 1px rgba(60, 64, 67, 0.15);\n",
              "      fill: #174EA6;\n",
              "    }\n",
              "\n",
              "    [theme=dark] .colab-df-convert {\n",
              "      background-color: #3B4455;\n",
              "      fill: #D2E3FC;\n",
              "    }\n",
              "\n",
              "    [theme=dark] .colab-df-convert:hover {\n",
              "      background-color: #434B5C;\n",
              "      box-shadow: 0px 1px 3px 1px rgba(0, 0, 0, 0.15);\n",
              "      filter: drop-shadow(0px 1px 2px rgba(0, 0, 0, 0.3));\n",
              "      fill: #FFFFFF;\n",
              "    }\n",
              "  </style>\n",
              "\n",
              "      <script>\n",
              "        const buttonEl =\n",
              "          document.querySelector('#df-3d03cf91-5d49-4851-8222-9a10885acdfb button.colab-df-convert');\n",
              "        buttonEl.style.display =\n",
              "          google.colab.kernel.accessAllowed ? 'block' : 'none';\n",
              "\n",
              "        async function convertToInteractive(key) {\n",
              "          const element = document.querySelector('#df-3d03cf91-5d49-4851-8222-9a10885acdfb');\n",
              "          const dataTable =\n",
              "            await google.colab.kernel.invokeFunction('convertToInteractive',\n",
              "                                                     [key], {});\n",
              "          if (!dataTable) return;\n",
              "\n",
              "          const docLinkHtml = 'Like what you see? Visit the ' +\n",
              "            '<a target=\"_blank\" href=https://colab.research.google.com/notebooks/data_table.ipynb>data table notebook</a>'\n",
              "            + ' to learn more about interactive tables.';\n",
              "          element.innerHTML = '';\n",
              "          dataTable['output_type'] = 'display_data';\n",
              "          await google.colab.output.renderOutput(dataTable, element);\n",
              "          const docLink = document.createElement('div');\n",
              "          docLink.innerHTML = docLinkHtml;\n",
              "          element.appendChild(docLink);\n",
              "        }\n",
              "      </script>\n",
              "    </div>\n",
              "  </div>\n",
              "  "
            ]
          },
          "metadata": {},
          "execution_count": 2
        }
      ]
    },
    {
      "cell_type": "code",
      "source": [
        "serie_equ.set_index('Date',inplace=True)\n",
        "serie_equ.head()"
      ],
      "metadata": {
        "colab": {
          "base_uri": "https://localhost:8080/",
          "height": 238
        },
        "id": "F1AjwykE2v6J",
        "outputId": "25a9bf79-0e17-4043-c5ff-39763c49ab17"
      },
      "execution_count": null,
      "outputs": [
        {
          "output_type": "execute_result",
          "data": {
            "text/plain": [
              "            Confirmed  Recovered  Deaths   Ano  Mês\n",
              "Date                                               \n",
              "2020-01-22          0        0.0       0  2020    1\n",
              "2020-01-23          0        0.0       0  2020    1\n",
              "2020-01-24          0        0.0       0  2020    1\n",
              "2020-01-25          0        0.0       0  2020    1\n",
              "2020-01-26          0        0.0       0  2020    1"
            ],
            "text/html": [
              "\n",
              "  <div id=\"df-2398e13d-b301-42f5-a8a2-466952db22b0\">\n",
              "    <div class=\"colab-df-container\">\n",
              "      <div>\n",
              "<style scoped>\n",
              "    .dataframe tbody tr th:only-of-type {\n",
              "        vertical-align: middle;\n",
              "    }\n",
              "\n",
              "    .dataframe tbody tr th {\n",
              "        vertical-align: top;\n",
              "    }\n",
              "\n",
              "    .dataframe thead th {\n",
              "        text-align: right;\n",
              "    }\n",
              "</style>\n",
              "<table border=\"1\" class=\"dataframe\">\n",
              "  <thead>\n",
              "    <tr style=\"text-align: right;\">\n",
              "      <th></th>\n",
              "      <th>Confirmed</th>\n",
              "      <th>Recovered</th>\n",
              "      <th>Deaths</th>\n",
              "      <th>Ano</th>\n",
              "      <th>Mês</th>\n",
              "    </tr>\n",
              "    <tr>\n",
              "      <th>Date</th>\n",
              "      <th></th>\n",
              "      <th></th>\n",
              "      <th></th>\n",
              "      <th></th>\n",
              "      <th></th>\n",
              "    </tr>\n",
              "  </thead>\n",
              "  <tbody>\n",
              "    <tr>\n",
              "      <th>2020-01-22</th>\n",
              "      <td>0</td>\n",
              "      <td>0.0</td>\n",
              "      <td>0</td>\n",
              "      <td>2020</td>\n",
              "      <td>1</td>\n",
              "    </tr>\n",
              "    <tr>\n",
              "      <th>2020-01-23</th>\n",
              "      <td>0</td>\n",
              "      <td>0.0</td>\n",
              "      <td>0</td>\n",
              "      <td>2020</td>\n",
              "      <td>1</td>\n",
              "    </tr>\n",
              "    <tr>\n",
              "      <th>2020-01-24</th>\n",
              "      <td>0</td>\n",
              "      <td>0.0</td>\n",
              "      <td>0</td>\n",
              "      <td>2020</td>\n",
              "      <td>1</td>\n",
              "    </tr>\n",
              "    <tr>\n",
              "      <th>2020-01-25</th>\n",
              "      <td>0</td>\n",
              "      <td>0.0</td>\n",
              "      <td>0</td>\n",
              "      <td>2020</td>\n",
              "      <td>1</td>\n",
              "    </tr>\n",
              "    <tr>\n",
              "      <th>2020-01-26</th>\n",
              "      <td>0</td>\n",
              "      <td>0.0</td>\n",
              "      <td>0</td>\n",
              "      <td>2020</td>\n",
              "      <td>1</td>\n",
              "    </tr>\n",
              "  </tbody>\n",
              "</table>\n",
              "</div>\n",
              "      <button class=\"colab-df-convert\" onclick=\"convertToInteractive('df-2398e13d-b301-42f5-a8a2-466952db22b0')\"\n",
              "              title=\"Convert this dataframe to an interactive table.\"\n",
              "              style=\"display:none;\">\n",
              "        \n",
              "  <svg xmlns=\"http://www.w3.org/2000/svg\" height=\"24px\"viewBox=\"0 0 24 24\"\n",
              "       width=\"24px\">\n",
              "    <path d=\"M0 0h24v24H0V0z\" fill=\"none\"/>\n",
              "    <path d=\"M18.56 5.44l.94 2.06.94-2.06 2.06-.94-2.06-.94-.94-2.06-.94 2.06-2.06.94zm-11 1L8.5 8.5l.94-2.06 2.06-.94-2.06-.94L8.5 2.5l-.94 2.06-2.06.94zm10 10l.94 2.06.94-2.06 2.06-.94-2.06-.94-.94-2.06-.94 2.06-2.06.94z\"/><path d=\"M17.41 7.96l-1.37-1.37c-.4-.4-.92-.59-1.43-.59-.52 0-1.04.2-1.43.59L10.3 9.45l-7.72 7.72c-.78.78-.78 2.05 0 2.83L4 21.41c.39.39.9.59 1.41.59.51 0 1.02-.2 1.41-.59l7.78-7.78 2.81-2.81c.8-.78.8-2.07 0-2.86zM5.41 20L4 18.59l7.72-7.72 1.47 1.35L5.41 20z\"/>\n",
              "  </svg>\n",
              "      </button>\n",
              "      \n",
              "  <style>\n",
              "    .colab-df-container {\n",
              "      display:flex;\n",
              "      flex-wrap:wrap;\n",
              "      gap: 12px;\n",
              "    }\n",
              "\n",
              "    .colab-df-convert {\n",
              "      background-color: #E8F0FE;\n",
              "      border: none;\n",
              "      border-radius: 50%;\n",
              "      cursor: pointer;\n",
              "      display: none;\n",
              "      fill: #1967D2;\n",
              "      height: 32px;\n",
              "      padding: 0 0 0 0;\n",
              "      width: 32px;\n",
              "    }\n",
              "\n",
              "    .colab-df-convert:hover {\n",
              "      background-color: #E2EBFA;\n",
              "      box-shadow: 0px 1px 2px rgba(60, 64, 67, 0.3), 0px 1px 3px 1px rgba(60, 64, 67, 0.15);\n",
              "      fill: #174EA6;\n",
              "    }\n",
              "\n",
              "    [theme=dark] .colab-df-convert {\n",
              "      background-color: #3B4455;\n",
              "      fill: #D2E3FC;\n",
              "    }\n",
              "\n",
              "    [theme=dark] .colab-df-convert:hover {\n",
              "      background-color: #434B5C;\n",
              "      box-shadow: 0px 1px 3px 1px rgba(0, 0, 0, 0.15);\n",
              "      filter: drop-shadow(0px 1px 2px rgba(0, 0, 0, 0.3));\n",
              "      fill: #FFFFFF;\n",
              "    }\n",
              "  </style>\n",
              "\n",
              "      <script>\n",
              "        const buttonEl =\n",
              "          document.querySelector('#df-2398e13d-b301-42f5-a8a2-466952db22b0 button.colab-df-convert');\n",
              "        buttonEl.style.display =\n",
              "          google.colab.kernel.accessAllowed ? 'block' : 'none';\n",
              "\n",
              "        async function convertToInteractive(key) {\n",
              "          const element = document.querySelector('#df-2398e13d-b301-42f5-a8a2-466952db22b0');\n",
              "          const dataTable =\n",
              "            await google.colab.kernel.invokeFunction('convertToInteractive',\n",
              "                                                     [key], {});\n",
              "          if (!dataTable) return;\n",
              "\n",
              "          const docLinkHtml = 'Like what you see? Visit the ' +\n",
              "            '<a target=\"_blank\" href=https://colab.research.google.com/notebooks/data_table.ipynb>data table notebook</a>'\n",
              "            + ' to learn more about interactive tables.';\n",
              "          element.innerHTML = '';\n",
              "          dataTable['output_type'] = 'display_data';\n",
              "          await google.colab.output.renderOutput(dataTable, element);\n",
              "          const docLink = document.createElement('div');\n",
              "          docLink.innerHTML = docLinkHtml;\n",
              "          element.appendChild(docLink);\n",
              "        }\n",
              "      </script>\n",
              "    </div>\n",
              "  </div>\n",
              "  "
            ]
          },
          "metadata": {},
          "execution_count": 3
        }
      ]
    },
    {
      "cell_type": "code",
      "source": [
        "treino = serie_equ[(serie_equ['Ano']<=2021)&(serie_equ['Mês']<12)]\n",
        "teste = serie_equ[(serie_equ['Ano']==2021)&(serie_equ['Mês'] == 12)]"
      ],
      "metadata": {
        "id": "FD5r2xog21Wa"
      },
      "execution_count": null,
      "outputs": []
    },
    {
      "cell_type": "code",
      "source": [
        "step1 = auto_arima(treino['Deaths'],start_p=1,start_q=1,max_p=6,max_q=6,m=12,start_P=0,seasonal=True,d=1,D=1,trace=True,\n",
        "                    error_action='ignore',suppress_warnings=True,stepwise=False)"
      ],
      "metadata": {
        "colab": {
          "base_uri": "https://localhost:8080/"
        },
        "id": "ALcEYDrB2_4i",
        "outputId": "42255361-30de-4273-e561-e73a2b996728"
      },
      "execution_count": null,
      "outputs": [
        {
          "output_type": "stream",
          "name": "stdout",
          "text": [
            " ARIMA(0,1,0)(0,1,0)[12]             : AIC=9796.820, Time=0.14 sec\n",
            " ARIMA(0,1,0)(0,1,1)[12]             : AIC=inf, Time=0.94 sec\n",
            " ARIMA(0,1,0)(0,1,2)[12]             : AIC=inf, Time=3.12 sec\n",
            " ARIMA(0,1,0)(1,1,0)[12]             : AIC=9618.856, Time=0.26 sec\n",
            " ARIMA(0,1,0)(1,1,1)[12]             : AIC=inf, Time=1.65 sec\n",
            " ARIMA(0,1,0)(1,1,2)[12]             : AIC=inf, Time=8.47 sec\n",
            " ARIMA(0,1,0)(2,1,0)[12]             : AIC=9550.029, Time=1.22 sec\n",
            " ARIMA(0,1,0)(2,1,1)[12]             : AIC=inf, Time=4.46 sec\n",
            " ARIMA(0,1,0)(2,1,2)[12]             : AIC=inf, Time=5.67 sec\n",
            " ARIMA(0,1,1)(0,1,0)[12]             : AIC=9798.827, Time=0.11 sec\n",
            " ARIMA(0,1,1)(0,1,1)[12]             : AIC=inf, Time=1.61 sec\n",
            " ARIMA(0,1,1)(0,1,2)[12]             : AIC=inf, Time=4.84 sec\n",
            " ARIMA(0,1,1)(1,1,0)[12]             : AIC=9620.730, Time=0.79 sec\n",
            " ARIMA(0,1,1)(1,1,1)[12]             : AIC=inf, Time=2.38 sec\n",
            " ARIMA(0,1,1)(1,1,2)[12]             : AIC=inf, Time=8.79 sec\n",
            " ARIMA(0,1,1)(2,1,0)[12]             : AIC=9552.020, Time=1.50 sec\n",
            " ARIMA(0,1,1)(2,1,1)[12]             : AIC=inf, Time=11.18 sec\n",
            " ARIMA(0,1,1)(2,1,2)[12]             : AIC=inf, Time=8.23 sec\n",
            " ARIMA(0,1,2)(0,1,0)[12]             : AIC=9800.856, Time=0.12 sec\n",
            " ARIMA(0,1,2)(0,1,1)[12]             : AIC=inf, Time=2.92 sec\n",
            " ARIMA(0,1,2)(0,1,2)[12]             : AIC=inf, Time=6.42 sec\n",
            " ARIMA(0,1,2)(1,1,0)[12]             : AIC=9622.712, Time=1.08 sec\n",
            " ARIMA(0,1,2)(1,1,1)[12]             : AIC=inf, Time=3.19 sec\n",
            " ARIMA(0,1,2)(1,1,2)[12]             : AIC=inf, Time=8.23 sec\n",
            " ARIMA(0,1,2)(2,1,0)[12]             : AIC=9554.019, Time=1.76 sec\n",
            " ARIMA(0,1,2)(2,1,1)[12]             : AIC=inf, Time=8.53 sec\n",
            " ARIMA(0,1,3)(0,1,0)[12]             : AIC=9802.125, Time=0.18 sec\n",
            " ARIMA(0,1,3)(0,1,1)[12]             : AIC=inf, Time=4.13 sec\n",
            " ARIMA(0,1,3)(0,1,2)[12]             : AIC=inf, Time=8.31 sec\n",
            " ARIMA(0,1,3)(1,1,0)[12]             : AIC=9624.636, Time=1.11 sec\n",
            " ARIMA(0,1,3)(1,1,1)[12]             : AIC=inf, Time=4.84 sec\n",
            " ARIMA(0,1,3)(2,1,0)[12]             : AIC=9555.997, Time=2.16 sec\n",
            " ARIMA(0,1,4)(0,1,0)[12]             : AIC=9804.007, Time=0.57 sec\n",
            " ARIMA(0,1,4)(0,1,1)[12]             : AIC=inf, Time=4.59 sec\n",
            " ARIMA(0,1,4)(1,1,0)[12]             : AIC=9626.627, Time=1.25 sec\n",
            " ARIMA(0,1,5)(0,1,0)[12]             : AIC=9806.354, Time=0.30 sec\n",
            " ARIMA(1,1,0)(0,1,0)[12]             : AIC=9798.815, Time=0.07 sec\n",
            " ARIMA(1,1,0)(0,1,1)[12]             : AIC=inf, Time=1.30 sec\n",
            " ARIMA(1,1,0)(0,1,2)[12]             : AIC=inf, Time=4.39 sec\n",
            " ARIMA(1,1,0)(1,1,0)[12]             : AIC=9620.730, Time=0.78 sec\n",
            " ARIMA(1,1,0)(1,1,1)[12]             : AIC=inf, Time=2.17 sec\n",
            " ARIMA(1,1,0)(1,1,2)[12]             : AIC=inf, Time=6.82 sec\n",
            " ARIMA(1,1,0)(2,1,0)[12]             : AIC=9552.020, Time=1.44 sec\n",
            " ARIMA(1,1,0)(2,1,1)[12]             : AIC=inf, Time=11.42 sec\n",
            " ARIMA(1,1,0)(2,1,2)[12]             : AIC=inf, Time=8.52 sec\n",
            " ARIMA(1,1,1)(0,1,0)[12]             : AIC=9800.823, Time=0.13 sec\n",
            " ARIMA(1,1,1)(0,1,1)[12]             : AIC=inf, Time=1.95 sec\n",
            " ARIMA(1,1,1)(0,1,2)[12]             : AIC=inf, Time=5.42 sec\n",
            " ARIMA(1,1,1)(1,1,0)[12]             : AIC=inf, Time=3.25 sec\n",
            " ARIMA(1,1,1)(1,1,1)[12]             : AIC=inf, Time=3.14 sec\n",
            " ARIMA(1,1,1)(1,1,2)[12]             : AIC=inf, Time=8.31 sec\n",
            " ARIMA(1,1,1)(2,1,0)[12]             : AIC=9554.021, Time=1.96 sec\n",
            " ARIMA(1,1,1)(2,1,1)[12]             : AIC=inf, Time=8.24 sec\n",
            " ARIMA(1,1,2)(0,1,0)[12]             : AIC=9802.643, Time=0.92 sec\n",
            " ARIMA(1,1,2)(0,1,1)[12]             : AIC=inf, Time=4.12 sec\n",
            " ARIMA(1,1,2)(0,1,2)[12]             : AIC=inf, Time=7.45 sec\n",
            " ARIMA(1,1,2)(1,1,0)[12]             : AIC=inf, Time=4.41 sec\n",
            " ARIMA(1,1,2)(1,1,1)[12]             : AIC=inf, Time=4.49 sec\n",
            " ARIMA(1,1,2)(2,1,0)[12]             : AIC=9556.010, Time=2.09 sec\n",
            " ARIMA(1,1,3)(0,1,0)[12]             : AIC=9804.007, Time=1.10 sec\n",
            " ARIMA(1,1,3)(0,1,1)[12]             : AIC=inf, Time=3.73 sec\n",
            " ARIMA(1,1,3)(1,1,0)[12]             : AIC=inf, Time=4.54 sec\n",
            " ARIMA(1,1,4)(0,1,0)[12]             : AIC=inf, Time=2.95 sec\n",
            " ARIMA(2,1,0)(0,1,0)[12]             : AIC=9800.808, Time=0.09 sec\n",
            " ARIMA(2,1,0)(0,1,1)[12]             : AIC=inf, Time=2.06 sec\n",
            " ARIMA(2,1,0)(0,1,2)[12]             : AIC=inf, Time=6.44 sec\n",
            " ARIMA(2,1,0)(1,1,0)[12]             : AIC=9622.711, Time=1.20 sec\n",
            " ARIMA(2,1,0)(1,1,1)[12]             : AIC=inf, Time=5.51 sec\n",
            " ARIMA(2,1,0)(1,1,2)[12]             : AIC=inf, Time=7.32 sec\n",
            " ARIMA(2,1,0)(2,1,0)[12]             : AIC=9554.019, Time=2.05 sec\n",
            " ARIMA(2,1,0)(2,1,1)[12]             : AIC=inf, Time=9.28 sec\n",
            " ARIMA(2,1,1)(0,1,0)[12]             : AIC=9802.813, Time=0.18 sec\n",
            " ARIMA(2,1,1)(0,1,1)[12]             : AIC=inf, Time=2.76 sec\n",
            " ARIMA(2,1,1)(0,1,2)[12]             : AIC=inf, Time=15.90 sec\n",
            " ARIMA(2,1,1)(1,1,0)[12]             : AIC=inf, Time=4.88 sec\n",
            " ARIMA(2,1,1)(1,1,1)[12]             : AIC=inf, Time=4.26 sec\n",
            " ARIMA(2,1,1)(2,1,0)[12]             : AIC=9556.019, Time=2.68 sec\n",
            " ARIMA(2,1,2)(0,1,0)[12]             : AIC=inf, Time=2.54 sec\n",
            " ARIMA(2,1,2)(0,1,1)[12]             : AIC=inf, Time=4.63 sec\n",
            " ARIMA(2,1,2)(1,1,0)[12]             : AIC=inf, Time=7.00 sec\n",
            " ARIMA(2,1,3)(0,1,0)[12]             : AIC=9806.122, Time=0.22 sec\n",
            " ARIMA(3,1,0)(0,1,0)[12]             : AIC=9802.015, Time=0.13 sec\n",
            " ARIMA(3,1,0)(0,1,1)[12]             : AIC=inf, Time=3.04 sec\n",
            " ARIMA(3,1,0)(0,1,2)[12]             : AIC=inf, Time=7.81 sec\n",
            " ARIMA(3,1,0)(1,1,0)[12]             : AIC=9624.636, Time=1.26 sec\n",
            " ARIMA(3,1,0)(1,1,1)[12]             : AIC=inf, Time=3.72 sec\n",
            " ARIMA(3,1,0)(2,1,0)[12]             : AIC=9555.997, Time=2.27 sec\n",
            " ARIMA(3,1,1)(0,1,0)[12]             : AIC=9804.021, Time=0.15 sec\n",
            " ARIMA(3,1,1)(0,1,1)[12]             : AIC=inf, Time=3.87 sec\n",
            " ARIMA(3,1,1)(1,1,0)[12]             : AIC=inf, Time=5.01 sec\n",
            " ARIMA(3,1,2)(0,1,0)[12]             : AIC=9806.054, Time=0.16 sec\n",
            " ARIMA(4,1,0)(0,1,0)[12]             : AIC=9804.018, Time=0.17 sec\n",
            " ARIMA(4,1,0)(0,1,1)[12]             : AIC=inf, Time=3.80 sec\n",
            " ARIMA(4,1,0)(1,1,0)[12]             : AIC=9626.627, Time=1.66 sec\n",
            " ARIMA(4,1,1)(0,1,0)[12]             : AIC=9806.025, Time=0.22 sec\n",
            " ARIMA(5,1,0)(0,1,0)[12]             : AIC=9806.024, Time=0.20 sec\n",
            "\n",
            "Best model:  ARIMA(0,1,0)(2,1,0)[12]          \n",
            "Total fit time: 343.145 seconds\n"
          ]
        }
      ]
    },
    {
      "cell_type": "code",
      "source": [
        "step2 = auto_arima(serie_equ['Deaths'],start_p=1,start_q=1,max_p=6,max_q=6,m=12,start_P=0,seasonal=True,d=1,D=1,trace=True,\n",
        "                    error_action='ignore',suppress_warnings=True,stepwise=True)"
      ],
      "metadata": {
        "colab": {
          "base_uri": "https://localhost:8080/"
        },
        "id": "Wig4pfgS5Qoq",
        "outputId": "e04832bf-5032-4eb7-9b65-352ad86ccd40"
      },
      "execution_count": null,
      "outputs": [
        {
          "output_type": "stream",
          "name": "stdout",
          "text": [
            "Performing stepwise search to minimize aic\n",
            " ARIMA(1,1,1)(0,1,1)[12]             : AIC=inf, Time=2.16 sec\n",
            " ARIMA(0,1,0)(0,1,0)[12]             : AIC=10729.362, Time=0.08 sec\n",
            " ARIMA(1,1,0)(1,1,0)[12]             : AIC=10534.717, Time=0.83 sec\n",
            " ARIMA(0,1,1)(0,1,1)[12]             : AIC=inf, Time=1.90 sec\n",
            " ARIMA(1,1,0)(0,1,0)[12]             : AIC=10731.356, Time=0.08 sec\n",
            " ARIMA(1,1,0)(2,1,0)[12]             : AIC=10458.473, Time=1.52 sec\n",
            " ARIMA(1,1,0)(2,1,1)[12]             : AIC=inf, Time=7.37 sec\n",
            " ARIMA(1,1,0)(1,1,1)[12]             : AIC=inf, Time=2.53 sec\n",
            " ARIMA(0,1,0)(2,1,0)[12]             : AIC=10456.482, Time=1.30 sec\n",
            " ARIMA(0,1,0)(1,1,0)[12]             : AIC=10532.835, Time=0.26 sec\n",
            " ARIMA(0,1,0)(2,1,1)[12]             : AIC=inf, Time=5.34 sec\n",
            " ARIMA(0,1,0)(1,1,1)[12]             : AIC=inf, Time=1.73 sec\n",
            " ARIMA(0,1,1)(2,1,0)[12]             : AIC=10458.473, Time=1.60 sec\n",
            " ARIMA(1,1,1)(2,1,0)[12]             : AIC=10460.474, Time=1.92 sec\n",
            " ARIMA(0,1,0)(2,1,0)[12] intercept   : AIC=10458.482, Time=4.00 sec\n",
            "\n",
            "Best model:  ARIMA(0,1,0)(2,1,0)[12]          \n",
            "Total fit time: 32.654 seconds\n"
          ]
        }
      ]
    },
    {
      "cell_type": "code",
      "source": [
        "step1.fit(treino['Deaths'])"
      ],
      "metadata": {
        "colab": {
          "base_uri": "https://localhost:8080/"
        },
        "id": "6FI-ikMG5g5b",
        "outputId": "71c002e2-a9bf-4154-88bb-b17ef5f8b267"
      },
      "execution_count": null,
      "outputs": [
        {
          "output_type": "execute_result",
          "data": {
            "text/plain": [
              "ARIMA(order=(0, 1, 0), scoring_args={}, seasonal_order=(2, 1, 0, 12),\n",
              "      suppress_warnings=True, with_intercept=False)"
            ]
          },
          "metadata": {},
          "execution_count": 8
        }
      ]
    },
    {
      "cell_type": "code",
      "source": [
        "step2.fit(treino['Deaths'])"
      ],
      "metadata": {
        "colab": {
          "base_uri": "https://localhost:8080/"
        },
        "id": "lZ2vRpMx5mLG",
        "outputId": "c2790b40-92c1-4bbb-d40f-7f34d26768dc"
      },
      "execution_count": null,
      "outputs": [
        {
          "output_type": "execute_result",
          "data": {
            "text/plain": [
              "ARIMA(order=(0, 1, 0), scoring_args={}, seasonal_order=(2, 1, 0, 12),\n",
              "      suppress_warnings=True, with_intercept=False)"
            ]
          },
          "metadata": {},
          "execution_count": 9
        }
      ]
    },
    {
      "cell_type": "code",
      "source": [
        "future_forecast=step1.predict(n_periods=len(teste))"
      ],
      "metadata": {
        "colab": {
          "base_uri": "https://localhost:8080/"
        },
        "id": "MMfW9EjO5pCq",
        "outputId": "968f9091-2063-4763-aaea-20351ff196ca"
      },
      "execution_count": null,
      "outputs": [
        {
          "output_type": "stream",
          "name": "stderr",
          "text": [
            "/usr/local/lib/python3.8/dist-packages/statsmodels/tsa/base/tsa_model.py:834: ValueWarning: No supported index is available. Prediction results will be given with an integer index beginning at `start`.\n",
            "  return get_prediction_index(\n"
          ]
        }
      ]
    },
    {
      "cell_type": "code",
      "source": [
        "future_forecast1 = step2.predict(n_periods=len(teste))"
      ],
      "metadata": {
        "colab": {
          "base_uri": "https://localhost:8080/"
        },
        "id": "bECkeURJ5sGF",
        "outputId": "120d666d-afeb-45b5-b083-86790f4cd1d2"
      },
      "execution_count": null,
      "outputs": [
        {
          "output_type": "stream",
          "name": "stderr",
          "text": [
            "/usr/local/lib/python3.8/dist-packages/statsmodels/tsa/base/tsa_model.py:834: ValueWarning: No supported index is available. Prediction results will be given with an integer index beginning at `start`.\n",
            "  return get_prediction_index(\n"
          ]
        }
      ]
    },
    {
      "cell_type": "code",
      "source": [
        "plt.figure(figsize=(12,6))\n",
        "plt.title('Comparação da Predição Com os Valores Reais', fontsize=14)\n",
        "plt.plot(teste.index,future_forecast,label='Valor Predito')\n",
        "plt.plot(teste.index,teste['Deaths'].values,label='Real')\n",
        "plt.legend()"
      ],
      "metadata": {
        "colab": {
          "base_uri": "https://localhost:8080/",
          "height": 408
        },
        "id": "xK_EL1T35vNL",
        "outputId": "47dabccb-16bc-4c45-becf-de47b7be4b59"
      },
      "execution_count": null,
      "outputs": [
        {
          "output_type": "execute_result",
          "data": {
            "text/plain": [
              "<matplotlib.legend.Legend at 0x7fbf917d7970>"
            ]
          },
          "metadata": {},
          "execution_count": 12
        },
        {
          "output_type": "display_data",
          "data": {
            "text/plain": [
              "<Figure size 864x432 with 1 Axes>"
            ],
            "image/png": "[encoded data removed]"
          },
          "metadata": {
            "needs_background": "light"
          }
        }
      ]
    },
    {
      "cell_type": "code",
      "source": [
        "mae = mean_absolute_error(teste['Deaths'],future_forecast)\n",
        "mape = mean_absolute_percentage_error(teste['Deaths'],future_forecast)\n",
        "rmse = mean_squared_error(teste['Deaths'],future_forecast)\n",
        "\n",
        "print('MAE:',mae)\n",
        "print('MAPE:',mape)\n",
        "print('RMSE:',np.sqrt(rmse))"
      ],
      "metadata": {
        "colab": {
          "base_uri": "https://localhost:8080/"
        },
        "id": "CGto_JTH54Dt",
        "outputId": "32006724-e3db-4da0-b20a-cb4a5b377c1c"
      },
      "execution_count": null,
      "outputs": [
        {
          "output_type": "stream",
          "name": "stdout",
          "text": [
            "MAE: 164.77756157935144\n",
            "MAPE: 0.0049071190397001\n",
            "RMSE: 179.6324862661427\n"
          ]
        }
      ]
    },
    {
      "cell_type": "code",
      "source": [
        "plt.figure(figsize=(12,6))\n",
        "plt.title('Comparação da Predição Com os Valores Reais', fontsize=14)\n",
        "plt.plot(teste.index,future_forecast1,label='Valor Predito')\n",
        "plt.plot(teste.index,teste['Deaths'].values,label='Real')\n",
        "plt.legend()"
      ],
      "metadata": {
        "colab": {
          "base_uri": "https://localhost:8080/",
          "height": 408
        },
        "id": "HLCvTIZ65895",
        "outputId": "5bc30f11-d1aa-46d3-82ec-569f496de730"
      },
      "execution_count": null,
      "outputs": [
        {
          "output_type": "execute_result",
          "data": {
            "text/plain": [
              "<matplotlib.legend.Legend at 0x7fbf91ccba90>"
            ]
          },
          "metadata": {},
          "execution_count": 14
        },
        {
          "output_type": "display_data",
          "data": {
            "text/plain": [
              "<Figure size 864x432 with 1 Axes>"
            ],
            "image/png": "[encoded data removed]"
          },
          "metadata": {
            "needs_background": "light"
          }
        }
      ]
    },
    {
      "cell_type": "code",
      "source": [
        "mae = mean_absolute_error(teste['Deaths'],future_forecast1)\n",
        "mape = mean_absolute_percentage_error(teste['Deaths'],future_forecast1)\n",
        "rmse = mean_squared_error(teste['Deaths'],future_forecast1)\n",
        "\n",
        "print('MAE:',mae)\n",
        "print('MAPE:',mape)\n",
        "print('RMSE:',np.sqrt(rmse))"
      ],
      "metadata": {
        "id": "vL1FWbWi6Fst",
        "outputId": "c47cd0cd-f30a-42f9-cb1d-255317299319",
        "colab": {
          "base_uri": "https://localhost:8080/"
        }
      },
      "execution_count": null,
      "outputs": [
        {
          "output_type": "stream",
          "name": "stdout",
          "text": [
            "MAE: 164.77756157935144\n",
            "MAPE: 0.0049071190397001\n",
            "RMSE: 179.6324862661427\n"
          ]
        }
      ]
    }
  ]
}