{
  "nbformat": 4,
  "nbformat_minor": 0,
  "metadata": {
    "colab": {
      "provenance": []
    },
    "kernelspec": {
      "name": "python3",
      "display_name": "Python 3"
    },
    "language_info": {
      "name": "python"
    }
  },
  "cells": [
    {
      "cell_type": "code",
      "source": [
        "!pip install pysentimiento\n",
        "!pip install emoji\n",
        "!pip install -U pycld3"
      ],
      "metadata": {
        "id": "33GNG72moJ_g"
      },
      "execution_count": null,
      "outputs": []
    },
    {
      "cell_type": "code",
      "source": [
        "#@title Set up Directory { run: \"auto\"}\n",
        "import os\n",
        "from IPython.display import clear_output\n",
        "from google.colab import drive \n",
        "from IPython.display import clear_output\n",
        "drive.mount('/content/gdrive', force_remount = True)\n",
        "working_directory = 'My Drive/COVID19_Tweets' #@param {type:\"string\"}\n",
        "wd=\"/content/gdrive/\"+working_directory\n",
        "os.chdir(wd)\n",
        "\n",
        "dirpath = os.getcwd()\n",
        "print(\"current directory is : \" + dirpath)"
      ],
      "metadata": {
        "id": "ecRllzGkOSLu",
        "colab": {
          "base_uri": "https://localhost:8080/"
        },
        "cellView": "form",
        "outputId": "d0c7f9f1-24a2-4561-952b-8defca0c1673"
      },
      "execution_count": 3,
      "outputs": [
        {
          "output_type": "stream",
          "name": "stdout",
          "text": [
            "Mounted at /content/gdrive\n",
            "current directory is : /content/gdrive/My Drive/COVID19_Tweets\n"
          ]
        }
      ]
    },
    {
      "cell_type": "markdown",
      "source": [
        "# Dataset não rotulado"
      ],
      "metadata": {
        "id": "nYy7srcmkuTR"
      }
    },
    {
      "cell_type": "code",
      "source": [
        "# import cld3\n",
        "# import pandas as pd\n",
        "\n",
        "# def lang_detector(x):\n",
        "#   try:\n",
        "#     return cld3.get_language(x)\n",
        "#   except:\n",
        "#     return '?'\n",
        "\n",
        "# df = pd.read_csv('/content/mexico_global.csv')\n",
        "# df.dropna(inplace = True)\n",
        "# df.drop(['Unnamed: 0'], axis = 1, inplace = True)\n",
        "# df['lang'] = df['body'].apply(lambda x: lang_detector(x))\n",
        "# df['lang'] = df['lang'].apply(lambda x: x[0])\n",
        "# df = df.drop(df[(df['author'] == 'AutoModerator') | (df['author'] == '[deleted]')].index)\n",
        "# df.drop_duplicates(subset='body', keep='first', inplace=True)\n",
        "\n",
        "# df.head()"
      ],
      "metadata": {
        "id": "AD1RaQjQjAlT"
      },
      "execution_count": null,
      "outputs": []
    },
    {
      "cell_type": "code",
      "source": [
        "# from pysentimiento import create_analyzer\n",
        "# from pysentimiento.preprocessing import preprocess_tweet\n",
        "\n",
        "# analyzer = create_analyzer(task=\"sentiment\", lang=\"en\")\n",
        "# df['body'] = df['body'].apply(lambda x: preprocess_tweet(x))\n",
        "# df['pred'] = df['body'].apply(lambda x: analyzer.predict(x))"
      ],
      "metadata": {
        "id": "PTP3Vqae-dXw"
      },
      "execution_count": null,
      "outputs": []
    },
    {
      "cell_type": "code",
      "source": [
        "# df['label'] = df['pred'].apply(lambda x: x.output)\n",
        "# df['probas'] = df['pred'].apply(lambda x: x.probas)"
      ],
      "metadata": {
        "id": "MY7tqYHlKp8r"
      },
      "execution_count": null,
      "outputs": []
    },
    {
      "cell_type": "code",
      "source": [
        "# df['label'].value_counts()"
      ],
      "metadata": {
        "colab": {
          "base_uri": "https://localhost:8080/"
        },
        "id": "z5IgApjlLJFT",
        "outputId": "6148e214-7ed7-4007-972c-8c67b1561308"
      },
      "execution_count": null,
      "outputs": [
        {
          "output_type": "execute_result",
          "data": {
            "text/plain": [
              "NEG    4427\n",
              "NEU    3606\n",
              "POS     624\n",
              "Name: label, dtype: int64"
            ]
          },
          "metadata": {},
          "execution_count": 62
        }
      ]
    },
    {
      "cell_type": "markdown",
      "source": [
        "# Dataset rotulado (baseline)"
      ],
      "metadata": {
        "id": "_yxnS0C4kxPV"
      }
    },
    {
      "cell_type": "code",
      "source": [
        "df_rotulado = pd.read_csv('/content/gdrive/MyDrive/COVID19_Tweets/amostra_rotulada.csv').drop(['Unnamed: 0'], axis = 1)\n",
        "df_rotulado = df_rotulado.sample(5000)"
      ],
      "metadata": {
        "id": "_GfVFi8KSaVJ"
      },
      "execution_count": 13,
      "outputs": []
    },
    {
      "cell_type": "code",
      "source": [
        "from pysentimiento import create_analyzer\n",
        "from pysentimiento.preprocessing import preprocess_tweet\n",
        "\n",
        "analyzer = create_analyzer(task=\"sentiment\", lang=\"en\")\n",
        "df_rotulado['text'] = df_rotulado['text'].apply(lambda x: preprocess_tweet(x))\n",
        "df_rotulado['pred'] = df_rotulado['text'].apply(lambda x: analyzer.predict(x))\n",
        "df_rotulado['label'] = df_rotulado['pred'].apply(lambda x: x.output)\n",
        "df_rotulado['probas'] = df_rotulado['pred'].apply(lambda x: x.probas)"
      ],
      "metadata": {
        "id": "rHgO7-UOS9E7"
      },
      "execution_count": 14,
      "outputs": []
    },
    {
      "cell_type": "code",
      "source": [
        "df_rotulado['Sentiment_Label'] = df_rotulado['Sentiment_Label'].map({ 'neutral': 'NEU',\n",
        "                                                                      'negative': 'NEG',\n",
        "                                                                      'positive': 'POS'})\n",
        "df_rotulado.head()"
      ],
      "metadata": {
        "colab": {
          "base_uri": "https://localhost:8080/",
          "height": 206
        },
        "id": "hSTywCMKaYbV",
        "outputId": "1348d5d9-cd3d-4312-895e-df191e3ce553"
      },
      "execution_count": 17,
      "outputs": [
        {
          "output_type": "execute_result",
          "data": {
            "text/plain": [
              "                   Tweet_ID Sentiment_Label  \\\n",
              "94694   1220399453158293505             NEU   \n",
              "128971  1220457095620976642             NEG   \n",
              "61230   1220347645606055936             NEU   \n",
              "67761   1220362114067464193             NEU   \n",
              "7037    1220013579275055108             NEU   \n",
              "\n",
              "                                                     text  \\\n",
              "94694   RT @usuario: China allocates 1 billion yuan ($...   \n",
              "128971  RT @usuario: 🤦 emoji tono de piel claro medio ...   \n",
              "61230   RML Hospital In Delhi Sets Up First Corona Vir...   \n",
              "67761   RT @usuario: China appears to be locking down ...   \n",
              "7037    RT @usuario: WHO interim guidance on a range o...   \n",
              "\n",
              "                                                     pred label  \\\n",
              "94694   AnalyzerOutput(output=NEU, probas={NEU: 0.938,...   NEU   \n",
              "128971  AnalyzerOutput(output=NEG, probas={NEG: 0.963,...   NEG   \n",
              "61230   AnalyzerOutput(output=NEU, probas={NEU: 0.978,...   NEU   \n",
              "67761   AnalyzerOutput(output=NEU, probas={NEU: 0.949,...   NEU   \n",
              "7037    AnalyzerOutput(output=NEU, probas={NEU: 0.829,...   NEU   \n",
              "\n",
              "                                                   probas  \n",
              "94694   {'NEG': 0.0020287414081394672, 'NEU': 0.937936...  \n",
              "128971  {'NEG': 0.9630939364433289, 'NEU': 0.034001730...  \n",
              "61230   {'NEG': 0.0028543630614876747, 'NEU': 0.978310...  \n",
              "67761   {'NEG': 0.042912572622299194, 'NEU': 0.9485344...  \n",
              "7037    {'NEG': 0.0020122884307056665, 'NEU': 0.828626...  "
            ],
            "text/html": [
              "\n",
              "  <div id=\"df-c539dea2-164e-4d77-a68d-4d2e86fbabec\">\n",
              "    <div class=\"colab-df-container\">\n",
              "      <div>\n",
              "<style scoped>\n",
              "    .dataframe tbody tr th:only-of-type {\n",
              "        vertical-align: middle;\n",
              "    }\n",
              "\n",
              "    .dataframe tbody tr th {\n",
              "        vertical-align: top;\n",
              "    }\n",
              "\n",
              "    .dataframe thead th {\n",
              "        text-align: right;\n",
              "    }\n",
              "</style>\n",
              "<table border=\"1\" class=\"dataframe\">\n",
              "  <thead>\n",
              "    <tr style=\"text-align: right;\">\n",
              "      <th></th>\n",
              "      <th>Tweet_ID</th>\n",
              "      <th>Sentiment_Label</th>\n",
              "      <th>text</th>\n",
              "      <th>pred</th>\n",
              "      <th>label</th>\n",
              "      <th>probas</th>\n",
              "    </tr>\n",
              "  </thead>\n",
              "  <tbody>\n",
              "    <tr>\n",
              "      <th>94694</th>\n",
              "      <td>1220399453158293505</td>\n",
              "      <td>NEU</td>\n",
              "      <td>RT @usuario: China allocates 1 billion yuan ($...</td>\n",
              "      <td>AnalyzerOutput(output=NEU, probas={NEU: 0.938,...</td>\n",
              "      <td>NEU</td>\n",
              "      <td>{'NEG': 0.0020287414081394672, 'NEU': 0.937936...</td>\n",
              "    </tr>\n",
              "    <tr>\n",
              "      <th>128971</th>\n",
              "      <td>1220457095620976642</td>\n",
              "      <td>NEG</td>\n",
              "      <td>RT @usuario: 🤦 emoji tono de piel claro medio ...</td>\n",
              "      <td>AnalyzerOutput(output=NEG, probas={NEG: 0.963,...</td>\n",
              "      <td>NEG</td>\n",
              "      <td>{'NEG': 0.9630939364433289, 'NEU': 0.034001730...</td>\n",
              "    </tr>\n",
              "    <tr>\n",
              "      <th>61230</th>\n",
              "      <td>1220347645606055936</td>\n",
              "      <td>NEU</td>\n",
              "      <td>RML Hospital In Delhi Sets Up First Corona Vir...</td>\n",
              "      <td>AnalyzerOutput(output=NEU, probas={NEU: 0.978,...</td>\n",
              "      <td>NEU</td>\n",
              "      <td>{'NEG': 0.0028543630614876747, 'NEU': 0.978310...</td>\n",
              "    </tr>\n",
              "    <tr>\n",
              "      <th>67761</th>\n",
              "      <td>1220362114067464193</td>\n",
              "      <td>NEU</td>\n",
              "      <td>RT @usuario: China appears to be locking down ...</td>\n",
              "      <td>AnalyzerOutput(output=NEU, probas={NEU: 0.949,...</td>\n",
              "      <td>NEU</td>\n",
              "      <td>{'NEG': 0.042912572622299194, 'NEU': 0.9485344...</td>\n",
              "    </tr>\n",
              "    <tr>\n",
              "      <th>7037</th>\n",
              "      <td>1220013579275055108</td>\n",
              "      <td>NEU</td>\n",
              "      <td>RT @usuario: WHO interim guidance on a range o...</td>\n",
              "      <td>AnalyzerOutput(output=NEU, probas={NEU: 0.829,...</td>\n",
              "      <td>NEU</td>\n",
              "      <td>{'NEG': 0.0020122884307056665, 'NEU': 0.828626...</td>\n",
              "    </tr>\n",
              "  </tbody>\n",
              "</table>\n",
              "</div>\n",
              "      <button class=\"colab-df-convert\" onclick=\"convertToInteractive('df-c539dea2-164e-4d77-a68d-4d2e86fbabec')\"\n",
              "              title=\"Convert this dataframe to an interactive table.\"\n",
              "              style=\"display:none;\">\n",
              "        \n",
              "  <svg xmlns=\"http://www.w3.org/2000/svg\" height=\"24px\"viewBox=\"0 0 24 24\"\n",
              "       width=\"24px\">\n",
              "    <path d=\"M0 0h24v24H0V0z\" fill=\"none\"/>\n",
              "    <path d=\"M18.56 5.44l.94 2.06.94-2.06 2.06-.94-2.06-.94-.94-2.06-.94 2.06-2.06.94zm-11 1L8.5 8.5l.94-2.06 2.06-.94-2.06-.94L8.5 2.5l-.94 2.06-2.06.94zm10 10l.94 2.06.94-2.06 2.06-.94-2.06-.94-.94-2.06-.94 2.06-2.06.94z\"/><path d=\"M17.41 7.96l-1.37-1.37c-.4-.4-.92-.59-1.43-.59-.52 0-1.04.2-1.43.59L10.3 9.45l-7.72 7.72c-.78.78-.78 2.05 0 2.83L4 21.41c.39.39.9.59 1.41.59.51 0 1.02-.2 1.41-.59l7.78-7.78 2.81-2.81c.8-.78.8-2.07 0-2.86zM5.41 20L4 18.59l7.72-7.72 1.47 1.35L5.41 20z\"/>\n",
              "  </svg>\n",
              "      </button>\n",
              "      \n",
              "  <style>\n",
              "    .colab-df-container {\n",
              "      display:flex;\n",
              "      flex-wrap:wrap;\n",
              "      gap: 12px;\n",
              "    }\n",
              "\n",
              "    .colab-df-convert {\n",
              "      background-color: #E8F0FE;\n",
              "      border: none;\n",
              "      border-radius: 50%;\n",
              "      cursor: pointer;\n",
              "      display: none;\n",
              "      fill: #1967D2;\n",
              "      height: 32px;\n",
              "      padding: 0 0 0 0;\n",
              "      width: 32px;\n",
              "    }\n",
              "\n",
              "    .colab-df-convert:hover {\n",
              "      background-color: #E2EBFA;\n",
              "      box-shadow: 0px 1px 2px rgba(60, 64, 67, 0.3), 0px 1px 3px 1px rgba(60, 64, 67, 0.15);\n",
              "      fill: #174EA6;\n",
              "    }\n",
              "\n",
              "    [theme=dark] .colab-df-convert {\n",
              "      background-color: #3B4455;\n",
              "      fill: #D2E3FC;\n",
              "    }\n",
              "\n",
              "    [theme=dark] .colab-df-convert:hover {\n",
              "      background-color: #434B5C;\n",
              "      box-shadow: 0px 1px 3px 1px rgba(0, 0, 0, 0.15);\n",
              "      filter: drop-shadow(0px 1px 2px rgba(0, 0, 0, 0.3));\n",
              "      fill: #FFFFFF;\n",
              "    }\n",
              "  </style>\n",
              "\n",
              "      <script>\n",
              "        const buttonEl =\n",
              "          document.querySelector('#df-c539dea2-164e-4d77-a68d-4d2e86fbabec button.colab-df-convert');\n",
              "        buttonEl.style.display =\n",
              "          google.colab.kernel.accessAllowed ? 'block' : 'none';\n",
              "\n",
              "        async function convertToInteractive(key) {\n",
              "          const element = document.querySelector('#df-c539dea2-164e-4d77-a68d-4d2e86fbabec');\n",
              "          const dataTable =\n",
              "            await google.colab.kernel.invokeFunction('convertToInteractive',\n",
              "                                                     [key], {});\n",
              "          if (!dataTable) return;\n",
              "\n",
              "          const docLinkHtml = 'Like what you see? Visit the ' +\n",
              "            '<a target=\"_blank\" href=https://colab.research.google.com/notebooks/data_table.ipynb>data table notebook</a>'\n",
              "            + ' to learn more about interactive tables.';\n",
              "          element.innerHTML = '';\n",
              "          dataTable['output_type'] = 'display_data';\n",
              "          await google.colab.output.renderOutput(dataTable, element);\n",
              "          const docLink = document.createElement('div');\n",
              "          docLink.innerHTML = docLinkHtml;\n",
              "          element.appendChild(docLink);\n",
              "        }\n",
              "      </script>\n",
              "    </div>\n",
              "  </div>\n",
              "  "
            ]
          },
          "metadata": {},
          "execution_count": 17
        }
      ]
    },
    {
      "cell_type": "code",
      "source": [
        "from sklearn.metrics import f1_score, recall_score, precision_score\n",
        "\n",
        "y_true = df_rotulado['Sentiment_Label']\n",
        "y_pred = df_rotulado['label']\n",
        "\n",
        "print(f'F1 score: {round(f1_score(y_true, y_pred, average = \"macro\"), 4)}')\n",
        "print(f'Recall: {round(recall_score(y_true, y_pred, average = \"weighted\"), 4)}')\n",
        "print(f'Precision: {round(precision_score(y_true, y_pred, average = \"weighted\"), 4)}')"
      ],
      "metadata": {
        "colab": {
          "base_uri": "https://localhost:8080/"
        },
        "id": "er1vss2Ea5jT",
        "outputId": "33d2956a-9e8c-4349-ac47-1e82a8bb401e"
      },
      "execution_count": 33,
      "outputs": [
        {
          "output_type": "stream",
          "name": "stdout",
          "text": [
            "F1 score: 0.6069\n",
            "Recall: 0.6956\n",
            "Precision: 0.7124\n"
          ]
        }
      ]
    }
  ]
}